{
 "cells": [
  {
   "cell_type": "code",
   "execution_count": 1,
   "id": "bb1a63c2",
   "metadata": {},
   "outputs": [
    {
     "name": "stdout",
     "output_type": "stream",
     "text": [
      "1.3.3\n",
      "0.5.2\n",
      "4.1.2\n"
     ]
    }
   ],
   "source": [
    "import pandas\n",
    "import konlpy\n",
    "import gensim\n",
    "\n",
    "print(pandas.__version__)\n",
    "print(konlpy.__version__)\n",
    "print(gensim.__version__)"
   ]
  },
  {
   "cell_type": "code",
   "execution_count": 3,
   "id": "a0184f98",
   "metadata": {},
   "outputs": [
    {
     "data": {
      "text/html": [
       "<div>\n",
       "<style scoped>\n",
       "    .dataframe tbody tr th:only-of-type {\n",
       "        vertical-align: middle;\n",
       "    }\n",
       "\n",
       "    .dataframe tbody tr th {\n",
       "        vertical-align: top;\n",
       "    }\n",
       "\n",
       "    .dataframe thead th {\n",
       "        text-align: right;\n",
       "    }\n",
       "</style>\n",
       "<table border=\"1\" class=\"dataframe\">\n",
       "  <thead>\n",
       "    <tr style=\"text-align: right;\">\n",
       "      <th></th>\n",
       "      <th>id</th>\n",
       "      <th>document</th>\n",
       "      <th>label</th>\n",
       "    </tr>\n",
       "  </thead>\n",
       "  <tbody>\n",
       "    <tr>\n",
       "      <th>0</th>\n",
       "      <td>9976970</td>\n",
       "      <td>아 더빙.. 진짜 짜증나네요 목소리</td>\n",
       "      <td>0</td>\n",
       "    </tr>\n",
       "    <tr>\n",
       "      <th>1</th>\n",
       "      <td>3819312</td>\n",
       "      <td>흠...포스터보고 초딩영화줄....오버연기조차 가볍지 않구나</td>\n",
       "      <td>1</td>\n",
       "    </tr>\n",
       "    <tr>\n",
       "      <th>2</th>\n",
       "      <td>10265843</td>\n",
       "      <td>너무재밓었다그래서보는것을추천한다</td>\n",
       "      <td>0</td>\n",
       "    </tr>\n",
       "    <tr>\n",
       "      <th>3</th>\n",
       "      <td>9045019</td>\n",
       "      <td>교도소 이야기구먼 ..솔직히 재미는 없다..평점 조정</td>\n",
       "      <td>0</td>\n",
       "    </tr>\n",
       "    <tr>\n",
       "      <th>4</th>\n",
       "      <td>6483659</td>\n",
       "      <td>사이몬페그의 익살스런 연기가 돋보였던 영화!스파이더맨에서 늙어보이기만 했던 커스틴 ...</td>\n",
       "      <td>1</td>\n",
       "    </tr>\n",
       "  </tbody>\n",
       "</table>\n",
       "</div>"
      ],
      "text/plain": [
       "         id                                           document  label\n",
       "0   9976970                                아 더빙.. 진짜 짜증나네요 목소리      0\n",
       "1   3819312                  흠...포스터보고 초딩영화줄....오버연기조차 가볍지 않구나      1\n",
       "2  10265843                                  너무재밓었다그래서보는것을추천한다      0\n",
       "3   9045019                      교도소 이야기구먼 ..솔직히 재미는 없다..평점 조정      0\n",
       "4   6483659  사이몬페그의 익살스런 연기가 돋보였던 영화!스파이더맨에서 늙어보이기만 했던 커스틴 ...      1"
      ]
     },
     "execution_count": 3,
     "metadata": {},
     "output_type": "execute_result"
    }
   ],
   "source": [
    "import pandas as pd\n",
    "\n",
    "# 데이터를 읽어봅시다. \n",
    "train_data = pd.read_table('~/aiffel/sentiment_classification/data/ratings_train.txt')\n",
    "test_data = pd.read_table('~/aiffel/sentiment_classification/data/ratings_test.txt')\n",
    "\n",
    "train_data.head()"
   ]
  },
  {
   "cell_type": "markdown",
   "id": "35b8a8d7",
   "metadata": {},
   "source": [
    "## 데이터로더 구성\n",
    "\n",
    "1. 데이터의 중복 제거\n",
    "\n",
    "2. NaN 결측치 제거\n",
    "\n",
    "3. 한국어 토크나이저로 토큰화\n",
    "\n",
    "4. 불용어(Stopwords) 제거\n",
    "\n",
    "5. 사전 word_to_index 구성\n",
    "\n",
    "6. 텍스트 스트링을 사전 인덱스 스트링으로 변환\n",
    "\n",
    "7. X_train, y_train, X_test, y_test, word_to_index 리턴"
   ]
  },
  {
   "cell_type": "code",
   "execution_count": 61,
   "id": "68481983",
   "metadata": {},
   "outputs": [],
   "source": [
    "from konlpy.tag import Mecab\n",
    "import numpy as np\n",
    "from collections import Counter\n",
    "\n",
    "tokenizer = Mecab()\n",
    "stopwords = ['의','가','이','은','들','는','좀','잘','걍','과','도','를','으로','자','에','와','한','하다']\n",
    "\n",
    "def load_data(train_data, test_data, num_words=10000):\n",
    "    # [[YOUR CODE]]\n",
    "    train_data.drop_duplicates(subset=[\"document\"],inplace=True)\n",
    "    train_data = train_data.dropna(how = 'any')\n",
    "    test_data.drop_duplicates(subset=[\"document\"], inplace=True)\n",
    "    test_data = test_data.dropna(how = 'any')\n",
    "    \n",
    "    X_train = []\n",
    "    for sentence in train_data[\"document\"]:\n",
    "        temp_X = tokenizer.morphs(sentence)\n",
    "        temp_X = [word for word in temp_X if not word in stopwords]\n",
    "        X_train.append(temp_X)\n",
    "\n",
    "    X_test = []\n",
    "    for sentence in test_data[\"document\"]:\n",
    "        temp_X = tokenizer.morphs(sentence)\n",
    "        temp_X = [word for word in temp_X if not word in stopwords]\n",
    "        X_test.append(temp_X)\n",
    "\n",
    "    # 토큰화된 단어 리스트들의 리스트 -> 하나의 리스트 결합\n",
    "    words = np.concatenate(X_train).tolist()\n",
    "    # 단어 빈도수 계산\n",
    "    counter = Counter(words)\n",
    "    counter = counter.most_common(10000-4)\n",
    "    # 인덱스 0~3은 특수 토큰용으로 비움\n",
    "    vocab = [' ',' ',' ',' '] + [key for key, _ in counter]\n",
    "    # 딕셔너리 생성\n",
    "    word_to_index = {word: index for index, word in enumerate(vocab)}\n",
    "\n",
    "    def wordlist_to_indexlist(wordlist):\n",
    "        return [word_to_index[word] if word in word_to_index else word_to_index[' '] for word in wordlist]\n",
    "\n",
    "    X_train = list(map(wordlist_to_indexlist, X_train))\n",
    "    X_test = list(map(wordlist_to_indexlist, X_test))\n",
    "    return X_train, np.array(list(train_data['label'])), X_test, np.array(list(test_data['label'])), word_to_index\n",
    "\n",
    "X_train, y_train, X_test, y_test, word_to_index = load_data(train_data, test_data)"
   ]
  },
  {
   "cell_type": "code",
   "execution_count": 62,
   "id": "295e2c77",
   "metadata": {},
   "outputs": [],
   "source": [
    "index_to_word = {index:word for word, index in word_to_index.items()}"
   ]
  },
  {
   "cell_type": "markdown",
   "id": "df86ff13",
   "metadata": {},
   "source": [
    "인코더 디코더 함수"
   ]
  },
  {
   "cell_type": "code",
   "execution_count": 63,
   "id": "51b8c0e4",
   "metadata": {},
   "outputs": [],
   "source": [
    "# 문장 1개를 활용할 딕셔너리와 함께 주면, 단어 인덱스 리스트 벡터로 변환해 주는 함수입니다. \n",
    "# 단, 모든 문장은 <BOS>로 시작하는 것으로 합니다. \n",
    "def get_encoded_sentence(sentence, word_to_index):\n",
    "    return [word_to_index['<BOS>']]+[word_to_index[word] if word in word_to_index else word_to_index['<UNK>'] for word in sentence.split()]\n",
    "\n",
    "# 여러 개의 문장 리스트를 한꺼번에 단어 인덱스 리스트 벡터로 encode해 주는 함수입니다. \n",
    "def get_encoded_sentences(sentences, word_to_index):\n",
    "    return [get_encoded_sentence(sentence, word_to_index) for sentence in sentences]\n",
    "\n",
    "# 숫자 벡터로 encode된 문장을 원래대로 decode하는 함수입니다. \n",
    "def get_decoded_sentence(encoded_sentence, index_to_word):\n",
    "    return ' '.join(index_to_word[index] if index in index_to_word else '<UNK>' for index in encoded_sentence[1:])  #[1:]를 통해 <BOS>를 제외\n",
    "\n",
    "# 여러 개의 숫자 벡터로 encode된 문장을 한꺼번에 원래대로 decode하는 함수입니다. \n",
    "def get_decoded_sentences(encoded_sentences, index_to_word):\n",
    "    return [get_decoded_sentence(encoded_sentence, index_to_word) for encoded_sentence in encoded_sentences]"
   ]
  },
  {
   "cell_type": "code",
   "execution_count": 64,
   "id": "321906b7",
   "metadata": {},
   "outputs": [],
   "source": [
    "import tensorflow as tf\n",
    "from tensorflow.keras import layers\n",
    "import matplotlib.pyplot as plt"
   ]
  },
  {
   "cell_type": "code",
   "execution_count": 65,
   "id": "bd998673",
   "metadata": {},
   "outputs": [
    {
     "name": "stdout",
     "output_type": "stream",
     "text": [
      "146182\n",
      "9997\n"
     ]
    }
   ],
   "source": [
    "print(len(X_train))\n",
    "print(len(word_to_index))"
   ]
  },
  {
   "cell_type": "markdown",
   "id": "62c17232",
   "metadata": {},
   "source": [
    "## 모델 구성을 위한 데이터 분석 및 가공\n",
    "\n",
    "1. 데이터셋 내 문장 길이 분포\n",
    "2. 적절한 최대 문장 길이 지정\n"
   ]
  },
  {
   "cell_type": "code",
   "execution_count": 66,
   "id": "2493acbd",
   "metadata": {},
   "outputs": [
    {
     "name": "stdout",
     "output_type": "stream",
     "text": [
      "문장길이 평균 :  15.96940191154864\n",
      "문장길이 최대 :  116\n",
      "문장길이 표준편차 :  12.843571191092\n",
      "pad_sequences maxlen :  41\n",
      "전체 문장의 0.9342988343341575%가 maxlen 설정값 이내에 포함됩니다. \n"
     ]
    }
   ],
   "source": [
    "# 데이터셋 내 문장 길이 분포\n",
    "total_data_text = list(X_train) + list(X_test)\n",
    "num_tokens = [len(tokens) for tokens in total_data_text]\n",
    "num_tokens = np.array(num_tokens)\n",
    "\n",
    "print('문장길이 평균 : ', np.mean(num_tokens))\n",
    "print('문장길이 최대 : ', np.max(num_tokens))\n",
    "print('문장길이 표준편차 : ', np.std(num_tokens))\n",
    "# 적절한 최대 문장 길이 지정\n",
    "max_tokens = np.mean(num_tokens) + 2 * np.std(num_tokens)\n",
    "maxlen = int(max_tokens)\n",
    "print('pad_sequences maxlen : ', maxlen)\n",
    "print(f'전체 문장의 {np.sum(num_tokens < max_tokens) / len(num_tokens)}%가 maxlen 설정값 이내에 포함됩니다. ')\n",
    "# keras.preprocessing.sequence.pad_sequences 을 활용한 패딩 추가"
   ]
  },
  {
   "cell_type": "markdown",
   "id": "cc658241",
   "metadata": {},
   "source": [
    "### keras.preprocessing.sequence.pad_sequences 을 활용한 패딩 추가"
   ]
  },
  {
   "cell_type": "code",
   "execution_count": 67,
   "id": "26a0b80f",
   "metadata": {},
   "outputs": [
    {
     "name": "stdout",
     "output_type": "stream",
     "text": [
      "(146182, 41)\n"
     ]
    }
   ],
   "source": [
    "X_train = tf.keras.preprocessing.sequence.pad_sequences(X_train,\n",
    "                                                        value=word_to_index[\" \"],\n",
    "                                                        padding='pre', \n",
    "                                                        maxlen=maxlen)\n",
    "\n",
    "X_test = tf.keras.preprocessing.sequence.pad_sequences(X_test,\n",
    "                                                       value=word_to_index[\" \"],\n",
    "                                                       padding='pre',\n",
    "                                                       maxlen=maxlen)\n",
    "\n",
    "print(X_train.shape)"
   ]
  },
  {
   "cell_type": "markdown",
   "id": "a78d593e",
   "metadata": {},
   "source": [
    "## 평가지표 시각화 함수"
   ]
  },
  {
   "cell_type": "code",
   "execution_count": 136,
   "id": "8fb76fbe",
   "metadata": {},
   "outputs": [],
   "source": [
    "import matplotlib.pyplot as plt\n",
    "\n",
    "def acc_loss_graph(history_dict):\n",
    "    acc = history_dict['accuracy']\n",
    "    val_acc = history_dict['val_accuracy']\n",
    "    loss = history_dict['loss']\n",
    "    val_loss = history_dict['val_loss']\n",
    "\n",
    "    epochs = range(1, len(acc) + 1)\n",
    "\n",
    "\n",
    "    fig, (ax1, ax2) = plt.subplots(1, 2, figsize=(12, 5))\n",
    "\n",
    "    # 왼쪽: Loss\n",
    "    ax1.plot(epochs, loss, 'bo', label='Training loss')\n",
    "    ax1.plot(epochs, val_loss, 'b', label='Validation loss')\n",
    "    ax1.set_title('Training and Validation Loss')\n",
    "    ax1.set_xlabel('Epochs')\n",
    "    ax1.set_ylabel('Loss')\n",
    "    ax1.legend()\n",
    "\n",
    "    # 오른쪽: Accuracy\n",
    "    ax2.plot(epochs, acc, 'bo', label='Training acc')\n",
    "    ax2.plot(epochs, val_acc, 'b', label='Validation acc')\n",
    "    ax2.set_title('Training and Validation Accuracy')\n",
    "    ax2.set_xlabel('Epochs')\n",
    "    ax2.set_ylabel('Accuracy')\n",
    "    ax2.legend()\n",
    "\n",
    "    plt.tight_layout()\n",
    "    plt.show()\n"
   ]
  },
  {
   "cell_type": "markdown",
   "id": "71a9cab1",
   "metadata": {},
   "source": [
    "## 컴파일 모델 함수화"
   ]
  },
  {
   "cell_type": "code",
   "execution_count": 180,
   "id": "2b22df08",
   "metadata": {},
   "outputs": [],
   "source": [
    "def compile_model(model, optimizer='adam', loss='binary_crossentropy', metrics=['accuracy']):\n",
    "    model.compile(optimizer=optimizer, loss=loss, metrics=metrics)\n",
    "    return model\n"
   ]
  },
  {
   "cell_type": "code",
   "execution_count": 297,
   "id": "4170f50f",
   "metadata": {},
   "outputs": [
    {
     "name": "stdout",
     "output_type": "stream",
     "text": [
      "(66182, 41)\n",
      "(66182,)\n"
     ]
    }
   ],
   "source": [
    "# validation set 80000건 분리\n",
    "x_val = X_train[:80000]   \n",
    "y_val = y_train[:80000]\n",
    "\n",
    "# validation set을 제외한 나머지 66182건\n",
    "partial_x_train = X_train[80000:]  \n",
    "partial_y_train = y_train[80000:]\n",
    "\n",
    "print(partial_x_train.shape)\n",
    "print(partial_y_train.shape)"
   ]
  },
  {
   "cell_type": "markdown",
   "id": "5c634992",
   "metadata": {},
   "source": [
    "## 1번 모델 (LSTM)\n",
    "LSTM.layer: 16\n",
    "\n",
    "Dense.layer: 16"
   ]
  },
  {
   "cell_type": "code",
   "execution_count": 141,
   "id": "2a6cda8e",
   "metadata": {},
   "outputs": [],
   "source": [
    "vocab_size = 9997\n",
    "word_vector_dim = 32\n",
    "embedding = tf.keras.layers.Embedding(input_dim=vocab_size, output_dim=word_vector_dim, mask_zero=True)\n",
    "\n",
    "model = tf.keras.Sequential()\n",
    "\n",
    "model.add(tf.keras.layers.Embedding(vocab_size, word_vector_dim, input_shape=(None,)))\n",
    "model.add(tf.keras.layers.LSTM(16))\n",
    "model.add(tf.keras.layers.Dense(16,activation=\"relu\"))\n",
    "model.add(tf.keras.layers.Dense(1,activation=\"sigmoid\"))"
   ]
  },
  {
   "cell_type": "code",
   "execution_count": 142,
   "id": "5c76c942",
   "metadata": {},
   "outputs": [],
   "source": [
    "# 권장 차원 수 = log(어휘 수) × k, 보통 k는 10~20 사이\n",
    "# dim_num = (vocab_size ** 0.5) * 10\n",
    "# print(int(dim_num))\n",
    "# 너무 많아서 패스"
   ]
  },
  {
   "cell_type": "code",
   "execution_count": 144,
   "id": "2986595e",
   "metadata": {},
   "outputs": [
    {
     "name": "stdout",
     "output_type": "stream",
     "text": [
      "Epoch 1/20\n",
      "130/130 [==============================] - 3s 10ms/step - loss: 0.5579 - accuracy: 0.7283 - val_loss: 0.4047 - val_accuracy: 0.8327\n",
      "Epoch 2/20\n",
      "130/130 [==============================] - 1s 7ms/step - loss: 0.3568 - accuracy: 0.8513 - val_loss: 0.3634 - val_accuracy: 0.8441\n",
      "Epoch 3/20\n",
      "130/130 [==============================] - 1s 7ms/step - loss: 0.3179 - accuracy: 0.8682 - val_loss: 0.3633 - val_accuracy: 0.8438\n",
      "Epoch 4/20\n",
      "130/130 [==============================] - 1s 7ms/step - loss: 0.3006 - accuracy: 0.8775 - val_loss: 0.3683 - val_accuracy: 0.8417\n",
      "Epoch 5/20\n",
      "130/130 [==============================] - 1s 7ms/step - loss: 0.2880 - accuracy: 0.8837 - val_loss: 0.3777 - val_accuracy: 0.8411\n",
      "Epoch 6/20\n",
      "130/130 [==============================] - 1s 7ms/step - loss: 0.2785 - accuracy: 0.8881 - val_loss: 0.3778 - val_accuracy: 0.8398\n",
      "Epoch 7/20\n",
      "130/130 [==============================] - 1s 7ms/step - loss: 0.2700 - accuracy: 0.8928 - val_loss: 0.3861 - val_accuracy: 0.8388\n",
      "Epoch 8/20\n",
      "130/130 [==============================] - 1s 7ms/step - loss: 0.2598 - accuracy: 0.8989 - val_loss: 0.3898 - val_accuracy: 0.8378\n",
      "Epoch 9/20\n",
      "130/130 [==============================] - 1s 7ms/step - loss: 0.2492 - accuracy: 0.9041 - val_loss: 0.3956 - val_accuracy: 0.8375\n",
      "Epoch 10/20\n",
      "130/130 [==============================] - 1s 7ms/step - loss: 0.2374 - accuracy: 0.9088 - val_loss: 0.4131 - val_accuracy: 0.8361\n",
      "Epoch 11/20\n",
      "130/130 [==============================] - 1s 7ms/step - loss: 0.2241 - accuracy: 0.9157 - val_loss: 0.4234 - val_accuracy: 0.8356\n",
      "Epoch 12/20\n",
      "130/130 [==============================] - 1s 7ms/step - loss: 0.2128 - accuracy: 0.9204 - val_loss: 0.4447 - val_accuracy: 0.8332\n",
      "Epoch 13/20\n",
      "130/130 [==============================] - 1s 7ms/step - loss: 0.2011 - accuracy: 0.9254 - val_loss: 0.4499 - val_accuracy: 0.8327\n",
      "Epoch 14/20\n",
      "130/130 [==============================] - 1s 7ms/step - loss: 0.1918 - accuracy: 0.9302 - val_loss: 0.4648 - val_accuracy: 0.8302\n",
      "Epoch 15/20\n",
      "130/130 [==============================] - 1s 7ms/step - loss: 0.1826 - accuracy: 0.9335 - val_loss: 0.4891 - val_accuracy: 0.8283\n",
      "Epoch 16/20\n",
      "130/130 [==============================] - 1s 7ms/step - loss: 0.1743 - accuracy: 0.9368 - val_loss: 0.5154 - val_accuracy: 0.8278\n",
      "Epoch 17/20\n",
      "130/130 [==============================] - 1s 7ms/step - loss: 0.1661 - accuracy: 0.9406 - val_loss: 0.5326 - val_accuracy: 0.8261\n",
      "Epoch 18/20\n",
      "130/130 [==============================] - 1s 7ms/step - loss: 0.1584 - accuracy: 0.9430 - val_loss: 0.5544 - val_accuracy: 0.8240\n",
      "Epoch 19/20\n",
      "130/130 [==============================] - 1s 7ms/step - loss: 0.1522 - accuracy: 0.9463 - val_loss: 0.5742 - val_accuracy: 0.8236\n",
      "Epoch 20/20\n",
      "130/130 [==============================] - 1s 7ms/step - loss: 0.1447 - accuracy: 0.9495 - val_loss: 0.6122 - val_accuracy: 0.8235\n"
     ]
    }
   ],
   "source": [
    "model = compile_model(model)\n",
    "              \n",
    "epochs=20  # 몇 epoch를 훈련하면 좋을지 결과를 보면서 바꾸어 봅시다. \n",
    "\n",
    "history = model.fit(partial_x_train,\n",
    "                    partial_y_train,\n",
    "                    epochs=epochs,\n",
    "                    batch_size=512,\n",
    "                    validation_data=(x_val, y_val),\n",
    "                    verbose=1)"
   ]
  },
  {
   "cell_type": "code",
   "execution_count": 145,
   "id": "5cc9c8f7",
   "metadata": {},
   "outputs": [
    {
     "name": "stdout",
     "output_type": "stream",
     "text": [
      "1537/1537 - 3s - loss: 0.6220 - accuracy: 0.8189\n",
      "[0.6219878792762756, 0.8189271092414856]\n"
     ]
    }
   ],
   "source": [
    "results = model.evaluate(X_test,  y_test, verbose=2)\n",
    "\n",
    "print(results)"
   ]
  },
  {
   "cell_type": "code",
   "execution_count": 146,
   "id": "f596a7aa",
   "metadata": {},
   "outputs": [
    {
     "data": {
      "image/png": "[encoded data removed]",
      "text/plain": [
       "<Figure size 864x360 with 2 Axes>"
      ]
     },
     "metadata": {
      "needs_background": "light"
     },
     "output_type": "display_data"
    }
   ],
   "source": [
    "acc_loss_graph(history.history)"
   ]
  },
  {
   "cell_type": "markdown",
   "id": "b1b85078",
   "metadata": {},
   "source": [
    "### 과적합이 빠르게 발생 ! 드롭아웃 층 추가해보자\n"
   ]
  },
  {
   "cell_type": "markdown",
   "id": "26e57ad9",
   "metadata": {},
   "source": [
    "## 2번 모델 (LSTM + (recurrent)Dropout + eralystopping) + LSTM레이어수 추가\n",
    "과적합이 빠르게 발생하여 연결층을 분리하는 Dropout을 추가하여 2번모델 학습"
   ]
  },
  {
   "cell_type": "code",
   "execution_count": 147,
   "id": "130d7a2d",
   "metadata": {},
   "outputs": [
    {
     "name": "stdout",
     "output_type": "stream",
     "text": [
      "WARNING:tensorflow:Layer lstm_9 will not use cuDNN kernels since it doesn't meet the criteria. It will use a generic GPU kernel as fallback when running on GPU.\n"
     ]
    }
   ],
   "source": [
    "model = tf.keras.Sequential()\n",
    "\n",
    "model.add(tf.keras.layers.Embedding(vocab_size, word_vector_dim, input_shape=(None,)))\n",
    "model.add(tf.keras.layers.LSTM(32, dropout=0.2, recurrent_dropout=0.3))\n",
    "model.add(tf.keras.layers.Dense(16,activation=\"relu\"))\n",
    "model.add(tf.keras.layers.Dropout(0.5))\n",
    "model.add(tf.keras.layers.Dense(1,activation=\"sigmoid\"))"
   ]
  },
  {
   "cell_type": "code",
   "execution_count": 150,
   "id": "dc78f58d",
   "metadata": {},
   "outputs": [
    {
     "name": "stdout",
     "output_type": "stream",
     "text": [
      "Epoch 1/20\n",
      "130/130 [==============================] - 24s 172ms/step - loss: 0.5612 - accuracy: 0.7131 - val_loss: 0.3910 - val_accuracy: 0.8335\n",
      "Epoch 2/20\n",
      "130/130 [==============================] - 22s 171ms/step - loss: 0.3891 - accuracy: 0.8436 - val_loss: 0.3620 - val_accuracy: 0.8420\n",
      "Epoch 3/20\n",
      "130/130 [==============================] - 22s 169ms/step - loss: 0.3498 - accuracy: 0.8630 - val_loss: 0.3643 - val_accuracy: 0.8417\n",
      "Epoch 4/20\n",
      "130/130 [==============================] - 22s 170ms/step - loss: 0.3303 - accuracy: 0.8717 - val_loss: 0.3617 - val_accuracy: 0.8440\n",
      "Epoch 5/20\n",
      "130/130 [==============================] - 22s 170ms/step - loss: 0.3171 - accuracy: 0.8777 - val_loss: 0.3678 - val_accuracy: 0.8406\n",
      "Epoch 6/20\n",
      "130/130 [==============================] - 22s 169ms/step - loss: 0.3013 - accuracy: 0.8843 - val_loss: 0.3645 - val_accuracy: 0.8404\n"
     ]
    }
   ],
   "source": [
    "callback = tf.keras.callbacks.EarlyStopping(monitor='val_loss',patience=2,restore_best_weights=True)\n",
    "\n",
    "model = compile_model(model)\n",
    "\n",
    "history_lstm_drop = model.fit(partial_x_train,\n",
    "                    partial_y_train,\n",
    "                    epochs=20,\n",
    "                    batch_size=512,\n",
    "                    validation_data=(x_val, y_val),\n",
    "                    callbacks=[callback])"
   ]
  },
  {
   "cell_type": "code",
   "execution_count": 151,
   "id": "a9a41477",
   "metadata": {},
   "outputs": [
    {
     "name": "stdout",
     "output_type": "stream",
     "text": [
      "1537/1537 - 17s - loss: 0.3689 - accuracy: 0.8403\n",
      "[0.3689408600330353, 0.8402872681617737]\n"
     ]
    }
   ],
   "source": [
    "results_lstm_drop = model.evaluate(X_test,  y_test, verbose=2)\n",
    "\n",
    "print(results_lstm_drop)"
   ]
  },
  {
   "cell_type": "code",
   "execution_count": 152,
   "id": "a13fd3ba",
   "metadata": {},
   "outputs": [
    {
     "data": {
      "image/png": "[encoded data removed]",
      "text/plain": [
       "<Figure size 864x360 with 2 Axes>"
      ]
     },
     "metadata": {
      "needs_background": "light"
     },
     "output_type": "display_data"
    }
   ],
   "source": [
    "acc_loss_graph(history_lstm_drop.history)"
   ]
  },
  {
   "cell_type": "markdown",
   "id": "c20ab38a",
   "metadata": {},
   "source": [
    "### accuracy : 0.8189 -> 0.8403  (2.14% 성능향상)\n",
    "\n",
    "Dropout층을 추가하여 2.14% 성능향상을 보임\n",
    "\n",
    "EarlyStopping 6에서 멈춤"
   ]
  },
  {
   "cell_type": "markdown",
   "id": "f09f02fb",
   "metadata": {},
   "source": [
    "## 모델3: LSTM으로 끌어올릴 수 있는 성능이 한계가 보임 다른 모델을 사용 -> 1D CNN\n"
   ]
  },
  {
   "cell_type": "code",
   "execution_count": 336,
   "id": "5a0bc4a6",
   "metadata": {},
   "outputs": [],
   "source": [
    "model = tf.keras.Sequential()\n",
    "model.add(tf.keras.layers.Embedding(vocab_size, word_vector_dim, input_shape=(None,)))\n",
    "model.add(tf.keras.layers.Conv1D(128, 5, activation='relu'))\n",
    "model.add(tf.keras.layers.GlobalMaxPooling1D())\n",
    "model.add(tf.keras.layers.Dense(16, activation='relu'))\n",
    "model.add(tf.keras.layers.Dropout(0.4))\n",
    "model.add(tf.keras.layers.Dense(1, activation='sigmoid'))\n"
   ]
  },
  {
   "cell_type": "code",
   "execution_count": 337,
   "id": "956f4c29",
   "metadata": {},
   "outputs": [
    {
     "name": "stdout",
     "output_type": "stream",
     "text": [
      "Epoch 1/20\n",
      "188/188 [==============================] - 2s 8ms/step - loss: 0.4806 - accuracy: 0.7743 - val_loss: 0.3489 - val_accuracy: 0.8476\n",
      "Epoch 2/20\n",
      "188/188 [==============================] - 1s 7ms/step - loss: 0.3374 - accuracy: 0.8655 - val_loss: 0.3373 - val_accuracy: 0.8545\n",
      "Epoch 3/20\n",
      "188/188 [==============================] - 1s 7ms/step - loss: 0.2881 - accuracy: 0.8912 - val_loss: 0.3352 - val_accuracy: 0.8559\n",
      "Epoch 4/20\n",
      "188/188 [==============================] - 1s 7ms/step - loss: 0.2407 - accuracy: 0.9128 - val_loss: 0.3529 - val_accuracy: 0.8540\n",
      "Epoch 5/20\n",
      "188/188 [==============================] - 1s 7ms/step - loss: 0.1940 - accuracy: 0.9327 - val_loss: 0.3877 - val_accuracy: 0.8503\n"
     ]
    }
   ],
   "source": [
    "callback = tf.keras.callbacks.EarlyStopping(monitor='val_loss',patience=2,restore_best_weights=True)\n",
    "\n",
    "model = compile_model(model)\n",
    "\n",
    "history_cnn = model.fit(partial_x_train,\n",
    "                    partial_y_train,\n",
    "                    epochs=20,\n",
    "                    batch_size=512,\n",
    "                    validation_data=(x_val, y_val),\n",
    "                    callbacks=[callback])"
   ]
  },
  {
   "cell_type": "code",
   "execution_count": 300,
   "id": "dddd3c69",
   "metadata": {},
   "outputs": [
    {
     "name": "stdout",
     "output_type": "stream",
     "text": [
      "1537/1537 - 2s - loss: 0.3536 - accuracy: 0.8456\n",
      "[0.3535933792591095, 0.8455967903137207]\n"
     ]
    }
   ],
   "source": [
    "results_cnn = model.evaluate(X_test,  y_test, verbose=2)\n",
    "\n",
    "print(results_cnn)"
   ]
  },
  {
   "cell_type": "code",
   "execution_count": 301,
   "id": "f9679f7f",
   "metadata": {},
   "outputs": [
    {
     "data": {
      "image/png": "[encoded data removed]",
      "text/plain": [
       "<Figure size 864x360 with 2 Axes>"
      ]
     },
     "metadata": {
      "needs_background": "light"
     },
     "output_type": "display_data"
    }
   ],
   "source": [
    "acc_loss_graph(history_cnn.history)"
   ]
  },
  {
   "cell_type": "markdown",
   "id": "d3c3a04c",
   "metadata": {},
   "source": [
    "### accuracy : 0.8403 -> 0.8463  (0.6% 성능향상)\n",
    "\n",
    "Dropout층을 추가하여 0.6% 성능향상을 보임\n",
    "\n",
    "EarlyStopping 5에서 멈춤\n",
    "\n",
    "### 2번모델과 정확도면에서도 앞서고 훨씬 빠른속도로 학습이 되었음 \n",
    "\n",
    "## BestModel 3번 !\n",
    "\n",
    "---"
   ]
  },
  {
   "cell_type": "markdown",
   "id": "d77a7f71",
   "metadata": {},
   "source": [
    "### 과적합이 너무 빨라 데이터셋을 추가"
   ]
  },
  {
   "cell_type": "code",
   "execution_count": 302,
   "id": "54f9eabb",
   "metadata": {},
   "outputs": [
    {
     "name": "stdout",
     "output_type": "stream",
     "text": [
      "(96182, 41)\n",
      "(96182,)\n"
     ]
    }
   ],
   "source": [
    "# validation set 50000건 분리\n",
    "x_val = X_train[:50000]   \n",
    "y_val = y_train[:50000]\n",
    "\n",
    "# validation set을 제외한 나머지 96182건\n",
    "partial_x_train = X_train[50000:]  \n",
    "partial_y_train = y_train[50000:]\n",
    "\n",
    "print(partial_x_train.shape)\n",
    "print(partial_y_train.shape)"
   ]
  },
  {
   "cell_type": "code",
   "execution_count": 330,
   "id": "4d2f3f3a",
   "metadata": {},
   "outputs": [
    {
     "name": "stdout",
     "output_type": "stream",
     "text": [
      "Epoch 1/20\n",
      "188/188 [==============================] - 2s 6ms/step - loss: 0.4779 - accuracy: 0.7768 - val_loss: 0.3512 - val_accuracy: 0.8456\n",
      "Epoch 2/20\n",
      "188/188 [==============================] - 1s 5ms/step - loss: 0.3344 - accuracy: 0.8658 - val_loss: 0.3328 - val_accuracy: 0.8552\n",
      "Epoch 3/20\n",
      "188/188 [==============================] - 1s 5ms/step - loss: 0.2821 - accuracy: 0.8938 - val_loss: 0.3338 - val_accuracy: 0.8571\n",
      "Epoch 4/20\n",
      "188/188 [==============================] - 1s 5ms/step - loss: 0.2296 - accuracy: 0.9178 - val_loss: 0.3475 - val_accuracy: 0.8564\n"
     ]
    }
   ],
   "source": [
    "model = tf.keras.Sequential()\n",
    "model.add(tf.keras.layers.Embedding(vocab_size, word_vector_dim, input_shape=(None,)))\n",
    "model.add(tf.keras.layers.Conv1D(64, 4, activation='relu'))\n",
    "model.add(tf.keras.layers.GlobalMaxPooling1D())\n",
    "model.add(tf.keras.layers.Dense(16, activation='relu'))\n",
    "model.add(tf.keras.layers.Dropout(0.4))\n",
    "model.add(tf.keras.layers.Dense(1, activation='sigmoid'))\n",
    "\n",
    "callback = tf.keras.callbacks.EarlyStopping(monitor='val_loss',patience=2,restore_best_weights=True)\n",
    "\n",
    "model = compile_model(model)\n",
    "\n",
    "history_cnn = model.fit(partial_x_train,\n",
    "                    partial_y_train,\n",
    "                    epochs=20,\n",
    "                    batch_size=512,\n",
    "                    validation_data=(x_val, y_val),\n",
    "                    callbacks=[callback])"
   ]
  },
  {
   "cell_type": "code",
   "execution_count": 331,
   "id": "30519aa4",
   "metadata": {},
   "outputs": [
    {
     "name": "stdout",
     "output_type": "stream",
     "text": [
      "1537/1537 - 2s - loss: 0.3395 - accuracy: 0.8539\n",
      "[0.3395414352416992, 0.8538763523101807]\n"
     ]
    }
   ],
   "source": [
    "results_cnn = model.evaluate(X_test,  y_test, verbose=2)\n",
    "\n",
    "print(results_cnn)"
   ]
  },
  {
   "cell_type": "code",
   "execution_count": 327,
   "id": "105e01f1",
   "metadata": {},
   "outputs": [
    {
     "data": {
      "image/png": "[encoded data removed]",
      "text/plain": [
       "<Figure size 864x360 with 2 Axes>"
      ]
     },
     "metadata": {
      "needs_background": "light"
     },
     "output_type": "display_data"
    }
   ],
   "source": [
    "acc_loss_graph(history_cnn.history)"
   ]
  },
  {
   "cell_type": "markdown",
   "id": "142dd9b2",
   "metadata": {},
   "source": [
    "## accuracy: 0.8539 <- Best"
   ]
  },
  {
   "cell_type": "markdown",
   "id": "5826c098",
   "metadata": {},
   "source": [
    "# word2vec 적용"
   ]
  },
  {
   "cell_type": "code",
   "execution_count": 181,
   "id": "cbd050c9",
   "metadata": {},
   "outputs": [],
   "source": [
    "from gensim.models.keyedvectors import Word2VecKeyedVectors\n",
    "\n",
    "word2vec_file_path = '/aiffel/data/word2vec_ko.model'\n",
    "word_vectors = Word2VecKeyedVectors.load(word2vec_file_path)\n",
    "vector = word_vectors.wv['끝']\n"
   ]
  },
  {
   "cell_type": "code",
   "execution_count": 182,
   "id": "98b7a13d",
   "metadata": {},
   "outputs": [
    {
     "data": {
      "text/plain": [
       "array([ 1.038851  , -1.1634965 ,  2.2386286 ,  0.8971453 , -2.088168  ,\n",
       "       -4.1942534 , -0.02519768, -0.69813883, -0.2908033 , -1.4651134 ,\n",
       "       -2.6863668 ,  0.7999443 , -0.6957915 , -0.5018775 ,  3.5025773 ,\n",
       "        0.21326113, -0.6588098 , -1.1900496 ,  0.61399573,  2.1247969 ,\n",
       "        0.1549463 ,  3.0840218 ,  3.1680267 , -3.9143991 ,  3.6073153 ,\n",
       "        0.5315545 , -0.3511633 , -1.107248  ,  1.7767181 , -0.95981866,\n",
       "        2.6072454 , -0.00697957, -3.27628   ,  1.558644  ,  0.81922376,\n",
       "        1.9231955 ,  3.7026553 , -0.53824735, -0.4920138 ,  2.4657123 ,\n",
       "       -2.620749  , -0.08950733,  0.61453176,  1.8866426 ,  0.257866  ,\n",
       "       -2.7827141 ,  2.9129577 , -0.6313133 ,  2.0387425 , -4.222685  ,\n",
       "       -2.7560544 ,  1.7903243 , -1.3080189 , -2.5531402 , -0.43849912,\n",
       "       -3.1073573 , -0.29090825,  5.1817617 ,  1.9604833 , -5.1421604 ,\n",
       "       -0.71431434,  4.5624633 , -0.55525815, -3.3019137 ,  1.6761336 ,\n",
       "       -1.9606539 , -0.2726863 ,  0.2465995 ,  1.2685091 ,  1.6055685 ,\n",
       "        1.8344896 ,  1.2752469 ,  0.99503314, -2.3348706 , -0.9290329 ,\n",
       "       -1.5920266 ,  5.693834  ,  1.1132814 , -0.9603875 , -1.970055  ,\n",
       "       -1.0120267 , -2.7289615 , -2.7759619 ,  3.214084  ,  1.8573734 ,\n",
       "       -1.3495721 , -0.10321241,  3.434593  , -2.8573685 , -1.9004927 ,\n",
       "       -1.6801298 , -2.805677  ,  1.7723105 , -0.41865307, -2.310913  ,\n",
       "       -6.2761464 , -0.8376036 ,  2.4590037 ,  2.1697695 , -4.440443  ],\n",
       "      dtype=float32)"
      ]
     },
     "execution_count": 182,
     "metadata": {},
     "output_type": "execute_result"
    }
   ],
   "source": [
    "vector"
   ]
  },
  {
   "cell_type": "markdown",
   "id": "2188d69e",
   "metadata": {},
   "source": [
    "## 자체 학습한 임베딩 모델"
   ]
  },
  {
   "cell_type": "code",
   "execution_count": 345,
   "id": "36a27d3b",
   "metadata": {},
   "outputs": [],
   "source": [
    "from gensim.models import Word2Vec\n",
    "\n",
    "decoded_sentences = get_decoded_sentences(X_train, index_to_word)\n",
    "\n",
    "\n",
    "sentences_for_w2v = [sentence.split() for sentence in decoded_sentences]\n",
    "\n",
    "w2v_model = Word2Vec(sentences=sentences_for_w2v, vector_size=100, window=5, min_count=2, sg=1)"
   ]
  },
  {
   "cell_type": "markdown",
   "id": "7fcf8fbe",
   "metadata": {},
   "source": [
    "## 사전 학습된 임베딩 모델"
   ]
  },
  {
   "cell_type": "code",
   "execution_count": 183,
   "id": "aa328f31",
   "metadata": {},
   "outputs": [],
   "source": [
    "from gensim.models import KeyedVectors\n",
    "\n",
    "word2vec_file_path = '/aiffel/data/word2vec_ko.model'\n",
    "word2vec = Word2VecKeyedVectors.load(word2vec_file_path)"
   ]
  },
  {
   "cell_type": "code",
   "execution_count": 187,
   "id": "26e51774",
   "metadata": {
    "scrolled": true
   },
   "outputs": [],
   "source": [
    "vocab_size = 10000    # 어휘 사전의 크기입니다(10,000개의 단어)\n",
    "word_vector_dim = 100  # 워드 벡터의 차원수\n",
    "embedding_matrix = np.random.rand(vocab_size, word_vector_dim)\n",
    "\n",
    "# embedding_matrix에 Word2Vec 워드 벡터를 단어 하나씩마다 차례차례 카피한다.\n",
    "for i in range(10,vocab_size):\n",
    "    if index_to_word[i] in word2vec.wv:\n",
    "        embedding_matrix[i] = word2vec.wv[index_to_word[i]]"
   ]
  },
  {
   "cell_type": "markdown",
   "id": "d2d1f140",
   "metadata": {},
   "source": [
    "## 두 모델 성능 비교"
   ]
  },
  {
   "cell_type": "code",
   "execution_count": 341,
   "id": "9949b72c",
   "metadata": {},
   "outputs": [
    {
     "data": {
      "text/plain": [
       "[('드라마', 0.8418774008750916),\n",
       " ('뮤지컬', 0.7775140404701233),\n",
       " ('코미디', 0.7489107251167297),\n",
       " ('다큐멘터리', 0.7401294708251953),\n",
       " ('헐리우드', 0.7397844195365906),\n",
       " ('애니메이션', 0.7170552015304565),\n",
       " ('독립영화', 0.7113528251647949),\n",
       " ('로맨틱', 0.7107657194137573),\n",
       " ('장편', 0.7101576924324036),\n",
       " ('극영화', 0.7045413255691528)]"
      ]
     },
     "execution_count": 341,
     "metadata": {},
     "output_type": "execute_result"
    }
   ],
   "source": [
    "word2vec.wv.most_similar('영화')"
   ]
  },
  {
   "cell_type": "code",
   "execution_count": 348,
   "id": "bd8961da",
   "metadata": {},
   "outputs": [
    {
     "data": {
      "text/plain": [
       "[('애니메이션', 0.7108631730079651),\n",
       " ('공포물', 0.6911563873291016),\n",
       " ('영회', 0.6838723421096802),\n",
       " ('드라마', 0.6834842562675476),\n",
       " ('영환데', 0.6575459837913513),\n",
       " ('작품', 0.6505294442176819),\n",
       " ('영활', 0.6439788937568665),\n",
       " ('애니', 0.6439204216003418),\n",
       " ('강시', 0.6418247222900391),\n",
       " ('영호', 0.6407393217086792)]"
      ]
     },
     "execution_count": 348,
     "metadata": {},
     "output_type": "execute_result"
    }
   ],
   "source": [
    "w2v_model.wv.most_similar(\"영화\")"
   ]
  },
  {
   "cell_type": "markdown",
   "id": "8ba57ca5",
   "metadata": {},
   "source": [
    "### 자체학습한 모델은 영화와 비슷한 단어를 단순하게 비슷한 글자인 영호 영회 등을 주목함\n",
    "### 반면 사전학습된 모델은 다큐멘터리, 뮤지컬과 같이 속성이 비슷한 단어를 잘 잡아냄"
   ]
  },
  {
   "cell_type": "code",
   "execution_count": 314,
   "id": "73f3c257",
   "metadata": {},
   "outputs": [
    {
     "name": "stdout",
     "output_type": "stream",
     "text": [
      "Epoch 1/20\n",
      "188/188 [==============================] - 2s 6ms/step - loss: 0.8714 - accuracy: 0.5311 - val_loss: 0.6750 - val_accuracy: 0.6132\n",
      "Epoch 2/20\n",
      "188/188 [==============================] - 1s 5ms/step - loss: 0.6569 - accuracy: 0.5995 - val_loss: 0.5947 - val_accuracy: 0.7068\n",
      "Epoch 3/20\n",
      "188/188 [==============================] - 1s 5ms/step - loss: 0.5901 - accuracy: 0.6750 - val_loss: 0.5231 - val_accuracy: 0.7572\n",
      "Epoch 4/20\n",
      "188/188 [==============================] - 1s 5ms/step - loss: 0.5384 - accuracy: 0.7264 - val_loss: 0.4724 - val_accuracy: 0.7841\n",
      "Epoch 5/20\n",
      "188/188 [==============================] - 1s 5ms/step - loss: 0.4999 - accuracy: 0.7650 - val_loss: 0.4468 - val_accuracy: 0.7993\n",
      "Epoch 6/20\n",
      "188/188 [==============================] - 1s 5ms/step - loss: 0.4655 - accuracy: 0.7944 - val_loss: 0.4221 - val_accuracy: 0.8134\n",
      "Epoch 7/20\n",
      "188/188 [==============================] - 1s 5ms/step - loss: 0.4409 - accuracy: 0.8106 - val_loss: 0.4008 - val_accuracy: 0.8212\n",
      "Epoch 8/20\n",
      "188/188 [==============================] - 1s 5ms/step - loss: 0.4199 - accuracy: 0.8232 - val_loss: 0.3898 - val_accuracy: 0.8281\n",
      "Epoch 9/20\n",
      "188/188 [==============================] - 1s 5ms/step - loss: 0.4016 - accuracy: 0.8337 - val_loss: 0.3805 - val_accuracy: 0.8314\n",
      "Epoch 10/20\n",
      "188/188 [==============================] - 1s 5ms/step - loss: 0.3867 - accuracy: 0.8415 - val_loss: 0.3730 - val_accuracy: 0.8347\n",
      "Epoch 11/20\n",
      "188/188 [==============================] - 1s 5ms/step - loss: 0.3718 - accuracy: 0.8493 - val_loss: 0.3692 - val_accuracy: 0.8379\n",
      "Epoch 12/20\n",
      "188/188 [==============================] - 1s 5ms/step - loss: 0.3592 - accuracy: 0.8559 - val_loss: 0.3676 - val_accuracy: 0.8388\n",
      "Epoch 13/20\n",
      "188/188 [==============================] - 1s 5ms/step - loss: 0.3476 - accuracy: 0.8618 - val_loss: 0.3742 - val_accuracy: 0.8412\n",
      "Epoch 14/20\n",
      "188/188 [==============================] - 1s 5ms/step - loss: 0.3370 - accuracy: 0.8680 - val_loss: 0.3712 - val_accuracy: 0.8413\n",
      "Epoch 15/20\n",
      "188/188 [==============================] - 1s 5ms/step - loss: 0.3266 - accuracy: 0.8734 - val_loss: 0.3712 - val_accuracy: 0.8416\n"
     ]
    }
   ],
   "source": [
    "from tensorflow.keras.initializers import Constant\n",
    "\n",
    "vocab_size = 10000    # 어휘 사전의 크기입니다(10,000개의 단어)\n",
    "word_vector_dim = 100  # 워드 벡터의 차원 수 \n",
    "\n",
    "# 모델 구성\n",
    "\n",
    "model = tf.keras.Sequential()\n",
    "model.add(tf.keras.layers.Embedding(vocab_size, \n",
    "                                 word_vector_dim, \n",
    "                                 embeddings_initializer=Constant(embedding_matrix),  # 카피한 임베딩을 여기서 활용\n",
    "                                 input_length=maxlen, \n",
    "                                 trainable=True))\n",
    "model.add(tf.keras.layers.Conv1D(32, 2, activation='relu'))\n",
    "model.add(tf.keras.layers.GlobalMaxPooling1D())\n",
    "model.add(tf.keras.layers.Dense(8, activation='relu'))\n",
    "model.add(tf.keras.layers.Dropout(0.4))\n",
    "model.add(tf.keras.layers.Dense(1, activation='sigmoid'))\n",
    "\n",
    "\n",
    "\n",
    "callback = tf.keras.callbacks.EarlyStopping(monitor='val_loss',patience=3,restore_best_weights=True)\n",
    "\n",
    "model = compile_model(model)\n",
    "\n",
    "history_cnn_word2vec = model.fit(partial_x_train,\n",
    "                    partial_y_train,\n",
    "                    epochs=20,\n",
    "                    batch_size=512,\n",
    "                    validation_data=(x_val, y_val),\n",
    "                    callbacks=[callback])"
   ]
  },
  {
   "cell_type": "code",
   "execution_count": 315,
   "id": "ae82cc88",
   "metadata": {},
   "outputs": [
    {
     "name": "stdout",
     "output_type": "stream",
     "text": [
      "1537/1537 - 2s - loss: 0.3762 - accuracy: 0.8333\n",
      "[0.37616515159606934, 0.8333299160003662]\n"
     ]
    }
   ],
   "source": [
    "result_cnn_word2vec = model.evaluate(X_test,  y_test, verbose=2)\n",
    "\n",
    "print(result_cnn_word2vec)"
   ]
  },
  {
   "cell_type": "code",
   "execution_count": 178,
   "id": "381fa849",
   "metadata": {},
   "outputs": [
    {
     "data": {
      "image/png": "[encoded data removed]",
      "text/plain": [
       "<Figure size 864x360 with 2 Axes>"
      ]
     },
     "metadata": {
      "needs_background": "light"
     },
     "output_type": "display_data"
    }
   ],
   "source": [
    "acc_loss_graph(history_cnn_word2vec.history)"
   ]
  },
  {
   "cell_type": "code",
   "execution_count": 332,
   "id": "584249da",
   "metadata": {},
   "outputs": [
    {
     "name": "stdout",
     "output_type": "stream",
     "text": [
      "WARNING:tensorflow:Layer lstm_11 will not use cuDNN kernels since it doesn't meet the criteria. It will use a generic GPU kernel as fallback when running on GPU.\n",
      "Epoch 1/20\n",
      "188/188 [==============================] - 33s 167ms/step - loss: 0.6366 - accuracy: 0.6371 - val_loss: 0.5089 - val_accuracy: 0.7568\n",
      "Epoch 2/20\n",
      "188/188 [==============================] - 31s 165ms/step - loss: 0.5165 - accuracy: 0.7642 - val_loss: 0.4204 - val_accuracy: 0.8089\n",
      "Epoch 3/20\n",
      "188/188 [==============================] - 31s 166ms/step - loss: 0.4577 - accuracy: 0.8020 - val_loss: 0.3882 - val_accuracy: 0.8260\n",
      "Epoch 4/20\n",
      "188/188 [==============================] - 32s 168ms/step - loss: 0.4235 - accuracy: 0.8183 - val_loss: 0.3656 - val_accuracy: 0.8390\n",
      "Epoch 5/20\n",
      "188/188 [==============================] - 31s 163ms/step - loss: 0.4013 - accuracy: 0.8304 - val_loss: 0.3539 - val_accuracy: 0.8447\n",
      "Epoch 6/20\n",
      "188/188 [==============================] - 31s 163ms/step - loss: 0.3852 - accuracy: 0.8406 - val_loss: 0.3471 - val_accuracy: 0.8491\n",
      "Epoch 7/20\n",
      "188/188 [==============================] - 31s 165ms/step - loss: 0.3722 - accuracy: 0.8469 - val_loss: 0.3426 - val_accuracy: 0.8512\n",
      "Epoch 8/20\n",
      "188/188 [==============================] - 31s 164ms/step - loss: 0.3606 - accuracy: 0.8514 - val_loss: 0.3382 - val_accuracy: 0.8503\n",
      "Epoch 9/20\n",
      "188/188 [==============================] - 31s 165ms/step - loss: 0.3513 - accuracy: 0.8548 - val_loss: 0.3369 - val_accuracy: 0.8540\n",
      "Epoch 10/20\n",
      "188/188 [==============================] - 31s 165ms/step - loss: 0.3438 - accuracy: 0.8584 - val_loss: 0.3366 - val_accuracy: 0.8538\n",
      "Epoch 11/20\n",
      "188/188 [==============================] - 31s 166ms/step - loss: 0.3338 - accuracy: 0.8629 - val_loss: 0.3366 - val_accuracy: 0.8563\n",
      "Epoch 12/20\n",
      "188/188 [==============================] - 32s 172ms/step - loss: 0.3295 - accuracy: 0.8643 - val_loss: 0.3357 - val_accuracy: 0.8557\n",
      "Epoch 13/20\n",
      "188/188 [==============================] - 31s 167ms/step - loss: 0.3204 - accuracy: 0.8683 - val_loss: 0.3398 - val_accuracy: 0.8580\n",
      "Epoch 14/20\n",
      "188/188 [==============================] - 31s 164ms/step - loss: 0.3164 - accuracy: 0.8700 - val_loss: 0.3371 - val_accuracy: 0.8578\n",
      "Epoch 15/20\n",
      "188/188 [==============================] - 31s 165ms/step - loss: 0.3114 - accuracy: 0.8722 - val_loss: 0.3414 - val_accuracy: 0.8576\n"
     ]
    }
   ],
   "source": [
    "model = tf.keras.Sequential()\n",
    "\n",
    "model.add(tf.keras.layers.Embedding(vocab_size, \n",
    "                                 word_vector_dim, \n",
    "                                 embeddings_initializer=Constant(embedding_matrix),  # 카피한 임베딩을 여기서 활용\n",
    "                                 input_length=maxlen, \n",
    "                                 trainable=True))  \n",
    "model.add(tf.keras.layers.LSTM(32, dropout=0.2, recurrent_dropout=0.3))\n",
    "model.add(tf.keras.layers.Dense(16,activation=\"relu\"))\n",
    "model.add(tf.keras.layers.Dropout(0.5))\n",
    "model.add(tf.keras.layers.Dense(1,activation=\"sigmoid\"))\n",
    "\n",
    "callback = tf.keras.callbacks.EarlyStopping(monitor='val_loss',patience=3,restore_best_weights=True)\n",
    "\n",
    "model = compile_model(model)\n",
    "\n",
    "history_lstm_word2vec = model.fit(partial_x_train,\n",
    "                    partial_y_train,\n",
    "                    epochs=20,\n",
    "                    batch_size=512,\n",
    "                    validation_data=(x_val, y_val),\n",
    "                    callbacks=[callback])"
   ]
  },
  {
   "cell_type": "code",
   "execution_count": 333,
   "id": "e9059b78",
   "metadata": {},
   "outputs": [
    {
     "name": "stdout",
     "output_type": "stream",
     "text": [
      "1537/1537 - 18s - loss: 0.3425 - accuracy: 0.8534\n",
      "[0.34247010946273804, 0.8534491658210754]\n"
     ]
    }
   ],
   "source": [
    "result_lstm_word2vec = model.evaluate(X_test,  y_test, verbose=2)\n",
    "\n",
    "print(result_lstm_word2vec)"
   ]
  },
  {
   "cell_type": "code",
   "execution_count": 334,
   "id": "42162fa3",
   "metadata": {},
   "outputs": [
    {
     "data": {
      "image/png": "[encoded data removed]",
      "text/plain": [
       "<Figure size 864x360 with 2 Axes>"
      ]
     },
     "metadata": {
      "needs_background": "light"
     },
     "output_type": "display_data"
    }
   ],
   "source": [
    "acc_loss_graph(history_lstm_word2vec.history)"
   ]
  },
  {
   "cell_type": "markdown",
   "id": "88724e4b",
   "metadata": {},
   "source": [
    "### 0.8403 -> 0.8543 (1.5% 성능향상) \n",
    "\n",
    "# LSTM + Word2Vec / acc : 0.8534 - Best"
   ]
  },
  {
   "cell_type": "markdown",
   "id": "daaff662",
   "metadata": {},
   "source": [
    "## CNN은 word2vec을 적용하면 성능이 떨어지고 LSTM은 올라간다 ?\n",
    "\n",
    "### Word2Vec은 단어 간 의미 관계를 벡터로 표현한 것 문장 내 순서나 문맥 흐름은 담고 있지 않음\n",
    "### 순서를 학습하는 LSTM이 잘 활용\n",
    "### 지역 패턴만 보는 CNN은 오히려 방해"
   ]
  },
  {
   "cell_type": "markdown",
   "id": "aa163257",
   "metadata": {},
   "source": [
    "# 회고\n",
    "---\n",
    "무조건 LSTM이 최고일 줄 알았지만 오히려 word2vec을 적용시키기 전에는 1DCNN이 훨씬 성능과 속도측면에 좋았던 것이 놀라웠다.\n",
    "단어 임베딩의 단어 유사도를 조사할 때 자체 학습한 모델은 \"영회\"라는 단어를 볼 수 있엇는데 실제로 \"영화\" -> \"영회\"로 오타가 나는 경우가 많을 것 같다.\n",
    "이 부분은 오히려 제대로 학습못한 자체학습 모델이 더 잘 잡아낸게 아닐까? 라는 생각이 들었다."
   ]
  }
 ],
 "metadata": {
  "kernelspec": {
   "display_name": "Python 3 (ipykernel)",
   "language": "python",
   "name": "python3"
  },
  "language_info": {
   "codemirror_mode": {
    "name": "ipython",
    "version": 3
   },
   "file_extension": ".py",
   "mimetype": "text/x-python",
   "name": "python",
   "nbconvert_exporter": "python",
   "pygments_lexer": "ipython3",
   "version": "3.9.7"
  }
 },
 "nbformat": 4,
 "nbformat_minor": 5
}
