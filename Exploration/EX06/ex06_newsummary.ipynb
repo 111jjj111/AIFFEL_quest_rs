{
 "cells": [
  {
   "cell_type": "markdown",
   "id": "4f9bbb94",
   "metadata": {},
   "source": [
    "### 필요한 패키지 임포트"
   ]
  },
  {
   "cell_type": "code",
   "execution_count": 1,
   "id": "6cd7d197",
   "metadata": {},
   "outputs": [
    {
     "name": "stdout",
     "output_type": "stream",
     "text": [
      "3.6.5\n",
      "2.6.0\n",
      "1.3.3\n",
      "1.2.0\n"
     ]
    }
   ],
   "source": [
    "from importlib.metadata import version\n",
    "import nltk\n",
    "import tensorflow\n",
    "import summa\n",
    "import pandas as pd\n",
    "\n",
    "print(nltk.__version__)\n",
    "print(tensorflow.__version__)\n",
    "print(pd.__version__)\n",
    "print(version('summa'))"
   ]
  },
  {
   "cell_type": "markdown",
   "id": "730e410b",
   "metadata": {},
   "source": [
    "# Step 1. 데이터 수집하기"
   ]
  },
  {
   "cell_type": "code",
   "execution_count": 17,
   "id": "656ce76a",
   "metadata": {},
   "outputs": [
    {
     "name": "stdout",
     "output_type": "stream",
     "text": [
      "전체 샘플수 : 98401\n"
     ]
    }
   ],
   "source": [
    "import urllib.request\n",
    "urllib.request.urlretrieve(\"https://raw.githubusercontent.com/sunnysai12345/News_Summary/master/news_summary_more.csv\", filename=\"news_summary_more.csv\")\n",
    "data = pd.read_csv('news_summary_more.csv', encoding='iso-8859-1')\n",
    "print('전체 샘플수 :', (len(data)))"
   ]
  },
  {
   "cell_type": "code",
   "execution_count": 25,
   "id": "8a4e7c53",
   "metadata": {},
   "outputs": [
    {
     "name": "stdout",
     "output_type": "stream",
     "text": [
      "<class 'pandas.core.frame.DataFrame'>\n",
      "Int64Index: 98262 entries, 0 to 98400\n",
      "Data columns (total 2 columns):\n",
      " #   Column     Non-Null Count  Dtype \n",
      "---  ------     --------------  ----- \n",
      " 0   headlines  98262 non-null  object\n",
      " 1   text       98262 non-null  object\n",
      "dtypes: object(2)\n",
      "memory usage: 2.2+ MB\n"
     ]
    }
   ],
   "source": [
    "data.info()"
   ]
  },
  {
   "cell_type": "markdown",
   "id": "9ac21d61",
   "metadata": {},
   "source": [
    "null값은 없는걸 확인할 수 있다."
   ]
  },
  {
   "cell_type": "code",
   "execution_count": 27,
   "id": "a6666559",
   "metadata": {},
   "outputs": [
    {
     "data": {
      "text/html": [
       "<div>\n",
       "<style scoped>\n",
       "    .dataframe tbody tr th:only-of-type {\n",
       "        vertical-align: middle;\n",
       "    }\n",
       "\n",
       "    .dataframe tbody tr th {\n",
       "        vertical-align: top;\n",
       "    }\n",
       "\n",
       "    .dataframe thead th {\n",
       "        text-align: right;\n",
       "    }\n",
       "</style>\n",
       "<table border=\"1\" class=\"dataframe\">\n",
       "  <thead>\n",
       "    <tr style=\"text-align: right;\">\n",
       "      <th></th>\n",
       "      <th>headlines</th>\n",
       "      <th>text</th>\n",
       "    </tr>\n",
       "  </thead>\n",
       "  <tbody>\n",
       "    <tr>\n",
       "      <th>0</th>\n",
       "      <td>upGrad learner switches to career in ML &amp; Al w...</td>\n",
       "      <td>Saurav Kant, an alumnus of upGrad and IIIT-B's...</td>\n",
       "    </tr>\n",
       "    <tr>\n",
       "      <th>1</th>\n",
       "      <td>Delhi techie wins free food from Swiggy for on...</td>\n",
       "      <td>Kunal Shah's credit card bill payment platform...</td>\n",
       "    </tr>\n",
       "    <tr>\n",
       "      <th>2</th>\n",
       "      <td>New Zealand end Rohit Sharma-led India's 12-ma...</td>\n",
       "      <td>New Zealand defeated India by 8 wickets in the...</td>\n",
       "    </tr>\n",
       "    <tr>\n",
       "      <th>3</th>\n",
       "      <td>Aegon life iTerm insurance plan helps customer...</td>\n",
       "      <td>With Aegon Life iTerm Insurance plan, customer...</td>\n",
       "    </tr>\n",
       "    <tr>\n",
       "      <th>4</th>\n",
       "      <td>Have known Hirani for yrs, what if MeToo claim...</td>\n",
       "      <td>Speaking about the sexual harassment allegatio...</td>\n",
       "    </tr>\n",
       "  </tbody>\n",
       "</table>\n",
       "</div>"
      ],
      "text/plain": [
       "                                           headlines  \\\n",
       "0  upGrad learner switches to career in ML & Al w...   \n",
       "1  Delhi techie wins free food from Swiggy for on...   \n",
       "2  New Zealand end Rohit Sharma-led India's 12-ma...   \n",
       "3  Aegon life iTerm insurance plan helps customer...   \n",
       "4  Have known Hirani for yrs, what if MeToo claim...   \n",
       "\n",
       "                                                text  \n",
       "0  Saurav Kant, an alumnus of upGrad and IIIT-B's...  \n",
       "1  Kunal Shah's credit card bill payment platform...  \n",
       "2  New Zealand defeated India by 8 wickets in the...  \n",
       "3  With Aegon Life iTerm Insurance plan, customer...  \n",
       "4  Speaking about the sexual harassment allegatio...  "
      ]
     },
     "execution_count": 27,
     "metadata": {},
     "output_type": "execute_result"
    }
   ],
   "source": [
    "data.head()"
   ]
  },
  {
   "cell_type": "markdown",
   "id": "1182bde9",
   "metadata": {},
   "source": [
    "# Step 2. 데이터 전처리하기 (추상적 요약)"
   ]
  },
  {
   "cell_type": "markdown",
   "id": "32177ec7",
   "metadata": {},
   "source": [
    "1. 결측치/중복 제거\n",
    "\n",
    "2. 텍스트 정제\n",
    "\n",
    "3. 길이 제한 적용\n",
    "\n",
    "4. train/test 나누기\n",
    "\n",
    "5. Tokenizer 학습\n",
    "\n",
    "6. 단어 집합 크기 제한 (num_words)\n",
    "\n",
    "7. 정수 인코딩\n",
    "\n",
    "8. 시퀀스 패딩\n",
    "\n",
    "9. 단어 사전 생성"
   ]
  },
  {
   "cell_type": "markdown",
   "id": "ee233d9a",
   "metadata": {},
   "source": [
    "### 데이터 중복치 확인"
   ]
  },
  {
   "cell_type": "code",
   "execution_count": 19,
   "id": "c6dd0511",
   "metadata": {},
   "outputs": [
    {
     "name": "stdout",
     "output_type": "stream",
     "text": [
      "headlines unique:98280\n",
      "text unique:98360\n"
     ]
    }
   ],
   "source": [
    "print(f\"headlines unique:{data['headlines'].nunique()}\")\n",
    "print(f\"text unique:{data['text'].nunique()}\")"
   ]
  },
  {
   "cell_type": "markdown",
   "id": "47330bdc",
   "metadata": {},
   "source": [
    "### 데이터 중복치 제거"
   ]
  },
  {
   "cell_type": "code",
   "execution_count": 22,
   "id": "2d91c70f",
   "metadata": {},
   "outputs": [
    {
     "name": "stdout",
     "output_type": "stream",
     "text": [
      "전체 샘플수 : 98262\n"
     ]
    }
   ],
   "source": [
    "data.drop_duplicates(subset = ['headlines'], inplace=True)\n",
    "data.drop_duplicates(subset = ['text'], inplace=True)\n",
    "\n",
    "print('전체 샘플수 :', (len(data)))"
   ]
  },
  {
   "cell_type": "markdown",
   "id": "106436bd",
   "metadata": {},
   "source": [
    "## text normalization (텍스트 정규화)"
   ]
  },
  {
   "cell_type": "code",
   "execution_count": 24,
   "id": "5df88f0a",
   "metadata": {},
   "outputs": [
    {
     "name": "stdout",
     "output_type": "stream",
     "text": [
      "정규화 사전의 수:  120\n"
     ]
    }
   ],
   "source": [
    "contractions = {\"ain't\": \"is not\", \"aren't\": \"are not\",\"can't\": \"cannot\", \"'cause\": \"because\", \"could've\": \"could have\", \"couldn't\": \"could not\",\n",
    "                           \"didn't\": \"did not\",  \"doesn't\": \"does not\", \"don't\": \"do not\", \"hadn't\": \"had not\", \"hasn't\": \"has not\", \"haven't\": \"have not\",\n",
    "                           \"he'd\": \"he would\",\"he'll\": \"he will\", \"he's\": \"he is\", \"how'd\": \"how did\", \"how'd'y\": \"how do you\", \"how'll\": \"how will\", \"how's\": \"how is\",\n",
    "                           \"I'd\": \"I would\", \"I'd've\": \"I would have\", \"I'll\": \"I will\", \"I'll've\": \"I will have\",\"I'm\": \"I am\", \"I've\": \"I have\", \"i'd\": \"i would\",\n",
    "                           \"i'd've\": \"i would have\", \"i'll\": \"i will\",  \"i'll've\": \"i will have\",\"i'm\": \"i am\", \"i've\": \"i have\", \"isn't\": \"is not\", \"it'd\": \"it would\",\n",
    "                           \"it'd've\": \"it would have\", \"it'll\": \"it will\", \"it'll've\": \"it will have\",\"it's\": \"it is\", \"let's\": \"let us\", \"ma'am\": \"madam\",\n",
    "                           \"mayn't\": \"may not\", \"might've\": \"might have\",\"mightn't\": \"might not\",\"mightn't've\": \"might not have\", \"must've\": \"must have\",\n",
    "                           \"mustn't\": \"must not\", \"mustn't've\": \"must not have\", \"needn't\": \"need not\", \"needn't've\": \"need not have\",\"o'clock\": \"of the clock\",\n",
    "                           \"oughtn't\": \"ought not\", \"oughtn't've\": \"ought not have\", \"shan't\": \"shall not\", \"sha'n't\": \"shall not\", \"shan't've\": \"shall not have\",\n",
    "                           \"she'd\": \"she would\", \"she'd've\": \"she would have\", \"she'll\": \"she will\", \"she'll've\": \"she will have\", \"she's\": \"she is\",\n",
    "                           \"should've\": \"should have\", \"shouldn't\": \"should not\", \"shouldn't've\": \"should not have\", \"so've\": \"so have\",\"so's\": \"so as\",\n",
    "                           \"this's\": \"this is\",\"that'd\": \"that would\", \"that'd've\": \"that would have\", \"that's\": \"that is\", \"there'd\": \"there would\",\n",
    "                           \"there'd've\": \"there would have\", \"there's\": \"there is\", \"here's\": \"here is\",\"they'd\": \"they would\", \"they'd've\": \"they would have\",\n",
    "                           \"they'll\": \"they will\", \"they'll've\": \"they will have\", \"they're\": \"they are\", \"they've\": \"they have\", \"to've\": \"to have\",\n",
    "                           \"wasn't\": \"was not\", \"we'd\": \"we would\", \"we'd've\": \"we would have\", \"we'll\": \"we will\", \"we'll've\": \"we will have\", \"we're\": \"we are\",\n",
    "                           \"we've\": \"we have\", \"weren't\": \"were not\", \"what'll\": \"what will\", \"what'll've\": \"what will have\", \"what're\": \"what are\",\n",
    "                           \"what's\": \"what is\", \"what've\": \"what have\", \"when's\": \"when is\", \"when've\": \"when have\", \"where'd\": \"where did\", \"where's\": \"where is\",\n",
    "                           \"where've\": \"where have\", \"who'll\": \"who will\", \"who'll've\": \"who will have\", \"who's\": \"who is\", \"who've\": \"who have\",\n",
    "                           \"why's\": \"why is\", \"why've\": \"why have\", \"will've\": \"will have\", \"won't\": \"will not\", \"won't've\": \"will not have\",\n",
    "                           \"would've\": \"would have\", \"wouldn't\": \"would not\", \"wouldn't've\": \"would not have\", \"y'all\": \"you all\",\n",
    "                           \"y'all'd\": \"you all would\",\"y'all'd've\": \"you all would have\",\"y'all're\": \"you all are\",\"y'all've\": \"you all have\",\n",
    "                           \"you'd\": \"you would\", \"you'd've\": \"you would have\", \"you'll\": \"you will\", \"you'll've\": \"you will have\",\n",
    "                           \"you're\": \"you are\", \"you've\": \"you have\"}\n",
    "\n",
    "print(\"정규화 사전의 수: \", len(contractions))"
   ]
  },
  {
   "cell_type": "markdown",
   "id": "bac4dcf1",
   "metadata": {},
   "source": [
    "### 불용어처리 수행여부 확인을 위해 데이터 내용검토"
   ]
  },
  {
   "cell_type": "code",
   "execution_count": 29,
   "id": "1ed5fa9b",
   "metadata": {},
   "outputs": [
    {
     "name": "stdout",
     "output_type": "stream",
     "text": [
      "                                                             headlines  \\\n",
      "0    upGrad learner switches to career in ML & Al with 90% salary hike   \n",
      "1         Delhi techie wins free food from Swiggy for one year on CRED   \n",
      "2     New Zealand end Rohit Sharma-led India's 12-match winning streak   \n",
      "3             Aegon life iTerm insurance plan helps customers save tax   \n",
      "4  Have known Hirani for yrs, what if MeToo claims are not true: Sonam   \n",
      "\n",
      "                                                                                                                                                                                                                                                                                                                                                                                      text  \n",
      "0  Saurav Kant, an alumnus of upGrad and IIIT-B's PG Program in Machine learning and Artificial Intelligence, was a Sr Systems Engineer at Infosys with almost 5 years of work experience. The program and upGrad's 360-degree career support helped him transition to a Data Scientist at Tech Mahindra with 90% salary hike. upGrad's Online Power Learning has powered 3 lakh+ careers.  \n",
      "1                              Kunal Shah's credit card bill payment platform, CRED, gave users a chance to win free food from Swiggy for one year. Pranav Kaushik, a Delhi techie, bagged this reward after spending 2000 CRED coins. Users get one CRED coin per rupee of bill paid, which can be used to avail rewards from brands like Ixigo, BookMyShow, UberEats, Cult.Fit and more.  \n",
      "2                 New Zealand defeated India by 8 wickets in the fourth ODI at Hamilton on Thursday to win their first match of the five-match ODI series. India lost an international match under Rohit Sharma's captaincy after 12 consecutive victories dating back to March 2018. The match witnessed India getting all out for 92, their seventh lowest total in ODI cricket history.  \n",
      "3                               With Aegon Life iTerm Insurance plan, customers can enjoy tax benefits on your premiums paid and save up to Ã¢ÂÂ¹46,800^ on taxes. The plan provides life cover up to the age of 100 years. Also, customers have options to insure against Critical Illnesses, Disability and Accidental Death Benefit Rider with a life cover up to the age of 80 years.  \n",
      "4       Speaking about the sexual harassment allegations against Rajkumar Hirani, Sonam Kapoor said, \"I've known Hirani for many years...What if it's not true, the [#MeToo] movement will get derailed.\" \"In the #MeToo movement, I always believe a woman. But in this case, we need to reserve our judgment,\" she added. Hirani has been accused by an assistant who worked in 'Sanju'.  \n"
     ]
    }
   ],
   "source": [
    "pd.set_option('display.max_colwidth', None)\n",
    "\n",
    "print(data.head())"
   ]
  },
  {
   "cell_type": "markdown",
   "id": "6f2a7484",
   "metadata": {},
   "source": [
    "### text에 불용어처리만 수행 결정"
   ]
  },
  {
   "cell_type": "code",
   "execution_count": 31,
   "id": "4c4811de",
   "metadata": {},
   "outputs": [
    {
     "name": "stdout",
     "output_type": "stream",
     "text": [
      "불용어 개수 : 198\n",
      "['a', 'about', 'above', 'after', 'again', 'against', 'ain', 'all', 'am', 'an', 'and', 'any', 'are', 'aren', \"aren't\", 'as', 'at', 'be', 'because', 'been', 'before', 'being', 'below', 'between', 'both', 'but', 'by', 'can', 'couldn', \"couldn't\", 'd', 'did', 'didn', \"didn't\", 'do', 'does', 'doesn', \"doesn't\", 'doing', 'don', \"don't\", 'down', 'during', 'each', 'few', 'for', 'from', 'further', 'had', 'hadn', \"hadn't\", 'has', 'hasn', \"hasn't\", 'have', 'haven', \"haven't\", 'having', 'he', \"he'd\", \"he'll\", 'her', 'here', 'hers', 'herself', \"he's\", 'him', 'himself', 'his', 'how', 'i', \"i'd\", 'if', \"i'll\", \"i'm\", 'in', 'into', 'is', 'isn', \"isn't\", 'it', \"it'd\", \"it'll\", \"it's\", 'its', 'itself', \"i've\", 'just', 'll', 'm', 'ma', 'me', 'mightn', \"mightn't\", 'more', 'most', 'mustn', \"mustn't\", 'my', 'myself', 'needn', \"needn't\", 'no', 'nor', 'not', 'now', 'o', 'of', 'off', 'on', 'once', 'only', 'or', 'other', 'our', 'ours', 'ourselves', 'out', 'over', 'own', 're', 's', 'same', 'shan', \"shan't\", 'she', \"she'd\", \"she'll\", \"she's\", 'should', 'shouldn', \"shouldn't\", \"should've\", 'so', 'some', 'such', 't', 'than', 'that', \"that'll\", 'the', 'their', 'theirs', 'them', 'themselves', 'then', 'there', 'these', 'they', \"they'd\", \"they'll\", \"they're\", \"they've\", 'this', 'those', 'through', 'to', 'too', 'under', 'until', 'up', 've', 'very', 'was', 'wasn', \"wasn't\", 'we', \"we'd\", \"we'll\", \"we're\", 'were', 'weren', \"weren't\", \"we've\", 'what', 'when', 'where', 'which', 'while', 'who', 'whom', 'why', 'will', 'with', 'won', \"won't\", 'wouldn', \"wouldn't\", 'y', 'you', \"you'd\", \"you'll\", 'your', \"you're\", 'yours', 'yourself', 'yourselves', \"you've\"]\n"
     ]
    }
   ],
   "source": [
    "from nltk.corpus import stopwords\n",
    "print('불용어 개수 :', len(stopwords.words('english') ))\n",
    "print(stopwords.words('english'))"
   ]
  },
  {
   "cell_type": "markdown",
   "id": "ddb66c84",
   "metadata": {},
   "source": [
    "### text피처 불용어 처리 및 데이터전치리 함수"
   ]
  },
  {
   "cell_type": "code",
   "execution_count": 36,
   "id": "59beb9fa",
   "metadata": {},
   "outputs": [],
   "source": [
    "import re\n",
    "# 데이터 전처리 함수\n",
    "def preprocess_sentence(sentence, remove_stopwords=True):\n",
    "    sentence = sentence.lower() # 텍스트 소문자화\n",
    "    sentence = re.sub(r'\\([^)]*\\)', '', sentence) # 괄호로 닫힌 문자열 (...) 제거 Ex) my husband (and myself!) for => my husband for\n",
    "    sentence = re.sub('\"','', sentence) # 쌍따옴표 \" 제거\n",
    "    sentence = ' '.join([contractions[t] if t in contractions else t for t in sentence.split(\" \")]) # 약어 정규화\n",
    "    sentence = re.sub(r\"'s\\b\",\"\", sentence) # 소유격 제거. Ex) roland's -> roland\n",
    "    sentence = re.sub(\"[^a-zA-Z]\", \" \", sentence) # 영어 외 문자(숫자, 특수문자 등) 공백으로 변환\n",
    "    sentence = re.sub('[m]{2,}', 'mm', sentence) # m이 3개 이상이면 2개로 변경. Ex) ummmmmmm yeah -> umm yeah\n",
    "    \n",
    "    # 불용어 제거 (text)\n",
    "    if remove_stopwords:\n",
    "        tokens = ' '.join(word for word in sentence.split() if not word in stopwords.words('english') if len(word) > 1)\n",
    "    # 불용어 미제거 (headlines)\n",
    "    else:\n",
    "        tokens = ' '.join(word for word in sentence.split() if len(word) > 1)\n",
    "    return tokens"
   ]
  },
  {
   "cell_type": "code",
   "execution_count": 38,
   "id": "9cf4c165",
   "metadata": {},
   "outputs": [
    {
     "name": "stdout",
     "output_type": "stream",
     "text": [
      "text:  saurav kant alumnus upgrad iiit pg program machine learning artificial intelligence sr systems engineer infosys almost years work experience program upgrad degree career support helped transition data scientist tech mahindra salary hike upgrad online power learning powered lakh careers\n",
      "summary: upgrad learner switches to career in ml al with salary hike\n"
     ]
    }
   ],
   "source": [
    "test_text = data[\"text\"][0]\n",
    "test_headlines = data[\"headlines\"][0]\n",
    "\n",
    "print(\"text: \", preprocess_sentence(test_text))\n",
    "print(\"summary:\", preprocess_sentence(test_headlines, False))"
   ]
  },
  {
   "cell_type": "code",
   "execution_count": 39,
   "id": "991e0a5b",
   "metadata": {},
   "outputs": [
    {
     "name": "stdout",
     "output_type": "stream",
     "text": [
      "text 전처리 후 결과:  ['saurav kant alumnus upgrad iiit pg program machine learning artificial intelligence sr systems engineer infosys almost years work experience program upgrad degree career support helped transition data scientist tech mahindra salary hike upgrad online power learning powered lakh careers', 'kunal shah credit card bill payment platform cred gave users chance win free food swiggy one year pranav kaushik delhi techie bagged reward spending cred coins users get one cred coin per rupee bill paid used avail rewards brands like ixigo bookmyshow ubereats cult fit', 'new zealand defeated india wickets fourth odi hamilton thursday win first match five match odi series india lost international match rohit sharma captaincy consecutive victories dating back march match witnessed india getting seventh lowest total odi cricket history', 'aegon life iterm insurance plan customers enjoy tax benefits premiums paid save taxes plan provides life cover age years also customers options insure critical illnesses disability accidental death benefit rider life cover age years', 'speaking sexual harassment allegations rajkumar hirani sonam kapoor said known hirani many years true metoo movement get derailed metoo movement always believe woman case need reserve judgment added hirani accused assistant worked sanju']\n",
      "headline 전처리 후 결과:  ['upgrad learner switches career ml al salary hike', 'delhi techie wins free food swiggy one year cred', 'new zealand end rohit sharma led india match winning streak', 'aegon life iterm insurance plan helps customers save tax', 'known hirani yrs metoo claims true sonam']\n"
     ]
    }
   ],
   "source": [
    "clean_text = []\n",
    "\n",
    "for sentence in data['text']:\n",
    "    clean_text.append(preprocess_sentence(sentence))\n",
    "\n",
    "clean_headlines = []\n",
    "\n",
    "for headline in data['headlines']:\n",
    "    clean_headlines.append(preprocess_sentence(headline))\n",
    "    \n",
    "print(\"text 전처리 후 결과: \", clean_text[:5])\n",
    "print(\"headline 전처리 후 결과: \", clean_headlines[:5])"
   ]
  },
  {
   "cell_type": "markdown",
   "id": "63c1c3ae",
   "metadata": {},
   "source": [
    "### 데이터 정제 후 문장이 통으로 날라가는 경우가 있어 Null값을 재확인 "
   ]
  },
  {
   "cell_type": "code",
   "execution_count": 40,
   "id": "07d4dc02",
   "metadata": {},
   "outputs": [],
   "source": [
    "data['text'] = clean_text\n",
    "data['headlines'] = clean_headlines"
   ]
  },
  {
   "cell_type": "code",
   "execution_count": 41,
   "id": "fc958fe4",
   "metadata": {},
   "outputs": [
    {
     "data": {
      "text/plain": [
       "headlines    0\n",
       "text         0\n",
       "dtype: int64"
      ]
     },
     "execution_count": 41,
     "metadata": {},
     "output_type": "execute_result"
    }
   ],
   "source": [
    "data.isnull().sum()"
   ]
  },
  {
   "cell_type": "markdown",
   "id": "dc42bdde",
   "metadata": {},
   "source": [
    "### 최대 길이 제한 적용"
   ]
  },
  {
   "cell_type": "markdown",
   "id": "0bfd5d4e",
   "metadata": {},
   "source": [
    "통계적인 정보 확인 함수"
   ]
  },
  {
   "cell_type": "code",
   "execution_count": 48,
   "id": "0c1f3389",
   "metadata": {},
   "outputs": [],
   "source": [
    "import matplotlib.pyplot as plt\n",
    "import numpy as np\n",
    "\n",
    "def length_stat(df, col1, col2):\n",
    "    len1 = [len(s.split()) for s in df[col1]]\n",
    "    len2 = [len(s.split()) for s in df[col2]]\n",
    "\n",
    "    print(f'{col1}의 최소 길이 : {np.min(len1)}')\n",
    "    print(f'{col1}의 최대 길이 : {np.max(len1)}')\n",
    "    print(f'{col1}의 평균 길이 : {np.mean(len1):.2f}')\n",
    "    print(f'{col2}의 최소 길이 : {np.min(len2)}')\n",
    "    print(f'{col2}의 최대 길이 : {np.max(len2)}')\n",
    "    print(f'{col2}의 평균 길이 : {np.mean(len2):.2f}')\n",
    "    \n",
    "    # Boxplot\n",
    "    plt.figure(figsize=(10, 4))\n",
    "    plt.subplot(1, 2, 1)\n",
    "    plt.boxplot(len1)\n",
    "    plt.title(col1)\n",
    "    \n",
    "    plt.subplot(1, 2, 2)\n",
    "    plt.boxplot(len2)\n",
    "    plt.title(col2)\n",
    "    plt.tight_layout()\n",
    "    plt.show()\n",
    "    \n",
    "    # Histogram 1\n",
    "    plt.figure()\n",
    "    plt.title(col1)\n",
    "    plt.hist(len1, bins=40)\n",
    "    plt.xlabel('length of samples')\n",
    "    plt.ylabel('number of samples')\n",
    "    plt.show()\n",
    "    \n",
    "    # Histogram 2\n",
    "    plt.figure()\n",
    "    plt.title(col2)\n",
    "    plt.hist(len2, bins=40)\n",
    "    plt.xlabel('length of samples')\n",
    "    plt.ylabel('number of samples')\n",
    "    plt.show()"
   ]
  },
  {
   "cell_type": "code",
   "execution_count": 49,
   "id": "5beff2a3",
   "metadata": {},
   "outputs": [
    {
     "name": "stdout",
     "output_type": "stream",
     "text": [
      "text의 최소 길이 : 1\n",
      "text의 최대 길이 : 60\n",
      "text의 평균 길이 : 35.10\n",
      "headlines의 최소 길이 : 1\n",
      "headlines의 최대 길이 : 13\n",
      "headlines의 평균 길이 : 7.14\n"
     ]
    },
    {
     "data": {
      "image/png": "[encoded data removed]",
      "text/plain": [
       "<Figure size 720x288 with 2 Axes>"
      ]
     },
     "metadata": {
      "needs_background": "light"
     },
     "output_type": "display_data"
    },
    {
     "data": {
      "image/png": "[encoded data removed]",
      "text/plain": [
       "<Figure size 432x288 with 1 Axes>"
      ]
     },
     "metadata": {
      "needs_background": "light"
     },
     "output_type": "display_data"
    },
    {
     "data": {
      "image/png": "[encoded data removed]",
      "text/plain": [
       "<Figure size 432x288 with 1 Axes>"
      ]
     },
     "metadata": {
      "needs_background": "light"
     },
     "output_type": "display_data"
    }
   ],
   "source": [
    "length_stat(data, 'text', 'headlines')"
   ]
  },
  {
   "cell_type": "markdown",
   "id": "8060c055",
   "metadata": {},
   "source": [
    "일단 데이터가 이미 잘 정리되어있는 데이터인 것 같다.\n",
    "\n",
    "정규분포로 깔끔하게 나와있는것을 확인할 수 있다.\n",
    "\n",
    "히스토그램에서 확인할 수 있듯이 50을 넘기면 시각적으로 확인이 안되는 수준이기 때문에\n",
    "\n",
    "text_max = 50\n",
    "\n",
    "headlien_max = 10으로 설정하면 적절할 듯 하다."
   ]
  },
  {
   "cell_type": "code",
   "execution_count": 61,
   "id": "88237b66",
   "metadata": {},
   "outputs": [],
   "source": [
    "text_max_len = 50\n",
    "headline_max_len = 10"
   ]
  },
  {
   "cell_type": "code",
   "execution_count": 62,
   "id": "ca201e52",
   "metadata": {},
   "outputs": [],
   "source": [
    "def below_threshold_len(max_len, nested_list):\n",
    "  cnt = 0\n",
    "  for s in nested_list:\n",
    "    if(len(s.split()) <= max_len):\n",
    "        cnt = cnt + 1\n",
    "  print('전체 샘플 중 길이가 %s 이하인 샘플의 비율: %s'%(max_len, (cnt / len(nested_list))))\n"
   ]
  },
  {
   "cell_type": "code",
   "execution_count": 63,
   "id": "beb07b11",
   "metadata": {},
   "outputs": [
    {
     "name": "stdout",
     "output_type": "stream",
     "text": [
      "전체 샘플 중 길이가 50 이하인 샘플의 비율: 0.999857523763001\n",
      "전체 샘플 중 길이가 10 이하인 샘플의 비율: 0.9978323258228002\n"
     ]
    }
   ],
   "source": [
    "below_threshold_len(text_max_len, data['text'])\n",
    "below_threshold_len(headline_max_len,  data['headlines'])"
   ]
  },
  {
   "cell_type": "markdown",
   "id": "7753d6be",
   "metadata": {},
   "source": [
    "거의 100%의 데이터를 사용한다."
   ]
  },
  {
   "cell_type": "markdown",
   "id": "3e59bf8b",
   "metadata": {},
   "source": [
    "지정한 최대길이보다 긴 데이터를 잘라준다."
   ]
  },
  {
   "cell_type": "code",
   "execution_count": 68,
   "id": "4896a9df",
   "metadata": {},
   "outputs": [
    {
     "name": "stdout",
     "output_type": "stream",
     "text": [
      "전체 샘플수 : 98036\n"
     ]
    }
   ],
   "source": [
    "data = data[data.apply(lambda x: len(x['text'].split()) <= text_max_len \n",
    "                                  and len(x['headlines'].split()) <= headline_max_len, axis=1)]\n",
    "\n",
    "print('전체 샘플수 :', (len(data)))"
   ]
  },
  {
   "cell_type": "markdown",
   "id": "f7ebe53a",
   "metadata": {},
   "source": [
    "### SOS와 EOS 추가하기\n",
    "seq2seq 구조에서 안정성과 정확성을 위해 필요하기 때문에 시작점과 끝나는지점을 알려줄 토큰을 추가한다."
   ]
  },
  {
   "cell_type": "code",
   "execution_count": 75,
   "id": "dfa2706d",
   "metadata": {},
   "outputs": [
    {
     "name": "stderr",
     "output_type": "stream",
     "text": [
      "/tmp/ipykernel_1825/815340834.py:1: SettingWithCopyWarning: \n",
      "A value is trying to be set on a copy of a slice from a DataFrame.\n",
      "Try using .loc[row_indexer,col_indexer] = value instead\n",
      "\n",
      "See the caveats in the documentation: https://pandas.pydata.org/pandas-docs/stable/user_guide/indexing.html#returning-a-view-versus-a-copy\n",
      "  data['decoder_input'] = data['headlines'].apply(lambda x : 'sostoken ' + x)\n",
      "/tmp/ipykernel_1825/815340834.py:2: SettingWithCopyWarning: \n",
      "A value is trying to be set on a copy of a slice from a DataFrame.\n",
      "Try using .loc[row_indexer,col_indexer] = value instead\n",
      "\n",
      "See the caveats in the documentation: https://pandas.pydata.org/pandas-docs/stable/user_guide/indexing.html#returning-a-view-versus-a-copy\n",
      "  data['decoder_target'] = data['headlines'].apply(lambda x : x + ' eostoken')\n"
     ]
    },
    {
     "data": {
      "text/html": [
       "<div>\n",
       "<style scoped>\n",
       "    .dataframe tbody tr th:only-of-type {\n",
       "        vertical-align: middle;\n",
       "    }\n",
       "\n",
       "    .dataframe tbody tr th {\n",
       "        vertical-align: top;\n",
       "    }\n",
       "\n",
       "    .dataframe thead th {\n",
       "        text-align: right;\n",
       "    }\n",
       "</style>\n",
       "<table border=\"1\" class=\"dataframe\">\n",
       "  <thead>\n",
       "    <tr style=\"text-align: right;\">\n",
       "      <th></th>\n",
       "      <th>headlines</th>\n",
       "      <th>text</th>\n",
       "      <th>decoder_input</th>\n",
       "      <th>decoder_output</th>\n",
       "      <th>decoder_target</th>\n",
       "    </tr>\n",
       "  </thead>\n",
       "  <tbody>\n",
       "    <tr>\n",
       "      <th>0</th>\n",
       "      <td>upgrad learner switches career ml al salary hike</td>\n",
       "      <td>saurav kant alumnus upgrad iiit pg program machine learning artificial intelligence sr systems engineer infosys almost years work experience program upgrad degree career support helped transition data scientist tech mahindra salary hike upgrad online power learning powered lakh careers</td>\n",
       "      <td>sostoken upgrad learner switches career ml al salary hike</td>\n",
       "      <td>upgrad learner switches career ml al salary hike eostoken</td>\n",
       "      <td>upgrad learner switches career ml al salary hike eostoken</td>\n",
       "    </tr>\n",
       "    <tr>\n",
       "      <th>1</th>\n",
       "      <td>delhi techie wins free food swiggy one year cred</td>\n",
       "      <td>kunal shah credit card bill payment platform cred gave users chance win free food swiggy one year pranav kaushik delhi techie bagged reward spending cred coins users get one cred coin per rupee bill paid used avail rewards brands like ixigo bookmyshow ubereats cult fit</td>\n",
       "      <td>sostoken delhi techie wins free food swiggy one year cred</td>\n",
       "      <td>delhi techie wins free food swiggy one year cred eostoken</td>\n",
       "      <td>delhi techie wins free food swiggy one year cred eostoken</td>\n",
       "    </tr>\n",
       "    <tr>\n",
       "      <th>2</th>\n",
       "      <td>new zealand end rohit sharma led india match winning streak</td>\n",
       "      <td>new zealand defeated india wickets fourth odi hamilton thursday win first match five match odi series india lost international match rohit sharma captaincy consecutive victories dating back march match witnessed india getting seventh lowest total odi cricket history</td>\n",
       "      <td>sostoken new zealand end rohit sharma led india match winning streak</td>\n",
       "      <td>new zealand end rohit sharma led india match winning streak eostoken</td>\n",
       "      <td>new zealand end rohit sharma led india match winning streak eostoken</td>\n",
       "    </tr>\n",
       "    <tr>\n",
       "      <th>3</th>\n",
       "      <td>aegon life iterm insurance plan helps customers save tax</td>\n",
       "      <td>aegon life iterm insurance plan customers enjoy tax benefits premiums paid save taxes plan provides life cover age years also customers options insure critical illnesses disability accidental death benefit rider life cover age years</td>\n",
       "      <td>sostoken aegon life iterm insurance plan helps customers save tax</td>\n",
       "      <td>aegon life iterm insurance plan helps customers save tax eostoken</td>\n",
       "      <td>aegon life iterm insurance plan helps customers save tax eostoken</td>\n",
       "    </tr>\n",
       "    <tr>\n",
       "      <th>4</th>\n",
       "      <td>known hirani yrs metoo claims true sonam</td>\n",
       "      <td>speaking sexual harassment allegations rajkumar hirani sonam kapoor said known hirani many years true metoo movement get derailed metoo movement always believe woman case need reserve judgment added hirani accused assistant worked sanju</td>\n",
       "      <td>sostoken known hirani yrs metoo claims true sonam</td>\n",
       "      <td>known hirani yrs metoo claims true sonam eostoken</td>\n",
       "      <td>known hirani yrs metoo claims true sonam eostoken</td>\n",
       "    </tr>\n",
       "  </tbody>\n",
       "</table>\n",
       "</div>"
      ],
      "text/plain": [
       "                                                     headlines  \\\n",
       "0             upgrad learner switches career ml al salary hike   \n",
       "1             delhi techie wins free food swiggy one year cred   \n",
       "2  new zealand end rohit sharma led india match winning streak   \n",
       "3     aegon life iterm insurance plan helps customers save tax   \n",
       "4                     known hirani yrs metoo claims true sonam   \n",
       "\n",
       "                                                                                                                                                                                                                                                                                             text  \\\n",
       "0  saurav kant alumnus upgrad iiit pg program machine learning artificial intelligence sr systems engineer infosys almost years work experience program upgrad degree career support helped transition data scientist tech mahindra salary hike upgrad online power learning powered lakh careers   \n",
       "1                   kunal shah credit card bill payment platform cred gave users chance win free food swiggy one year pranav kaushik delhi techie bagged reward spending cred coins users get one cred coin per rupee bill paid used avail rewards brands like ixigo bookmyshow ubereats cult fit   \n",
       "2                      new zealand defeated india wickets fourth odi hamilton thursday win first match five match odi series india lost international match rohit sharma captaincy consecutive victories dating back march match witnessed india getting seventh lowest total odi cricket history   \n",
       "3                                                        aegon life iterm insurance plan customers enjoy tax benefits premiums paid save taxes plan provides life cover age years also customers options insure critical illnesses disability accidental death benefit rider life cover age years   \n",
       "4                                                    speaking sexual harassment allegations rajkumar hirani sonam kapoor said known hirani many years true metoo movement get derailed metoo movement always believe woman case need reserve judgment added hirani accused assistant worked sanju   \n",
       "\n",
       "                                                          decoder_input  \\\n",
       "0             sostoken upgrad learner switches career ml al salary hike   \n",
       "1             sostoken delhi techie wins free food swiggy one year cred   \n",
       "2  sostoken new zealand end rohit sharma led india match winning streak   \n",
       "3     sostoken aegon life iterm insurance plan helps customers save tax   \n",
       "4                     sostoken known hirani yrs metoo claims true sonam   \n",
       "\n",
       "                                                         decoder_output  \\\n",
       "0             upgrad learner switches career ml al salary hike eostoken   \n",
       "1             delhi techie wins free food swiggy one year cred eostoken   \n",
       "2  new zealand end rohit sharma led india match winning streak eostoken   \n",
       "3     aegon life iterm insurance plan helps customers save tax eostoken   \n",
       "4                     known hirani yrs metoo claims true sonam eostoken   \n",
       "\n",
       "                                                         decoder_target  \n",
       "0             upgrad learner switches career ml al salary hike eostoken  \n",
       "1             delhi techie wins free food swiggy one year cred eostoken  \n",
       "2  new zealand end rohit sharma led india match winning streak eostoken  \n",
       "3     aegon life iterm insurance plan helps customers save tax eostoken  \n",
       "4                     known hirani yrs metoo claims true sonam eostoken  "
      ]
     },
     "execution_count": 75,
     "metadata": {},
     "output_type": "execute_result"
    }
   ],
   "source": [
    "data['decoder_input'] = data['headlines'].apply(lambda x : 'sostoken ' + x)\n",
    "data['decoder_target'] = data['headlines'].apply(lambda x : x + ' eostoken')\n",
    "data.head()"
   ]
  },
  {
   "cell_type": "markdown",
   "id": "e1dfc369",
   "metadata": {},
   "source": [
    "dataframe 복사본에 저장될 수 있다는 경고이지만 제대로 데이터에 반영되었다."
   ]
  },
  {
   "cell_type": "code",
   "execution_count": 81,
   "id": "83040d6a",
   "metadata": {},
   "outputs": [],
   "source": [
    "encoder_input = np.array(data['text']) # 인코더의 입력\n",
    "decoder_input = np.array(data['decoder_input']) # 디코더의 입력\n",
    "decoder_target = np.array(data['decoder_target']) # 디코더의 레이블"
   ]
  },
  {
   "cell_type": "markdown",
   "id": "7d0cd879",
   "metadata": {},
   "source": [
    "### 훈련데이터, 테스트데이터 분리"
   ]
  },
  {
   "cell_type": "code",
   "execution_count": 82,
   "id": "530808a0",
   "metadata": {},
   "outputs": [
    {
     "name": "stdout",
     "output_type": "stream",
     "text": [
      "[64827 90157 29541 ... 20032 47737 47974]\n"
     ]
    }
   ],
   "source": [
    "indices = np.arange(encoder_input.shape[0])\n",
    "np.random.shuffle(indices)\n",
    "print(indices)"
   ]
  },
  {
   "cell_type": "markdown",
   "id": "04292329",
   "metadata": {},
   "source": [
    "데이터 셔플"
   ]
  },
  {
   "cell_type": "code",
   "execution_count": 83,
   "id": "c2a4dc4d",
   "metadata": {},
   "outputs": [],
   "source": [
    "encoder_input = encoder_input[indices]\n",
    "decoder_input = decoder_input[indices]\n",
    "decoder_target = decoder_target[indices]"
   ]
  },
  {
   "cell_type": "code",
   "execution_count": 84,
   "id": "d338498d",
   "metadata": {},
   "outputs": [
    {
     "name": "stdout",
     "output_type": "stream",
     "text": [
      "테스트 데이터의 수 : 19607\n"
     ]
    }
   ],
   "source": [
    "n_of_val = int(len(encoder_input)*0.2)\n",
    "print('테스트 데이터의 수 :', n_of_val)"
   ]
  },
  {
   "cell_type": "markdown",
   "id": "fa503710",
   "metadata": {},
   "source": [
    "ratio 8:2"
   ]
  },
  {
   "cell_type": "code",
   "execution_count": 85,
   "id": "13b00798",
   "metadata": {},
   "outputs": [
    {
     "name": "stdout",
     "output_type": "stream",
     "text": [
      "훈련 데이터의 개수 : 78429\n",
      "훈련 레이블의 개수 : 78429\n",
      "테스트 데이터의 개수 : 19607\n",
      "테스트 레이블의 개수 : 19607\n"
     ]
    }
   ],
   "source": [
    "encoder_input_train = encoder_input[:-n_of_val]\n",
    "decoder_input_train = decoder_input[:-n_of_val]\n",
    "decoder_target_train = decoder_target[:-n_of_val]\n",
    "\n",
    "encoder_input_test = encoder_input[-n_of_val:]\n",
    "decoder_input_test = decoder_input[-n_of_val:]\n",
    "decoder_target_test = decoder_target[-n_of_val:]\n",
    "\n",
    "print('훈련 데이터의 개수 :', len(encoder_input_train))\n",
    "print('훈련 레이블의 개수 :', len(decoder_input_train))\n",
    "print('테스트 데이터의 개수 :', len(encoder_input_test))\n",
    "print('테스트 레이블의 개수 :', len(decoder_input_test))"
   ]
  },
  {
   "cell_type": "markdown",
   "id": "85c52a63",
   "metadata": {},
   "source": [
    "### 정수 인코딩"
   ]
  },
  {
   "cell_type": "code",
   "execution_count": 90,
   "id": "e20a78a2",
   "metadata": {},
   "outputs": [],
   "source": [
    "from tensorflow.keras.preprocessing.text import Tokenizer \n",
    "from tensorflow.keras.preprocessing.sequence import pad_sequences\n",
    "\n",
    "src_tokenizer = Tokenizer()\n",
    "src_tokenizer.fit_on_texts(encoder_input_train) # 입력된 데이터로부터 단어 집합 생성"
   ]
  },
  {
   "cell_type": "markdown",
   "id": "bf6d13ef",
   "metadata": {},
   "source": [
    "단어들의 빈도수 확인"
   ]
  },
  {
   "cell_type": "code",
   "execution_count": 99,
   "id": "337ff452",
   "metadata": {},
   "outputs": [
    {
     "name": "stdout",
     "output_type": "stream",
     "text": [
      "단어 집합(vocabulary)의 크기 : 69471\n",
      "등장 빈도가 4번 이하인 희귀 단어의 수: 43144\n",
      "단어 집합에서 희귀 단어를 제외시킬 경우의 단어 집합의 크기 26327\n",
      "단어 집합에서 희귀 단어의 비율: 62.10361157893222\n",
      "전체 등장 빈도에서 희귀 단어 등장 빈도 비율: 2.666635172358657\n"
     ]
    }
   ],
   "source": [
    "threshold = 5\n",
    "total_cnt = len(src_tokenizer.word_index) # 단어의 수\n",
    "rare_cnt = 0 # 등장 빈도수가 threshold보다 작은 단어의 개수를 카운트\n",
    "total_freq = 0 # 훈련 데이터의 전체 단어 빈도수 총 합\n",
    "rare_freq = 0 # 등장 빈도수가 threshold보다 작은 단어의 등장 빈도수의 총 합\n",
    "\n",
    "# 단어와 빈도수의 쌍(pair)을 key와 value로 받는다.\n",
    "for key, value in src_tokenizer.word_counts.items():\n",
    "    total_freq = total_freq + value\n",
    "\n",
    "    # 단어의 등장 빈도수가 threshold보다 작으면\n",
    "    if(value < threshold):\n",
    "        rare_cnt = rare_cnt + 1\n",
    "        rare_freq = rare_freq + value\n",
    "\n",
    "print('단어 집합(vocabulary)의 크기 :', total_cnt)\n",
    "print('등장 빈도가 %s번 이하인 희귀 단어의 수: %s'%(threshold - 1, rare_cnt))\n",
    "print('단어 집합에서 희귀 단어를 제외시킬 경우의 단어 집합의 크기 %s'%(total_cnt - rare_cnt))\n",
    "print(\"단어 집합에서 희귀 단어의 비율:\", (rare_cnt / total_cnt)*100)\n",
    "print(\"전체 등장 빈도에서 희귀 단어 등장 빈도 비율:\", (rare_freq / total_freq)*100)"
   ]
  },
  {
   "cell_type": "markdown",
   "id": "6e78571b",
   "metadata": {},
   "source": [
    "### 69000개의 단어 중 4회 이하인 단어의 비중 62%\n",
    "### 위에서 제안하는 집합크기 26000을 사용"
   ]
  },
  {
   "cell_type": "code",
   "execution_count": 101,
   "id": "170304b7",
   "metadata": {},
   "outputs": [],
   "source": [
    "src_vocab = 26000\n",
    "src_tokenizer = Tokenizer(num_words=src_vocab) # 단어 집합의 크기를 26000으로 제한\n",
    "src_tokenizer.fit_on_texts(encoder_input_train) # 단어 집합을 단어 빈도수를 기준으로 정렬"
   ]
  },
  {
   "cell_type": "code",
   "execution_count": 102,
   "id": "c0617542",
   "metadata": {},
   "outputs": [
    {
     "name": "stdout",
     "output_type": "stream",
     "text": [
      "[[5, 446, 266, 2748, 2150, 81, 104, 39, 473, 2212, 262, 1436, 1889, 3871, 2575, 274, 3803, 1240, 54, 30, 200, 5, 4031, 1105, 400, 664, 2150, 5918, 2302, 7565, 5272, 117, 23963, 1752, 8976, 337], [533, 1515, 121, 156, 108, 488, 130, 7, 556, 2119, 863, 72, 72, 3, 402, 34, 1, 68, 130, 4, 18, 25, 102, 7, 556, 3097, 826, 863, 3, 402, 321, 639, 1, 1515], [2087, 2831, 366, 917, 66, 695, 4387, 7566, 2846, 1335, 276, 176, 14, 6801, 4451, 8279, 917, 66, 7566, 211, 2576, 1788, 76, 1173, 70, 199, 677, 242, 931, 2088, 4550, 490, 322, 149, 1476]]\n"
     ]
    }
   ],
   "source": [
    "# 텍스트 시퀀스를 정수 시퀀스로 변환\n",
    "encoder_input_train = src_tokenizer.texts_to_sequences(encoder_input_train) \n",
    "encoder_input_test = src_tokenizer.texts_to_sequences(encoder_input_test)\n",
    "\n",
    "# 잘 진행되었는지 샘플 출력\n",
    "print(encoder_input_train[:3])"
   ]
  },
  {
   "cell_type": "markdown",
   "id": "d88cc781",
   "metadata": {},
   "source": [
    "headline에도 적용"
   ]
  },
  {
   "cell_type": "code",
   "execution_count": 103,
   "id": "936bb580",
   "metadata": {},
   "outputs": [],
   "source": [
    "tar_tokenizer = Tokenizer()\n",
    "tar_tokenizer.fit_on_texts(decoder_input_train)"
   ]
  },
  {
   "cell_type": "code",
   "execution_count": 104,
   "id": "ed683c93",
   "metadata": {},
   "outputs": [
    {
     "name": "stdout",
     "output_type": "stream",
     "text": [
      "단어 집합(vocabulary)의 크기 : 29923\n",
      "등장 빈도가 4번 이하인 희귀 단어의 수: 18498\n",
      "단어 집합에서 희귀 단어를 제외시킬 경우의 단어 집합의 크기 11425\n",
      "단어 집합에서 희귀 단어의 비율: 61.81866791431341\n",
      "전체 등장 빈도에서 희귀 단어 등장 빈도 비율: 5.007842891203413\n"
     ]
    }
   ],
   "source": [
    "threshold = 5\n",
    "total_cnt = len(tar_tokenizer.word_index) # 단어의 수\n",
    "rare_cnt = 0 # 등장 빈도수가 threshold보다 작은 단어의 개수를 카운트\n",
    "total_freq = 0 # 훈련 데이터의 전체 단어 빈도수 총 합\n",
    "rare_freq = 0 # 등장 빈도수가 threshold보다 작은 단어의 등장 빈도수의 총 합\n",
    "\n",
    "# 단어와 빈도수의 쌍(pair)을 key와 value로 받는다.\n",
    "for key, value in tar_tokenizer.word_counts.items():\n",
    "    total_freq = total_freq + value\n",
    "\n",
    "    # 단어의 등장 빈도수가 threshold보다 작으면\n",
    "    if(value < threshold):\n",
    "        rare_cnt = rare_cnt + 1\n",
    "        rare_freq = rare_freq + value\n",
    "\n",
    "print('단어 집합(vocabulary)의 크기 :', total_cnt)\n",
    "print('등장 빈도가 %s번 이하인 희귀 단어의 수: %s'%(threshold - 1, rare_cnt))\n",
    "print('단어 집합에서 희귀 단어를 제외시킬 경우의 단어 집합의 크기 %s'%(total_cnt - rare_cnt))\n",
    "print(\"단어 집합에서 희귀 단어의 비율:\", (rare_cnt / total_cnt)*100)\n",
    "print(\"전체 등장 빈도에서 희귀 단어 등장 빈도 비율:\", (rare_freq / total_freq)*100)"
   ]
  },
  {
   "cell_type": "markdown",
   "id": "927ed7c2",
   "metadata": {},
   "source": [
    "### 11000으로 지정"
   ]
  },
  {
   "cell_type": "code",
   "execution_count": 105,
   "id": "0c4acf72",
   "metadata": {},
   "outputs": [
    {
     "name": "stdout",
     "output_type": "stream",
     "text": [
      "input\n",
      "input  [[1, 4, 666, 974, 3877, 1328, 219, 532, 858, 848], [1, 105, 4385, 1783, 135, 135], [1, 1077, 571, 167, 354, 4907, 2283, 783], [1, 35, 336, 193, 2579, 8037, 146, 1568], [1, 1699, 398, 643, 1493, 3353, 760, 1060]]\n",
      "target\n",
      "decoder  [[4, 666, 974, 3877, 1328, 219, 532, 858, 848, 2], [105, 4385, 1783, 135, 135, 2], [1077, 571, 167, 354, 4907, 2283, 783, 2], [35, 336, 193, 2579, 8037, 146, 1568, 2], [1699, 398, 643, 1493, 3353, 760, 1060, 2]]\n"
     ]
    }
   ],
   "source": [
    "tar_vocab = 11000\n",
    "tar_tokenizer = Tokenizer(num_words=tar_vocab) \n",
    "tar_tokenizer.fit_on_texts(decoder_input_train)\n",
    "tar_tokenizer.fit_on_texts(decoder_target_train)\n",
    "\n",
    "# 텍스트 시퀀스를 정수 시퀀스로 변환\n",
    "decoder_input_train = tar_tokenizer.texts_to_sequences(decoder_input_train) \n",
    "decoder_target_train = tar_tokenizer.texts_to_sequences(decoder_target_train)\n",
    "decoder_input_test = tar_tokenizer.texts_to_sequences(decoder_input_test)\n",
    "decoder_target_test = tar_tokenizer.texts_to_sequences(decoder_target_test)\n",
    "\n",
    "# 잘 변환되었는지 확인\n",
    "print('input')\n",
    "print('input ',decoder_input_train[:5])\n",
    "print('target')\n",
    "print('decoder ',decoder_target_train[:5])"
   ]
  },
  {
   "cell_type": "markdown",
   "id": "786530ed",
   "metadata": {},
   "source": [
    "없어진 데이터가 있는지 확인"
   ]
  },
  {
   "cell_type": "code",
   "execution_count": 106,
   "id": "227ddadf",
   "metadata": {},
   "outputs": [
    {
     "name": "stdout",
     "output_type": "stream",
     "text": [
      "삭제할 훈련 데이터의 개수 : 2\n",
      "삭제할 테스트 데이터의 개수 : 1\n",
      "훈련 데이터의 개수 : 78427\n",
      "훈련 레이블의 개수 : 78427\n",
      "테스트 데이터의 개수 : 19606\n",
      "테스트 레이블의 개수 : 19606\n"
     ]
    }
   ],
   "source": [
    "drop_train = [index for index, sentence in enumerate(decoder_input_train) if len(sentence) == 1]\n",
    "drop_test = [index for index, sentence in enumerate(decoder_input_test) if len(sentence) == 1]\n",
    "\n",
    "print('삭제할 훈련 데이터의 개수 :', len(drop_train))\n",
    "print('삭제할 테스트 데이터의 개수 :', len(drop_test))\n",
    "\n",
    "encoder_input_train = [sentence for index, sentence in enumerate(encoder_input_train) if index not in drop_train]\n",
    "decoder_input_train = [sentence for index, sentence in enumerate(decoder_input_train) if index not in drop_train]\n",
    "decoder_target_train = [sentence for index, sentence in enumerate(decoder_target_train) if index not in drop_train]\n",
    "\n",
    "encoder_input_test = [sentence for index, sentence in enumerate(encoder_input_test) if index not in drop_test]\n",
    "decoder_input_test = [sentence for index, sentence in enumerate(decoder_input_test) if index not in drop_test]\n",
    "decoder_target_test = [sentence for index, sentence in enumerate(decoder_target_test) if index not in drop_test]\n",
    "\n",
    "print('훈련 데이터의 개수 :', len(encoder_input_train))\n",
    "print('훈련 레이블의 개수 :', len(decoder_input_train))\n",
    "print('테스트 데이터의 개수 :', len(encoder_input_test))\n",
    "print('테스트 레이블의 개수 :', len(decoder_input_test))"
   ]
  },
  {
   "cell_type": "markdown",
   "id": "8800a4a2",
   "metadata": {},
   "source": [
    "### 패딩"
   ]
  },
  {
   "cell_type": "code",
   "execution_count": 108,
   "id": "fabd65f7",
   "metadata": {},
   "outputs": [],
   "source": [
    "encoder_input_train = pad_sequences(encoder_input_train, maxlen=text_max_len, padding='post')\n",
    "encoder_input_test = pad_sequences(encoder_input_test, maxlen=text_max_len, padding='post')\n",
    "decoder_input_train = pad_sequences(decoder_input_train, maxlen=headline_max_len, padding='post')\n",
    "decoder_target_train = pad_sequences(decoder_target_train, maxlen=headline_max_len, padding='post')\n",
    "decoder_input_test = pad_sequences(decoder_input_test, maxlen=headline_max_len, padding='post')\n",
    "decoder_target_test = pad_sequences(decoder_target_test, maxlen=headline_max_len, padding='post')"
   ]
  },
  {
   "cell_type": "markdown",
   "id": "1faf26ae",
   "metadata": {},
   "source": [
    "## 어텐션 매커니즘 사용하기 (추상적 요약)"
   ]
  },
  {
   "cell_type": "code",
   "execution_count": 109,
   "id": "91da83d0",
   "metadata": {},
   "outputs": [],
   "source": [
    "from tensorflow.keras.layers import Input, LSTM, Embedding, Dense, Concatenate, TimeDistributed\n",
    "from tensorflow.keras.models import Model\n",
    "from tensorflow.keras.callbacks import EarlyStopping, ModelCheckpoint\n",
    "from tensorflow.keras.layers import AdditiveAttention"
   ]
  },
  {
   "cell_type": "markdown",
   "id": "8921c7fe",
   "metadata": {},
   "source": [
    "### 인코더층 LSTM + Dropout"
   ]
  },
  {
   "cell_type": "code",
   "execution_count": 119,
   "id": "4dd3772a",
   "metadata": {},
   "outputs": [],
   "source": [
    "embedding_dim = 256\n",
    "hidden_size = 256\n",
    "\n",
    "encoder_inputs = Input(shape=(text_max_len,))\n",
    "\n",
    "# 인코드 임베딩 층\n",
    "enc_emb = Embedding(src_vocab, embedding_dim)(encoder_inputs)\n",
    "\n",
    "# 인코더의 LSTM 1\n",
    "encoder_lstm1 = LSTM(hidden_size, return_sequences=True, return_state=True ,dropout = 0.4)\n",
    "encoder_output1, state_h1, state_c1 = encoder_lstm1(enc_emb)\n",
    "\n",
    "# 인코더의 LSTM 2\n",
    "encoder_lstm2 = LSTM(hidden_size, return_sequences=True,return_state=True, dropout=0.2)\n",
    "encoder_output2, state_h2, state_c2 = encoder_lstm2(encoder_output1)\n",
    "\n",
    "# 인코더의 LSTM 3\n",
    "encoder_lstm3 = LSTM(hidden_size, return_sequences=True, return_state=True, dropout=0.3)\n",
    "encoder_output3, state_h3, state_c3 = encoder_lstm3(encoder_output2)"
   ]
  },
  {
   "cell_type": "markdown",
   "id": "7c12b50f",
   "metadata": {},
   "source": [
    "### 디코더층 설계 어텐션 매커니즘"
   ]
  },
  {
   "cell_type": "code",
   "execution_count": 122,
   "id": "5f175d2c",
   "metadata": {},
   "outputs": [
    {
     "name": "stdout",
     "output_type": "stream",
     "text": [
      "Model: \"model_2\"\n",
      "__________________________________________________________________________________________________\n",
      "Layer (type)                    Output Shape         Param #     Connected to                     \n",
      "==================================================================================================\n",
      "input_4 (InputLayer)            [(None, 50)]         0                                            \n",
      "__________________________________________________________________________________________________\n",
      "embedding_3 (Embedding)         (None, 50, 256)      6656000     input_4[0][0]                    \n",
      "__________________________________________________________________________________________________\n",
      "lstm_5 (LSTM)                   [(None, 50, 256), (N 525312      embedding_3[0][0]                \n",
      "__________________________________________________________________________________________________\n",
      "input_6 (InputLayer)            [(None, None)]       0                                            \n",
      "__________________________________________________________________________________________________\n",
      "lstm_6 (LSTM)                   [(None, 50, 256), (N 525312      lstm_5[0][0]                     \n",
      "__________________________________________________________________________________________________\n",
      "embedding_5 (Embedding)         (None, None, 256)    2816000     input_6[0][0]                    \n",
      "__________________________________________________________________________________________________\n",
      "lstm_7 (LSTM)                   [(None, 50, 256), (N 525312      lstm_6[0][0]                     \n",
      "__________________________________________________________________________________________________\n",
      "lstm_9 (LSTM)                   [(None, None, 256),  525312      embedding_5[0][0]                \n",
      "                                                                 lstm_7[0][1]                     \n",
      "                                                                 lstm_7[0][2]                     \n",
      "__________________________________________________________________________________________________\n",
      "attention_layer (AdditiveAttent (None, None, 256)    256         lstm_9[0][0]                     \n",
      "                                                                 lstm_7[0][0]                     \n",
      "__________________________________________________________________________________________________\n",
      "concat_layer (Concatenate)      (None, None, 512)    0           lstm_9[0][0]                     \n",
      "                                                                 attention_layer[0][0]            \n",
      "__________________________________________________________________________________________________\n",
      "dense_2 (Dense)                 (None, None, 11000)  5643000     concat_layer[0][0]               \n",
      "==================================================================================================\n",
      "Total params: 17,216,504\n",
      "Trainable params: 17,216,504\n",
      "Non-trainable params: 0\n",
      "__________________________________________________________________________________________________\n"
     ]
    }
   ],
   "source": [
    "decoder_inputs = Input(shape=(None,))\n",
    "\n",
    "# 디코더의 임베딩 층\n",
    "dec_emb_layer = Embedding(tar_vocab, embedding_dim)\n",
    "dec_emb = dec_emb_layer(decoder_inputs)\n",
    "\n",
    "\n",
    "# 디코더의 LSTM\n",
    "decoder_lstm = LSTM(hidden_size, return_sequences=True, return_state=True, dropout=0.4)\n",
    "decoder_outputs, _, _ = decoder_lstm(dec_emb, initial_state=[state_h3, state_c3])\n",
    "\n",
    "# 어텐션 층(어텐션 함수)\n",
    "attn_layer = AdditiveAttention(name='attention_layer')\n",
    "\n",
    "# 인코더와 디코더의 모든 time step의 hidden state를 어텐션 층에 전달하고 결과를 리턴\n",
    "attn_out = attn_layer([decoder_outputs, encoder_output3])\n",
    "\n",
    "\n",
    "# 어텐션의 결과와 디코더의 hidden state들을 연결\n",
    "decoder_concat_input = Concatenate(axis=-1, name='concat_layer')([decoder_outputs, attn_out])\n",
    "\n",
    "# 디코더의 출력층\n",
    "decoder_softmax_layer = Dense(tar_vocab, activation='softmax')\n",
    "decoder_softmax_outputs = decoder_softmax_layer(decoder_concat_input)\n",
    "\n",
    "# 모델 정의\n",
    "model = Model([encoder_inputs, decoder_inputs], decoder_softmax_outputs)\n",
    "model.summary()"
   ]
  },
  {
   "cell_type": "markdown",
   "id": "a2dac195",
   "metadata": {},
   "source": [
    "### 모델 훈련"
   ]
  },
  {
   "cell_type": "code",
   "execution_count": 123,
   "id": "eeb0c93c",
   "metadata": {},
   "outputs": [
    {
     "name": "stdout",
     "output_type": "stream",
     "text": [
      "Epoch 1/50\n",
      "307/307 [==============================] - 39s 110ms/step - loss: 5.6285 - val_loss: 5.1891\n",
      "Epoch 2/50\n",
      "307/307 [==============================] - 34s 112ms/step - loss: 5.0273 - val_loss: 4.8372\n",
      "Epoch 3/50\n",
      "307/307 [==============================] - 34s 112ms/step - loss: 4.6886 - val_loss: 4.5763\n",
      "Epoch 4/50\n",
      "307/307 [==============================] - 34s 111ms/step - loss: 4.4164 - val_loss: 4.3868\n",
      "Epoch 5/50\n",
      "307/307 [==============================] - 34s 111ms/step - loss: 4.1998 - val_loss: 4.2639\n",
      "Epoch 6/50\n",
      "307/307 [==============================] - 34s 111ms/step - loss: 4.0171 - val_loss: 4.1483\n",
      "Epoch 7/50\n",
      "307/307 [==============================] - 34s 111ms/step - loss: 3.8599 - val_loss: 4.0690\n",
      "Epoch 8/50\n",
      "307/307 [==============================] - 34s 111ms/step - loss: 3.7206 - val_loss: 3.9978\n",
      "Epoch 9/50\n",
      "307/307 [==============================] - 34s 111ms/step - loss: 3.5927 - val_loss: 3.9449\n",
      "Epoch 10/50\n",
      "307/307 [==============================] - 34s 111ms/step - loss: 3.4762 - val_loss: 3.9007\n",
      "Epoch 11/50\n",
      "307/307 [==============================] - 34s 111ms/step - loss: 3.3667 - val_loss: 3.8673\n",
      "Epoch 12/50\n",
      "307/307 [==============================] - 34s 111ms/step - loss: 3.2687 - val_loss: 3.8348\n",
      "Epoch 13/50\n",
      "307/307 [==============================] - 34s 111ms/step - loss: 3.1781 - val_loss: 3.8134\n",
      "Epoch 14/50\n",
      "307/307 [==============================] - 34s 111ms/step - loss: 3.0937 - val_loss: 3.7998\n",
      "Epoch 15/50\n",
      "307/307 [==============================] - 34s 111ms/step - loss: 3.0118 - val_loss: 3.7879\n",
      "Epoch 16/50\n",
      "307/307 [==============================] - 34s 111ms/step - loss: 2.9385 - val_loss: 3.7718\n",
      "Epoch 17/50\n",
      "307/307 [==============================] - 34s 111ms/step - loss: 2.8701 - val_loss: 3.7722\n",
      "Epoch 00017: early stopping\n"
     ]
    }
   ],
   "source": [
    "model.compile(optimizer='rmsprop', loss='sparse_categorical_crossentropy')\n",
    "es = EarlyStopping(monitor='val_loss', patience=1, verbose=1)\n",
    "history = model.fit(x=[encoder_input_train, decoder_input_train], y=decoder_target_train, \\\n",
    "          validation_data=([encoder_input_test, decoder_input_test], decoder_target_test), \\\n",
    "          batch_size=256, callbacks=[es], epochs=50)"
   ]
  },
  {
   "cell_type": "code",
   "execution_count": 124,
   "id": "ab2d514d",
   "metadata": {},
   "outputs": [
    {
     "data": {
      "image/png": "[encoded data removed]",
      "text/plain": [
       "<Figure size 432x288 with 1 Axes>"
      ]
     },
     "metadata": {
      "needs_background": "light"
     },
     "output_type": "display_data"
    }
   ],
   "source": [
    "plt.plot(history.history['loss'], label='train')\n",
    "plt.plot(history.history['val_loss'], label='test')\n",
    "plt.legend()\n",
    "plt.show()"
   ]
  },
  {
   "cell_type": "markdown",
   "id": "5628885f",
   "metadata": {},
   "source": [
    "### 테스트 단계에 정수 인덱스를 다시 텍스트로 복구"
   ]
  },
  {
   "cell_type": "code",
   "execution_count": 125,
   "id": "642b9084",
   "metadata": {},
   "outputs": [],
   "source": [
    "src_index_to_word = src_tokenizer.index_word # 원문 단어 집합에서 정수 -> 단어를 얻음\n",
    "tar_word_to_index = tar_tokenizer.word_index # 요약 단어 집합에서 단어 -> 정수를 얻음\n",
    "tar_index_to_word = tar_tokenizer.index_word # 요약 단어 집합에서 정수 -> 단어를 얻음"
   ]
  },
  {
   "cell_type": "markdown",
   "id": "ef6f6e84",
   "metadata": {},
   "source": [
    "### 테스트를 위한 별도의 모델 설계"
   ]
  },
  {
   "cell_type": "code",
   "execution_count": 127,
   "id": "bd54868e",
   "metadata": {},
   "outputs": [],
   "source": [
    "# 인코더 설계\n",
    "encoder_model = Model(inputs=encoder_inputs, outputs=[encoder_output3, state_h3, state_c3])\n",
    "\n",
    "# 이전 시점의 상태들을 저장하는 텐서\n",
    "decoder_state_input_h = Input(shape=(hidden_size,))\n",
    "decoder_state_input_c = Input(shape=(hidden_size,))\n",
    "\n",
    "dec_emb2 = dec_emb_layer(decoder_inputs)\n",
    "\n",
    "# 문장의 다음 단어를 예측하기 위해서 초기 상태(initial_state)를 이전 시점의 상태로 사용. 이는 뒤의 함수 decode_sequence()에 구현\n",
    "# 훈련 과정에서와 달리 LSTM의 리턴하는 은닉 상태와 셀 상태인 state_h와 state_c를 버리지 않음.\n",
    "decoder_outputs2, state_h2, state_c2 = decoder_lstm(dec_emb2, initial_state=[decoder_state_input_h, decoder_state_input_c])\n"
   ]
  },
  {
   "cell_type": "code",
   "execution_count": 128,
   "id": "3232be94",
   "metadata": {},
   "outputs": [],
   "source": [
    "# 어텐션 함수\n",
    "decoder_hidden_state_input = Input(shape=(text_max_len, hidden_size))\n",
    "attn_out_inf = attn_layer([decoder_outputs2, decoder_hidden_state_input])\n",
    "decoder_inf_concat = Concatenate(axis=-1, name='concat')([decoder_outputs2, attn_out_inf])\n",
    "\n",
    "# 디코더의 출력층\n",
    "decoder_outputs2 = decoder_softmax_layer(decoder_inf_concat) \n",
    "\n",
    "# 최종 디코더 모델\n",
    "decoder_model = Model(\n",
    "    [decoder_inputs] + [decoder_hidden_state_input,decoder_state_input_h, decoder_state_input_c],\n",
    "    [decoder_outputs2] + [state_h2, state_c2])"
   ]
  },
  {
   "cell_type": "code",
   "execution_count": 132,
   "id": "5bcc0545",
   "metadata": {},
   "outputs": [],
   "source": [
    "def decode_sequence(input_seq):\n",
    "    # 입력으로부터 인코더의 상태를 얻음\n",
    "    e_out, e_h, e_c = encoder_model.predict(input_seq)\n",
    "\n",
    "     # <SOS>에 해당하는 토큰 생성\n",
    "    target_seq = np.zeros((1,1))\n",
    "    target_seq[0, 0] = tar_word_to_index['sostoken']\n",
    "\n",
    "    stop_condition = False\n",
    "    decoded_sentence = ''\n",
    "    while not stop_condition: # stop_condition이 True가 될 때까지 루프 반복\n",
    "\n",
    "        output_tokens, h, c = decoder_model.predict([target_seq] + [e_out, e_h, e_c])\n",
    "        sampled_token_index = np.argmax(output_tokens[0, -1, :])\n",
    "        sampled_token = tar_index_to_word[sampled_token_index]\n",
    "\n",
    "        if (sampled_token!='eostoken'):\n",
    "            decoded_sentence += ' '+sampled_token\n",
    "\n",
    "        #  <eos>에 도달하거나 최대 길이를 넘으면 중단.\n",
    "        if (sampled_token == 'eostoken'  or len(decoded_sentence.split()) >= (headline_max_len-1)):\n",
    "            stop_condition = True\n",
    "\n",
    "        # 길이가 1인 타겟 시퀀스를 업데이트\n",
    "        target_seq = np.zeros((1,1))\n",
    "        target_seq[0, 0] = sampled_token_index\n",
    "\n",
    "        # 상태를 업데이트 합니다.\n",
    "        e_h, e_c = h, c\n",
    "\n",
    "    return decoded_sentence"
   ]
  },
  {
   "cell_type": "code",
   "execution_count": 133,
   "id": "6fb4bbb2",
   "metadata": {},
   "outputs": [],
   "source": [
    "# 원문의 정수 시퀀스를 텍스트 시퀀스로 변환\n",
    "def seq2text(input_seq):\n",
    "    temp=''\n",
    "    for i in input_seq:\n",
    "        if (i!=0):\n",
    "            temp = temp + src_index_to_word[i]+' '\n",
    "    return temp\n",
    "\n",
    "# 요약문의 정수 시퀀스를 텍스트 시퀀스로 변환\n",
    "def seq2summary(input_seq):\n",
    "    temp=''\n",
    "    for i in input_seq:\n",
    "        if (i!=0):\n",
    "            temp = temp + tar_index_to_word[i]+' '\n",
    "    \n",
    "    return temp"
   ]
  },
  {
   "cell_type": "markdown",
   "id": "1d242834",
   "metadata": {},
   "source": [
    "## 추상적 요약"
   ]
  },
  {
   "cell_type": "code",
   "execution_count": 207,
   "id": "5804e455",
   "metadata": {},
   "outputs": [
    {
     "name": "stdout",
     "output_type": "stream",
     "text": [
      "원문 : pakistan cricket board welcomed ab de villiers pakistan super league tweet read goat south africa part psl warm welcome former south african international announced arrival video captioned time going party february \n",
      "실제 요약 : sostoken goat part psl pcb welcomes ab de villiers psl \n",
      "추상적예측 요약 :  pak captain imran khan gets engaged pak\n",
      "\n",
      "\n",
      "원문 : sanju director rajkumar hirani responding allegations tried whitewash sanjay dutt image biopic said whitewash anyone would made mahatma gandhi hirani questioned shown girlfriends addicted drugs slept friend girlfriend \n",
      "실제 요약 : sostoken whitewash dutt would made gandhi hirani \n",
      "추상적예측 요약 :  dutt biopic sanju\n",
      "\n",
      "\n",
      "원문 : japanese web giant internet group said soon allow staff receive part salary bitcoin company start paying monthly bitcoin employees japan february employees also get additional salary choose receive bitcoin incentive \n",
      "실제 요약 : sostoken japanese company start paying employees bitcoin \n",
      "추상적예측 요약 :  bitcoin price work japan\n",
      "\n",
      "\n",
      "원문 : bennington wife rock band linkin park singer chester bennington committed suicide recently shared picture late husband twitter wrote would give life go back moment nervous kiss front camera chester said us baby kissed \n",
      "실제 요약 : sostoken would give life go back moment chester wife \n",
      "추상적예측 요약 :  linkin park chester shares death suicide\n",
      "\n",
      "\n",
      "원문 : jammu kashmir police friday arrested five persons connection manhandling crpf personnel polling day budgam april police said eleven people identified involved incident rest absconding comes several videos surfaced showing crpf personnel heckled abused assaulted \n",
      "실제 요약 : sostoken police arrests assault crpf men kashmir \n",
      "추상적예측 요약 :  police arrests naxals chhattisgarh\n",
      "\n",
      "\n",
      "원문 : gurgaon traffic police issue around challans every day different violations wrong side parking driving without helmets police officials said august police issued challans collected lakh fines year nearly challans issued people wearing seat belts driving \n",
      "실제 요약 : sostoken traffic police issue fines every day \n",
      "추상적예측 요약 :  gurugram police station traffic traffic rules\n",
      "\n",
      "\n",
      "원문 : technology giants google microsoft intel discovered new chip flaw called variant potentially expose certain kinds sensitive data attacker flaw affects intel arm processors however researchers described risk low intel said evidence flaw already used hackers \n",
      "실제 요약 : sostoken microsoft google find new chip flaw expose data \n",
      "추상적예측 요약 :  microsoft removes ai predict windows\n",
      "\n",
      "\n",
      "원문 : mercedes british formula one driver lewis hamilton registered th career race win claiming belgian grand prix title sunday hamilton rival ferrari sebastian vettel came second daniel ricciardo placed third win hamilton cut vettel lead top drivers championship seven points \n",
      "실제 요약 : sostoken hamilton wins belgian gp register th career race win \n",
      "추상적예측 요약 :  hamilton wins th straight grand prix\n",
      "\n",
      "\n",
      "원문 : conor mcgregor reportedly earned around million floyd mayweather bout shared pictures alongside one world expensive mcgregor called million sailing yacht owned russian billionaire andrey truly added starting think wealth belly yet rich fat \n",
      "실제 요약 : sostoken wealth belly yet mcgregor mn yacht \n",
      "추상적예측 요약 :  mayweather buys mn deal mcgregor deal\n",
      "\n",
      "\n",
      "원문 : stephen vice president marvel jokingly said marvel makes indian content shah rukh khan said stories set different countries goal always use actors part world added try create characters real indian culture \n",
      "실제 요약 : sostoken srk indian content marvel makes jokes executive \n",
      "추상적예측 요약 :  great see world world cup\n",
      "\n",
      "\n",
      "원문 : foreign secretary jaishankar monday summoned pakistan high commissioner issued saying proceedings led kulbhushan jadhav death sentence adding indian high commission informed trial stated basic norms law justice observed government people india regard premeditated murder \n",
      "실제 요약 : sostoken jadhav execution pak murder india \n",
      "추상적예측 요약 :  pak court denies india pak kulbhushan jadhav\n",
      "\n",
      "\n",
      "원문 : oyo started digital record system provide real time updates including check check visitors state governments concerned authorities hotel managers capture guest details share authorities using app aditya ghosh oyo ceo south asia said process efficient transparent manual version \n",
      "실제 요약 : sostoken oyo share live guest check details state govt \n",
      "추상적예측 요약 :  digital retail inflation\n",
      "\n",
      "\n",
      "원문 : elon musk led electric carmaker tesla shares friday rose boosting market cap billion million german automobile major bmw tesla world fourth valuable automaker behind toyota daimler volkswagen tesla delivered less vehicles last year reported two profitable quarters since founded \n",
      "실제 요약 : sostoken tesla beats bmw become world th valuable carmaker \n",
      "추상적예측 요약 :  tesla posts record valuable company\n",
      "\n",
      "\n",
      "원문 : delhi national capital region likely generate lakh metric tonne waste year industry body assocham said adding waste contains toxic substances like lead attributed factors like low organised recycling cross border flow waste equipment country limited awareness regarding disposal \n",
      "실제 요약 : sostoken delhi create tonnes waste per yr assocham \n",
      "추상적예측 요약 :  delhi get new ever\n",
      "\n",
      "\n",
      "원문 : indian railways decided berths ladies quota offered women passengers wait list first senior citizens currently vacant berths quota offered wait listed passengers irrespective gender reservation trains available senior citizens female passengers pregnant women \n",
      "실제 요약 : sostoken unused ladies quota train given women first \n",
      "추상적예측 요약 :  railways women train tickets women\n",
      "\n",
      "\n",
      "원문 : canada based study claims readings home blood pressure monitors accurate within five could serious implications people relying make informed health decisions researchers found readings time unacceptable error normal pressures range \n",
      "실제 요약 : sostoken home blood pressure monitors wrong time study \n",
      "추상적예측 요약 :  scientists find study\n",
      "\n",
      "\n",
      "원문 : paying tribute late actor shashi kapoor blog post amitabh bachchan wrote thought men like shashi kapoor around stood chance actor somewhere let go passing away dear wife jennifer added amitabh shashi worked together films like deewaar \n",
      "실제 요약 : sostoken men like shashi kapoor around stood chance big \n",
      "추상적예측 요약 :  rishi kapoor like rishi kapoor\n",
      "\n",
      "\n",
      "원문 : many three terrorists killed encounter jammu kashmir pulwama district saturday encounter began security forces launched cordon search operation pulwama receiving specific intelligence inputs presence militants police official said forces retaliated leading encounter official added \n",
      "실제 요약 : sostoken terrorists killed encounter pulwama \n",
      "추상적예측 요약 :  militants killed encounter encounter\n",
      "\n",
      "\n",
      "원문 : labour activist working undercover investigate abuses chinese factory makes ivanka trump branded shoes arrested police two others missing activist arrested suspicion illegal surveillance men working us nonprofit organisation publish report alleging low pay excessive overtime possible misuse student labour \n",
      "실제 요약 : sostoken men probing ivanka brand china factory arrested missing \n",
      "추상적예측 요약 :  chinese billionaire arrested selling meat\n",
      "\n",
      "\n",
      "원문 : rejecting delhi government exemption women odd even scheme national green tribunal tuesday asked could run special buses women comes government filed petition tribunal saying might safe women travel crowded public transport buses odd even scheme \n",
      "실제 요약 : sostoken cannot run special buses women ngt delhi govt \n",
      "추상적예측 요약 :  delhi govt asks women women odd even\n",
      "\n",
      "\n",
      "원문 : pm narendra modi telephonic conversation russian president vladimir putin wednesday discussed indo russia ties reviewing relations two countries duo agreed strengthen special privileged strategic partnership india russia also called cooperation international forums \n",
      "실제 요약 : sostoken pm modi putin vow strengthen indo russia ties \n",
      "추상적예측 요약 :  russia pm modi may visit russia\n",
      "\n",
      "\n",
      "원문 : homosexuality decriminalised ex bigg boss contestant sabyasachi set launch gay television show thought show historical verdict supreme court excited never seen kind reality show indian television said sabyasachi said talks production houses channels \n",
      "실제 요약 : sostoken ex bigg boss contestant launch gay tv show \n",
      "추상적예측 요약 :  time high court denies reports\n",
      "\n",
      "\n",
      "원문 : mumbai batsman prithvi shaw became sixth indian male cricketer named man match debut test match shaw scored century rajkot test windies followed likes ravichandran ashwin shikhar dhawan rohit sharma among others could imagined debut like shaw said \n",
      "실제 요약 : sostoken shaw th indian named man match test debut \n",
      "추상적예측 요약 :  rohit sharma becomes st indian woman score\n",
      "\n",
      "\n",
      "원문 : rejecting plea examine validity banaras hindu university rules regarding curfew timing girls supreme court said rules safety girl students curfew timing imposed girls pm curfew boys pm petitioners also claimed girls allowed participate political activities \n",
      "실제 요약 : sostoken bhu curfew timings safety girl students sc \n",
      "추상적예측 요약 :  hc asks madras hc allows students expelled class\n",
      "\n",
      "\n",
      "원문 : mumbai crime branch saturday arrested six accused jail officials custodial death byculla prison convict manjula accused already suspended jail department planning get anticipatory bail arrested notably died june following alleged assault prison staff complaining missing food rations \n",
      "실제 요약 : sostoken officials arrested death prison inmate \n",
      "추상적예측 요약 :  mumbai police arrest molesting life\n",
      "\n",
      "\n",
      "원문 : man us state missouri dressed every year santa claus arrested molesting year old girl girl illustrated ordeal series drawings special interview trained forensic investigators man later admitted also accused inappropriate sexual contact children \n",
      "실제 요약 : sostoken santa arrested molesting year old girl us \n",
      "추상적예측 요약 :  us man arrested throwing yr old girl\n",
      "\n",
      "\n",
      "원문 : google tracks users location even turned location history android ios devices according associated press stop google users need turn location history option web app activity tab settings recorded activity also deleted google activity panel \n",
      "실제 요약 : sostoken turn google location tracking phone \n",
      "추상적예측 요약 :  google rolls feature location location android\n",
      "\n",
      "\n",
      "원문 : islamic seminary darul uloom deoband issued fatwa women taking help male shopkeepers wear bangles calling wrong big sin stating sharia allow women meet talk strangers seminary said muslim women allow shopkeepers touch arms \n",
      "실제 요약 : sostoken fatwa bars women wearing male \n",
      "추상적예측 요약 :  islamic women wear dress dress code\n",
      "\n",
      "\n",
      "원문 : ranbir kapoor reportedly playing lead role mogul biopic series founder gulshan kumar akshay kumar exit akshay earlier confirmed disagreements script reason behind exit akshay exit gulshan son bhushan kumar said new lead actor could bigger akshay \n",
      "실제 요약 : sostoken ranbir star mogul akshay kumar exit reports \n",
      "추상적예측 요약 :  ranbir play biopic biopic report\n",
      "\n",
      "\n",
      "원문 : video surfaced online wherein peon seen stitching patient wound government run hospital haryana rohtak patient said doctor checked wound following peon started stitching doctor saw consulted another doctor told stitches right patient added \n",
      "실제 요약 : sostoken doctor makes peon patient haryana govt hospital \n",
      "추상적예측 요약 :  doctor hospital removed hospital\n",
      "\n",
      "\n",
      "원문 : congress president rahul gandhi offered condolences families lost lives amritsar train accident friday tweeting train accident shocking urge state government congress workers provide immediate relief accident site people died train ran revellers watching dussehra celebrations said police \n",
      "실제 요약 : sostoken rahul offers condolences says train accident shocking \n",
      "추상적예측 요약 :  rahul train hit train train accident\n",
      "\n",
      "\n",
      "원문 : bengaluru based pharmacy app medicines reportedly raised crore funding round led venture capital firms matrix partners times internet round also saw participation tokyo based firm dream incubator founded aziz anirudh app offers online access medicines provides doorstep delivery \n",
      "실제 요약 : sostoken bengaluru based pharmacy app raises cr report \n",
      "추상적예측 요약 :  bengaluru based startup raises crore\n",
      "\n",
      "\n",
      "원문 : central bureau investigation monday registered fir persons including trinamool congress leaders madan mitra mukul roy roy sting operation case earlier march supreme court declined tmc leaders plea set aside calcutta high court order directing cbi investigate sting operation case \n",
      "실제 요약 : sostoken cbi files fir tmc leaders sting case \n",
      "추상적예측 요약 :  congress leader booked suicide cbi\n",
      "\n",
      "\n",
      "원문 : railway ministry asked senior officials give privileges like executive class travel travelling ministry also ended year old protocol mandated general managers present arrival departure railway board members officials asked relieve railway staff working domestic help homes \n",
      "실제 요약 : sostoken rail officials give privileges end yr old protocol \n",
      "추상적예측 요약 :  railways asks railways travel travel travel travel\n",
      "\n",
      "\n",
      "원문 : two journalists died sunday allegedly run speeding car belonging former village head bihar bhojpur duo returning home covering ram navami procession car rammed motorcycle incident angry locals set car fire blocked state highway vandalised shops \n",
      "실제 요약 : sostoken journalists run ex village head car bihar \n",
      "추상적예측 요약 :  dead car driver falls car driver falls car\n",
      "\n",
      "\n",
      "원문 : following birth fourth child real madrid forward cristiano ronaldo said wants win seven ballon seven children means intend stop win win ronaldo added ronaldo contention win fifth ballon announced next month \n",
      "실제 요약 : sostoken want seven children seven ballon awards ronaldo \n",
      "추상적예측 요약 :  ronaldo reveals ronaldo face goal\n",
      "\n",
      "\n",
      "원문 : least people killed others injured around vehicles collided china province wednesday due low visibility caused fog authorities said accident caused several vehicles catch fire blaze two hours left several cars completely burnt \n",
      "실제 요약 : sostoken die vehicle collision due fog china \n",
      "추상적예측 요약 :  killed injured explosion collapses\n",
      "\n",
      "\n",
      "원문 : celina jaitly lost father recently said regrets reaching time meet one last time dubai father passed away reached time last rites celina added matter much think prepared inevitable never ready parent loss \n",
      "실제 요약 : sostoken could hear voice one last time celina dad death \n",
      "추상적예측 요약 :  father father demise\n",
      "\n",
      "\n",
      "원문 : us president donald trump interview cbs news described north korean leader kim jong un pretty smart cookie saying assumed power young age despite dealing tough people however asked would consider military action response another nuclear test north korea trump said see \n",
      "실제 요약 : sostoken trump calls north korean dictator smart \n",
      "추상적예측 요약 :  kim jong un trump\n",
      "\n",
      "\n",
      "원문 : year old man kashmir brother allegedly beaten vehicle damaged near bus stop bengaluru speaking kannada two accused arrested based footage cctv installed near bus stop chief minister mehbooba mufti asked authorities take strict action accused \n",
      "실제 요약 : sostoken brothers assaulted bengaluru speaking kannada \n",
      "추상적예측 요약 :  man killed road dispute maharashtra\n",
      "\n",
      "\n",
      "원문 : company sued australian tennis player right use special nickname commercially wants stop year old using term special part branding campaign would include clothing tennis wear company australian trademark special dates back years \n",
      "실제 요약 : sostoken company sues tennis player right use nickname \n",
      "추상적예측 요약 :  tennis player banned using\n",
      "\n",
      "\n",
      "원문 : gujarat chief minister vijay rupani wednesday tweeted upcoming sanjay leela bhansali directorial padmavati allowed release state elections could law order situation many sections opposed rupani added said foul play great culture tolerated \n",
      "실제 요약 : sostoken allow padmavati release gujarat cm rupani \n",
      "추상적예측 요약 :  release date bhansali bhansali\n",
      "\n",
      "\n",
      "원문 : alia bhatt mother soni razdan said alia need guidance choose films quite sorted individual follows strong instinct mother always alia knows wants professionally personally added soni said impressed alia performances udta punjab highway dear zindagi \n",
      "실제 요약 : sostoken alia need guidance choose films soni \n",
      "추상적예측 요약 :  alia bhatt bhatt\n",
      "\n",
      "\n",
      "원문 : two passengers arrested guwahati airport allegedly hiding five gold bars gold bars wrapped balloons weighed approximately kg worth lakh accused supposed board delhi bound flight arrested cisf personnel found activities suspicious \n",
      "실제 요약 : sostoken men hide gold worth lakh get arrested \n",
      "추상적예측 요약 :  man held smuggling gold rectum delhi airport\n",
      "\n",
      "\n",
      "원문 : west bengal cm mamata banerjee said happy see bjp leaders lk advani sushma swaraj sumitra mahajan become india next president notably president pranab mukherjee term end july per reports pm narendra modi proposed advani name president post \n",
      "실제 요약 : sostoken back advani sushma swaraj prez post mamata \n",
      "추상적예측 요약 :  mamata gandhi would take oath mamata\n",
      "\n",
      "\n",
      "원문 : twitter users slammed disney releasing official black panther collector badge white character superhero character shown king fictional african nation user tweeted white washed black panther pin however disney later apologised saying shot bright light caused differences colour \n",
      "실제 요약 : sostoken disney slammed using white man black panther \n",
      "추상적예측 요약 :  twitter reacts black panther tribute\n",
      "\n",
      "\n",
      "원문 : gautam gambhir announced retirement tuesday said wants open batting bowling next life despite pains fears failures mind repeat next life wins hundreds maybe wicket hauls well said video \n",
      "실제 요약 : sostoken want open batting bowling next life gambhir \n",
      "추상적예측 요약 :  would like play play ipl\n",
      "\n",
      "\n",
      "원문 : hearing petition filed congress jd alliance karnataka governor vajubhai vala decision supreme court thursday refused stay swearing ceremony bjp bs yeddyurappa chief minister however three judge sc bench dismiss petition saying subject hearing later \n",
      "실제 요약 : sostoken sc refuses stay swearing bjp yeddyurappa taka cm \n",
      "추상적예측 요약 :  sc verdict taka cm kejriwal\n",
      "\n",
      "\n",
      "원문 : technology giant apple supplier foxconn employing high school students illegally work overtime assembling iphone according reports students claimed routinely worked hour shifts help manufacture apple flagship phone factory china statement apple said took action discovering students working overtime \n",
      "실제 요약 : sostoken illegal teenage labour used iphone report \n",
      "추상적예측 요약 :  apple school app face recognition tech factory\n",
      "\n",
      "\n",
      "원문 : delhi police arrested one key suppliers drugs school college students delhi ncr uttar pradesh reward arrest used target students providing fast delivery drugs nabbed police received tip visit university bareilly \n",
      "실제 요약 : sostoken drug targeted students delhi ncr arrested \n",
      "추상적예측 요약 :  delhi police school teacher arrested\n",
      "\n",
      "\n"
     ]
    }
   ],
   "source": [
    "for i in range(50, 100):\n",
    "    print(\"원문 :\", seq2text(encoder_input_test[i]))\n",
    "    print(\"실제 요약 :\", seq2summary(decoder_input_test[i]))\n",
    "    print(\"추상적예측 요약 :\", decode_sequence(encoder_input_test[i].reshape(1, text_max_len)))\n",
    "    print('\\n')"
   ]
  },
  {
   "cell_type": "markdown",
   "id": "41506609",
   "metadata": {},
   "source": [
    "### 추출적 요약"
   ]
  },
  {
   "cell_type": "code",
   "execution_count": 205,
   "id": "27785c6d",
   "metadata": {},
   "outputs": [
    {
     "name": "stdout",
     "output_type": "stream",
     "text": [
      "원문 : pakistan cricket board welcomed ab de villiers pakistan super league tweet read goat south africa part psl warm welcome former south african international announced arrival video captioned time going party february \n",
      "예측 요약 : \n",
      "\n",
      "\n",
      "원문 : sanju director rajkumar hirani responding allegations tried whitewash sanjay dutt image biopic said whitewash anyone would made mahatma gandhi hirani questioned shown girlfriends addicted drugs slept friend girlfriend \n",
      "예측 요약 : \n",
      "\n",
      "\n",
      "원문 : japanese web giant internet group said soon allow staff receive part salary bitcoin company start paying monthly bitcoin employees japan february employees also get additional salary choose receive bitcoin incentive \n",
      "예측 요약 : \n",
      "\n",
      "\n",
      "원문 : bennington wife rock band linkin park singer chester bennington committed suicide recently shared picture late husband twitter wrote would give life go back moment nervous kiss front camera chester said us baby kissed \n",
      "예측 요약 : \n",
      "\n",
      "\n",
      "원문 : jammu kashmir police friday arrested five persons connection manhandling crpf personnel polling day budgam april police said eleven people identified involved incident rest absconding comes several videos surfaced showing crpf personnel heckled abused assaulted \n",
      "예측 요약 : \n",
      "\n",
      "\n",
      "원문 : gurgaon traffic police issue around challans every day different violations wrong side parking driving without helmets police officials said august police issued challans collected lakh fines year nearly challans issued people wearing seat belts driving \n",
      "예측 요약 : \n",
      "\n",
      "\n",
      "원문 : technology giants google microsoft intel discovered new chip flaw called variant potentially expose certain kinds sensitive data attacker flaw affects intel arm processors however researchers described risk low intel said evidence flaw already used hackers \n",
      "예측 요약 : \n",
      "\n",
      "\n",
      "원문 : mercedes british formula one driver lewis hamilton registered th career race win claiming belgian grand prix title sunday hamilton rival ferrari sebastian vettel came second daniel ricciardo placed third win hamilton cut vettel lead top drivers championship seven points \n",
      "예측 요약 : \n",
      "\n",
      "\n",
      "원문 : conor mcgregor reportedly earned around million floyd mayweather bout shared pictures alongside one world expensive mcgregor called million sailing yacht owned russian billionaire andrey truly added starting think wealth belly yet rich fat \n",
      "예측 요약 : \n",
      "\n",
      "\n",
      "원문 : stephen vice president marvel jokingly said marvel makes indian content shah rukh khan said stories set different countries goal always use actors part world added try create characters real indian culture \n",
      "예측 요약 : \n",
      "\n",
      "\n",
      "원문 : foreign secretary jaishankar monday summoned pakistan high commissioner issued saying proceedings led kulbhushan jadhav death sentence adding indian high commission informed trial stated basic norms law justice observed government people india regard premeditated murder \n",
      "예측 요약 : \n",
      "\n",
      "\n",
      "원문 : oyo started digital record system provide real time updates including check check visitors state governments concerned authorities hotel managers capture guest details share authorities using app aditya ghosh oyo ceo south asia said process efficient transparent manual version \n",
      "예측 요약 : \n",
      "\n",
      "\n",
      "원문 : elon musk led electric carmaker tesla shares friday rose boosting market cap billion million german automobile major bmw tesla world fourth valuable automaker behind toyota daimler volkswagen tesla delivered less vehicles last year reported two profitable quarters since founded \n",
      "예측 요약 : \n",
      "\n",
      "\n",
      "원문 : delhi national capital region likely generate lakh metric tonne waste year industry body assocham said adding waste contains toxic substances like lead attributed factors like low organised recycling cross border flow waste equipment country limited awareness regarding disposal \n",
      "예측 요약 : \n",
      "\n",
      "\n",
      "원문 : indian railways decided berths ladies quota offered women passengers wait list first senior citizens currently vacant berths quota offered wait listed passengers irrespective gender reservation trains available senior citizens female passengers pregnant women \n",
      "예측 요약 : \n",
      "\n",
      "\n",
      "원문 : canada based study claims readings home blood pressure monitors accurate within five could serious implications people relying make informed health decisions researchers found readings time unacceptable error normal pressures range \n",
      "예측 요약 : \n",
      "\n",
      "\n",
      "원문 : paying tribute late actor shashi kapoor blog post amitabh bachchan wrote thought men like shashi kapoor around stood chance actor somewhere let go passing away dear wife jennifer added amitabh shashi worked together films like deewaar \n",
      "예측 요약 : \n",
      "\n",
      "\n",
      "원문 : many three terrorists killed encounter jammu kashmir pulwama district saturday encounter began security forces launched cordon search operation pulwama receiving specific intelligence inputs presence militants police official said forces retaliated leading encounter official added \n",
      "예측 요약 : \n",
      "\n",
      "\n",
      "원문 : labour activist working undercover investigate abuses chinese factory makes ivanka trump branded shoes arrested police two others missing activist arrested suspicion illegal surveillance men working us nonprofit organisation publish report alleging low pay excessive overtime possible misuse student labour \n",
      "예측 요약 : \n",
      "\n",
      "\n",
      "원문 : rejecting delhi government exemption women odd even scheme national green tribunal tuesday asked could run special buses women comes government filed petition tribunal saying might safe women travel crowded public transport buses odd even scheme \n",
      "예측 요약 : \n",
      "\n",
      "\n",
      "원문 : pm narendra modi telephonic conversation russian president vladimir putin wednesday discussed indo russia ties reviewing relations two countries duo agreed strengthen special privileged strategic partnership india russia also called cooperation international forums \n",
      "예측 요약 : \n",
      "\n",
      "\n",
      "원문 : homosexuality decriminalised ex bigg boss contestant sabyasachi set launch gay television show thought show historical verdict supreme court excited never seen kind reality show indian television said sabyasachi said talks production houses channels \n",
      "예측 요약 : \n",
      "\n",
      "\n",
      "원문 : mumbai batsman prithvi shaw became sixth indian male cricketer named man match debut test match shaw scored century rajkot test windies followed likes ravichandran ashwin shikhar dhawan rohit sharma among others could imagined debut like shaw said \n",
      "예측 요약 : \n",
      "\n",
      "\n",
      "원문 : rejecting plea examine validity banaras hindu university rules regarding curfew timing girls supreme court said rules safety girl students curfew timing imposed girls pm curfew boys pm petitioners also claimed girls allowed participate political activities \n",
      "예측 요약 : \n",
      "\n",
      "\n",
      "원문 : mumbai crime branch saturday arrested six accused jail officials custodial death byculla prison convict manjula accused already suspended jail department planning get anticipatory bail arrested notably died june following alleged assault prison staff complaining missing food rations \n",
      "예측 요약 : \n",
      "\n",
      "\n",
      "원문 : man us state missouri dressed every year santa claus arrested molesting year old girl girl illustrated ordeal series drawings special interview trained forensic investigators man later admitted also accused inappropriate sexual contact children \n",
      "예측 요약 : \n",
      "\n",
      "\n",
      "원문 : google tracks users location even turned location history android ios devices according associated press stop google users need turn location history option web app activity tab settings recorded activity also deleted google activity panel \n",
      "예측 요약 : \n",
      "\n",
      "\n",
      "원문 : islamic seminary darul uloom deoband issued fatwa women taking help male shopkeepers wear bangles calling wrong big sin stating sharia allow women meet talk strangers seminary said muslim women allow shopkeepers touch arms \n",
      "예측 요약 : \n",
      "\n",
      "\n",
      "원문 : ranbir kapoor reportedly playing lead role mogul biopic series founder gulshan kumar akshay kumar exit akshay earlier confirmed disagreements script reason behind exit akshay exit gulshan son bhushan kumar said new lead actor could bigger akshay \n",
      "예측 요약 : \n",
      "\n",
      "\n",
      "원문 : video surfaced online wherein peon seen stitching patient wound government run hospital haryana rohtak patient said doctor checked wound following peon started stitching doctor saw consulted another doctor told stitches right patient added \n",
      "예측 요약 : \n",
      "\n",
      "\n",
      "원문 : congress president rahul gandhi offered condolences families lost lives amritsar train accident friday tweeting train accident shocking urge state government congress workers provide immediate relief accident site people died train ran revellers watching dussehra celebrations said police \n",
      "예측 요약 : \n",
      "\n",
      "\n",
      "원문 : bengaluru based pharmacy app medicines reportedly raised crore funding round led venture capital firms matrix partners times internet round also saw participation tokyo based firm dream incubator founded aziz anirudh app offers online access medicines provides doorstep delivery \n",
      "예측 요약 : \n",
      "\n",
      "\n",
      "원문 : central bureau investigation monday registered fir persons including trinamool congress leaders madan mitra mukul roy roy sting operation case earlier march supreme court declined tmc leaders plea set aside calcutta high court order directing cbi investigate sting operation case \n",
      "예측 요약 : \n",
      "\n",
      "\n",
      "원문 : railway ministry asked senior officials give privileges like executive class travel travelling ministry also ended year old protocol mandated general managers present arrival departure railway board members officials asked relieve railway staff working domestic help homes \n",
      "예측 요약 : \n",
      "\n",
      "\n",
      "원문 : two journalists died sunday allegedly run speeding car belonging former village head bihar bhojpur duo returning home covering ram navami procession car rammed motorcycle incident angry locals set car fire blocked state highway vandalised shops \n",
      "예측 요약 : \n",
      "\n",
      "\n",
      "원문 : following birth fourth child real madrid forward cristiano ronaldo said wants win seven ballon seven children means intend stop win win ronaldo added ronaldo contention win fifth ballon announced next month \n",
      "예측 요약 : \n",
      "\n",
      "\n",
      "원문 : least people killed others injured around vehicles collided china province wednesday due low visibility caused fog authorities said accident caused several vehicles catch fire blaze two hours left several cars completely burnt \n",
      "예측 요약 : \n",
      "\n",
      "\n",
      "원문 : celina jaitly lost father recently said regrets reaching time meet one last time dubai father passed away reached time last rites celina added matter much think prepared inevitable never ready parent loss \n",
      "예측 요약 : \n",
      "\n",
      "\n",
      "원문 : us president donald trump interview cbs news described north korean leader kim jong un pretty smart cookie saying assumed power young age despite dealing tough people however asked would consider military action response another nuclear test north korea trump said see \n",
      "예측 요약 : \n",
      "\n",
      "\n",
      "원문 : year old man kashmir brother allegedly beaten vehicle damaged near bus stop bengaluru speaking kannada two accused arrested based footage cctv installed near bus stop chief minister mehbooba mufti asked authorities take strict action accused \n",
      "예측 요약 : \n",
      "\n",
      "\n",
      "원문 : company sued australian tennis player right use special nickname commercially wants stop year old using term special part branding campaign would include clothing tennis wear company australian trademark special dates back years \n",
      "예측 요약 : \n",
      "\n",
      "\n",
      "원문 : gujarat chief minister vijay rupani wednesday tweeted upcoming sanjay leela bhansali directorial padmavati allowed release state elections could law order situation many sections opposed rupani added said foul play great culture tolerated \n",
      "예측 요약 : \n",
      "\n",
      "\n",
      "원문 : alia bhatt mother soni razdan said alia need guidance choose films quite sorted individual follows strong instinct mother always alia knows wants professionally personally added soni said impressed alia performances udta punjab highway dear zindagi \n",
      "예측 요약 : \n",
      "\n",
      "\n",
      "원문 : two passengers arrested guwahati airport allegedly hiding five gold bars gold bars wrapped balloons weighed approximately kg worth lakh accused supposed board delhi bound flight arrested cisf personnel found activities suspicious \n",
      "예측 요약 : \n",
      "\n",
      "\n",
      "원문 : west bengal cm mamata banerjee said happy see bjp leaders lk advani sushma swaraj sumitra mahajan become india next president notably president pranab mukherjee term end july per reports pm narendra modi proposed advani name president post \n",
      "예측 요약 : \n",
      "\n",
      "\n",
      "원문 : twitter users slammed disney releasing official black panther collector badge white character superhero character shown king fictional african nation user tweeted white washed black panther pin however disney later apologised saying shot bright light caused differences colour \n",
      "예측 요약 : \n",
      "\n",
      "\n",
      "원문 : gautam gambhir announced retirement tuesday said wants open batting bowling next life despite pains fears failures mind repeat next life wins hundreds maybe wicket hauls well said video \n",
      "예측 요약 : \n",
      "\n",
      "\n",
      "원문 : hearing petition filed congress jd alliance karnataka governor vajubhai vala decision supreme court thursday refused stay swearing ceremony bjp bs yeddyurappa chief minister however three judge sc bench dismiss petition saying subject hearing later \n",
      "예측 요약 : \n",
      "\n",
      "\n",
      "원문 : technology giant apple supplier foxconn employing high school students illegally work overtime assembling iphone according reports students claimed routinely worked hour shifts help manufacture apple flagship phone factory china statement apple said took action discovering students working overtime \n",
      "예측 요약 : \n",
      "\n",
      "\n",
      "원문 : delhi police arrested one key suppliers drugs school college students delhi ncr uttar pradesh reward arrest used target students providing fast delivery drugs nabbed police received tip visit university bareilly \n",
      "예측 요약 : \n",
      "\n",
      "\n"
     ]
    }
   ],
   "source": [
    "for i in range(50, 100):\n",
    "    print(\"원문 :\", seq2text(encoder_input_test[i]))\n",
    "    print(\"예측 요약 :\", summarize(seq2summary(decoder_input_test[i]),words=50))\n",
    "    print(\"\\n\")"
   ]
  },
  {
   "cell_type": "markdown",
   "id": "a98c63a4",
   "metadata": {},
   "source": [
    "### 불필요한 텍스트를 모두없애 문장에서는 문장수가 충분하지않아 제대로 추출되지 않음 !"
   ]
  },
  {
   "cell_type": "markdown",
   "id": "58b74b93",
   "metadata": {},
   "source": [
    "## 추출적 요약을 위해 크기를 줄이지않은 텍스트를 들고온다."
   ]
  },
  {
   "cell_type": "code",
   "execution_count": null,
   "id": "61cb5d8a",
   "metadata": {},
   "outputs": [],
   "source": [
    "from summa.summarizer import summarize\n",
    "urllib.request.urlretrieve(\"https://raw.githubusercontent.com/sunnysai12345/News_Summary/master/news_summary_more.csv\", filename=\"news_summary_more.csv\")\n",
    "summa_data = pd.read_csv('news_summary_more.csv', encoding='iso-8859-1')"
   ]
  },
  {
   "cell_type": "markdown",
   "id": "58a1a47e",
   "metadata": {},
   "source": [
    "# 추상적 요약과 추출 요약 비교"
   ]
  },
  {
   "cell_type": "code",
   "execution_count": 204,
   "id": "8765c4c8",
   "metadata": {},
   "outputs": [
    {
     "name": "stdout",
     "output_type": "stream",
     "text": [
      "원문 : pakistan cricket board welcomed ab de villiers pakistan super league tweet read goat south africa part psl warm welcome former south african international announced arrival video captioned time going party february \n",
      "실제 요약 : sostoken goat part psl pcb welcomes ab de villiers psl \n",
      "추상적예측 요약 :  pak captain imran khan gets engaged pak\n",
      "추출예측 요약 : Former Finance Minister Yashwant Sinha on Tuesday demanded a probe into the alleged diversion of loans worth Ã¢ÂÂ¹31,000 crore by Dewan Housing Finance (DHFL).\n",
      "\n",
      "\n",
      "원문 : sanju director rajkumar hirani responding allegations tried whitewash sanjay dutt image biopic said whitewash anyone would made mahatma gandhi hirani questioned shown girlfriends addicted drugs slept friend girlfriend \n",
      "실제 요약 : sostoken whitewash dutt would made gandhi hirani \n",
      "추상적예측 요약 :  dutt biopic sanju\n",
      "추출예측 요약 : Boeing retained its position as the world's largest planemaker for the seventh straight year, delivering 806 aircraft in 2018.\n",
      "\n",
      "\n",
      "원문 : japanese web giant internet group said soon allow staff receive part salary bitcoin company start paying monthly bitcoin employees japan february employees also get additional salary choose receive bitcoin incentive \n",
      "실제 요약 : sostoken japanese company start paying employees bitcoin \n",
      "추상적예측 요약 :  bitcoin price work japan\n",
      "추출예측 요약 : \n",
      "\n",
      "\n",
      "원문 : bennington wife rock band linkin park singer chester bennington committed suicide recently shared picture late husband twitter wrote would give life go back moment nervous kiss front camera chester said us baby kissed \n",
      "실제 요약 : sostoken would give life go back moment chester wife \n",
      "추상적예측 요약 :  linkin park chester shares death suicide\n",
      "추출예측 요약 : OnePlus has emerged as India's best-selling premium smartphone brand of 2018, as per a report by Counterpoint.\n",
      "Further, its OnePlus 6 emerged as the highest selling premium smartphone of 2018 followed by OnePlus 6T.\n",
      "\n",
      "\n",
      "원문 : jammu kashmir police friday arrested five persons connection manhandling crpf personnel polling day budgam april police said eleven people identified involved incident rest absconding comes several videos surfaced showing crpf personnel heckled abused assaulted \n",
      "실제 요약 : sostoken police arrests assault crpf men kashmir \n",
      "추상적예측 요약 :  police arrests naxals chhattisgarh\n",
      "추출예측 요약 : Filmmaker Pooja Bhatt, while talking about the presentation of women in her films, said, \"I can never look at a female body, even if it's naked, in a vulgar manner.\" \"Our audience can say...the women in my films are bold or sensual, but never ever vulgar,\" she added.\n",
      "\n",
      "\n",
      "원문 : gurgaon traffic police issue around challans every day different violations wrong side parking driving without helmets police officials said august police issued challans collected lakh fines year nearly challans issued people wearing seat belts driving \n",
      "실제 요약 : sostoken traffic police issue fines every day \n",
      "추상적예측 요약 :  gurugram police station traffic traffic rules\n",
      "추출예측 요약 : Actress Mishti, who has featured in 'Manikarnika: The Queen of Jhansi', has said the film's co-director Kangana Ranaut made false promises to the cast.\n",
      "\n",
      "\n",
      "원문 : technology giants google microsoft intel discovered new chip flaw called variant potentially expose certain kinds sensitive data attacker flaw affects intel arm processors however researchers described risk low intel said evidence flaw already used hackers \n",
      "실제 요약 : sostoken microsoft google find new chip flaw expose data \n",
      "추상적예측 요약 :  microsoft removes ai predict windows\n",
      "추출예측 요약 : The high-powered committee led by PM Narendra Modi to select the next CBI Director will meet again on February 1, Congress leader Mallikarjun Kharge has said.\n",
      "\n",
      "\n",
      "원문 : mercedes british formula one driver lewis hamilton registered th career race win claiming belgian grand prix title sunday hamilton rival ferrari sebastian vettel came second daniel ricciardo placed third win hamilton cut vettel lead top drivers championship seven points \n",
      "실제 요약 : sostoken hamilton wins belgian gp register th career race win \n",
      "추상적예측 요약 :  hamilton wins th straight grand prix\n",
      "추출예측 요약 : Nevada State Athletic Commission has banned MMA fighters Conor McGregor and Khabib Nurmagomedov for six months and nine months respectively over their roles in the mass brawl that occurred after their fight at UFC 229 last October.\n",
      "\n",
      "\n",
      "원문 : conor mcgregor reportedly earned around million floyd mayweather bout shared pictures alongside one world expensive mcgregor called million sailing yacht owned russian billionaire andrey truly added starting think wealth belly yet rich fat \n",
      "실제 요약 : sostoken wealth belly yet mcgregor mn yacht \n",
      "추상적예측 요약 :  mayweather buys mn deal mcgregor deal\n",
      "추출예측 요약 : Pakistan captain Sarfaraz Ahmed, who has been banned for four matches over racist remarks, took an apparent dig at his critics by sharing a video of a child reciting 'log hai na' poem on Twitter.\n",
      "\n",
      "\n",
      "원문 : stephen vice president marvel jokingly said marvel makes indian content shah rukh khan said stories set different countries goal always use actors part world added try create characters real indian culture \n",
      "실제 요약 : sostoken srk indian content marvel makes jokes executive \n",
      "추상적예측 요약 :  great see world world cup\n",
      "추출예측 요약 : Sreesanth further said the bookie tried dragging him into spot-fixing but he didn't fall for it.\n",
      "Citing Sreesanth not informing BCCI about fixing approach, the apex court said Sreesanth's conduct \"wasn't good\".\n",
      "\n",
      "\n",
      "원문 : foreign secretary jaishankar monday summoned pakistan high commissioner issued saying proceedings led kulbhushan jadhav death sentence adding indian high commission informed trial stated basic norms law justice observed government people india regard premeditated murder \n",
      "실제 요약 : sostoken jadhav execution pak murder india \n",
      "추상적예측 요약 :  pak court denies india pak kulbhushan jadhav\n",
      "추출예측 요약 : The Finance Ministry on Wednesday said the government will present an Interim Budget on February 1.\n",
      "\n",
      "\n",
      "원문 : oyo started digital record system provide real time updates including check check visitors state governments concerned authorities hotel managers capture guest details share authorities using app aditya ghosh oyo ceo south asia said process efficient transparent manual version \n",
      "실제 요약 : sostoken oyo share live guest check details state govt \n",
      "추상적예측 요약 :  digital retail inflation\n",
      "추출예측 요약 : US President Donald Trump on Wednesday called his country's top intelligence chiefs \"naive\" and \"wrong\" on Iran and added that they should perhaps \"go back to school\".\n",
      "\n",
      "\n",
      "원문 : elon musk led electric carmaker tesla shares friday rose boosting market cap billion million german automobile major bmw tesla world fourth valuable automaker behind toyota daimler volkswagen tesla delivered less vehicles last year reported two profitable quarters since founded \n",
      "실제 요약 : sostoken tesla beats bmw become world th valuable carmaker \n",
      "추상적예측 요약 :  tesla posts record valuable company\n",
      "추출예측 요약 : A senior priest at the Vatican who handled cases of sexual abuse has quit after being accused of sexual abuse by a former nun.\n",
      "\n",
      "\n",
      "원문 : delhi national capital region likely generate lakh metric tonne waste year industry body assocham said adding waste contains toxic substances like lead attributed factors like low organised recycling cross border flow waste equipment country limited awareness regarding disposal \n",
      "실제 요약 : sostoken delhi create tonnes waste per yr assocham \n",
      "추상적예측 요약 :  delhi get new ever\n",
      "추출예측 요약 : A 22-year-old writer turned down a job offer, claiming she was bullied to the point of tears during her two-hour interview by a UK company's CEO.\n",
      "\n",
      "\n",
      "원문 : indian railways decided berths ladies quota offered women passengers wait list first senior citizens currently vacant berths quota offered wait listed passengers irrespective gender reservation trains available senior citizens female passengers pregnant women \n",
      "실제 요약 : sostoken unused ladies quota train given women first \n",
      "추상적예측 요약 :  railways women train tickets women\n",
      "추출예측 요약 : Noida Police has arrested Sector 20 station in-charge Manoj Pant and three journalists for allegedly extorting money from a call centre owner for removing his name from an FIR.\n",
      "\n",
      "\n",
      "원문 : canada based study claims readings home blood pressure monitors accurate within five could serious implications people relying make informed health decisions researchers found readings time unacceptable error normal pressures range \n",
      "실제 요약 : sostoken home blood pressure monitors wrong time study \n",
      "추상적예측 요약 :  scientists find study\n",
      "추출예측 요약 : India's second-largest telecom operator's Africa unit recently raised $1.25 billion from six investors.\n",
      "Airtel Africa, the holding company for Airtel's operations in 14 African countries, is preparing for an initial public offering.\n",
      "\n",
      "\n",
      "원문 : paying tribute late actor shashi kapoor blog post amitabh bachchan wrote thought men like shashi kapoor around stood chance actor somewhere let go passing away dear wife jennifer added amitabh shashi worked together films like deewaar \n",
      "실제 요약 : sostoken men like shashi kapoor around stood chance big \n",
      "추상적예측 요약 :  rishi kapoor like rishi kapoor\n",
      "추출예측 요약 : Actor Shreyas Talpade said that 'Golmaal' filmmaker Rohit Shetty is still working on the script for the fifth instalment of the 'Golmaal' film franchise.\n",
      "Once he's done with the...scripting, he'll take a call,Ã¢ÂÂ the actor added.\n",
      "\n",
      "\n",
      "원문 : many three terrorists killed encounter jammu kashmir pulwama district saturday encounter began security forces launched cordon search operation pulwama receiving specific intelligence inputs presence militants police official said forces retaliated leading encounter official added \n",
      "실제 요약 : sostoken terrorists killed encounter pulwama \n",
      "추상적예측 요약 :  militants killed encounter encounter\n",
      "추출예측 요약 : A 72-year-old man named Terry Sanderson has sued 'Avengers' actress Gwyneth Paltrow for allegedly crashing into him while skiing, and is seeking $3.1 million (over Ã¢ÂÂ¹22 crore) in damages.\n",
      "\n",
      "\n",
      "원문 : labour activist working undercover investigate abuses chinese factory makes ivanka trump branded shoes arrested police two others missing activist arrested suspicion illegal surveillance men working us nonprofit organisation publish report alleging low pay excessive overtime possible misuse student labour \n",
      "실제 요약 : sostoken men probing ivanka brand china factory arrested missing \n",
      "추상적예측 요약 :  chinese billionaire arrested selling meat\n",
      "추출예측 요약 : Yami Gautam was felicitated by Border Security Force (BSF) in Amritsar for her performance in 'Uri: The Surgical Strike'.\n",
      "\"BSF is the first line of defence of our country and it gives me...pride to have met them,\" Yami said.\n",
      "\n",
      "\n",
      "원문 : rejecting delhi government exemption women odd even scheme national green tribunal tuesday asked could run special buses women comes government filed petition tribunal saying might safe women travel crowded public transport buses odd even scheme \n",
      "실제 요약 : sostoken cannot run special buses women ngt delhi govt \n",
      "추상적예측 요약 :  delhi govt asks women women odd even\n",
      "추출예측 요약 : Social media giant Facebook has hired privacy critic Nate Cardozo, formerly the top legal counsel for US privacy watchdog EFF, as a privacy policy manager for WhatsApp. Cardozo had called Facebook a \"faceless corporation\" whose business model depends on user's confusion and indifference about privacy, in October 2015.\n",
      "\n",
      "\n",
      "원문 : pm narendra modi telephonic conversation russian president vladimir putin wednesday discussed indo russia ties reviewing relations two countries duo agreed strengthen special privileged strategic partnership india russia also called cooperation international forums \n",
      "실제 요약 : sostoken pm modi putin vow strengthen indo russia ties \n",
      "추상적예측 요약 :  russia pm modi may visit russia\n",
      "추출예측 요약 : Apple CEO Tim Cook said the company plans to lower some iPhones' prices in markets with currencies that weakened against the US dollar in the past year.\n",
      "\"WeÃ¢ÂÂve decided to go back to (iPhone prices) more commensurate with...local prices...a year ago,\" Cook added.\n",
      "\n",
      "\n",
      "원문 : homosexuality decriminalised ex bigg boss contestant sabyasachi set launch gay television show thought show historical verdict supreme court excited never seen kind reality show indian television said sabyasachi said talks production houses channels \n",
      "실제 요약 : sostoken ex bigg boss contestant launch gay tv show \n",
      "추상적예측 요약 :  time high court denies reports\n",
      "추출예측 요약 : The suit, made of synthetic material similar to the material used in bulletproof vests, could help reduce blood loss after a shark attack.\n",
      "\"The majority of fatalities from shark bites is due to blood loss...shock from blood loss,\" a scientist said.\n",
      "\n",
      "\n",
      "원문 : mumbai batsman prithvi shaw became sixth indian male cricketer named man match debut test match shaw scored century rajkot test windies followed likes ravichandran ashwin shikhar dhawan rohit sharma among others could imagined debut like shaw said \n",
      "실제 요약 : sostoken shaw th indian named man match test debut \n",
      "추상적예측 요약 :  rohit sharma becomes st indian woman score\n",
      "추출예측 요약 : BJP National Secretary Rahul Sinha on Wednesday asked the party workers in West Bengal to come armed with sticks to PM Narendra Modi's rally in the state on February 2.\n",
      "\n",
      "\n",
      "원문 : rejecting plea examine validity banaras hindu university rules regarding curfew timing girls supreme court said rules safety girl students curfew timing imposed girls pm curfew boys pm petitioners also claimed girls allowed participate political activities \n",
      "실제 요약 : sostoken bhu curfew timings safety girl students sc \n",
      "추상적예측 요약 :  hc asks madras hc allows students expelled class\n",
      "추출예측 요약 : BJP President Amit Shah on Wednesday took a dig at the Opposition parties saying that the 'mahagathbandhan' for the Opposition is 4B - \"Bua-Bhatija-Bhai-Behen\".\n",
      "He added that 4B for the BJP meant \"Badhta Bharat, Banta Bharat\".\n",
      "\n",
      "\n",
      "원문 : mumbai crime branch saturday arrested six accused jail officials custodial death byculla prison convict manjula accused already suspended jail department planning get anticipatory bail arrested notably died june following alleged assault prison staff complaining missing food rations \n",
      "실제 요약 : sostoken officials arrested death prison inmate \n",
      "추상적예측 요약 :  mumbai police arrest molesting life\n",
      "추출예측 요약 : Volkswagen's sales, including its MAN and Scania heavy trucks and buses, rose 0.9% to 10.83 million in 2018, the company had said.\n",
      "\n",
      "\n",
      "원문 : man us state missouri dressed every year santa claus arrested molesting year old girl girl illustrated ordeal series drawings special interview trained forensic investigators man later admitted also accused inappropriate sexual contact children \n",
      "실제 요약 : sostoken santa arrested molesting year old girl us \n",
      "추상적예측 요약 :  us man arrested throwing yr old girl\n",
      "추출예측 요약 : Ousted Nissan Chairman Carlos Ghosn has said his arrest over alleged financial misconduct was led by \"plot and treason\" by the Japanese carmaker's executives who opposed its deeper integration with Renault and Mitsubishi.\n",
      "\n",
      "\n",
      "원문 : google tracks users location even turned location history android ios devices according associated press stop google users need turn location history option web app activity tab settings recorded activity also deleted google activity panel \n",
      "실제 요약 : sostoken turn google location tracking phone \n",
      "추상적예측 요약 :  google rolls feature location location android\n",
      "추출예측 요약 : The government has cut down customs duty on import of parts and components for electric vehicles to 10-15%, down from the previous 15-30%.\n",
      "However, fully built electric vehicles will continue to attract 25% import duty.\n",
      "\n",
      "\n",
      "원문 : islamic seminary darul uloom deoband issued fatwa women taking help male shopkeepers wear bangles calling wrong big sin stating sharia allow women meet talk strangers seminary said muslim women allow shopkeepers touch arms \n",
      "실제 요약 : sostoken fatwa bars women wearing male \n",
      "추상적예측 요약 :  islamic women wear dress dress code\n",
      "추출예측 요약 : Government officials on Wednesday said that a swine flu outbreak has killed 76 people this year in Rajasthan.\n",
      "\n",
      "\n",
      "원문 : ranbir kapoor reportedly playing lead role mogul biopic series founder gulshan kumar akshay kumar exit akshay earlier confirmed disagreements script reason behind exit akshay exit gulshan son bhushan kumar said new lead actor could bigger akshay \n",
      "실제 요약 : sostoken ranbir star mogul akshay kumar exit reports \n",
      "추상적예측 요약 :  ranbir play biopic biopic report\n",
      "추출예측 요약 : \"North Korean leaders view nuclear arms as critical to regime survival,\" he added.\n",
      "His statements come despite North Korea's agreement with the US at the Singapore summit last year to denuclearise the Korean Peninsula.\n",
      "\n",
      "\n",
      "원문 : video surfaced online wherein peon seen stitching patient wound government run hospital haryana rohtak patient said doctor checked wound following peon started stitching doctor saw consulted another doctor told stitches right patient added \n",
      "실제 요약 : sostoken doctor makes peon patient haryana govt hospital \n",
      "추상적예측 요약 :  doctor hospital removed hospital\n",
      "추출예측 요약 : Jet Airways on Wednesday denied it was directed by GE Capital Aviation Services to ground its aircraft due to non-payment of dues.\n",
      "Further, three aircraft have been temporarily grounded to carry out an engine normalisation exercise, it added.\n",
      "\n",
      "\n",
      "원문 : congress president rahul gandhi offered condolences families lost lives amritsar train accident friday tweeting train accident shocking urge state government congress workers provide immediate relief accident site people died train ran revellers watching dussehra celebrations said police \n",
      "실제 요약 : sostoken rahul offers condolences says train accident shocking \n",
      "추상적예측 요약 :  rahul train hit train train accident\n",
      "추출예측 요약 : Retired Justice Srikrishna's enquiry panel has found that ex-CEO Chanda Kochhar violated ICICI Bank's code of conduct.\n",
      "The bank said it'll treat Kochhar's exit as termination and will take back all bonuses paid to her from April 2009 until March 2018.\n",
      "\n",
      "\n",
      "원문 : bengaluru based pharmacy app medicines reportedly raised crore funding round led venture capital firms matrix partners times internet round also saw participation tokyo based firm dream incubator founded aziz anirudh app offers online access medicines provides doorstep delivery \n",
      "실제 요약 : sostoken bengaluru based pharmacy app raises cr report \n",
      "추상적예측 요약 :  bengaluru based startup raises crore\n",
      "추출예측 요약 : Ex-India cricketer Jacob Martin has been shifted to general ward from the ICU after being on a ventilator for nearly a month following a road accident, wherein he severely injured his lungs.\n",
      "\n",
      "\n",
      "원문 : central bureau investigation monday registered fir persons including trinamool congress leaders madan mitra mukul roy roy sting operation case earlier march supreme court declined tmc leaders plea set aside calcutta high court order directing cbi investigate sting operation case \n",
      "실제 요약 : sostoken cbi files fir tmc leaders sting case \n",
      "추상적예측 요약 :  congress leader booked suicide cbi\n",
      "추출예측 요약 : Tanya accused Perera of meeting country's Sports Minister to secure his place in the team.\n",
      "\"We've become laughing stock of whole country...because of one person's personal vendetta,\" Perera wrote.\n",
      "\n",
      "\n",
      "원문 : railway ministry asked senior officials give privileges like executive class travel travelling ministry also ended year old protocol mandated general managers present arrival departure railway board members officials asked relieve railway staff working domestic help homes \n",
      "실제 요약 : sostoken rail officials give privileges end yr old protocol \n",
      "추상적예측 요약 :  railways asks railways travel travel travel travel\n",
      "추출예측 요약 : Goa CM and ex-Defence Minister Manohar Parrikar has written a letter to Congress President Rahul Gandhi over his claim that Parrikar told him he has nothing to do with new Rafale deal.\n",
      "\n",
      "\n",
      "원문 : two journalists died sunday allegedly run speeding car belonging former village head bihar bhojpur duo returning home covering ram navami procession car rammed motorcycle incident angry locals set car fire blocked state highway vandalised shops \n",
      "실제 요약 : sostoken journalists run ex village head car bihar \n",
      "추상적예측 요약 :  dead car driver falls car driver falls car\n",
      "추출예측 요약 : PM Modi then asked his officers to urgently arrange for an ambulance for the cameraman.\n",
      "\"It's good that PM was paying attention to his surroundings during his speech,\" the cameraman later said from a hospital.\n",
      "\n",
      "\n",
      "원문 : following birth fourth child real madrid forward cristiano ronaldo said wants win seven ballon seven children means intend stop win win ronaldo added ronaldo contention win fifth ballon announced next month \n",
      "실제 요약 : sostoken want seven children seven ballon awards ronaldo \n",
      "추상적예측 요약 :  ronaldo reveals ronaldo face goal\n",
      "추출예측 요약 : A couple got divorced minutes after their wedding ceremony got over in Gujarat's Gondal as a disagreement broke out and relatives from both sides started throwing dishes at each other during lunch.\n",
      "\n",
      "\n",
      "원문 : least people killed others injured around vehicles collided china province wednesday due low visibility caused fog authorities said accident caused several vehicles catch fire blaze two hours left several cars completely burnt \n",
      "실제 요약 : sostoken die vehicle collision due fog china \n",
      "추상적예측 요약 :  killed injured explosion collapses\n",
      "추출예측 요약 : Gujarat Education Minister Bhupendrasinh Chudasma has written a congratulatory message to a yoga ashram run by rape-convict Asaram's organisation for observing February 14 as \"Matru-Pitru Pujan Divas\" (Mother-Father worship day).\n",
      "\n",
      "\n",
      "원문 : celina jaitly lost father recently said regrets reaching time meet one last time dubai father passed away reached time last rites celina added matter much think prepared inevitable never ready parent loss \n",
      "실제 요약 : sostoken could hear voice one last time celina dad death \n",
      "추상적예측 요약 :  father father demise\n",
      "추출예측 요약 : Venezuelan President NicolÃÂ¡s Maduro has claimed that his American counterpart Donald Trump ordered the Colombian government and the Colombian mafia to kill him.\n",
      "\n",
      "\n",
      "원문 : us president donald trump interview cbs news described north korean leader kim jong un pretty smart cookie saying assumed power young age despite dealing tough people however asked would consider military action response another nuclear test north korea trump said see \n",
      "실제 요약 : sostoken trump calls north korean dictator smart \n",
      "추상적예측 요약 :  kim jong un trump\n",
      "추출예측 요약 : Eight Asian billionaires aged 90 or above on the Bloomberg Billionaires Index of world's 500 richest people have a combined net worth of $125 billion.\n",
      "The richest among them is Hong Kong's Li Ka Shing with a net worth of $30.5 billion.\n",
      "\n",
      "\n",
      "원문 : year old man kashmir brother allegedly beaten vehicle damaged near bus stop bengaluru speaking kannada two accused arrested based footage cctv installed near bus stop chief minister mehbooba mufti asked authorities take strict action accused \n",
      "실제 요약 : sostoken brothers assaulted bengaluru speaking kannada \n",
      "추상적예측 요약 :  man killed road dispute maharashtra\n",
      "추출예측 요약 : Tamil Nadu food safety officials on Wednesday raided and seized 1,000 kgs of banned plastic items from Hotel Saravana Bhavan in Chennai's Vadapalani.\n",
      "\n",
      "\n",
      "원문 : company sued australian tennis player right use special nickname commercially wants stop year old using term special part branding campaign would include clothing tennis wear company australian trademark special dates back years \n",
      "실제 요약 : sostoken company sues tennis player right use nickname \n",
      "추상적예측 요약 :  tennis player banned using\n",
      "추출예측 요약 : Actress Shamita Shetty was verbally abused and her driver was slapped in an incident of road rage in Mumbai on Tuesday, as per reports.\n",
      "\n",
      "\n",
      "원문 : gujarat chief minister vijay rupani wednesday tweeted upcoming sanjay leela bhansali directorial padmavati allowed release state elections could law order situation many sections opposed rupani added said foul play great culture tolerated \n",
      "실제 요약 : sostoken allow padmavati release gujarat cm rupani \n",
      "추상적예측 요약 :  release date bhansali bhansali\n",
      "추출예측 요약 : Actress Vaani Kapoor said that trolling has become a norm on social media, adding, \"There's no one who hasn't got trolled on social media.\" \"Everybody is out there to pull the other person down but it'll only bother [you] if you let it bother you,\" Vaani added.\n",
      "\n",
      "\n",
      "원문 : alia bhatt mother soni razdan said alia need guidance choose films quite sorted individual follows strong instinct mother always alia knows wants professionally personally added soni said impressed alia performances udta punjab highway dear zindagi \n",
      "실제 요약 : sostoken alia need guidance choose films soni \n",
      "추상적예측 요약 :  alia bhatt bhatt\n",
      "추출예측 요약 : Actress Sushmita Sen took to Instagram to share a joke on the subject of marriage.\n",
      "\"This is an insult to [the] beauty of marriage,\" an Instagram user commented on her post.\n",
      "\n",
      "\n",
      "원문 : two passengers arrested guwahati airport allegedly hiding five gold bars gold bars wrapped balloons weighed approximately kg worth lakh accused supposed board delhi bound flight arrested cisf personnel found activities suspicious \n",
      "실제 요약 : sostoken men hide gold worth lakh get arrested \n",
      "추상적예측 요약 :  man held smuggling gold rectum delhi airport\n",
      "추출예측 요약 : Television actor Karanvir Bohra, who flew to Russia on Tuesday to attend a film festival, has been detained in Moscow due to passport damage.\n",
      "\n",
      "\n",
      "원문 : west bengal cm mamata banerjee said happy see bjp leaders lk advani sushma swaraj sumitra mahajan become india next president notably president pranab mukherjee term end july per reports pm narendra modi proposed advani name president post \n",
      "실제 요약 : sostoken back advani sushma swaraj prez post mamata \n",
      "추상적예측 요약 :  mamata gandhi would take oath mamata\n",
      "추출예측 요약 : While speaking about winning awards for his films, Shah Rukh Khan said, \"If I don't get an award, that award is at a loss.\" \"Sometimes, the prestige of an award increases when I receive it,\" the actor jokingly added.\n",
      "\n",
      "\n",
      "원문 : twitter users slammed disney releasing official black panther collector badge white character superhero character shown king fictional african nation user tweeted white washed black panther pin however disney later apologised saying shot bright light caused differences colour \n",
      "실제 요약 : sostoken disney slammed using white man black panther \n",
      "추상적예측 요약 :  twitter reacts black panther tribute\n",
      "추출예측 요약 : Actress Patralekhaa will make her debut in the Kannada film industry with the action-comedy film 'Where is my Kannadaka?' \"I can definitely say that itÃ¢ÂÂs a kind of role that I havenÃ¢ÂÂt portrayed on screen so far and that makes it special for me,\" the actress said in a statement.\n",
      "\n",
      "\n",
      "원문 : gautam gambhir announced retirement tuesday said wants open batting bowling next life despite pains fears failures mind repeat next life wins hundreds maybe wicket hauls well said video \n",
      "실제 요약 : sostoken want open batting bowling next life gambhir \n",
      "추상적예측 요약 :  would like play play ipl\n",
      "추출예측 요약 : Gmail on Tuesday faced a global outage, which also affected India, wherein certain users complained they faced a '404 error' message while trying to sign-in to their accounts.\n",
      "\n",
      "\n",
      "원문 : hearing petition filed congress jd alliance karnataka governor vajubhai vala decision supreme court thursday refused stay swearing ceremony bjp bs yeddyurappa chief minister however three judge sc bench dismiss petition saying subject hearing later \n",
      "실제 요약 : sostoken sc refuses stay swearing bjp yeddyurappa taka cm \n",
      "추상적예측 요약 :  sc verdict taka cm kejriwal\n",
      "추출예측 요약 : Shiv Sena chief Uddhav Thackeray has asked the BJP to decide about the alliance with the Sena within 15 days and said the BJP should make a concrete proposal on the alliance.\n",
      "\n",
      "\n",
      "원문 : technology giant apple supplier foxconn employing high school students illegally work overtime assembling iphone according reports students claimed routinely worked hour shifts help manufacture apple flagship phone factory china statement apple said took action discovering students working overtime \n",
      "실제 요약 : sostoken illegal teenage labour used iphone report \n",
      "추상적예측 요약 :  apple school app face recognition tech factory\n",
      "추출예측 요약 : He said the Opposition is thinking about leading the country but does not have a leader.\n",
      "\n",
      "\n",
      "원문 : delhi police arrested one key suppliers drugs school college students delhi ncr uttar pradesh reward arrest used target students providing fast delivery drugs nabbed police received tip visit university bareilly \n",
      "실제 요약 : sostoken drug targeted students delhi ncr arrested \n",
      "추상적예측 요약 :  delhi police school teacher arrested\n",
      "추출예측 요약 : He added decisions like demonetisation and RERA have put a check on black money that used to be \"parked in the real estate sector\".\n",
      "\n",
      "\n"
     ]
    }
   ],
   "source": [
    "for i in range(50, 100):\n",
    "    print(\"원문 :\", seq2text(encoder_input_test[i]))\n",
    "    print(\"실제 요약 :\", seq2summary(decoder_input_test[i]))\n",
    "    print(\"추상적예측 요약 :\", decode_sequence(encoder_input_test[i].reshape(1, text_max_len)))\n",
    "    print(\"추출예측 요약 :\",summarize(summa_data['text'][i], words=30))\n",
    "    print('\\n')\n"
   ]
  },
  {
   "cell_type": "markdown",
   "id": "80fde6c0",
   "metadata": {},
   "source": [
    "문장의 길이가 너무 짧아 추상적요약은 어느정도 문맥은 파악하였지만 다루는 내용을 원문에 핵심내용이 아님\n",
    "그리고 추출적요약은 주제와 완전 다른 주제를 언급하고 있음\n",
    "### 둘 다 잘 된 요약은 아닌것 같지만 그래도 추상적요약이 쫌 더 성능이 좋다."
   ]
  },
  {
   "cell_type": "markdown",
   "id": "f6c7e2e0",
   "metadata": {},
   "source": [
    "# 회고\n",
    "```\n",
    "자연어처리에서는 데이터전처리과정이 많다는 것을 느꼈다. 텍스트데이터를 전처리하는 프로세스를 충분히 숙지해야 할 필요성을 느꼈다.\n",
    "또한 점점 학습시간이 오래 걸리는것이 느껴진다. 이제는 모델을 설계함에있어 cost적인 부분도 고려하여야겠다는 생각이 들었다.\n",
    "```"
   ]
  },
  {
   "cell_type": "markdown",
   "id": "ac8c604f",
   "metadata": {},
   "source": []
  }
 ],
 "metadata": {
  "kernelspec": {
   "display_name": "Python 3 (ipykernel)",
   "language": "python",
   "name": "python3"
  },
  "language_info": {
   "codemirror_mode": {
    "name": "ipython",
    "version": 3
   },
   "file_extension": ".py",
   "mimetype": "text/x-python",
   "name": "python",
   "nbconvert_exporter": "python",
   "pygments_lexer": "ipython3",
   "version": "3.9.7"
  }
 },
 "nbformat": 4,
 "nbformat_minor": 5
}
