{
  "cells": [
    {
      "cell_type": "markdown",
      "metadata": {
        "id": "dp-fzsErJ3jq"
      },
      "source": [
        "## 당뇨병환자 데이터 로드"
      ]
    },
    {
      "cell_type": "code",
      "execution_count": 212,
      "metadata": {
        "id": "yUvbFhTsJRks"
      },
      "outputs": [],
      "source": [
        "from sklearn.datasets import load_diabetes\n",
        "import numpy as np\n",
        "\n",
        "diabetes = load_diabetes()"
      ]
    },
    {
      "cell_type": "code",
      "execution_count": 213,
      "metadata": {
        "colab": {
          "base_uri": "https://localhost:8080/"
        },
        "id": "9IzrwBOdKGkZ",
        "outputId": "e41968bd-8230-4b1f-aa2a-5161420be8c0"
      },
      "outputs": [
        {
          "name": "stdout",
          "output_type": "stream",
          "text": [
            "(442, 10)\n",
            "(442,)\n",
            "<class 'numpy.ndarray'>\n",
            "<class 'numpy.ndarray'>\n"
          ]
        }
      ],
      "source": [
        "df_X = diabetes.data\n",
        "df_y = diabetes.target\n",
        "\n",
        "print(df_X.shape)\n",
        "print(df_y.shape)\n",
        "\n",
        "print(type(df_X))\n",
        "print(type(df_y))"
      ]
    },
    {
      "cell_type": "markdown",
      "metadata": {
        "id": "quAXFGVCJcXV"
      },
      "source": []
    },
    {
      "cell_type": "markdown",
      "metadata": {
        "id": "ap9AP0KfTnLN"
      },
      "source": [
        "데이터 분리"
      ]
    },
    {
      "cell_type": "code",
      "execution_count": 214,
      "metadata": {
        "colab": {
          "base_uri": "https://localhost:8080/"
        },
        "id": "YOg8k_lGMXMJ",
        "outputId": "5382eadf-22dd-49cd-bd35-3204dca31322"
      },
      "outputs": [
        {
          "name": "stdout",
          "output_type": "stream",
          "text": [
            "(353, 10) (353,)\n",
            "(89, 10) (89,)\n"
          ]
        }
      ],
      "source": [
        "from sklearn.model_selection import train_test_split\n",
        "\n",
        "X_train, X_test, y_train, y_test = train_test_split(df_X, df_y, test_size=0.2, random_state=42)\n",
        "\n",
        "print(X_train.shape, y_train.shape)\n",
        "print(X_test.shape, y_test.shape)"
      ]
    },
    {
      "cell_type": "markdown",
      "metadata": {
        "id": "NV9Ev2K2Tu9q"
      },
      "source": [
        "기울기와 절편설정"
      ]
    },
    {
      "cell_type": "code",
      "execution_count": 216,
      "metadata": {
        "colab": {
          "base_uri": "https://localhost:8080/"
        },
        "id": "56kxTlOfMnxG",
        "outputId": "38e0b3e6-cf41-4db3-8051-fdc89fa79426"
      },
      "outputs": [
        {
          "name": "stdout",
          "output_type": "stream",
          "text": [
            "[0.2206803  0.44297285 0.2108665  0.54242731 0.9565613  0.28907347\n",
            " 0.91293016 0.91054408 0.62369651 0.18334026] [0.89401209]\n"
          ]
        }
      ],
      "source": [
        "W = np.random.rand(10)\n",
        "b = np.random.rand(1)\n",
        "\n",
        "print(W, b)"
      ]
    },
    {
      "cell_type": "markdown",
      "metadata": {
        "id": "H0OyDQY_TxF1"
      },
      "source": [
        "모델 정의"
      ]
    },
    {
      "cell_type": "code",
      "execution_count": 217,
      "metadata": {
        "id": "hZH0hR8kNYW_"
      },
      "outputs": [],
      "source": [
        "def model(X,w,b):\n",
        "  predictions = 0\n",
        "  for i in range(10):\n",
        "    predictions += X[:,i] * w[i]\n",
        "  predictions += b\n",
        "  return predictions"
      ]
    },
    {
      "cell_type": "markdown",
      "metadata": {
        "id": "vi7guUh6TyHj"
      },
      "source": [
        "손실함수, loss, gradient 정의"
      ]
    },
    {
      "cell_type": "code",
      "execution_count": 218,
      "metadata": {
        "id": "qmFLm0sCOIWr"
      },
      "outputs": [],
      "source": [
        "def MSE(a,b):\n",
        "  mse = ((a-b) ** 2).mean()\n",
        "  return mse\n",
        "\n",
        "def loss(X,W,b,y):\n",
        "  predictions = model(X,W,b)\n",
        "  Loss = MSE(predictions,y)\n",
        "  return Loss\n",
        "\n",
        "def gradient(X,W,b,y):\n",
        "  N = len(y)\n",
        "\n",
        "  y_pred = model(X,W,b)\n",
        "\n",
        "  dW = 1/N * 2 * X.T.dot(y_pred - y)\n",
        "\n",
        "  db = 2 * (y_pred - y).mean()\n",
        "\n",
        "  return dW, db\n"
      ]
    },
    {
      "cell_type": "markdown",
      "metadata": {
        "id": "F4MYRIBoT11M"
      },
      "source": [
        "gradient를 통해 최적의 해 출력"
      ]
    },
    {
      "cell_type": "code",
      "execution_count": 219,
      "metadata": {
        "colab": {
          "base_uri": "https://localhost:8080/"
        },
        "id": "umLdm7D2O_qs",
        "outputId": "30e78207-c0bb-4435-9dfc-ea5080f0c129"
      },
      "outputs": [
        {
          "name": "stdout",
          "output_type": "stream",
          "text": [
            "dW: [-1.85307598 -0.10575797 -4.97582291 -3.70994536 -1.30374268 -0.89308103\n",
            "  3.11301403 -3.26956753 -4.47441466 -3.51157682]\n",
            "db: -305.6826914189957\n"
          ]
        }
      ],
      "source": [
        "dW, db = gradient(X_train, W, b, y_train)\n",
        "print(\"dW:\", dW)\n",
        "print(\"db:\", db)"
      ]
    },
    {
      "cell_type": "markdown",
      "metadata": {
        "id": "rNpXS0dWT9c6"
      },
      "source": [
        "하이퍼 파라미터 설정 모델학습"
      ]
    },
    {
      "cell_type": "code",
      "execution_count": 220,
      "metadata": {
        "colab": {
          "base_uri": "https://localhost:8080/"
        },
        "id": "QydbLFP2P8uR",
        "outputId": "ff2beb5d-b3a6-4771-c2a9-e3cade0d633a"
      },
      "outputs": [
        {
          "name": "stdout",
          "output_type": "stream",
          "text": [
            "Loss: 21009.33210270574\n",
            "Loss: 5374.60836162053\n",
            "Loss: 4873.622844558953\n",
            "Loss: 4501.0414571411\n",
            "Loss: 4220.265083596804\n",
            "Loss: 4005.545418186354\n",
            "Loss: 3838.72344438633\n",
            "Loss: 3706.952945363982\n",
            "Loss: 3601.1110505843167\n",
            "Loss: 3514.6880282212283\n",
            "Loss: 3443.011426359632\n",
            "Loss: 3382.7035176189124\n",
            "Loss: 3331.3015774807277\n",
            "Loss: 3286.991846072655\n",
            "Loss: 3248.422889042114\n",
            "Loss: 3214.5744394235253\n",
            "Loss: 3184.665031370414\n",
            "Loss: 3158.0867781080965\n",
            "Loss: 3134.359162684257\n",
            "Loss: 3113.0961627676547\n",
            "Loss: 3093.9827417883516\n",
            "Loss: 3076.757932579832\n",
            "Loss: 3061.202572874515\n",
            "Loss: 3047.13033364166\n",
            "Loss: 3034.381087430171\n",
            "Loss: 3022.8159476466253\n",
            "Loss: 3012.3135080610036\n",
            "Loss: 3002.7669505926256\n",
            "Loss: 2994.0817865831436\n",
            "Loss: 2986.174064864975\n",
            "Loss: 2978.9689277390135\n",
            "Loss: 2972.399429594764\n",
            "Loss: 2966.4055566027414\n",
            "Loss: 2960.9334026593915\n",
            "Loss: 2955.934468647106\n",
            "Loss: 2951.3650605377134\n",
            "Loss: 2947.1857679318837\n",
            "Loss: 2943.3610089986996\n",
            "Loss: 2939.8586309559623\n",
            "Loss: 2936.6495575606045\n",
            "Loss: 2933.7074768041616\n",
            "Loss: 2931.0085633021135\n",
            "Loss: 2928.5312308490643\n",
            "Loss: 2926.25591136941\n",
            "Loss: 2924.164857085914\n",
            "Loss: 2922.241963199453\n",
            "Loss: 2920.4726087528584\n",
            "Loss: 2918.8435136623616\n",
            "Loss: 2917.3426101577106\n",
            "Loss: 2915.958927088234\n"
          ]
        }
      ],
      "source": [
        "l_r = 0.1\n",
        "\n",
        "losses = []\n",
        "\n",
        "for i in range(5000):\n",
        "  dW, db = gradient(X_train, W, b, y_train)\n",
        "  W = W - l_r * dW\n",
        "  b = b - l_r * db\n",
        "  Loss = loss(X_train, W, b, y_train)\n",
        "  losses.append(Loss)\n",
        "  if i % 100 == 0:\n",
        "    print(\"Loss:\", Loss)"
      ]
    },
    {
      "cell_type": "markdown",
      "metadata": {},
      "source": [
        "모델 학습"
      ]
    },
    {
      "cell_type": "code",
      "execution_count": 221,
      "metadata": {
        "colab": {
          "base_uri": "https://localhost:8080/"
        },
        "id": "-TwMUha7RiyJ",
        "outputId": "1766dfd7-41ca-43d6-f3b8-eda11f808d17"
      },
      "outputs": [
        {
          "data": {
            "text/plain": [
              "np.float64(2866.840653864616)"
            ]
          },
          "execution_count": 221,
          "metadata": {},
          "output_type": "execute_result"
        }
      ],
      "source": [
        "prediction = model(X_test, W, b)\n",
        "mse = loss(X_test, W, b, y_test)\n",
        "mse"
      ]
    },
    {
      "cell_type": "markdown",
      "metadata": {},
      "source": [
        "학습결과 시각화"
      ]
    },
    {
      "cell_type": "code",
      "execution_count": 222,
      "metadata": {
        "colab": {
          "base_uri": "https://localhost:8080/",
          "height": 430
        },
        "id": "rYeW0ItZRrZj",
        "outputId": "b2820614-323e-4427-aacf-0de50bf62863"
      },
      "outputs": [
        {
          "data": {
            "image/png": "[encoded data removed]",
            "text/plain": [
              "<Figure size 640x480 with 1 Axes>"
            ]
          },
          "metadata": {},
          "output_type": "display_data"
        }
      ],
      "source": [
        "import matplotlib.pyplot as plt\n",
        "\n",
        "\n",
        "plt.scatter(X_test[:, 0], y_test)\n",
        "plt.scatter(X_test[:, 0], prediction)\n",
        "plt.show()"
      ]
    }
  ],
  "metadata": {
    "colab": {
      "provenance": []
    },
    "kernelspec": {
      "display_name": "Python 3",
      "name": "python3"
    },
    "language_info": {
      "name": "python"
    }
  },
  "nbformat": 4,
  "nbformat_minor": 0
}
