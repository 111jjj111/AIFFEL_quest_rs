{
 "cells": [
  {
   "cell_type": "code",
   "execution_count": 1,
   "metadata": {
    "colab": {
     "base_uri": "https://localhost:8080/"
    },
    "id": "y0jCM6yDEdEW",
    "outputId": "35a40b03-57e5-4e2e-be60-1e6b63bc7422"
   },
   "outputs": [
    {
     "name": "stdout",
     "output_type": "stream",
     "text": [
      "2.6.0\n",
      "1.21.4\n",
      "3.4.3\n",
      "0.5.2\n"
     ]
    }
   ],
   "source": [
    "import tensorflow as tf\n",
    "import numpy as np\n",
    "import matplotlib as plt\n",
    "import konlpy\n",
    "\n",
    "print(tf.__version__)\n",
    "print(np.__version__)\n",
    "print(plt.__version__)\n",
    "print(konlpy.__version__)"
   ]
  },
  {
   "cell_type": "markdown",
   "metadata": {
    "id": "5C-nXs3ZxtYg"
   },
   "source": [
    "tokenize 함수정의"
   ]
  },
  {
   "cell_type": "code",
   "execution_count": 2,
   "metadata": {
    "id": "--KSPqygnbqM"
   },
   "outputs": [],
   "source": [
    "def tokenize(corpus):\n",
    "  tokenizer = tf.keras.preprocessing.text.Tokenizer(filters='')\n",
    "  tokenizer.fit_on_texts(corpus)\n",
    "\n",
    "  tensor = tokenizer.texts_to_sequences(corpus)\n",
    "\n",
    "  tensor = tf.keras.preprocessing.sequence.pad_sequences(tensor, padding='post')\n",
    "\n",
    "  return tensor, tokenizer"
   ]
  },
  {
   "cell_type": "markdown",
   "metadata": {
    "id": "b3H3oTvxxzv0"
   },
   "source": [
    "데이터 확인"
   ]
  },
  {
   "cell_type": "code",
   "execution_count": 3,
   "metadata": {
    "colab": {
     "base_uri": "https://localhost:8080/"
    },
    "id": "0OpDFtX49phn",
    "outputId": "cb7d7b34-08d7-4c27-c4b5-a81de759978b"
   },
   "outputs": [
    {
     "name": "stdout",
     "output_type": "stream",
     "text": [
      "         id                                           document  label\n",
      "0   9976970                                아 더빙.. 진짜 짜증나네요 목소리      0\n",
      "1   3819312                  흠...포스터보고 초딩영화줄....오버연기조차 가볍지 않구나      1\n",
      "2  10265843                                  너무재밓었다그래서보는것을추천한다      0\n",
      "3   9045019                      교도소 이야기구먼 ..솔직히 재미는 없다..평점 조정      0\n",
      "4   6483659  사이몬페그의 익살스런 연기가 돋보였던 영화!스파이더맨에서 늙어보이기만 했던 커스틴 ...      1\n"
     ]
    }
   ],
   "source": [
    "import pandas as pd\n",
    "\n",
    "train_df = pd.read_csv(\"ratings_train.txt\", sep=\"\\t\")\n",
    "test_df = pd.read_csv(\"ratings_test.txt\", sep=\"\\t\")\n",
    "\n",
    "print(train_df.head())"
   ]
  },
  {
   "cell_type": "code",
   "execution_count": 4,
   "metadata": {},
   "outputs": [
    {
     "name": "stdout",
     "output_type": "stream",
     "text": [
      "<class 'pandas.core.frame.DataFrame'>\n",
      "RangeIndex: 150000 entries, 0 to 149999\n",
      "Data columns (total 3 columns):\n",
      " #   Column    Non-Null Count   Dtype \n",
      "---  ------    --------------   ----- \n",
      " 0   id        150000 non-null  int64 \n",
      " 1   document  149995 non-null  object\n",
      " 2   label     150000 non-null  int64 \n",
      "dtypes: int64(2), object(1)\n",
      "memory usage: 3.4+ MB\n"
     ]
    }
   ],
   "source": [
    "train_df.info()"
   ]
  },
  {
   "cell_type": "markdown",
   "metadata": {},
   "source": [
    "중복데이터 확인"
   ]
  },
  {
   "cell_type": "code",
   "execution_count": 5,
   "metadata": {},
   "outputs": [
    {
     "data": {
      "text/html": [
       "<div>\n",
       "<style scoped>\n",
       "    .dataframe tbody tr th:only-of-type {\n",
       "        vertical-align: middle;\n",
       "    }\n",
       "\n",
       "    .dataframe tbody tr th {\n",
       "        vertical-align: top;\n",
       "    }\n",
       "\n",
       "    .dataframe thead th {\n",
       "        text-align: right;\n",
       "    }\n",
       "</style>\n",
       "<table border=\"1\" class=\"dataframe\">\n",
       "  <thead>\n",
       "    <tr style=\"text-align: right;\">\n",
       "      <th></th>\n",
       "      <th>id</th>\n",
       "      <th>document</th>\n",
       "      <th>label</th>\n",
       "    </tr>\n",
       "  </thead>\n",
       "  <tbody>\n",
       "  </tbody>\n",
       "</table>\n",
       "</div>"
      ],
      "text/plain": [
       "Empty DataFrame\n",
       "Columns: [id, document, label]\n",
       "Index: []"
      ]
     },
     "execution_count": 5,
     "metadata": {},
     "output_type": "execute_result"
    }
   ],
   "source": [
    "train_df[train_df.duplicated()]"
   ]
  },
  {
   "cell_type": "markdown",
   "metadata": {},
   "source": [
    "결측치 제거"
   ]
  },
  {
   "cell_type": "code",
   "execution_count": 6,
   "metadata": {},
   "outputs": [],
   "source": [
    "train_df = train_df.dropna(subset=['document']).reset_index(drop=True)\n",
    "test_df = test_df.dropna(subset=['document']).reset_index(drop=True)"
   ]
  },
  {
   "cell_type": "markdown",
   "metadata": {},
   "source": [
    "데이터 전처리 함수 정의"
   ]
  },
  {
   "cell_type": "code",
   "execution_count": 7,
   "metadata": {
    "id": "uQ7nTURE83hA"
   },
   "outputs": [],
   "source": [
    "import re\n",
    "\n",
    "def clean_text(text):\n",
    "    text = text.lower()\n",
    "    text = re.sub(r\"[^가-힣ㄱ-ㅎㅏ-ㅣa-zA-Z0-9?.!,♡♥^;]+\", \" \", text)\n",
    "    text = text.strip()\n",
    "    return text\n",
    "\n",
    "train_df[\"document\"] = train_df[\"document\"].astype(str).apply(clean_text)\n",
    "test_df[\"document\"] = test_df[\"document\"].astype(str).apply(clean_text)"
   ]
  },
  {
   "cell_type": "code",
   "execution_count": 8,
   "metadata": {
    "colab": {
     "base_uri": "https://localhost:8080/",
     "height": 241
    },
    "id": "HA6VtJKY-D06",
    "outputId": "d28fbfec-8b9b-4941-da9a-160b95f26502"
   },
   "outputs": [
    {
     "data": {
      "text/plain": [
       "0                                  아 더빙.. 진짜 짜증나네요 목소리\n",
       "1                    흠...포스터보고 초딩영화줄....오버연기조차 가볍지 않구나\n",
       "2                                    너무재밓었다그래서보는것을추천한다\n",
       "3                        교도소 이야기구먼 ..솔직히 재미는 없다..평점 조정\n",
       "4    사이몬페그의 익살스런 연기가 돋보였던 영화!스파이더맨에서 늙어보이기만 했던 커스틴 ...\n",
       "Name: document, dtype: object"
      ]
     },
     "execution_count": 8,
     "metadata": {},
     "output_type": "execute_result"
    }
   ],
   "source": [
    "train_df[\"document\"].head()"
   ]
  },
  {
   "cell_type": "code",
   "execution_count": 9,
   "metadata": {},
   "outputs": [
    {
     "data": {
      "text/plain": [
       "0                                                  굳 ㅋ\n",
       "1                                 gdntopclassintheclub\n",
       "2               뭐야 이 평점들은.... 나쁘진 않지만 10점 짜리는 더더욱 아니잖아\n",
       "3                     지루하지는 않은데 완전 막장임... 돈주고 보기에는....\n",
       "4    3d만 아니었어도 별 다섯 개 줬을텐데.. 왜 3d로 나와서 제 심기를 불편하게 하죠??\n",
       "Name: document, dtype: object"
      ]
     },
     "execution_count": 9,
     "metadata": {},
     "output_type": "execute_result"
    }
   ],
   "source": [
    "test_df[\"document\"].head()"
   ]
  },
  {
   "cell_type": "code",
   "execution_count": 10,
   "metadata": {
    "colab": {
     "base_uri": "https://localhost:8080/",
     "height": 504
    },
    "id": "RKTTLthg65PN",
    "outputId": "e0713304-f657-4a03-dcdd-7d9f9a6c2532"
   },
   "outputs": [
    {
     "name": "stdout",
     "output_type": "stream",
     "text": [
      "문장의 최단 길이: 0\n",
      "문장의 최장 길이: 140\n",
      "문장의 평균 길이: 35\n"
     ]
    },
    {
     "data": {
      "image/png": "[encoded data removed]",
      "text/plain": [
       "<Figure size 432x288 with 1 Axes>"
      ]
     },
     "metadata": {
      "needs_background": "light"
     },
     "output_type": "display_data"
    }
   ],
   "source": [
    "import matplotlib.pyplot as plt\n",
    "min_len = 999\n",
    "max_len = 0\n",
    "sum_len = 0\n",
    "\n",
    "for sen in train_df[\"document\"]:\n",
    "    length = len(sen)\n",
    "    if min_len > length: min_len = length\n",
    "    if max_len < length: max_len = length\n",
    "    sum_len += length\n",
    "\n",
    "print(\"문장의 최단 길이:\", min_len)\n",
    "print(\"문장의 최장 길이:\", max_len)\n",
    "print(\"문장의 평균 길이:\", sum_len // len(train_df[\"document\"]))\n",
    "\n",
    "sentence_length = np.zeros((max_len), dtype=int)\n",
    "\n",
    "for sen in train_df[\"document\"]:\n",
    "    sentence_length[len(sen)-1] += 1\n",
    "\n",
    "plt.bar(range(max_len), sentence_length, width=1.0)\n",
    "plt.title(\"Sentence Length Distribution\")\n",
    "plt.show()"
   ]
  },
  {
   "cell_type": "code",
   "execution_count": 11,
   "metadata": {
    "colab": {
     "base_uri": "https://localhost:8080/"
    },
    "id": "2UCerPvf8Dcn",
    "outputId": "cbb83161-4566-452f-8f02-4b427ff77ea7"
   },
   "outputs": [
    {
     "name": "stdout",
     "output_type": "stream",
     "text": [
      "아\n",
      "잼\n",
      "즐\n",
      "1\n",
      "4\n",
      "4\n",
      "굿\n",
      "짱\n",
      "휴\n",
      ".\n",
      "1\n",
      "굿\n",
      "음\n",
      "?\n",
      "?\n",
      "ㅎ\n",
      "굿\n",
      "ㅋ\n",
      "굿\n",
      "즐\n",
      "♥\n",
      "^\n",
      "굳\n",
      "ㅋ\n",
      "네\n",
      "ㅎ\n",
      "ㅋ\n",
      "굿\n",
      "ㅇ\n",
      "k\n",
      ".\n",
      "굿\n",
      "굿\n",
      "굳\n",
      "ㅠ\n",
      "?\n",
      "짱\n",
      "1\n",
      "ㅋ\n",
      "굿\n",
      "우\n",
      "쒯\n",
      "?\n",
      "굿\n",
      "굿\n",
      "굳\n",
      "굿\n",
      "토\n",
      "ㅋ\n",
      "ㅋ\n",
      "굿\n",
      "ㅋ\n",
      "굿\n",
      "o\n",
      "똥\n",
      "ㅎ\n",
      ".\n",
      "굿\n",
      "ㅎ\n",
      "짱\n",
      "굳\n",
      "굿\n",
      "굿\n",
      "짱\n",
      "?\n",
      "z\n",
      "굿\n",
      "?\n",
      "짱\n",
      "음\n",
      "굳\n",
      "ㅇ\n",
      "헐\n",
      "굳\n",
      "굳\n",
      "굿\n",
      "굿\n",
      "굿\n",
      "삼\n",
      "꽝\n",
      "굿\n",
      "굿\n",
      "굿\n",
      "굿\n",
      "ㅎ\n",
      "굳\n",
      "굿\n",
      "4\n",
      "!\n",
      "?\n",
      "ㅎ\n",
      "1\n",
      "굳\n",
      ".\n",
      "ㅎ\n",
      "풉\n",
      "아\n",
      "굿\n",
      "똥\n",
      "ㅅ\n",
      "왜\n"
     ]
    }
   ],
   "source": [
    "def check_sentence_with_length(raw, length):\n",
    "    count = 0\n",
    "\n",
    "    for sen in train_df[\"document\"]:\n",
    "        if len(sen) == length:\n",
    "            print(sen)\n",
    "            count += 1\n",
    "            if count > 100: return\n",
    "\n",
    "check_sentence_with_length(train_df[\"document\"], 1)"
   ]
  },
  {
   "cell_type": "markdown",
   "metadata": {},
   "source": [
    "문자열 자르기"
   ]
  },
  {
   "cell_type": "code",
   "execution_count": 18,
   "metadata": {
    "colab": {
     "base_uri": "https://localhost:8080/",
     "height": 452
    },
    "id": "hbU2iKvo-oJo",
    "outputId": "2a8bf6e0-782b-4c0c-a16b-f520977a7e17"
   },
   "outputs": [
    {
     "data": {
      "image/png": "[encoded data removed]",
      "text/plain": [
       "<Figure size 432x288 with 1 Axes>"
      ]
     },
     "metadata": {
      "needs_background": "light"
     },
     "output_type": "display_data"
    }
   ],
   "source": [
    "max_len = 45\n",
    "min_len = 5\n",
    "\n",
    "train_df = train_df[train_df[\"document\"].str.len() <= max_len].reset_index(drop=True)\n",
    "train_df = train_df[train_df[\"document\"].str.len() >= min_len].reset_index(drop=True)\n",
    "\n",
    "sentence_length = np.zeros((max_len),dtype=int)\n",
    "filtered_corpus = train_df[\"document\"].tolist()\n",
    "for sen in filtered_corpus:\n",
    "  sentence_length[len(sen)-1] += 1\n",
    "\n",
    "plt.bar(range(max_len), sentence_length, width=1.0)\n",
    "plt.title(\"Sentence Length Distribution\")\n",
    "plt.show()"
   ]
  },
  {
   "cell_type": "code",
   "execution_count": 16,
   "metadata": {},
   "outputs": [
    {
     "name": "stdout",
     "output_type": "stream",
     "text": [
      "count    113996.000000\n",
      "mean         23.567327\n",
      "std          10.756280\n",
      "min           5.000000\n",
      "25%          15.000000\n",
      "50%          22.000000\n",
      "75%          32.000000\n",
      "max          45.000000\n",
      "Name: document, dtype: float64\n"
     ]
    }
   ],
   "source": [
    "length = train_df[\"document\"].str.len()\n",
    "\n",
    "print(length.describe())"
   ]
  },
  {
   "cell_type": "code",
   "execution_count": 19,
   "metadata": {},
   "outputs": [
    {
     "data": {
      "text/plain": [
       "['아 더빙.. 진짜 짜증나네요 목소리',\n",
       " '흠...포스터보고 초딩영화줄....오버연기조차 가볍지 않구나',\n",
       " '너무재밓었다그래서보는것을추천한다',\n",
       " '교도소 이야기구먼 ..솔직히 재미는 없다..평점 조정',\n",
       " '막 걸음마 뗀 3세부터 초등학교 1학년생인 8살용영화.ㅋㅋㅋ...별반개도 아까움.',\n",
       " '원작의 긴장감을 제대로 살려내지못했다.',\n",
       " '액션이 없는데도 재미 있는 몇안되는 영화',\n",
       " '왜케 평점이 낮은건데? 꽤 볼만한데.. 헐리우드식 화려함에만 너무 길들여져 있나?',\n",
       " '걍인피니트가짱이다.진짜짱이다♥',\n",
       " '볼때마다 눈물나서 죽겠다90년대의 향수자극!!허진호는 감성절제멜로의 달인이다']"
      ]
     },
     "execution_count": 19,
     "metadata": {},
     "output_type": "execute_result"
    }
   ],
   "source": [
    "filtered_corpus[:10]"
   ]
  },
  {
   "cell_type": "code",
   "execution_count": 20,
   "metadata": {
    "id": "9P9F8OKMHp6c"
   },
   "outputs": [],
   "source": [
    "# 문장 길이 기준으로 필터링된 DataFrame 생성\n",
    "filtered_df = train_df[\n",
    "    train_df[\"document\"].apply(lambda x: min_len <= len(x) < max_len)\n",
    "].copy()\n"
   ]
  },
  {
   "cell_type": "code",
   "execution_count": 21,
   "metadata": {
    "colab": {
     "base_uri": "https://localhost:8080/"
    },
    "id": "2LyW0L8oKuiq",
    "outputId": "6cb5c45e-096e-4204-9926-182f7854e94f"
   },
   "outputs": [
    {
     "name": "stdout",
     "output_type": "stream",
     "text": [
      "<class 'pandas.core.frame.DataFrame'>\n",
      "Int64Index: 112093 entries, 0 to 113995\n",
      "Data columns (total 3 columns):\n",
      " #   Column    Non-Null Count   Dtype \n",
      "---  ------    --------------   ----- \n",
      " 0   id        112093 non-null  int64 \n",
      " 1   document  112093 non-null  object\n",
      " 2   label     112093 non-null  int64 \n",
      "dtypes: int64(2), object(1)\n",
      "memory usage: 3.4+ MB\n"
     ]
    }
   ],
   "source": [
    "filtered_df.info()"
   ]
  },
  {
   "cell_type": "markdown",
   "metadata": {
    "id": "UoWwIKGJhsHR"
   },
   "source": [
    "## SentencePiece 기반"
   ]
  },
  {
   "cell_type": "code",
   "execution_count": 28,
   "metadata": {
    "colab": {
     "base_uri": "https://localhost:8080/"
    },
    "id": "6KW6mSfYxE3L",
    "outputId": "e70855da-222f-4801-ef79-e7dcbec9796f"
   },
   "outputs": [
    {
     "name": "stderr",
     "output_type": "stream",
     "text": [
      "sentencepiece_trainer.cc(77) LOG(INFO) Starts training with : \n",
      "trainer_spec {\n",
      "  input: korean-english-park.train.ko\n",
      "  input_format: \n",
      "  model_prefix: korean_spm\n",
      "  model_type: UNIGRAM\n",
      "  vocab_size: 8000\n",
      "  self_test_sample_size: 0\n",
      "  character_coverage: 1\n",
      "  input_sentence_size: 0\n",
      "  shuffle_input_sentence: 1\n",
      "  seed_sentencepiece_size: 1000000\n",
      "  shrinking_factor: 0.75\n",
      "  max_sentence_length: 4192\n",
      "  num_threads: 16\n",
      "  num_sub_iterations: 2\n",
      "  max_sentencepiece_length: 16\n",
      "  split_by_unicode_script: 1\n",
      "  split_by_number: 1\n",
      "  split_by_whitespace: 1\n",
      "  split_digits: 0\n",
      "  treat_whitespace_as_suffix: 0\n",
      "  allow_whitespace_only_pieces: 0\n",
      "  required_chars: \n",
      "  byte_fallback: 0\n",
      "  vocabulary_output_piece_score: 1\n",
      "  train_extremely_large_corpus: 0\n",
      "  hard_vocab_limit: 1\n",
      "  use_all_vocab: 0\n",
      "  unk_id: 1\n",
      "  bos_id: 2\n",
      "  eos_id: 3\n",
      "  pad_id: 0\n",
      "  unk_piece: <unk>\n",
      "  bos_piece: <s>\n",
      "  eos_piece: </s>\n",
      "  pad_piece: <pad>\n",
      "  unk_surface:  ⁇ \n",
      "}\n",
      "normalizer_spec {\n",
      "  name: nmt_nfkc\n",
      "  add_dummy_prefix: 1\n",
      "  remove_extra_whitespaces: 1\n",
      "  escape_whitespaces: 1\n",
      "  normalization_rule_tsv: \n",
      "}\n",
      "denormalizer_spec {}\n",
      "trainer_interface.cc(329) LOG(INFO) SentenceIterator is not specified. Using MultiFileSentenceIterator.\n",
      "trainer_interface.cc(178) LOG(INFO) Loading corpus: korean-english-park.train.ko\n",
      "trainer_interface.cc(385) LOG(INFO) Loaded all 113996 sentences\n",
      "trainer_interface.cc(400) LOG(INFO) Adding meta_piece: <pad>\n",
      "trainer_interface.cc(400) LOG(INFO) Adding meta_piece: <unk>\n",
      "trainer_interface.cc(400) LOG(INFO) Adding meta_piece: <s>\n",
      "trainer_interface.cc(400) LOG(INFO) Adding meta_piece: </s>\n",
      "trainer_interface.cc(405) LOG(INFO) Normalizing sentences...\n",
      "trainer_interface.cc(466) LOG(INFO) all chars count=2800500\n",
      "trainer_interface.cc(487) LOG(INFO) Alphabet size=2355\n",
      "trainer_interface.cc(488) LOG(INFO) Final character coverage=1\n",
      "trainer_interface.cc(520) LOG(INFO) Done! preprocessed 113996 sentences.\n",
      "unigram_model_trainer.cc(139) LOG(INFO) Making suffix array...\n",
      "unigram_model_trainer.cc(143) LOG(INFO) Extracting frequent sub strings...\n",
      "unigram_model_trainer.cc(194) LOG(INFO) Initialized 180061 seed sentencepieces\n",
      "trainer_interface.cc(526) LOG(INFO) Tokenizing input sentences with whitespace: 113996\n",
      "trainer_interface.cc(537) LOG(INFO) Done! 200023\n",
      "unigram_model_trainer.cc(489) LOG(INFO) Using 200023 sentences for EM training\n",
      "unigram_model_trainer.cc(505) LOG(INFO) EM sub_iter=0 size=94519 obj=15.0075 num_tokens=461149 num_tokens/piece=4.8789\n",
      "unigram_model_trainer.cc(505) LOG(INFO) EM sub_iter=1 size=87806 obj=13.9835 num_tokens=464008 num_tokens/piece=5.28447\n",
      "unigram_model_trainer.cc(505) LOG(INFO) EM sub_iter=0 size=65827 obj=14.1185 num_tokens=485238 num_tokens/piece=7.37141\n",
      "unigram_model_trainer.cc(505) LOG(INFO) EM sub_iter=1 size=65720 obj=14.0552 num_tokens=485998 num_tokens/piece=7.39498\n",
      "unigram_model_trainer.cc(505) LOG(INFO) EM sub_iter=0 size=49284 obj=14.3526 num_tokens=513605 num_tokens/piece=10.4213\n",
      "unigram_model_trainer.cc(505) LOG(INFO) EM sub_iter=1 size=49276 obj=14.2799 num_tokens=513691 num_tokens/piece=10.4248\n",
      "unigram_model_trainer.cc(505) LOG(INFO) EM sub_iter=0 size=36957 obj=14.6082 num_tokens=540769 num_tokens/piece=14.6324\n",
      "unigram_model_trainer.cc(505) LOG(INFO) EM sub_iter=1 size=36957 obj=14.5308 num_tokens=540865 num_tokens/piece=14.635\n",
      "unigram_model_trainer.cc(505) LOG(INFO) EM sub_iter=0 size=27717 obj=14.8871 num_tokens=569602 num_tokens/piece=20.5506\n",
      "unigram_model_trainer.cc(505) LOG(INFO) EM sub_iter=1 size=27717 obj=14.8122 num_tokens=569606 num_tokens/piece=20.5508\n",
      "unigram_model_trainer.cc(505) LOG(INFO) EM sub_iter=0 size=20787 obj=15.2095 num_tokens=599049 num_tokens/piece=28.8184\n",
      "unigram_model_trainer.cc(505) LOG(INFO) EM sub_iter=1 size=20787 obj=15.1306 num_tokens=599063 num_tokens/piece=28.8191\n",
      "unigram_model_trainer.cc(505) LOG(INFO) EM sub_iter=0 size=15590 obj=15.5635 num_tokens=629528 num_tokens/piece=40.3802\n",
      "unigram_model_trainer.cc(505) LOG(INFO) EM sub_iter=1 size=15590 obj=15.4784 num_tokens=629539 num_tokens/piece=40.3809\n",
      "unigram_model_trainer.cc(505) LOG(INFO) EM sub_iter=0 size=11692 obj=15.9595 num_tokens=662731 num_tokens/piece=56.6824\n",
      "unigram_model_trainer.cc(505) LOG(INFO) EM sub_iter=1 size=11692 obj=15.8615 num_tokens=662836 num_tokens/piece=56.6914\n",
      "unigram_model_trainer.cc(505) LOG(INFO) EM sub_iter=0 size=8800 obj=16.4053 num_tokens=698022 num_tokens/piece=79.3207\n",
      "unigram_model_trainer.cc(505) LOG(INFO) EM sub_iter=1 size=8800 obj=16.2936 num_tokens=698367 num_tokens/piece=79.3599\n",
      "trainer_interface.cc(615) LOG(INFO) Saving model: korean_spm.model\n",
      "trainer_interface.cc(626) LOG(INFO) Saving vocabs: korean_spm.vocab\n"
     ]
    },
    {
     "name": "stdout",
     "output_type": "stream",
     "text": [
      "-rw-r--r-- 1 root root 371185 May  9 19:57 korean_spm.model\r\n",
      "-rw-r--r-- 1 root root 140671 May  9 19:57 korean_spm.vocab\r\n"
     ]
    }
   ],
   "source": [
    "import sentencepiece as spm\n",
    "import os\n",
    "\n",
    "model_path = \"korean-english-park.train.ko\"\n",
    "\n",
    "vocab_size = 8000\n",
    "model_prefix = \"korean_spm\"\n",
    "\n",
    "with open(model_path, 'w') as f:\n",
    "    for row in filtered_corpus:   # 이전에 나왔던 정제했던 corpus를 활용해서 진행해야 합니다.\n",
    "        f.write(str(row) + '\\n')\n",
    "\n",
    "spm.SentencePieceTrainer.Train(\n",
    "    input = model_path,\n",
    "    model_prefix = model_prefix,\n",
    "    vocab_size = vocab_size,\n",
    "    model_type = 'unigram',\n",
    "    character_coverage=1.0, \n",
    "    pad_id=0, unk_id=1,          # special token id를 명시적으로 설정\n",
    "    bos_id=2, eos_id=3\n",
    ")\n",
    "#위 Train에서  --model_type = unigram이 디폴트 적용되어 있습니다. --model_type = bpe로 옵션을 주어 변경할 수 있습니다.\n",
    "\n",
    "!ls -l korean_spm*"
   ]
  },
  {
   "cell_type": "markdown",
   "metadata": {
    "id": "qK0xiUOolf6j"
   },
   "source": [
    "SentencePiece Vocab 생성"
   ]
  },
  {
   "cell_type": "code",
   "execution_count": 29,
   "metadata": {
    "id": "h3kdxUO7xdrj"
   },
   "outputs": [],
   "source": [
    "def sp_tokenize(s, corpus):\n",
    "\n",
    "  tensor = []\n",
    "\n",
    "  for sen in corpus:\n",
    "    tensor.append(s.EncodeAsIds(sen))\n",
    "\n",
    "  with open(\"./korean_spm.vocab\", \"r\") as f:\n",
    "    vocab = f.readlines()\n",
    "\n",
    "  word_index = {}\n",
    "  index_word = {}\n",
    "\n",
    "  for idx, line in enumerate(vocab):\n",
    "    word = line.split(\"\\t\")[0]\n",
    "\n",
    "    word_index.update({word:idx})\n",
    "    index_word.update({idx:word})\n",
    "\n",
    "  tensor = tf.keras.preprocessing.sequence.pad_sequences(tensor, padding='post')\n",
    "\n",
    "  return tensor, word_index, index_word"
   ]
  },
  {
   "cell_type": "code",
   "execution_count": 32,
   "metadata": {
    "id": "e8yPZNxojIBv"
   },
   "outputs": [],
   "source": [
    "sp_token = spm.SentencePieceProcessor()\n",
    "sp_token.Load(model_prefix + '.model')\n",
    "\n",
    "tensor, word_index, index_word = sp_tokenize(sp_token, filtered_corpus)"
   ]
  },
  {
   "cell_type": "markdown",
   "metadata": {},
   "source": [
    "label 데이터 정의"
   ]
  },
  {
   "cell_type": "code",
   "execution_count": 37,
   "metadata": {},
   "outputs": [],
   "source": [
    "spm_labels = train_df[\"label\"].astype(int)"
   ]
  },
  {
   "cell_type": "markdown",
   "metadata": {},
   "source": [
    "test_df 토큰화"
   ]
  },
  {
   "cell_type": "code",
   "execution_count": 64,
   "metadata": {},
   "outputs": [],
   "source": [
    "test_corpus = test_df[\"document\"].tolist()\n",
    "test_tensor,_,_ = sp_tokenize(sp_token,test_corpus)\n",
    "test_labels = test_df[\"label\"].astype(int)"
   ]
  },
  {
   "cell_type": "markdown",
   "metadata": {
    "id": "PynCCE3GlcmR"
   },
   "source": [
    "LSTM 모델정의"
   ]
  },
  {
   "cell_type": "code",
   "execution_count": 54,
   "metadata": {
    "colab": {
     "base_uri": "https://localhost:8080/",
     "height": 312
    },
    "id": "mMxe3lpuLP-k",
    "outputId": "48a11ef3-21cd-453d-eab8-1571169eb20d"
   },
   "outputs": [],
   "source": [
    "import tensorflow as tf\n",
    "from tensorflow.keras.models import Sequential\n",
    "from tensorflow.keras.layers import Embedding, LSTM, Dense, Dropout\n",
    "\n",
    "def lstm_model(vocab_size, embedding_dim=128, lstm_units=128):\n",
    "    model_lstm = tf.keras.Sequential()\n",
    "    model_lstm.add(Embedding(vocab_size, embedding_dim,input_length=max_len))\n",
    "    model_lstm.add(LSTM(lstm_units))\n",
    "    model_lstm.add(Dropout(0.2))\n",
    "    model_lstm.add(Dense(1,activation=\"sigmoid\"))\n",
    "    \n",
    "    model_lstm.summary()\n",
    "    \n",
    "    return model_lstm"
   ]
  },
  {
   "cell_type": "code",
   "execution_count": 43,
   "metadata": {},
   "outputs": [],
   "source": [
    "from sklearn.model_selection import train_test_split\n",
    "\n",
    "X_train, X_val, y_train, y_val = train_test_split(tensor, spm_labels, test_size=0.1, random_state=42)"
   ]
  },
  {
   "cell_type": "code",
   "execution_count": 45,
   "metadata": {},
   "outputs": [],
   "source": [
    "from tensorflow.keras.callbacks import EarlyStopping\n",
    "from tensorflow.keras.callbacks import ModelCheckpoint\n",
    "\n",
    "save_dir = './ckpoints'  # 원하는 경로로 지정 가능\n",
    "os.makedirs(save_dir, exist_ok=True)\n",
    "\n",
    "early_stop = EarlyStopping(\n",
    "    monitor=\"val_accuracy\",\n",
    "    patience=2,\n",
    "    restore_best_weights=True,\n",
    "    verbose=1\n",
    ")\n",
    "\n",
    "checkpoint = ModelCheckpoint(\n",
    "    filepath=os.path.join(save_dir, \"vacab8000_spm_post.h5\"),\n",
    "    save_best_only=True,\n",
    "    save_weights_only=True,\n",
    "    verbose=1\n",
    ")"
   ]
  },
  {
   "cell_type": "code",
   "execution_count": 55,
   "metadata": {},
   "outputs": [
    {
     "name": "stdout",
     "output_type": "stream",
     "text": [
      "Model: \"sequential_2\"\n",
      "_________________________________________________________________\n",
      "Layer (type)                 Output Shape              Param #   \n",
      "=================================================================\n",
      "embedding_2 (Embedding)      (None, 45, 128)           1024000   \n",
      "_________________________________________________________________\n",
      "lstm_2 (LSTM)                (None, 128)               131584    \n",
      "_________________________________________________________________\n",
      "dropout_2 (Dropout)          (None, 128)               0         \n",
      "_________________________________________________________________\n",
      "dense_2 (Dense)              (None, 1)                 129       \n",
      "=================================================================\n",
      "Total params: 1,155,713\n",
      "Trainable params: 1,155,713\n",
      "Non-trainable params: 0\n",
      "_________________________________________________________________\n"
     ]
    }
   ],
   "source": [
    "spm_model = lstm_model(vocab_size)\n",
    "\n",
    "spm_model.compile(loss='binary_crossentropy',\n",
    "             optimizer='adam',\n",
    "             metrics=['accuracy'])"
   ]
  },
  {
   "cell_type": "code",
   "execution_count": 56,
   "metadata": {
    "colab": {
     "base_uri": "https://localhost:8080/",
     "height": 408
    },
    "id": "kIg0h2Abdrnj",
    "outputId": "c35144d7-c213-4916-c8aa-81c83f3f4438"
   },
   "outputs": [
    {
     "name": "stdout",
     "output_type": "stream",
     "text": [
      "Epoch 1/10\n",
      "WARNING:tensorflow:Model was constructed with shape (None, 45) for input KerasTensor(type_spec=TensorSpec(shape=(None, 45), dtype=tf.float32, name='embedding_2_input'), name='embedding_2_input', description=\"created by layer 'embedding_2_input'\"), but it was called on an input with incompatible shape (None, 42).\n",
      "WARNING:tensorflow:Model was constructed with shape (None, 45) for input KerasTensor(type_spec=TensorSpec(shape=(None, 45), dtype=tf.float32, name='embedding_2_input'), name='embedding_2_input', description=\"created by layer 'embedding_2_input'\"), but it was called on an input with incompatible shape (None, 42).\n",
      "799/802 [============================>.] - ETA: 0s - loss: 0.4714 - accuracy: 0.7486WARNING:tensorflow:Model was constructed with shape (None, 45) for input KerasTensor(type_spec=TensorSpec(shape=(None, 45), dtype=tf.float32, name='embedding_2_input'), name='embedding_2_input', description=\"created by layer 'embedding_2_input'\"), but it was called on an input with incompatible shape (None, 42).\n",
      "802/802 [==============================] - 48s 6ms/step - loss: 0.4712 - accuracy: 0.7486 - val_loss: 0.3651 - val_accuracy: 0.8353\n",
      "\n",
      "Epoch 00001: val_loss improved from inf to 0.36509, saving model to ./ckpoints/vacab8000_spm_post.h5\n",
      "Epoch 2/10\n",
      "802/802 [==============================] - 5s 6ms/step - loss: 0.3289 - accuracy: 0.8587 - val_loss: 0.3406 - val_accuracy: 0.8518\n",
      "\n",
      "Epoch 00002: val_loss improved from 0.36509 to 0.34061, saving model to ./ckpoints/vacab8000_spm_post.h5\n",
      "Epoch 3/10\n",
      "802/802 [==============================] - 5s 6ms/step - loss: 0.2895 - accuracy: 0.8759 - val_loss: 0.3462 - val_accuracy: 0.8511\n",
      "\n",
      "Epoch 00003: val_loss did not improve from 0.34061\n",
      "Epoch 4/10\n",
      "802/802 [==============================] - 5s 6ms/step - loss: 0.2596 - accuracy: 0.8903 - val_loss: 0.3679 - val_accuracy: 0.8507\n",
      "Restoring model weights from the end of the best epoch.\n",
      "\n",
      "Epoch 00004: val_loss did not improve from 0.34061\n",
      "Epoch 00004: early stopping\n"
     ]
    }
   ],
   "source": [
    "history = spm_model.fit(\n",
    "    X_train, y_train,\n",
    "    validation_data=(X_val,y_val),\n",
    "    epochs=10,\n",
    "    batch_size=128,\n",
    "    callbacks=[early_stop, checkpoint]\n",
    ")"
   ]
  },
  {
   "cell_type": "code",
   "execution_count": 57,
   "metadata": {},
   "outputs": [],
   "source": [
    "import matplotlib.pyplot as plt\n",
    "\n",
    "def plot_history(history):\n",
    "    plt.figure(figsize=(12, 4))\n",
    "\n",
    "    # Accuracy 그래프\n",
    "    plt.subplot(1, 2, 1)\n",
    "    plt.plot(history.history['accuracy'], label='Train Acc')\n",
    "    plt.plot(history.history['val_accuracy'], label='Val Acc')\n",
    "    plt.title('Accuracy')\n",
    "    plt.xlabel('Epoch')\n",
    "    plt.ylabel('Accuracy')\n",
    "    plt.legend()\n",
    "    plt.grid(True)\n",
    "\n",
    "    # Loss 그래프\n",
    "    plt.subplot(1, 2, 2)\n",
    "    plt.plot(history.history['loss'], label='Train Loss')\n",
    "    plt.plot(history.history['val_loss'], label='Val Loss')\n",
    "    plt.title('Loss')\n",
    "    plt.xlabel('Epoch')\n",
    "    plt.ylabel('Loss')\n",
    "    plt.legend()\n",
    "    plt.grid(True)\n",
    "\n",
    "    plt.tight_layout()\n",
    "    plt.show()"
   ]
  },
  {
   "cell_type": "code",
   "execution_count": 58,
   "metadata": {},
   "outputs": [
    {
     "data": {
      "image/png": "[encoded data removed]",
      "text/plain": [
       "<Figure size 864x288 with 2 Axes>"
      ]
     },
     "metadata": {
      "needs_background": "light"
     },
     "output_type": "display_data"
    }
   ],
   "source": [
    "plot_history(history)"
   ]
  },
  {
   "cell_type": "code",
   "execution_count": 65,
   "metadata": {},
   "outputs": [
    {
     "name": "stdout",
     "output_type": "stream",
     "text": [
      "WARNING:tensorflow:Model was constructed with shape (None, 45) for input KerasTensor(type_spec=TensorSpec(shape=(None, 45), dtype=tf.float32, name='embedding_2_input'), name='embedding_2_input', description=\"created by layer 'embedding_2_input'\"), but it was called on an input with incompatible shape (None, 118).\n",
      "1563/1563 [==============================] - 6s 4ms/step - loss: 0.5598 - accuracy: 0.8497\n",
      "Test Accuracy: 0.8497\n"
     ]
    }
   ],
   "source": [
    "loss, acc = spm_model.evaluate(test_tensor, test_labels)\n",
    "print(f\"Test Accuracy: {acc:.4f}\")"
   ]
  },
  {
   "cell_type": "markdown",
   "metadata": {
    "id": "B5sdLcjdl97X"
   },
   "source": [
    "## KoNLPy기반 모델 - mecab"
   ]
  },
  {
   "cell_type": "markdown",
   "metadata": {
    "id": "c3x7RRXqn6zR"
   },
   "source": [
    "mecab install"
   ]
  },
  {
   "cell_type": "markdown",
   "metadata": {
    "id": "fOskezNTvo6Y"
   },
   "source": [
    "mecab - 모델학습"
   ]
  },
  {
   "cell_type": "code",
   "execution_count": 86,
   "metadata": {
    "id": "U_1h1nG0myD4"
   },
   "outputs": [],
   "source": [
    "from konlpy.tag import Mecab\n",
    "mecab = Mecab()"
   ]
  },
  {
   "cell_type": "code",
   "execution_count": 87,
   "metadata": {
    "id": "jC73QVclqT2_"
   },
   "outputs": [],
   "source": [
    "def mecab_split(sentence):\n",
    "  return mecab.morphs(sentence)\n",
    "mecab_corpus = []\n",
    "\n",
    "for kor in filtered_corpus:\n",
    "  mecab_corpus.append(mecab_split(kor))"
   ]
  },
  {
   "cell_type": "code",
   "execution_count": 88,
   "metadata": {
    "colab": {
     "base_uri": "https://localhost:8080/"
    },
    "id": "ACFRkbN0vasT",
    "outputId": "c1507c7c-948b-48a8-dc62-f793d3eb4e1a"
   },
   "outputs": [
    {
     "name": "stdout",
     "output_type": "stream",
     "text": [
      "MeCab Vocab Size: 37345\n"
     ]
    }
   ],
   "source": [
    "mecab_tensor, mecab_tokenizer = tokenize(mecab_corpus)\n",
    "\n",
    "print(\"MeCab Vocab Size:\", len(mecab_tokenizer.index_word))"
   ]
  },
  {
   "cell_type": "markdown",
   "metadata": {
    "id": "tUVagnz8xcK4"
   },
   "source": [
    "같은 LSTM모델 사용"
   ]
  },
  {
   "cell_type": "code",
   "execution_count": 89,
   "metadata": {
    "colab": {
     "base_uri": "https://localhost:8080/",
     "height": 312
    },
    "id": "1QBHEvoRvgGe",
    "outputId": "f1006bfb-5956-46e7-ee9a-3869c3d742a0"
   },
   "outputs": [
    {
     "name": "stdout",
     "output_type": "stream",
     "text": [
      "Model: \"sequential_5\"\n",
      "_________________________________________________________________\n",
      "Layer (type)                 Output Shape              Param #   \n",
      "=================================================================\n",
      "embedding_5 (Embedding)      (None, 45, 128)           1024000   \n",
      "_________________________________________________________________\n",
      "lstm_5 (LSTM)                (None, 64)                49408     \n",
      "_________________________________________________________________\n",
      "dropout_5 (Dropout)          (None, 64)                0         \n",
      "_________________________________________________________________\n",
      "dense_6 (Dense)              (None, 1)                 65        \n",
      "=================================================================\n",
      "Total params: 1,073,473\n",
      "Trainable params: 1,073,473\n",
      "Non-trainable params: 0\n",
      "_________________________________________________________________\n"
     ]
    }
   ],
   "source": [
    "import tensorflow as tf\n",
    "from tensorflow.keras.models import Sequential\n",
    "from tensorflow.keras.layers import Embedding, LSTM, Dense, Dropout\n",
    "embedding_dim = 128\n",
    "model = Sequential(\n",
    "    [\n",
    "        Embedding(input_dim=vocab_size, output_dim=embedding_dim, input_length=max_len),\n",
    "        LSTM(units=64),\n",
    "        Dropout(0.2),\n",
    "        Dense(units=1, activation='sigmoid')\n",
    "    ]\n",
    ")\n",
    "\n",
    "model.compile(\n",
    "    optimizer='adam',\n",
    "    loss='binary_crossentropy',\n",
    "    metrics=['accuracy']\n",
    ")\n",
    "\n",
    "model.summary()"
   ]
  },
  {
   "cell_type": "code",
   "execution_count": 90,
   "metadata": {
    "colab": {
     "base_uri": "https://localhost:8080/"
    },
    "id": "6l0_wJrlv5-i",
    "outputId": "f454003b-f404-4c24-f530-3a2b8d3c582c"
   },
   "outputs": [
    {
     "name": "stdout",
     "output_type": "stream",
     "text": [
      "Epoch 1/5\n",
      "WARNING:tensorflow:Model was constructed with shape (None, 45) for input KerasTensor(type_spec=TensorSpec(shape=(None, 45), dtype=tf.float32, name='embedding_5_input'), name='embedding_5_input', description=\"created by layer 'embedding_5_input'\"), but it was called on an input with incompatible shape (None, 37).\n",
      "WARNING:tensorflow:Model was constructed with shape (None, 45) for input KerasTensor(type_spec=TensorSpec(shape=(None, 45), dtype=tf.float32, name='embedding_5_input'), name='embedding_5_input', description=\"created by layer 'embedding_5_input'\"), but it was called on an input with incompatible shape (None, 37).\n",
      "898/898 [==============================] - 5s 5ms/step - loss: 0.4132 - accuracy: 0.8048\n",
      "Epoch 2/5\n",
      "898/898 [==============================] - 4s 5ms/step - loss: 0.3265 - accuracy: 0.8583\n",
      "Epoch 3/5\n",
      "898/898 [==============================] - 4s 5ms/step - loss: 0.2895 - accuracy: 0.8755\n",
      "Epoch 4/5\n",
      "898/898 [==============================] - 4s 5ms/step - loss: 0.2613 - accuracy: 0.8902\n",
      "Epoch 5/5\n",
      "898/898 [==============================] - 4s 5ms/step - loss: 0.2368 - accuracy: 0.9023\n"
     ]
    }
   ],
   "source": [
    "history_mecab = model.fit(\n",
    "    mecab_tensor, y,\n",
    "    epochs=5,\n",
    "    batch_size=128,\n",
    ")"
   ]
  },
  {
   "cell_type": "code",
   "execution_count": 98,
   "metadata": {},
   "outputs": [
    {
     "name": "stdout",
     "output_type": "stream",
     "text": [
      "WARNING:tensorflow:Model was constructed with shape (None, 45) for input KerasTensor(type_spec=TensorSpec(shape=(None, 45), dtype=tf.float32, name='embedding_5_input'), name='embedding_5_input', description=\"created by layer 'embedding_5_input'\"), but it was called on an input with incompatible shape (None, 37).\n",
      "MeCab 모델 Test Accuracy: 0.8429\n",
      "\n",
      "              precision    recall  f1-score   support\n",
      "\n",
      "          부정       0.83      0.86      0.84     24826\n",
      "          긍정       0.85      0.83      0.84     25171\n",
      "\n",
      "    accuracy                           0.84     49997\n",
      "   macro avg       0.84      0.84      0.84     49997\n",
      "weighted avg       0.84      0.84      0.84     49997\n",
      "\n"
     ]
    }
   ],
   "source": [
    "from tensorflow.keras.preprocessing.sequence import pad_sequences\n",
    "from sklearn.metrics import accuracy_score, classification_report\n",
    "\n",
    "# 1) 테스트 데이터 전처리\n",
    "import pandas as pd, re\n",
    "test_df = pd.read_csv(\"ratings_test.txt\", sep=\"\\t\").dropna(subset=[\"document\"])\n",
    "X_test_raw = test_df[\"document\"].tolist()\n",
    "y_test     = test_df[\"label\"].values\n",
    "\n",
    "def clean_text(text):\n",
    "    text = re.sub(r\"[^ㄱ-ㅎㅏ-ㅣ가-힣 ]\", \"\", str(text))\n",
    "    return text.strip()\n",
    "\n",
    "X_test_cleaned = [clean_text(sent) for sent in X_test_raw]\n",
    "\n",
    "# 2) MeCab 토크나이즈\n",
    "X_test_tokens = [mecab.morphs(sent) for sent in X_test_cleaned]\n",
    "\n",
    "# 3) 정수 인코딩 (훈련 때 생성된 mecab_tokenizer 사용)\n",
    "X_test_seq = mecab_tokenizer.texts_to_sequences(X_test_tokens)\n",
    "\n",
    "# 4) 패딩 (훈련 때 tensor.shape[1] 또는 미리 정의한 max_len 사용)\n",
    "max_len = mecab_tensor.shape[1]   # 또는 직접 숫자로 지정\n",
    "X_test_pad = pad_sequences(X_test_seq, padding=\"post\", maxlen=max_len)\n",
    "\n",
    "# 5) 예측 & 평가\n",
    "y_pred_probs = model.predict(X_test_pad)\n",
    "y_pred       = (y_pred_probs > 0.5).astype(int).flatten()\n",
    "\n",
    "acc = accuracy_score(y_test, y_pred)\n",
    "print(f\"MeCab 모델 Test Accuracy: {acc:.4f}\\n\")\n",
    "print(classification_report(y_test, y_pred, target_names=[\"부정\",\"긍정\"]))\n"
   ]
  },
  {
   "cell_type": "code",
   "execution_count": null,
   "metadata": {},
   "outputs": [],
   "source": []
  }
 ],
 "metadata": {
  "accelerator": "TPU",
  "colab": {
   "gpuType": "V28",
   "machine_shape": "hm",
   "provenance": []
  },
  "kernelspec": {
   "display_name": "Python 3 (ipykernel)",
   "language": "python",
   "name": "python3"
  },
  "language_info": {
   "codemirror_mode": {
    "name": "ipython",
    "version": 3
   },
   "file_extension": ".py",
   "mimetype": "text/x-python",
   "name": "python",
   "nbconvert_exporter": "python",
   "pygments_lexer": "ipython3",
   "version": "3.9.7"
  }
 },
 "nbformat": 4,
 "nbformat_minor": 1
}
