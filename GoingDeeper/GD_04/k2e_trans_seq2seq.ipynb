{
 "cells": [
  {
   "cell_type": "code",
   "execution_count": 2,
   "id": "ce2ea8df",
   "metadata": {},
   "outputs": [],
   "source": [
    "import tensorflow as tf\n",
    "import numpy as np\n",
    "\n",
    "from sklearn.model_selection import train_test_split\n",
    "\n",
    "import matplotlib.ticker as ticker\n",
    "import matplotlib.pyplot as plt\n",
    "\n",
    "import time\n",
    "import re\n",
    "import os\n",
    "import io"
   ]
  },
  {
   "cell_type": "markdown",
   "id": "46260456",
   "metadata": {},
   "source": [
    "# 데이터 다운로드"
   ]
  },
  {
   "cell_type": "markdown",
   "id": "e48f3e9b",
   "metadata": {},
   "source": [
    "다운로드 파일 압축풀기"
   ]
  },
  {
   "cell_type": "code",
   "execution_count": 13,
   "id": "59d0c112",
   "metadata": {},
   "outputs": [
    {
     "name": "stdout",
     "output_type": "stream",
     "text": [
      "korean-english-park.dev.tar.gz 압축 해제 완료\n",
      "korean-english-park.test.tar.gz 압축 해제 완료\n",
      "korean-english-park.train.tar.gz 압축 해제 완료\n"
     ]
    }
   ],
   "source": [
    "import tarfile\n",
    "\n",
    "for file in os.listdir('.'):\n",
    "    if file.endswith('.tar.gz'):\n",
    "        with tarfile.open(file, 'r:*') as tar_ref:\n",
    "            tar_ref.extractall('.')\n",
    "            print(f\"{file} 압축 해제 완료\")"
   ]
  },
  {
   "cell_type": "code",
   "execution_count": 17,
   "id": "b06efbca",
   "metadata": {},
   "outputs": [
    {
     "name": "stdout",
     "output_type": "stream",
     "text": [
      "k2e_trans_seq2seq.ipynb\t\tkorean-english-park.test.ko\r\n",
      "korean-english-park.dev.en\tkorean-english-park.test.tar.gz\r\n",
      "korean-english-park.dev.ko\tkorean-english-park.train.en\r\n",
      "korean-english-park.dev.tar.gz\tkorean-english-park.train.ko\r\n",
      "korean-english-park.test.en\tkorean-english-park.train.tar.gz\r\n"
     ]
    }
   ],
   "source": []
  },
  {
   "cell_type": "code",
   "execution_count": 410,
   "id": "290f53ee",
   "metadata": {},
   "outputs": [
    {
     "name": "stdout",
     "output_type": "stream",
     "text": [
      "                                                  ko  \\\n",
      "0               개인용 컴퓨터 사용의 상당 부분은 \"이것보다 뛰어날 수 있느냐?\"   \n",
      "1  모든 광마우스와 마찬가지 로 이 광마우스도 책상 위에 놓는 마우스 패드를 필요로 하...   \n",
      "2                         그러나 이것은 또한 책상도 필요로 하지 않는다.   \n",
      "3  79.95달러하는 이 최첨단 무선 광마우스는 허공에서 팔목, 팔, 그외에 어떤 부분...   \n",
      "4  정보 관리들은 동남 아시아에서의 선박들에 대한 많은 (테러) 계획들이 실패로 돌아갔...   \n",
      "\n",
      "                                                  en  \n",
      "0  Much of personal computing is about \"can you t...  \n",
      "1  so a mention a few weeks ago about a rechargea...  \n",
      "2  Like all optical mice, But it also doesn't nee...  \n",
      "3  uses gyroscopic sensors to control the cursor ...  \n",
      "4  Intelligence officials have revealed a spate o...  \n"
     ]
    }
   ],
   "source": [
    "import pandas as pd\n",
    "prefixes = ['dev','test','train']\n",
    "\n",
    "datasets = {}\n",
    "\n",
    "for prefix in prefixes:\n",
    "    ko_path = f'korean-english-park.{prefix}.ko'\n",
    "    en_path = f'korean-english-park.{prefix}.en'\n",
    "    \n",
    "    with open(ko_path, encoding='utf-8') as f_ko, \\\n",
    "         open(en_path, encoding=\"utf-8\") as f_en:\n",
    "        \n",
    "        datasets[prefix] = pd.DataFrame({\n",
    "            'ko': [line.strip() for line in f_ko],\n",
    "            'en': [line.strip() for line in f_en]\n",
    "        })\n",
    "    \n",
    "print(datasets['train'].head())\n"
   ]
  },
  {
   "cell_type": "code",
   "execution_count": 411,
   "id": "073574ee",
   "metadata": {},
   "outputs": [
    {
     "name": "stdout",
     "output_type": "stream",
     "text": [
      "                                                  ko  \\\n",
      "0  세계 에서 가장 강력한 수퍼컴퓨터를 1년 동안이나 독점해 오던 정부의 연구학자들이 ...   \n",
      "1  초당 12조3천억 번의 계산을 수행할수 있는 능력이 있는 로렌스 리버모아 국립 연구...   \n",
      "2  미국은 1992년에 지하 핵실험을 중지시켰기 때문에 이러한 모의 실험은 한 치의 오...   \n",
      "3  에너지省의 핵 안보 차관인 존 고든 장군은 이 수퍼컴퓨터는 \"국가의 비축 핵무기를 ...   \n",
      "4  ASCI White로 알려진 이 수퍼컴퓨터는 놀랄 정도로 엄청나게 많은 용도를 갖고...   \n",
      "\n",
      "                                                  en  \n",
      "0  After keeping the world's most powerful superc...  \n",
      "1  With the ability to perform 12.3 trillion calc...  \n",
      "2  Those simulations must be as precise as possib...  \n",
      "3  John Gordon, the Department of Energy's under ...  \n",
      "4  The supercomputer known as ASCI White has a mi...  \n"
     ]
    }
   ],
   "source": [
    "print(datasets['dev'].head())"
   ]
  },
  {
   "cell_type": "code",
   "execution_count": 412,
   "id": "1fb4e4b7",
   "metadata": {},
   "outputs": [
    {
     "name": "stdout",
     "output_type": "stream",
     "text": [
      "0    Those involved in the discussions do take seri...\n",
      "1    There is also some hope that new technology de...\n",
      "2    So the individual solution of the clipper chip...\n",
      "3    Italian astronomers have found signs of water,...\n",
      "4    Having water does not mean other planets will ...\n",
      "Name: en, dtype: object\n"
     ]
    }
   ],
   "source": [
    "print(datasets['test']['en'].head())"
   ]
  },
  {
   "cell_type": "code",
   "execution_count": 413,
   "id": "cdb1559a",
   "metadata": {},
   "outputs": [
    {
     "name": "stdout",
     "output_type": "stream",
     "text": [
      "<class 'pandas.core.frame.DataFrame'>\n",
      "RangeIndex: 94123 entries, 0 to 94122\n",
      "Data columns (total 2 columns):\n",
      " #   Column  Non-Null Count  Dtype \n",
      "---  ------  --------------  ----- \n",
      " 0   ko      94123 non-null  object\n",
      " 1   en      94123 non-null  object\n",
      "dtypes: object(2)\n",
      "memory usage: 1.4+ MB\n",
      "<class 'pandas.core.frame.DataFrame'>\n",
      "RangeIndex: 2000 entries, 0 to 1999\n",
      "Data columns (total 2 columns):\n",
      " #   Column  Non-Null Count  Dtype \n",
      "---  ------  --------------  ----- \n",
      " 0   ko      2000 non-null   object\n",
      " 1   en      2000 non-null   object\n",
      "dtypes: object(2)\n",
      "memory usage: 31.4+ KB\n",
      "<class 'pandas.core.frame.DataFrame'>\n",
      "RangeIndex: 1000 entries, 0 to 999\n",
      "Data columns (total 2 columns):\n",
      " #   Column  Non-Null Count  Dtype \n",
      "---  ------  --------------  ----- \n",
      " 0   ko      1000 non-null   object\n",
      " 1   en      1000 non-null   object\n",
      "dtypes: object(2)\n",
      "memory usage: 15.8+ KB\n"
     ]
    }
   ],
   "source": [
    "datasets['train'].info()\n",
    "datasets['test'].info()\n",
    "datasets['dev'].info()"
   ]
  },
  {
   "cell_type": "markdown",
   "id": "190fe2db",
   "metadata": {},
   "source": [
    "### null 데이터없음"
   ]
  },
  {
   "cell_type": "markdown",
   "id": "4e3eaf08",
   "metadata": {},
   "source": [
    "# 데이터 전처리 : 데이터 정제"
   ]
  },
  {
   "cell_type": "markdown",
   "id": "389dffd4",
   "metadata": {},
   "source": [
    "### 중복데이터 제거"
   ]
  },
  {
   "cell_type": "code",
   "execution_count": 414,
   "id": "0bc0a625",
   "metadata": {},
   "outputs": [
    {
     "name": "stdout",
     "output_type": "stream",
     "text": [
      "train 데이터셋 중복 제거 후: (78941, 2)\n",
      "dev 데이터셋 중복 제거 후: (1000, 2)\n",
      "test 데이터셋 중복 제거 후: (1996, 2)\n"
     ]
    }
   ],
   "source": [
    "for prefix in ['train', 'dev', 'test']:\n",
    "    datasets[prefix] = datasets[prefix].drop_duplicates()\n",
    "    print(f\"{prefix} 데이터셋 중복 제거 후: {datasets[prefix].shape}\")"
   ]
  },
  {
   "cell_type": "markdown",
   "id": "45161d79",
   "metadata": {},
   "source": [
    "### 영문데이터 전처리 노드함수 사용"
   ]
  },
  {
   "cell_type": "code",
   "execution_count": 415,
   "id": "f26b48c3",
   "metadata": {},
   "outputs": [],
   "source": [
    "def preprocess_sentence_en(sentence, s_token=False, e_token=False):\n",
    "    sentence = sentence.lower().strip()\n",
    "\n",
    "    sentence = re.sub(r\"([?.!,])\", r\" \\1 \", sentence)\n",
    "    sentence = re.sub(r'[\" \"]+', \" \", sentence)\n",
    "    sentence = re.sub(r\"[^a-zA-Z?!,]+\", \" \", sentence)\n",
    "\n",
    "    sentence = sentence.strip()\n",
    "    \n",
    "    if s_token:\n",
    "        sentence = '<start> ' + sentence\n",
    "\n",
    "    if e_token:\n",
    "        sentence += ' <end>'\n",
    "            \n",
    "    \n",
    "    return sentence"
   ]
  },
  {
   "cell_type": "markdown",
   "id": "db7e330a",
   "metadata": {},
   "source": [
    "### 한글데이터 전처리 함수\n",
    "\"할머니는 자신의 블로그‘라일리의 삶(The Life of Riley)과 ‘유튜브(YouTube)’에 올린 연재한 동영상에는 자신의 매일매일 생활을 명상하는 내용을 담았다.\"\n",
    "\n",
    "한국어 데이터에도 영어가 포함되어 있으므로 영어데이터에 대한 전처리도 포함됨"
   ]
  },
  {
   "cell_type": "code",
   "execution_count": 416,
   "id": "f077e98a",
   "metadata": {},
   "outputs": [],
   "source": [
    "def preprocess_sentence_ko(sentence, s_token=False, e_token=False):\n",
    "    sentence = sentence.lower().strip()\n",
    "    sentence = re.sub(r\"([?.!,])\", r\" \\1 \", sentence)\n",
    "    sentence = re.sub(r'[\" \"]+', \" \", sentence)\n",
    "    # 한글/숫자/기호/영어를 제외한 문자 제거 \n",
    "    sentence = re.sub(r\"[^가-힣a-zA-Z0-9?!, ]+\", \" \", sentence)\n",
    "    sentence = sentence.strip()\n",
    "    if s_token:\n",
    "        sentence = '<start> ' + sentence\n",
    "\n",
    "    if e_token:\n",
    "        sentence += ' <end>'    \n",
    "\n",
    "    return sentence + ' <end>'  "
   ]
  },
  {
   "cell_type": "markdown",
   "id": "7551ee59",
   "metadata": {},
   "source": [
    "### 상위 3만개의 데이터 test_corpus 생성"
   ]
  },
  {
   "cell_type": "code",
   "execution_count": 417,
   "id": "b378c5c6",
   "metadata": {},
   "outputs": [
    {
     "name": "stdout",
     "output_type": "stream",
     "text": [
      "English: <start> asteroid to be harmless fireball over earth <end>\n",
      "한국어: 원문기사보기 <end>\n"
     ]
    }
   ],
   "source": [
    "corpus_train_ko = []\n",
    "corpus_train_en = []\n",
    "\n",
    "\n",
    "\n",
    "for sentence in datasets[\"train\"][\"ko\"]:\n",
    "    corpus_train_ko.append(preprocess_sentence_ko(sentence))\n",
    "\n",
    "for sentence in datasets[\"train\"][\"en\"]:\n",
    "    corpus_train_en.append(preprocess_sentence_en(sentence,s_token=True,e_token=True))\n",
    "\n",
    "print(\"English:\", corpus_train_en[50000])    \n",
    "print(\"한국어:\", corpus_train_ko[50000])     "
   ]
  },
  {
   "cell_type": "code",
   "execution_count": 418,
   "id": "02500f34",
   "metadata": {},
   "outputs": [
    {
     "name": "stdout",
     "output_type": "stream",
     "text": [
      "English: <start> a deputy prime minister who was charged with negotiating with the demonstrators resigned over the crackdown <end>\n",
      "한국어: 시위대와 교섭을 담당한 총리 보좌관은 이날 강제진압으로 사임했다 <end>\n"
     ]
    }
   ],
   "source": [
    "print(\"English:\", corpus_train_en[50020])    \n",
    "print(\"한국어:\", corpus_train_ko[50020])   "
   ]
  },
  {
   "cell_type": "markdown",
   "id": "c8fb4caa",
   "metadata": {},
   "source": [
    "### + 테스트 셋"
   ]
  },
  {
   "cell_type": "code",
   "execution_count": 419,
   "id": "baa5187e",
   "metadata": {},
   "outputs": [],
   "source": [
    "corpus_test_ko = []\n",
    "corpus_test_en = []\n",
    "\n",
    "for sentence in datasets[\"test\"][\"ko\"]:\n",
    "    corpus_test_ko.append(preprocess_sentence_ko(sentence))\n",
    "\n",
    "for sentence in datasets[\"test\"][\"en\"]:\n",
    "    corpus_test_en.append(preprocess_sentence_en(sentence,s_token=True,e_token=True))\n"
   ]
  },
  {
   "cell_type": "markdown",
   "id": "34308580",
   "metadata": {},
   "source": [
    "### 형태소 분리 제약조건\n",
    "+ 길이를 제한했을 때 영어데이터와 한국데이터의 수가 달라지므로 두 함수를 같이 정의해야 됨 !\n",
    "+ 한국어 형태소를 분리할 때 sos와 eos의 예외가 필요함"
   ]
  },
  {
   "cell_type": "code",
   "execution_count": 420,
   "id": "2303816c",
   "metadata": {},
   "outputs": [],
   "source": [
    "from konlpy.tag import Mecab\n",
    "\n",
    "mecab = Mecab()\n",
    "\n",
    "def build_filtered_corpus(eng_sentences, kor_sentences, max_len=40):\n",
    "    eng_corpus = []\n",
    "    kor_corpus = []\n",
    "\n",
    "    for en_sent, ko_sent in zip(eng_sentences, kor_sentences):\n",
    "        en_tokens = en_sent.split()\n",
    "        ko_tokens = []\n",
    "\n",
    "        # 한국어 처리: <start>, <end> 예외 처리 포함\n",
    "        for word in ko_sent.split():\n",
    "            if word in (\"<start>\", \"<end>\"):\n",
    "                ko_tokens.append(word)\n",
    "            else:\n",
    "                ko_tokens.extend(mecab.morphs(word))\n",
    "        \n",
    "        # 조건: 둘 다 길이 제한 이하일 때만 추가\n",
    "        if len(en_tokens) <= max_len and len(ko_tokens) <= max_len:\n",
    "            eng_corpus.append(en_tokens)\n",
    "            kor_corpus.append(ko_tokens)\n",
    "\n",
    "    return eng_corpus, kor_corpus\n"
   ]
  },
  {
   "cell_type": "code",
   "execution_count": 421,
   "id": "b039808e",
   "metadata": {},
   "outputs": [
    {
     "name": "stdout",
     "output_type": "stream",
     "text": [
      "영어 문장 개수: 62715\n",
      "한국어 문장 개수: 62715\n"
     ]
    }
   ],
   "source": [
    "filtered_train_en, filtered_train_ko = build_filtered_corpus(corpus_train_en, corpus_train_ko, max_len=40)\n",
    "\n",
    "print(\"영어 문장 개수:\", len(filtered_train_en))\n",
    "print(\"한국어 문장 개수:\", len(filtered_train_ko))\n"
   ]
  },
  {
   "cell_type": "code",
   "execution_count": 422,
   "id": "4b4bc2c2",
   "metadata": {},
   "outputs": [
    {
     "name": "stdout",
     "output_type": "stream",
     "text": [
      "[['<start>', 'much', 'of', 'personal', 'computing', 'is', 'about', 'can', 'you', 'top', 'this', '?', '<end>'], ['<start>', 'so', 'a', 'mention', 'a', 'few', 'weeks', 'ago', 'about', 'a', 'rechargeable', 'wireless', 'optical', 'mouse', 'brought', 'in', 'another', 'rechargeable', ',', 'wireless', 'mouse', '<end>'], ['<start>', 'like', 'all', 'optical', 'mice', ',', 'but', 'it', 'also', 'doesn', 't', 'need', 'a', 'desk', '<end>'], ['<start>', 'something', 'that', 'will', 'boost', 'their', 'capabilities', 'at', 'crucial', 'moments', 'is', 'very', 'important', '<end>'], ['<start>', 'researchers', 'are', 'already', 'exploring', 'ways', 'to', 'put', 'caffeine', 'in', 'nutrition', 'bars', 'or', 'chewing', 'gum', 'as', 'alternatives', 'to', 'coffee', ',', 'archibald', 'said', '<end>'], ['<start>', 'the', 'institute', 'of', 'medicine', 'is', 'part', 'of', 'the', 'national', 'academy', 'of', 'sciences', ',', 'a', 'private', 'organization', 'chartered', 'by', 'congress', 'to', 'advise', 'the', 'government', 'on', 'scientific', 'matters', '<end>'], ['<start>', 'but', 'the', 'prospect', 'of', 'a', 'slowing', 'u', 's', 'economy', 'and', 'weak', 'demand', 'at', 'home', 'overshadowed', 'any', 'optimism', 'for', 'the', 'months', 'ahead', '<end>'], ['<start>', 'more', 'than', 'hostages', 'were', 'rescued', ',', 'including', 'all', 'non', 'russians', 'and', 'children', ',', 'when', 'special', 'forces', 'stormed', 'the', 'building', '<end>'], ['<start>', 'russian', 'special', 'forces', 'used', 'a', 'sedative', 'gas', 'before', 'storming', 'the', 'theatre', '<end>'], ['<start>', 'many', 'captives', 'were', 'taken', 'to', 'hospital', 'suffering', 'from', 'the', 'effects', 'of', 'the', 'chemical', '<end>']]\n"
     ]
    }
   ],
   "source": [
    "print(filtered_train_en[:10])"
   ]
  },
  {
   "cell_type": "code",
   "execution_count": 423,
   "id": "211c142d",
   "metadata": {},
   "outputs": [
    {
     "name": "stdout",
     "output_type": "stream",
     "text": [
      "영어 문장 개수: 1526\n",
      "한국어 문장 개수: 1526\n"
     ]
    }
   ],
   "source": [
    "filtered_test_en, filtered_test_ko = build_filtered_corpus(corpus_test_en, corpus_test_ko, max_len=40)\n",
    "\n",
    "print(\"영어 문장 개수:\", len(filtered_test_en))\n",
    "print(\"한국어 문장 개수:\", len(filtered_test_ko))"
   ]
  },
  {
   "cell_type": "markdown",
   "id": "d3797e28",
   "metadata": {},
   "source": [
    "# 데이터 토큰화"
   ]
  },
  {
   "cell_type": "markdown",
   "id": "f8022cf6",
   "metadata": {},
   "source": [
    "### 토크나이저 정의"
   ]
  },
  {
   "cell_type": "code",
   "execution_count": 424,
   "id": "c4489bcf",
   "metadata": {},
   "outputs": [],
   "source": [
    "def tokenize(corpus):\n",
    "    tokenizer = tf.keras.preprocessing.text.Tokenizer(num_words=15000,filters='')\n",
    "    tokenizer.fit_on_texts(corpus)\n",
    "\n",
    "    tensor = tokenizer.texts_to_sequences(corpus)\n",
    "\n",
    "    tensor = tf.keras.preprocessing.sequence.pad_sequences(tensor, padding='pre')\n",
    "\n",
    "    return tensor, tokenizer"
   ]
  },
  {
   "cell_type": "code",
   "execution_count": 425,
   "id": "50e9a48b",
   "metadata": {},
   "outputs": [],
   "source": [
    "tensor_train_en,tokenize_train_en = tokenize(filtered_train_en)\n",
    "tensor_train_ko,tokenize_train_ko = tokenize(filtered_train_ko)\n",
    "tensor_test_en,tokenize_test_en = tokenize(filtered_test_en)\n",
    "tensor_test_ko,tokenize_test_ko = tokenize(filtered_test_ko)"
   ]
  },
  {
   "cell_type": "code",
   "execution_count": 426,
   "id": "5f69e9ce",
   "metadata": {},
   "outputs": [
    {
     "data": {
      "text/plain": [
       "45937"
      ]
     },
     "execution_count": 426,
     "metadata": {},
     "output_type": "execute_result"
    }
   ],
   "source": [
    "len(tokenize_train_ko.word_index)"
   ]
  },
  {
   "cell_type": "markdown",
   "id": "12dda183",
   "metadata": {},
   "source": [
    "# 모델 설계\n",
    "\n",
    "### Attention"
   ]
  },
  {
   "cell_type": "code",
   "execution_count": 427,
   "id": "1c9d67b4",
   "metadata": {},
   "outputs": [],
   "source": [
    "class BahdanauAttention(tf.keras.layers.Layer):\n",
    "    def __init__(self, units):\n",
    "        super(BahdanauAttention, self).__init__()\n",
    "        self.w_dec = tf.keras.layers.Dense(units)\n",
    "        self.w_enc = tf.keras.layers.Dense(units)\n",
    "        self.w_com = tf.keras.layers.Dense(1)\n",
    "    \n",
    "    def call(self, h_enc, h_dec):\n",
    "        # h_enc shape: [batch x length x units]\n",
    "        # h_dec shape: [batch x units]\n",
    "        \n",
    "        h_enc = self.w_enc(h_enc)\n",
    "        h_dec = tf.expand_dims(h_dec, 1)\n",
    "        h_dec = self.w_dec(h_dec)\n",
    "\n",
    "        score = self.w_com(tf.nn.tanh(h_dec + h_enc))\n",
    "        \n",
    "        attn = tf.nn.softmax(score, axis=1)\n",
    "\n",
    "        context_vec = attn * h_enc\n",
    "        context_vec = tf.reduce_sum(context_vec, axis=1)\n",
    "\n",
    "        return context_vec, attn"
   ]
  },
  {
   "cell_type": "markdown",
   "id": "9a23586a",
   "metadata": {},
   "source": [
    "### Encoder"
   ]
  },
  {
   "cell_type": "code",
   "execution_count": 428,
   "id": "2629260a",
   "metadata": {},
   "outputs": [],
   "source": [
    "from tensorflow.keras.models import Model\n",
    "from tensorflow.keras.layers import Input, GRU, Dense\n",
    "\n",
    "class Encoder(tf.keras.Model):\n",
    "    def __init__(self, vocab_size, embedding_dim, enc_units):\n",
    "        super(Encoder, self).__init__()\n",
    "        self.embedding_layer = tf.keras.layers.Embedding(vocab_size, embedding_dim,input_length=max_len,mask_zero=True)\n",
    "        self.gru_layer = tf.keras.layers.GRU(enc_units,  dropout=0.3,return_sequences=True)\n",
    "        \n",
    "    def call(self, x):\n",
    "        x = self.embedding_layer(x)\n",
    "        output = self.gru_layer(x)\n",
    "        \n",
    "        return output"
   ]
  },
  {
   "cell_type": "markdown",
   "id": "4ae40c35",
   "metadata": {},
   "source": [
    "### Decoder"
   ]
  },
  {
   "cell_type": "code",
   "execution_count": 429,
   "id": "3f4aff0a",
   "metadata": {},
   "outputs": [],
   "source": [
    "from tensorflow.keras.layers import Dense\n",
    "\n",
    "class Decoder(tf.keras.Model):\n",
    "    def __init__(self, vocab_size, embedding_dim, dec_units):\n",
    "        super(Decoder, self).__init__()\n",
    "        self.dec_units = dec_units\n",
    "        self.attention = BahdanauAttention(self.dec_units)  \n",
    "        self.embedding_layer = tf.keras.layers.Embedding(vocab_size, embedding_dim,input_length=max_len,mask_zero=True)\n",
    "        self.decoder_gru = tf.keras.layers.GRU(dec_units, dropout=0.3,return_sequences=True,return_state=True)\n",
    "        self.ffn = tf.keras.layers.Dense(vocab_size)\n",
    "    \n",
    "    def call(self, x, h_dec, enc_out):\n",
    "        context_vec, atten = self.attention(enc_out,h_dec)\n",
    "\n",
    "        output = self.embedding_layer(x)\n",
    "        output = tf.concat([tf.expand_dims(context_vec,1),output], axis=-1)  \n",
    "        output, h_dec = self.decoder_gru(output)\n",
    "        output = tf.reshape(output,(-1,output.shape[2]))\n",
    "        output = self.ffn(output)\n",
    "\n",
    "        return output, h_dec, atten"
   ]
  },
  {
   "cell_type": "markdown",
   "id": "047a06bb",
   "metadata": {},
   "source": [
    "### 하이퍼파라미터 설정"
   ]
  },
  {
   "cell_type": "code",
   "execution_count": 430,
   "id": "c84b0f98",
   "metadata": {},
   "outputs": [
    {
     "name": "stdout",
     "output_type": "stream",
     "text": [
      "Encoder Output: (64, 40, 512)\n",
      "Decoder Output: (64, 15000)\n",
      "Decoder Hidden State: (64, 512)\n",
      "Attention: (64, 40, 1)\n"
     ]
    }
   ],
   "source": [
    "BATCH_SIZE     = 64\n",
    "\n",
    "SRC_VOCAB_SIZE = 15000\n",
    "TGT_VOCAB_SIZE = 15000\n",
    "\n",
    "units         = 512\n",
    "embedding_dim = 256\n",
    "max_len = 40 \n",
    "encoder = Encoder(SRC_VOCAB_SIZE, embedding_dim, units)\n",
    "decoder = Decoder(TGT_VOCAB_SIZE, embedding_dim, units)\n",
    "\n",
    "sequence_len = 40\n",
    "\n",
    "\n",
    "# smaple로 테스트\n",
    "sample_enc = tf.random.uniform((BATCH_SIZE, sequence_len))\n",
    "sample_output = encoder(sample_enc)\n",
    "\n",
    "print ('Encoder Output:', sample_output.shape)\n",
    "\n",
    "sample_state = tf.random.uniform((BATCH_SIZE, units))\n",
    "\n",
    "sample_logits, h_dec, attn = decoder(tf.random.uniform((BATCH_SIZE, 1)),\n",
    "                                     sample_state, sample_output)\n",
    "\n",
    "print ('Decoder Output:', sample_logits.shape)\n",
    "print ('Decoder Hidden State:', h_dec.shape)\n",
    "print ('Attention:', attn.shape)"
   ]
  },
  {
   "cell_type": "markdown",
   "id": "9421d6e7",
   "metadata": {},
   "source": [
    "### optimizer & loss"
   ]
  },
  {
   "cell_type": "code",
   "execution_count": 431,
   "id": "46dab8f8",
   "metadata": {},
   "outputs": [],
   "source": [
    "optimizer = tf.keras.optimizers.Adam()\n",
    "loss_object = tf.keras.losses.SparseCategoricalCrossentropy(\n",
    "    from_logits=True, reduction='none')\n",
    "\n",
    "def loss_function(real, pred):\n",
    "    mask = tf.math.logical_not(tf.math.equal(real, 0))\n",
    "    loss = loss_object(real, pred)\n",
    "    \n",
    "    mask = tf.cast(mask, dtype=loss.dtype)\n",
    "    loss *= mask\n",
    "    \n",
    "    return tf.reduce_mean(loss)\n"
   ]
  },
  {
   "cell_type": "code",
   "execution_count": 432,
   "id": "b1583d19",
   "metadata": {},
   "outputs": [],
   "source": [
    "@tf.function\n",
    "def train_step(src, tgt, encoder, decoder, optimizer, dec_tok):\n",
    "    bsz = src.shape[0]\n",
    "    loss = 0\n",
    "\n",
    "    with tf.GradientTape() as tape:\n",
    "        enc_out = encoder(src)\n",
    "        h_dec = enc_out[:, -1]\n",
    "        \n",
    "        dec_src = tf.expand_dims([dec_tok.word_index['<start>']] * bsz, 1)\n",
    "\n",
    "        for t in range(1, tgt.shape[1]):\n",
    "            pred, h_dec, _ = decoder(dec_src, h_dec, enc_out)\n",
    "\n",
    "            loss += loss_function(tgt[:, t], pred)\n",
    "            dec_src = tf.expand_dims(tgt[:, t], 1)\n",
    "        \n",
    "    batch_loss = (loss / int(tgt.shape[1]))\n",
    "\n",
    "    variables = encoder.trainable_variables + decoder.trainable_variables\n",
    "    gradients = tape.gradient(loss, variables)\n",
    "    optimizer.apply_gradients(zip(gradients, variables))\n",
    "    \n",
    "    return batch_loss\n"
   ]
  },
  {
   "cell_type": "markdown",
   "id": "eff2bd00",
   "metadata": {},
   "source": [
    "# 훈련하기"
   ]
  },
  {
   "cell_type": "markdown",
   "id": "eadf0a88",
   "metadata": {},
   "source": [
    "### 모델 훈련 (테스트)"
   ]
  },
  {
   "cell_type": "code",
   "execution_count": 352,
   "id": "6128eb3c",
   "metadata": {},
   "outputs": [
    {
     "name": "stderr",
     "output_type": "stream",
     "text": [
      "Epoch  1: 100%|██████████| 999/999 [04:18<00:00,  3.87it/s, Loss 3.6895] \n",
      "Epoch  2:  41%|████      | 410/999 [01:21<01:57,  5.03it/s, Loss 3.1890]\n"
     ]
    },
    {
     "ename": "KeyboardInterrupt",
     "evalue": "",
     "output_type": "error",
     "traceback": [
      "\u001b[0;31m---------------------------------------------------------------------------\u001b[0m",
      "\u001b[0;31mKeyboardInterrupt\u001b[0m                         Traceback (most recent call last)",
      "\u001b[0;32m/tmp/ipykernel_51/2650714769.py\u001b[0m in \u001b[0;36m<module>\u001b[0;34m\u001b[0m\n\u001b[1;32m     11\u001b[0m \u001b[0;34m\u001b[0m\u001b[0m\n\u001b[1;32m     12\u001b[0m     \u001b[0;32mfor\u001b[0m \u001b[0;34m(\u001b[0m\u001b[0mbatch\u001b[0m\u001b[0;34m,\u001b[0m \u001b[0midx\u001b[0m\u001b[0;34m)\u001b[0m \u001b[0;32min\u001b[0m \u001b[0menumerate\u001b[0m\u001b[0;34m(\u001b[0m\u001b[0mt\u001b[0m\u001b[0;34m)\u001b[0m\u001b[0;34m:\u001b[0m\u001b[0;34m\u001b[0m\u001b[0;34m\u001b[0m\u001b[0m\n\u001b[0;32m---> 13\u001b[0;31m         batch_loss = train_step(tensor_train_ko[idx:idx+BATCH_SIZE],\n\u001b[0m\u001b[1;32m     14\u001b[0m                                 \u001b[0mtensor_train_en\u001b[0m\u001b[0;34m[\u001b[0m\u001b[0midx\u001b[0m\u001b[0;34m:\u001b[0m\u001b[0midx\u001b[0m\u001b[0;34m+\u001b[0m\u001b[0mBATCH_SIZE\u001b[0m\u001b[0;34m]\u001b[0m\u001b[0;34m,\u001b[0m\u001b[0;34m\u001b[0m\u001b[0;34m\u001b[0m\u001b[0m\n\u001b[1;32m     15\u001b[0m                                 \u001b[0mencoder\u001b[0m\u001b[0;34m,\u001b[0m\u001b[0;34m\u001b[0m\u001b[0;34m\u001b[0m\u001b[0m\n",
      "\u001b[0;32m/opt/conda/lib/python3.9/site-packages/tensorflow/python/eager/def_function.py\u001b[0m in \u001b[0;36m__call__\u001b[0;34m(self, *args, **kwds)\u001b[0m\n\u001b[1;32m    883\u001b[0m \u001b[0;34m\u001b[0m\u001b[0m\n\u001b[1;32m    884\u001b[0m       \u001b[0;32mwith\u001b[0m \u001b[0mOptionalXlaContext\u001b[0m\u001b[0;34m(\u001b[0m\u001b[0mself\u001b[0m\u001b[0;34m.\u001b[0m\u001b[0m_jit_compile\u001b[0m\u001b[0;34m)\u001b[0m\u001b[0;34m:\u001b[0m\u001b[0;34m\u001b[0m\u001b[0;34m\u001b[0m\u001b[0m\n\u001b[0;32m--> 885\u001b[0;31m         \u001b[0mresult\u001b[0m \u001b[0;34m=\u001b[0m \u001b[0mself\u001b[0m\u001b[0;34m.\u001b[0m\u001b[0m_call\u001b[0m\u001b[0;34m(\u001b[0m\u001b[0;34m*\u001b[0m\u001b[0margs\u001b[0m\u001b[0;34m,\u001b[0m \u001b[0;34m**\u001b[0m\u001b[0mkwds\u001b[0m\u001b[0;34m)\u001b[0m\u001b[0;34m\u001b[0m\u001b[0;34m\u001b[0m\u001b[0m\n\u001b[0m\u001b[1;32m    886\u001b[0m \u001b[0;34m\u001b[0m\u001b[0m\n\u001b[1;32m    887\u001b[0m       \u001b[0mnew_tracing_count\u001b[0m \u001b[0;34m=\u001b[0m \u001b[0mself\u001b[0m\u001b[0;34m.\u001b[0m\u001b[0mexperimental_get_tracing_count\u001b[0m\u001b[0;34m(\u001b[0m\u001b[0;34m)\u001b[0m\u001b[0;34m\u001b[0m\u001b[0;34m\u001b[0m\u001b[0m\n",
      "\u001b[0;32m/opt/conda/lib/python3.9/site-packages/tensorflow/python/eager/def_function.py\u001b[0m in \u001b[0;36m_call\u001b[0;34m(self, *args, **kwds)\u001b[0m\n\u001b[1;32m    915\u001b[0m       \u001b[0;31m# In this case we have created variables on the first call, so we run the\u001b[0m\u001b[0;34m\u001b[0m\u001b[0;34m\u001b[0m\u001b[0m\n\u001b[1;32m    916\u001b[0m       \u001b[0;31m# defunned version which is guaranteed to never create variables.\u001b[0m\u001b[0;34m\u001b[0m\u001b[0;34m\u001b[0m\u001b[0m\n\u001b[0;32m--> 917\u001b[0;31m       \u001b[0;32mreturn\u001b[0m \u001b[0mself\u001b[0m\u001b[0;34m.\u001b[0m\u001b[0m_stateless_fn\u001b[0m\u001b[0;34m(\u001b[0m\u001b[0;34m*\u001b[0m\u001b[0margs\u001b[0m\u001b[0;34m,\u001b[0m \u001b[0;34m**\u001b[0m\u001b[0mkwds\u001b[0m\u001b[0;34m)\u001b[0m  \u001b[0;31m# pylint: disable=not-callable\u001b[0m\u001b[0;34m\u001b[0m\u001b[0;34m\u001b[0m\u001b[0m\n\u001b[0m\u001b[1;32m    918\u001b[0m     \u001b[0;32melif\u001b[0m \u001b[0mself\u001b[0m\u001b[0;34m.\u001b[0m\u001b[0m_stateful_fn\u001b[0m \u001b[0;32mis\u001b[0m \u001b[0;32mnot\u001b[0m \u001b[0;32mNone\u001b[0m\u001b[0;34m:\u001b[0m\u001b[0;34m\u001b[0m\u001b[0;34m\u001b[0m\u001b[0m\n\u001b[1;32m    919\u001b[0m       \u001b[0;31m# Release the lock early so that multiple threads can perform the call\u001b[0m\u001b[0;34m\u001b[0m\u001b[0;34m\u001b[0m\u001b[0m\n",
      "\u001b[0;32m/opt/conda/lib/python3.9/site-packages/tensorflow/python/eager/function.py\u001b[0m in \u001b[0;36m__call__\u001b[0;34m(self, *args, **kwargs)\u001b[0m\n\u001b[1;32m   3037\u001b[0m       (graph_function,\n\u001b[1;32m   3038\u001b[0m        filtered_flat_args) = self._maybe_define_function(args, kwargs)\n\u001b[0;32m-> 3039\u001b[0;31m     return graph_function._call_flat(\n\u001b[0m\u001b[1;32m   3040\u001b[0m         filtered_flat_args, captured_inputs=graph_function.captured_inputs)  # pylint: disable=protected-access\n\u001b[1;32m   3041\u001b[0m \u001b[0;34m\u001b[0m\u001b[0m\n",
      "\u001b[0;32m/opt/conda/lib/python3.9/site-packages/tensorflow/python/eager/function.py\u001b[0m in \u001b[0;36m_call_flat\u001b[0;34m(self, args, captured_inputs, cancellation_manager)\u001b[0m\n\u001b[1;32m   1961\u001b[0m         and executing_eagerly):\n\u001b[1;32m   1962\u001b[0m       \u001b[0;31m# No tape is watching; skip to running the function.\u001b[0m\u001b[0;34m\u001b[0m\u001b[0;34m\u001b[0m\u001b[0m\n\u001b[0;32m-> 1963\u001b[0;31m       return self._build_call_outputs(self._inference_function.call(\n\u001b[0m\u001b[1;32m   1964\u001b[0m           ctx, args, cancellation_manager=cancellation_manager))\n\u001b[1;32m   1965\u001b[0m     forward_backward = self._select_forward_and_backward_functions(\n",
      "\u001b[0;32m/opt/conda/lib/python3.9/site-packages/tensorflow/python/eager/function.py\u001b[0m in \u001b[0;36mcall\u001b[0;34m(self, ctx, args, cancellation_manager)\u001b[0m\n\u001b[1;32m    589\u001b[0m       \u001b[0;32mwith\u001b[0m \u001b[0m_InterpolateFunctionError\u001b[0m\u001b[0;34m(\u001b[0m\u001b[0mself\u001b[0m\u001b[0;34m)\u001b[0m\u001b[0;34m:\u001b[0m\u001b[0;34m\u001b[0m\u001b[0;34m\u001b[0m\u001b[0m\n\u001b[1;32m    590\u001b[0m         \u001b[0;32mif\u001b[0m \u001b[0mcancellation_manager\u001b[0m \u001b[0;32mis\u001b[0m \u001b[0;32mNone\u001b[0m\u001b[0;34m:\u001b[0m\u001b[0;34m\u001b[0m\u001b[0;34m\u001b[0m\u001b[0m\n\u001b[0;32m--> 591\u001b[0;31m           outputs = execute.execute(\n\u001b[0m\u001b[1;32m    592\u001b[0m               \u001b[0mstr\u001b[0m\u001b[0;34m(\u001b[0m\u001b[0mself\u001b[0m\u001b[0;34m.\u001b[0m\u001b[0msignature\u001b[0m\u001b[0;34m.\u001b[0m\u001b[0mname\u001b[0m\u001b[0;34m)\u001b[0m\u001b[0;34m,\u001b[0m\u001b[0;34m\u001b[0m\u001b[0;34m\u001b[0m\u001b[0m\n\u001b[1;32m    593\u001b[0m               \u001b[0mnum_outputs\u001b[0m\u001b[0;34m=\u001b[0m\u001b[0mself\u001b[0m\u001b[0;34m.\u001b[0m\u001b[0m_num_outputs\u001b[0m\u001b[0;34m,\u001b[0m\u001b[0;34m\u001b[0m\u001b[0;34m\u001b[0m\u001b[0m\n",
      "\u001b[0;32m/opt/conda/lib/python3.9/site-packages/tensorflow/python/eager/execute.py\u001b[0m in \u001b[0;36mquick_execute\u001b[0;34m(op_name, num_outputs, inputs, attrs, ctx, name)\u001b[0m\n\u001b[1;32m     57\u001b[0m   \u001b[0;32mtry\u001b[0m\u001b[0;34m:\u001b[0m\u001b[0;34m\u001b[0m\u001b[0;34m\u001b[0m\u001b[0m\n\u001b[1;32m     58\u001b[0m     \u001b[0mctx\u001b[0m\u001b[0;34m.\u001b[0m\u001b[0mensure_initialized\u001b[0m\u001b[0;34m(\u001b[0m\u001b[0;34m)\u001b[0m\u001b[0;34m\u001b[0m\u001b[0;34m\u001b[0m\u001b[0m\n\u001b[0;32m---> 59\u001b[0;31m     tensors = pywrap_tfe.TFE_Py_Execute(ctx._handle, device_name, op_name,\n\u001b[0m\u001b[1;32m     60\u001b[0m                                         inputs, attrs, num_outputs)\n\u001b[1;32m     61\u001b[0m   \u001b[0;32mexcept\u001b[0m \u001b[0mcore\u001b[0m\u001b[0;34m.\u001b[0m\u001b[0m_NotOkStatusException\u001b[0m \u001b[0;32mas\u001b[0m \u001b[0me\u001b[0m\u001b[0;34m:\u001b[0m\u001b[0;34m\u001b[0m\u001b[0;34m\u001b[0m\u001b[0m\n",
      "\u001b[0;31mKeyboardInterrupt\u001b[0m: "
     ]
    }
   ],
   "source": [
    "from tqdm import tqdm    # tqdm\n",
    "import random\n",
    "\n",
    "EPOCHS = 2\n",
    "\n",
    "for epoch in range(EPOCHS):\n",
    "    total_loss = 0\n",
    "    idx_list = list(range(0, tensor_train_en.shape[0], BATCH_SIZE))\n",
    "    random.shuffle(idx_list)\n",
    "    t = tqdm(idx_list)    # tqdm\n",
    "\n",
    "    for (batch, idx) in enumerate(t):\n",
    "        batch_loss = train_step(tensor_train_ko[idx:idx+BATCH_SIZE],\n",
    "                                tensor_train_en[idx:idx+BATCH_SIZE],\n",
    "                                encoder,\n",
    "                                decoder,\n",
    "                                optimizer,\n",
    "                                tokenize_train_en)\n",
    "    \n",
    "        total_loss += batch_loss\n",
    "        \n",
    "        t.set_description_str('Epoch %2d' % (epoch + 1))    # tqdm\n",
    "        t.set_postfix_str('Loss %.4f' % (total_loss.numpy() / (batch + 1)))    # tqdm"
   ]
  },
  {
   "cell_type": "markdown",
   "id": "3dabe97e",
   "metadata": {},
   "source": [
    "### 실제 테스트"
   ]
  },
  {
   "cell_type": "code",
   "execution_count": 433,
   "id": "76256026",
   "metadata": {},
   "outputs": [
    {
     "name": "stderr",
     "output_type": "stream",
     "text": [
      "Epoch  1: 100%|██████████| 980/980 [04:18<00:00,  3.79it/s, Loss 3.5316] \n",
      "Test Epoch  1: 100%|██████████| 24/24 [00:25<00:00,  1.05s/it, Test Loss 3.9953]\n",
      "Epoch  2: 100%|██████████| 980/980 [03:19<00:00,  4.92it/s, Loss 2.9176]\n",
      "Test Epoch  2: 100%|██████████| 24/24 [00:01<00:00, 14.47it/s, Test Loss 4.2153]\n",
      "Epoch  3: 100%|██████████| 980/980 [03:22<00:00,  4.83it/s, Loss 2.6376]\n",
      "Test Epoch  3: 100%|██████████| 24/24 [00:01<00:00, 14.51it/s, Test Loss 4.3853]\n",
      "Epoch  4: 100%|██████████| 980/980 [03:22<00:00,  4.83it/s, Loss 2.4286]\n",
      "Test Epoch  4: 100%|██████████| 24/24 [00:01<00:00, 14.45it/s, Test Loss 4.4876]\n",
      "Epoch  5: 100%|██████████| 980/980 [03:23<00:00,  4.82it/s, Loss 2.2642]\n",
      "Test Epoch  5: 100%|██████████| 24/24 [00:01<00:00, 14.49it/s, Test Loss 4.6169]\n",
      "Epoch  6: 100%|██████████| 980/980 [03:22<00:00,  4.83it/s, Loss 2.1251]\n",
      "Test Epoch  6: 100%|██████████| 24/24 [00:01<00:00, 14.49it/s, Test Loss 4.7054]\n",
      "Epoch  7: 100%|██████████| 980/980 [03:22<00:00,  4.83it/s, Loss 1.9944]\n",
      "Test Epoch  7: 100%|██████████| 24/24 [00:01<00:00, 14.49it/s, Test Loss 4.8256]\n",
      "Epoch  8: 100%|██████████| 980/980 [03:23<00:00,  4.82it/s, Loss 1.8785]\n",
      "Test Epoch  8: 100%|██████████| 24/24 [00:01<00:00, 14.50it/s, Test Loss 4.9126]\n",
      "Epoch  9: 100%|██████████| 980/980 [03:23<00:00,  4.83it/s, Loss 1.7706]\n",
      "Test Epoch  9: 100%|██████████| 24/24 [00:01<00:00, 14.49it/s, Test Loss 5.0105]\n",
      "Epoch 10: 100%|██████████| 980/980 [03:23<00:00,  4.83it/s, Loss 1.6700]\n",
      "Test Epoch 10: 100%|██████████| 24/24 [00:01<00:00, 14.46it/s, Test Loss 5.0990]\n",
      "Epoch 11: 100%|██████████| 980/980 [03:23<00:00,  4.82it/s, Loss 1.5781]\n",
      "Test Epoch 11: 100%|██████████| 24/24 [00:01<00:00, 14.45it/s, Test Loss 5.1776]\n",
      "Epoch 12: 100%|██████████| 980/980 [03:22<00:00,  4.83it/s, Loss 1.4907]\n",
      "Test Epoch 12: 100%|██████████| 24/24 [00:01<00:00, 14.49it/s, Test Loss 5.2930]\n",
      "Epoch 13: 100%|██████████| 980/980 [03:23<00:00,  4.82it/s, Loss 1.4200]\n",
      "Test Epoch 13: 100%|██████████| 24/24 [00:01<00:00, 14.47it/s, Test Loss 5.3922]\n",
      "Epoch 14: 100%|██████████| 980/980 [03:23<00:00,  4.82it/s, Loss 1.3451]\n",
      "Test Epoch 14: 100%|██████████| 24/24 [00:01<00:00, 14.45it/s, Test Loss 5.4867]\n",
      "Epoch 15: 100%|██████████| 980/980 [03:23<00:00,  4.81it/s, Loss 1.2695]\n",
      "Test Epoch 15: 100%|██████████| 24/24 [00:01<00:00, 14.49it/s, Test Loss 5.5828]\n",
      "Epoch 16: 100%|██████████| 980/980 [03:23<00:00,  4.81it/s, Loss 1.2086]\n",
      "Test Epoch 16: 100%|██████████| 24/24 [00:01<00:00, 14.42it/s, Test Loss 5.6750]\n",
      "Epoch 17: 100%|██████████| 980/980 [03:24<00:00,  4.80it/s, Loss 1.1689]\n",
      "Test Epoch 17: 100%|██████████| 24/24 [00:01<00:00, 14.47it/s, Test Loss 5.7785]\n"
     ]
    }
   ],
   "source": [
    "@tf.function\n",
    "def eval_step(src, tgt, encoder, decoder, dec_tok):\n",
    "    bsz = src.shape[0]\n",
    "    loss = 0\n",
    "\n",
    "    enc_out = encoder(src)\n",
    "\n",
    "    h_dec = enc_out[:, -1]\n",
    "    \n",
    "    dec_src = tf.expand_dims([dec_tok.word_index['<start>']] * bsz, 1)\n",
    "\n",
    "    for t in range(1, tgt.shape[1]):\n",
    "        pred, h_dec, _ = decoder(dec_src, h_dec, enc_out)\n",
    "\n",
    "        loss += loss_function(tgt[:, t], pred)\n",
    "        dec_src = tf.expand_dims(tgt[:, t], 1)\n",
    "        \n",
    "    batch_loss = (loss / int(tgt.shape[1]))\n",
    "    \n",
    "    return batch_loss\n",
    "\n",
    "\n",
    "# Training Process\n",
    "\n",
    "from tqdm import tqdm\n",
    "\n",
    "EPOCHS = 17\n",
    "\n",
    "for epoch in range(EPOCHS):\n",
    "    total_loss = 0\n",
    "    \n",
    "    idx_list = list(range(0, tensor_train_en.shape[0], BATCH_SIZE))\n",
    "    random.shuffle(idx_list)\n",
    "    t = tqdm(idx_list)\n",
    "\n",
    "    for (batch, idx) in enumerate(t):\n",
    "        batch_loss = train_step(tensor_train_ko[idx:idx+BATCH_SIZE],\n",
    "                                tensor_train_en[idx:idx+BATCH_SIZE],\n",
    "                                encoder,\n",
    "                                decoder,\n",
    "                                optimizer,\n",
    "                                tokenize_train_en)\n",
    "    \n",
    "        total_loss += batch_loss\n",
    "        \n",
    "        t.set_description_str('Epoch %2d' % (epoch + 1))\n",
    "        t.set_postfix_str('Loss %.4f' % (total_loss.numpy() / (batch + 1)))\n",
    "    \n",
    "    test_loss = 0\n",
    "    \n",
    "    idx_list = list(range(0,tensor_test_ko.shape[0], BATCH_SIZE))\n",
    "    random.shuffle(idx_list)\n",
    "    t = tqdm(idx_list)\n",
    "\n",
    "    for (test_batch, idx) in enumerate(t):\n",
    "        test_batch_loss = eval_step(tensor_test_ko[idx:idx+BATCH_SIZE],\n",
    "                                    tensor_test_en[idx:idx+BATCH_SIZE],\n",
    "                                    encoder,\n",
    "                                    decoder,\n",
    "                                    tokenize_test_en)\n",
    "    \n",
    "        test_loss += test_batch_loss\n",
    "\n",
    "        t.set_description_str('Test Epoch %2d' % (epoch + 1))\n",
    "        t.set_postfix_str('Test Loss %.4f' % (test_loss.numpy() / (test_batch + 1)))"
   ]
  },
  {
   "cell_type": "code",
   "execution_count": 440,
   "id": "f3ce17ec",
   "metadata": {
    "scrolled": true
   },
   "outputs": [
    {
     "name": "stdout",
     "output_type": "stream",
     "text": [
      "Raw Input:       커피는 필요 없다.\n",
      "After Preprocess:커피는 필요 없다 <end>\n",
      "Prediction:      <start> the end of the story <end>\n"
     ]
    },
    {
     "data": {
      "image/png": "[encoded data removed]",
      "text/plain": [
       "<Figure size 432x432 with 2 Axes>"
      ]
     },
     "metadata": {
      "needs_background": "light"
     },
     "output_type": "display_data"
    }
   ],
   "source": [
    "def evaluate(sentence, encoder, decoder):\n",
    "    # 1) 전처리\n",
    "    proc = preprocess_sentence_ko(sentence)  \n",
    "    # 예: \"<start> 오바마는 대통령이다 <end>\"\n",
    "\n",
    "    # 2) 시퀀스로 변환 (문자열 리스트!)\n",
    "    seq = tokenize_train_ko.texts_to_sequences([proc])  # <- [문자열] 형태\n",
    "    inputs = tf.keras.preprocessing.sequence.pad_sequences(\n",
    "        seq,\n",
    "        maxlen=tensor_train_ko.shape[-1],  # 훈련 시 max_len\n",
    "        padding='pre'                      # or 'post', 훈련과 동일하게\n",
    "    )\n",
    "\n",
    "    # 3) Tensor로 변환\n",
    "    inputs = tf.convert_to_tensor(inputs)\n",
    "\n",
    "    # 4) Encoding\n",
    "    enc_out = encoder(inputs)          \n",
    "\n",
    "    # 디코더 초기 상태\n",
    "    dec_hidden = enc_out[:, -1]        \n",
    "\n",
    "    # 5) 첫 입력: <start> 토큰\n",
    "    dec_input = tf.expand_dims([tokenize_train_en.word_index['<start>']], 0)\n",
    "\n",
    "    result = ''\n",
    "    attention = np.zeros((tensor_train_en.shape[-1],\n",
    "                          tensor_train_ko.shape[-1]))\n",
    "\n",
    "    # 6) 디코딩 루프\n",
    "    for t in range(tensor_train_en.shape[-1]):\n",
    "        predictions, dec_hidden, attn_weights = decoder(\n",
    "            dec_input, dec_hidden, enc_out\n",
    "        )\n",
    "\n",
    "        # a) 어텐션 저장\n",
    "        aw = tf.reshape(attn_weights, (-1,)).numpy()\n",
    "        attention[t] = aw\n",
    "\n",
    "        # b) 다음 토큰 예측\n",
    "        predicted_id = tf.argmax(predictions[0]).numpy()\n",
    "        predicted_word = tokenize_train_en.index_word.get(predicted_id, '<unk>')\n",
    "        result += predicted_word + ' '\n",
    "\n",
    "        # c) 종료 조건\n",
    "        if predicted_word == '<end>':\n",
    "            break\n",
    "\n",
    "        # d) 다음 입력 준비\n",
    "        dec_input = tf.expand_dims([predicted_id], 0)\n",
    "\n",
    "    return result.strip(), proc, attention\n",
    "\n",
    "\n",
    "import numpy as np\n",
    "import matplotlib.pyplot as plt\n",
    "\n",
    "def plot_attention(attention, input_tokens, output_tokens):\n",
    "    \"\"\"\n",
    "    attention: 2D numpy array, shape=(max_tgt_len, max_src_len)\n",
    "    input_tokens: 실제 소스 토큰 리스트, 길이 = L_src\n",
    "    output_tokens: 실제 출력(예측) 토큰 리스트, 길이 = L_tgt\n",
    "    \"\"\"\n",
    "\n",
    "    # 1) 실제 문장 길이에 맞게 슬라이스\n",
    "    L_tgt = len(output_tokens)\n",
    "    L_src = len(input_tokens)\n",
    "    attn = attention[:L_tgt, :L_src]\n",
    "\n",
    "    # 2) 그림판 크기: 토큰 개수에 비례하여 키우기\n",
    "    fig, ax = plt.subplots(\n",
    "        figsize=(max(6, L_src*0.6), max(6, L_tgt*0.6))\n",
    "    )\n",
    "\n",
    "    # 3) imshow with auto aspect\n",
    "    cax = ax.imshow(attn, interpolation='nearest', cmap='viridis', aspect='auto')\n",
    "    fig.colorbar(cax, shrink=0.8)\n",
    "\n",
    "    # 4) 틱 위치, 라벨 설정\n",
    "    ax.set_xticks(np.arange(L_src))\n",
    "    ax.set_yticks(np.arange(L_tgt))\n",
    "    ax.set_xticklabels(input_tokens, rotation=45, ha='right', fontsize=12)\n",
    "    ax.set_yticklabels(output_tokens, fontsize=12)\n",
    "\n",
    "    # 5) 그리드 켜기 (선택)\n",
    "    ax.grid(False)\n",
    "    ax.set_xlabel('Source (입력)', fontsize=14)\n",
    "    ax.set_ylabel('Target (출력)', fontsize=14)\n",
    "\n",
    "    plt.tight_layout()\n",
    "    plt.show()\n",
    "\n",
    "\n",
    "def translate(sentence, encoder, decoder):\n",
    "    result, proc, attention = evaluate(sentence, encoder, decoder)\n",
    "    print(f'Raw Input:       {sentence}')\n",
    "    print(f'After Preprocess:{proc}')\n",
    "    print(f'Prediction:      {result}')\n",
    "    plot_attention(attention, proc.split(), result.split())\n",
    "\n",
    "\n",
    "translate(\"커피는 필요 없다.\", encoder, decoder)"
   ]
  },
  {
   "cell_type": "code",
   "execution_count": 441,
   "id": "e0578265",
   "metadata": {},
   "outputs": [
    {
     "name": "stdout",
     "output_type": "stream",
     "text": [
      "Raw Input:       시민들은 도시 속에 산다.\n",
      "After Preprocess:시민들은 도시 속에 산다 <end>\n",
      "Prediction:      <start> the town hall <end>\n"
     ]
    },
    {
     "data": {
      "image/png": "[encoded data removed]",
      "text/plain": [
       "<Figure size 432x432 with 2 Axes>"
      ]
     },
     "metadata": {
      "needs_background": "light"
     },
     "output_type": "display_data"
    }
   ],
   "source": [
    "translate(\"시민들은 도시 속에 산다.\", encoder, decoder)"
   ]
  },
  {
   "cell_type": "code",
   "execution_count": 442,
   "id": "717948ba",
   "metadata": {},
   "outputs": [
    {
     "name": "stdout",
     "output_type": "stream",
     "text": [
      "Raw Input:       일곱 명의 사망자가 발생했다.\n",
      "After Preprocess:일곱 명의 사망자가 발생했다 <end>\n",
      "Prediction:      seven month <end>\n"
     ]
    },
    {
     "data": {
      "image/png": "[encoded data removed]",
      "text/plain": [
       "<Figure size 432x432 with 2 Axes>"
      ]
     },
     "metadata": {
      "needs_background": "light"
     },
     "output_type": "display_data"
    }
   ],
   "source": [
    "translate(\"일곱 명의 사망자가 발생했다.\", encoder, decoder)"
   ]
  },
  {
   "cell_type": "code",
   "execution_count": 443,
   "id": "8314dc17",
   "metadata": {},
   "outputs": [
    {
     "name": "stdout",
     "output_type": "stream",
     "text": [
      "Raw Input:       오바마는 대통령이다.\n",
      "After Preprocess:오바마는 대통령이다 <end>\n",
      "Prediction:      <start> the u s <end>\n"
     ]
    },
    {
     "data": {
      "image/png": "[encoded data removed]",
      "text/plain": [
       "<Figure size 432x432 with 2 Axes>"
      ]
     },
     "metadata": {
      "needs_background": "light"
     },
     "output_type": "display_data"
    }
   ],
   "source": [
    "translate(\"오바마는 대통령이다.\", encoder, decoder)"
   ]
  },
  {
   "cell_type": "markdown",
   "id": "4bdec8c0",
   "metadata": {},
   "source": [
    "# 회고\n",
    "생각보다 많은 훈련이 필요했고 복잡했다.\n",
    "훈련 중 로스가 줄어들지 않고 훈련이 안되고 같은 문장만 출력해내는 이슈가 있었으나\n",
    "임베딩층에 mask_zero=True로 설정한 뒤 훈련을 하니 로스가 내려갔고 같은 출력만 반복하는 이슈를 해결할 수 있었다.\n",
    "패딩된 0번 토큰 무시\n",
    "→ attention, GRU, decoder 모두 \"진짜 단어\" 위치만 학습\n",
    "\n",
    "학습에 필요 없는 \"패딩 위치 예측\"을 안 하게 되었기 때문입니다.\n",
    "\n",
    "학습 초반에는 모델이 어차피 거의 다 틀리기 때문에\n",
    "→ 불필요한 패딩 예측까지 더하면서 loss가 3~4 수준에서 정체\n",
    "→ mask_zero=True를 켠 순간\n",
    "→ 패딩 토큰들은 완전히 무시되고 실제 의미 있는 위치들만 손실 계산\n",
    "→ 손실이 의미 있게 줄어들기 시작한다.\n",
    "\n",
    "위와 같은 이유로 예측을 할 때에는 mask_zero는 필수라는 것을 깨달았다."
   ]
  },
  {
   "cell_type": "code",
   "execution_count": null,
   "id": "bbc49787",
   "metadata": {},
   "outputs": [],
   "source": []
  }
 ],
 "metadata": {
  "kernelspec": {
   "display_name": "Python 3 (ipykernel)",
   "language": "python",
   "name": "python3"
  },
  "language_info": {
   "codemirror_mode": {
    "name": "ipython",
    "version": 3
   },
   "file_extension": ".py",
   "mimetype": "text/x-python",
   "name": "python",
   "nbconvert_exporter": "python",
   "pygments_lexer": "ipython3",
   "version": "3.9.7"
  }
 },
 "nbformat": 4,
 "nbformat_minor": 5
}
