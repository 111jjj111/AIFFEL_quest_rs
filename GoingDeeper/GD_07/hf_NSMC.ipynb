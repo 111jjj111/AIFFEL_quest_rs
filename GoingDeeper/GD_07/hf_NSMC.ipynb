{
 "cells": [
  {
   "cell_type": "code",
   "execution_count": 1,
   "id": "c86321c0",
   "metadata": {},
   "outputs": [],
   "source": [
    "import tensorflow\n",
    "import numpy\n",
    "import transformers\n",
    "import datasets"
   ]
  },
  {
   "cell_type": "markdown",
   "id": "d9865449",
   "metadata": {},
   "source": [
    "## STEP 1. NSMC 데이터 분석 및 Huggingface dataset 구성"
   ]
  },
  {
   "cell_type": "code",
   "execution_count": 2,
   "id": "17b24fcb",
   "metadata": {},
   "outputs": [
    {
     "name": "stderr",
     "output_type": "stream",
     "text": [
      "Using custom data configuration Blpeng___nsmc-55757a98c8abea78\n"
     ]
    },
    {
     "name": "stdout",
     "output_type": "stream",
     "text": [
      "Downloading and preparing dataset csv/Blpeng___nsmc to /aiffel/.cache/huggingface/datasets/csv/Blpeng___nsmc-55757a98c8abea78/0.0.0/bf68a4c4aefa545d0712b2fcbb1b327f905bbe2f6425fbc5e8c25234acb9e14a...\n"
     ]
    },
    {
     "data": {
      "application/vnd.jupyter.widget-view+json": {
       "model_id": "dfa7c70a120c4aec8e7dbd5eaf2daa6c",
       "version_major": 2,
       "version_minor": 0
      },
      "text/plain": [
       "  0%|          | 0/1 [00:00<?, ?it/s]"
      ]
     },
     "metadata": {},
     "output_type": "display_data"
    },
    {
     "data": {
      "application/vnd.jupyter.widget-view+json": {
       "model_id": "530a92ee67184f56b0087d88be127fa8",
       "version_major": 2,
       "version_minor": 0
      },
      "text/plain": [
       "Downloading:   0%|          | 0.00/21.0M [00:00<?, ?B/s]"
      ]
     },
     "metadata": {},
     "output_type": "display_data"
    },
    {
     "data": {
      "application/vnd.jupyter.widget-view+json": {
       "model_id": "47021a03f65f4c1bb69b9fb7a09adb60",
       "version_major": 2,
       "version_minor": 0
      },
      "text/plain": [
       "Downloading:   0%|          | 0.00/5.19M [00:00<?, ?B/s]"
      ]
     },
     "metadata": {},
     "output_type": "display_data"
    },
    {
     "data": {
      "application/vnd.jupyter.widget-view+json": {
       "model_id": "2a46ad1ef0b14ae8a935a0c455ea7b59",
       "version_major": 2,
       "version_minor": 0
      },
      "text/plain": [
       "Downloading:   0%|          | 0.00/15.7M [00:00<?, ?B/s]"
      ]
     },
     "metadata": {},
     "output_type": "display_data"
    },
    {
     "data": {
      "application/vnd.jupyter.widget-view+json": {
       "model_id": "54aa4b9c40ef4ac684e520afe8e8fc61",
       "version_major": 2,
       "version_minor": 0
      },
      "text/plain": [
       "  0%|          | 0/1 [00:00<?, ?it/s]"
      ]
     },
     "metadata": {},
     "output_type": "display_data"
    },
    {
     "name": "stdout",
     "output_type": "stream",
     "text": [
      "Dataset csv downloaded and prepared to /aiffel/.cache/huggingface/datasets/csv/Blpeng___nsmc-55757a98c8abea78/0.0.0/bf68a4c4aefa545d0712b2fcbb1b327f905bbe2f6425fbc5e8c25234acb9e14a. Subsequent calls will reuse this data.\n"
     ]
    },
    {
     "data": {
      "application/vnd.jupyter.widget-view+json": {
       "model_id": "135a85687e4a4e47a4e9249c80b514da",
       "version_major": 2,
       "version_minor": 0
      },
      "text/plain": [
       "  0%|          | 0/1 [00:00<?, ?it/s]"
      ]
     },
     "metadata": {},
     "output_type": "display_data"
    },
    {
     "name": "stdout",
     "output_type": "stream",
     "text": [
      "DatasetDict({\n",
      "    train: Dataset({\n",
      "        features: ['Unnamed: 0', 'id', 'document', 'label'],\n",
      "        num_rows: 400000\n",
      "    })\n",
      "})\n"
     ]
    }
   ],
   "source": [
    "import datasets\n",
    "from datasets import load_dataset\n",
    "\n",
    "\n",
    "huggingface_nsmc_dataset = load_dataset(\"Blpeng/nsmc\")\n",
    "print(huggingface_nsmc_dataset)"
   ]
  },
  {
   "cell_type": "code",
   "execution_count": 3,
   "id": "bbe6c006",
   "metadata": {},
   "outputs": [
    {
     "ename": "NameError",
     "evalue": "name 'nsmc_dataset' is not defined",
     "output_type": "error",
     "traceback": [
      "\u001b[0;31m---------------------------------------------------------------------------\u001b[0m",
      "\u001b[0;31mNameError\u001b[0m                                 Traceback (most recent call last)",
      "\u001b[0;32m/tmp/ipykernel_54/1173057239.py\u001b[0m in \u001b[0;36m<module>\u001b[0;34m\u001b[0m\n\u001b[1;32m      1\u001b[0m \u001b[0;32mimport\u001b[0m \u001b[0mpandas\u001b[0m \u001b[0;32mas\u001b[0m \u001b[0mpd\u001b[0m\u001b[0;34m\u001b[0m\u001b[0;34m\u001b[0m\u001b[0m\n\u001b[1;32m      2\u001b[0m \u001b[0;34m\u001b[0m\u001b[0m\n\u001b[0;32m----> 3\u001b[0;31m \u001b[0mdf\u001b[0m \u001b[0;34m=\u001b[0m \u001b[0mnsmc_dataset\u001b[0m\u001b[0;34m[\u001b[0m\u001b[0;34m'train'\u001b[0m\u001b[0;34m]\u001b[0m\u001b[0;34m.\u001b[0m\u001b[0mto_pandas\u001b[0m\u001b[0;34m(\u001b[0m\u001b[0;34m)\u001b[0m\u001b[0;34m\u001b[0m\u001b[0;34m\u001b[0m\u001b[0m\n\u001b[0m\u001b[1;32m      4\u001b[0m \u001b[0mdf\u001b[0m\u001b[0;34m.\u001b[0m\u001b[0mhead\u001b[0m\u001b[0;34m(\u001b[0m\u001b[0;34m)\u001b[0m\u001b[0;34m\u001b[0m\u001b[0;34m\u001b[0m\u001b[0m\n",
      "\u001b[0;31mNameError\u001b[0m: name 'nsmc_dataset' is not defined"
     ]
    }
   ],
   "source": [
    "import pandas as pd\n",
    "\n",
    "df = nsmc_dataset['train'].to_pandas()\n",
    "df.head()"
   ]
  },
  {
   "cell_type": "code",
   "execution_count": null,
   "id": "84312dae",
   "metadata": {},
   "outputs": [],
   "source": [
    "df.info()"
   ]
  },
  {
   "cell_type": "code",
   "execution_count": null,
   "id": "d94ec31d",
   "metadata": {},
   "outputs": [],
   "source": [
    "print(df.duplicated(subset=['document']).sum())"
   ]
  },
  {
   "cell_type": "markdown",
   "id": "4dfa3fad",
   "metadata": {},
   "source": [
    "### 데이터의 수가 이상한 걸 발견 증강된 데이터를 사용중이였던 것을 확인 후 수정"
   ]
  },
  {
   "cell_type": "code",
   "execution_count": 2,
   "id": "d0005b7a",
   "metadata": {},
   "outputs": [
    {
     "name": "stderr",
     "output_type": "stream",
     "text": [
      "Using custom data configuration default\n",
      "Reusing dataset nsmc (/aiffel/.cache/huggingface/datasets/e9t___nsmc)/default/1.1.0/bfd4729bf1a67114e5267e6916b9e4807010aeb238e4a3c2b95fbfa3a014b5f3)\n"
     ]
    },
    {
     "data": {
      "application/vnd.jupyter.widget-view+json": {
       "model_id": "2c1eb5b08bad460a8f429d900cfc53d5",
       "version_major": 2,
       "version_minor": 0
      },
      "text/plain": [
       "  0%|          | 0/2 [00:00<?, ?it/s]"
      ]
     },
     "metadata": {},
     "output_type": "display_data"
    },
    {
     "name": "stdout",
     "output_type": "stream",
     "text": [
      "DatasetDict({\n",
      "    train: Dataset({\n",
      "        features: ['id', 'document', 'label'],\n",
      "        num_rows: 150000\n",
      "    })\n",
      "    test: Dataset({\n",
      "        features: ['id', 'document', 'label'],\n",
      "        num_rows: 50000\n",
      "    })\n",
      "})\n"
     ]
    }
   ],
   "source": [
    "import datasets\n",
    "from datasets import load_dataset\n",
    "\n",
    "\n",
    "nsmc_dataset = load_dataset(\"e9t/nsmc\")\n",
    "print(nsmc_dataset)"
   ]
  },
  {
   "cell_type": "code",
   "execution_count": 3,
   "id": "b9b4db46",
   "metadata": {},
   "outputs": [
    {
     "data": {
      "image/png": "[encoded data removed]",
      "text/plain": [
       "<Figure size 432x288 with 1 Axes>"
      ]
     },
     "metadata": {
      "needs_background": "light"
     },
     "output_type": "display_data"
    }
   ],
   "source": [
    "import matplotlib.pyplot as plt\n",
    "\n",
    "# NSMC 데이터셋의 'document' 문자열 길이 리스트 생성\n",
    "document_lengths = [len(item['document']) for item in nsmc_dataset['train']]\n",
    "\n",
    "# 히스토그램 그리기\n",
    "plt.hist(document_lengths, bins=10, color='skyblue', edgecolor='black')\n",
    "plt.title('NSMC Dataset Train Document Length Distribution')\n",
    "plt.xlabel('Document Length')\n",
    "plt.ylabel('Frequency')\n",
    "plt.grid(True)\n",
    "plt.show()\n"
   ]
  },
  {
   "cell_type": "code",
   "execution_count": null,
   "id": "58c48d0a",
   "metadata": {},
   "outputs": [],
   "source": []
  },
  {
   "cell_type": "markdown",
   "id": "56afb0dd",
   "metadata": {},
   "source": [
    "## STEP 2. klue/bert-base model 및 tokenizer 불러오기"
   ]
  },
  {
   "cell_type": "markdown",
   "id": "1dc14f99",
   "metadata": {},
   "source": [
    "### 모델,토큰 불러오기"
   ]
  },
  {
   "cell_type": "code",
   "execution_count": 4,
   "id": "98268e60",
   "metadata": {},
   "outputs": [
    {
     "name": "stderr",
     "output_type": "stream",
     "text": [
      "Some weights of the model checkpoint at klue/bert-base were not used when initializing BertForSequenceClassification: ['cls.predictions.decoder.weight', 'cls.seq_relationship.bias', 'cls.predictions.transform.dense.bias', 'cls.predictions.transform.LayerNorm.bias', 'cls.seq_relationship.weight', 'cls.predictions.bias', 'cls.predictions.transform.dense.weight', 'cls.predictions.decoder.bias', 'cls.predictions.transform.LayerNorm.weight']\n",
      "- This IS expected if you are initializing BertForSequenceClassification from the checkpoint of a model trained on another task or with another architecture (e.g. initializing a BertForSequenceClassification model from a BertForPreTraining model).\n",
      "- This IS NOT expected if you are initializing BertForSequenceClassification from the checkpoint of a model that you expect to be exactly identical (initializing a BertForSequenceClassification model from a BertForSequenceClassification model).\n",
      "Some weights of BertForSequenceClassification were not initialized from the model checkpoint at klue/bert-base and are newly initialized: ['classifier.bias', 'classifier.weight']\n",
      "You should probably TRAIN this model on a down-stream task to be able to use it for predictions and inference.\n"
     ]
    }
   ],
   "source": [
    "from transformers import AutoTokenizer, AutoModelForSequenceClassification\n",
    "model = AutoModelForSequenceClassification.from_pretrained(\"klue/bert-base\",num_labels=2 )\n",
    "tokenizer = AutoTokenizer.from_pretrained(\"klue/bert-base\")"
   ]
  },
  {
   "cell_type": "markdown",
   "id": "b619de5a",
   "metadata": {},
   "source": [
    "### 토큰화"
   ]
  },
  {
   "cell_type": "code",
   "execution_count": 5,
   "id": "3c7635b0",
   "metadata": {},
   "outputs": [],
   "source": [
    "def transform(data):\n",
    "    return tokenizer(\n",
    "        data['document'],\n",
    "        truncation = True,\n",
    "        padding = 'max_length',\n",
    "        max_length = 60,\n",
    "        return_token_type_ids = False,\n",
    "    )"
   ]
  },
  {
   "cell_type": "code",
   "execution_count": 6,
   "id": "94059ce3",
   "metadata": {},
   "outputs": [
    {
     "data": {
      "application/vnd.jupyter.widget-view+json": {
       "model_id": "32663e300dbb4398b03255d07a614a5a",
       "version_major": 2,
       "version_minor": 0
      },
      "text/plain": [
       "  0%|          | 0/150 [00:00<?, ?ba/s]"
      ]
     },
     "metadata": {},
     "output_type": "display_data"
    }
   ],
   "source": [
    "hf_train_dataset = nsmc_dataset['train'].map(transform,batched=True)"
   ]
  },
  {
   "cell_type": "code",
   "execution_count": 7,
   "id": "76a665ad",
   "metadata": {},
   "outputs": [
    {
     "data": {
      "application/vnd.jupyter.widget-view+json": {
       "model_id": "619277a1760e426a8a1c58fbf15b72ac",
       "version_major": 2,
       "version_minor": 0
      },
      "text/plain": [
       "  0%|          | 0/50 [00:00<?, ?ba/s]"
      ]
     },
     "metadata": {},
     "output_type": "display_data"
    }
   ],
   "source": [
    "hf_test_dataset = nsmc_dataset['test'].map(transform,batched=True)"
   ]
  },
  {
   "cell_type": "code",
   "execution_count": 8,
   "id": "ccad475e",
   "metadata": {},
   "outputs": [
    {
     "data": {
      "text/plain": [
       "{'attention_mask': [1,\n",
       "  1,\n",
       "  1,\n",
       "  1,\n",
       "  1,\n",
       "  1,\n",
       "  1,\n",
       "  1,\n",
       "  1,\n",
       "  1,\n",
       "  1,\n",
       "  1,\n",
       "  1,\n",
       "  1,\n",
       "  1,\n",
       "  1,\n",
       "  1,\n",
       "  1,\n",
       "  1,\n",
       "  1,\n",
       "  1,\n",
       "  1,\n",
       "  1,\n",
       "  1,\n",
       "  1,\n",
       "  0,\n",
       "  0,\n",
       "  0,\n",
       "  0,\n",
       "  0,\n",
       "  0,\n",
       "  0,\n",
       "  0,\n",
       "  0,\n",
       "  0,\n",
       "  0,\n",
       "  0,\n",
       "  0,\n",
       "  0,\n",
       "  0,\n",
       "  0,\n",
       "  0,\n",
       "  0,\n",
       "  0,\n",
       "  0,\n",
       "  0,\n",
       "  0,\n",
       "  0,\n",
       "  0,\n",
       "  0,\n",
       "  0,\n",
       "  0,\n",
       "  0,\n",
       "  0,\n",
       "  0,\n",
       "  0,\n",
       "  0,\n",
       "  0,\n",
       "  0,\n",
       "  0],\n",
       " 'label': 1,\n",
       " 'input_ids': [2,\n",
       "  1963,\n",
       "  18,\n",
       "  18,\n",
       "  18,\n",
       "  11811,\n",
       "  2178,\n",
       "  2088,\n",
       "  28883,\n",
       "  16516,\n",
       "  2776,\n",
       "  18,\n",
       "  18,\n",
       "  18,\n",
       "  18,\n",
       "  10737,\n",
       "  2156,\n",
       "  2015,\n",
       "  2446,\n",
       "  2232,\n",
       "  6758,\n",
       "  2118,\n",
       "  1380,\n",
       "  6074,\n",
       "  3,\n",
       "  0,\n",
       "  0,\n",
       "  0,\n",
       "  0,\n",
       "  0,\n",
       "  0,\n",
       "  0,\n",
       "  0,\n",
       "  0,\n",
       "  0,\n",
       "  0,\n",
       "  0,\n",
       "  0,\n",
       "  0,\n",
       "  0,\n",
       "  0,\n",
       "  0,\n",
       "  0,\n",
       "  0,\n",
       "  0,\n",
       "  0,\n",
       "  0,\n",
       "  0,\n",
       "  0,\n",
       "  0,\n",
       "  0,\n",
       "  0,\n",
       "  0,\n",
       "  0,\n",
       "  0,\n",
       "  0,\n",
       "  0,\n",
       "  0,\n",
       "  0,\n",
       "  0],\n",
       " 'id': '3819312',\n",
       " 'document': '흠...포스터보고 초딩영화줄....오버연기조차 가볍지 않구나'}"
      ]
     },
     "execution_count": 8,
     "metadata": {},
     "output_type": "execute_result"
    }
   ],
   "source": [
    "hf_train_dataset[1]"
   ]
  },
  {
   "cell_type": "markdown",
   "id": "5fc4ad20",
   "metadata": {},
   "source": [
    "## STEP 3. 위에서 불러온 tokenizer으로 데이터셋을 전처리하고, model 학습 진행해 보기\n"
   ]
  },
  {
   "cell_type": "code",
   "execution_count": 9,
   "id": "0d270dca",
   "metadata": {},
   "outputs": [],
   "source": [
    "from datasets import DatasetDict\n",
    "\n",
    "split_datasets = hf_train_dataset.train_test_split(test_size=0.1, seed=42)\n",
    "\n",
    "hf_train_dataset = split_datasets['train']\n",
    "\n",
    "hf_val_dataset = split_datasets['test']"
   ]
  },
  {
   "cell_type": "markdown",
   "id": "ff1163ec",
   "metadata": {},
   "source": [
    "### 하이퍼 파라미터 설정, 평가지표 설정"
   ]
  },
  {
   "cell_type": "code",
   "execution_count": 10,
   "id": "1dddcfdb",
   "metadata": {},
   "outputs": [],
   "source": [
    "import os\n",
    "import numpy as np\n",
    "from transformers import Trainer, TrainingArguments\n",
    "\n",
    "output_dir = os.getenv('HOME')+'/aiffel/transformers'\n",
    "\n",
    "training_arguments = TrainingArguments(\n",
    "    output_dir,                             # output이 저장될 경로\n",
    "    evaluation_strategy=\"epoch\",           #evaluation하는 빈도\n",
    "    learning_rate = 2e-5,                         #learning_rate\n",
    "    per_device_train_batch_size = 256,   # 각 device 당 batch size\n",
    "    per_device_eval_batch_size = 256,    # evaluation 시에 batch size\n",
    "    num_train_epochs = 3,                     # train 시킬 총 epochs\n",
    "    weight_decay = 0.01,                        # weight decay\n",
    ")"
   ]
  },
  {
   "cell_type": "code",
   "execution_count": 11,
   "id": "92225f20",
   "metadata": {},
   "outputs": [],
   "source": [
    "from datasets import load_metric\n",
    "metric = load_metric('accuracy')\n",
    "\n",
    "def compute_metrics(eval_pred):    \n",
    "    predictions,labels = eval_pred\n",
    "    predictions = np.argmax(predictions, axis=1)\n",
    "    return metric.compute(predictions=predictions, references = labels)"
   ]
  },
  {
   "cell_type": "markdown",
   "id": "13828432",
   "metadata": {},
   "source": [
    "### 모델 학습"
   ]
  },
  {
   "cell_type": "code",
   "execution_count": 12,
   "id": "451d53cb",
   "metadata": {},
   "outputs": [
    {
     "name": "stderr",
     "output_type": "stream",
     "text": [
      "The following columns in the training set  don't have a corresponding argument in `BertForSequenceClassification.forward` and have been ignored: id, document.\n",
      "***** Running training *****\n",
      "  Num examples = 135000\n",
      "  Num Epochs = 3\n",
      "  Instantaneous batch size per device = 256\n",
      "  Total train batch size (w. parallel, distributed & accumulation) = 256\n",
      "  Gradient Accumulation steps = 1\n",
      "  Total optimization steps = 1584\n"
     ]
    },
    {
     "data": {
      "text/html": [
       "\n",
       "    <div>\n",
       "      \n",
       "      <progress value='1584' max='1584' style='width:300px; height:20px; vertical-align: middle;'></progress>\n",
       "      [1584/1584 1:06:52, Epoch 3/3]\n",
       "    </div>\n",
       "    <table border=\"1\" class=\"dataframe\">\n",
       "  <thead>\n",
       "    <tr style=\"text-align: left;\">\n",
       "      <th>Epoch</th>\n",
       "      <th>Training Loss</th>\n",
       "      <th>Validation Loss</th>\n",
       "      <th>Accuracy</th>\n",
       "    </tr>\n",
       "  </thead>\n",
       "  <tbody>\n",
       "    <tr>\n",
       "      <td>1</td>\n",
       "      <td>0.296800</td>\n",
       "      <td>0.245483</td>\n",
       "      <td>0.897467</td>\n",
       "    </tr>\n",
       "    <tr>\n",
       "      <td>2</td>\n",
       "      <td>0.222700</td>\n",
       "      <td>0.239114</td>\n",
       "      <td>0.902267</td>\n",
       "    </tr>\n",
       "    <tr>\n",
       "      <td>3</td>\n",
       "      <td>0.187000</td>\n",
       "      <td>0.245629</td>\n",
       "      <td>0.904267</td>\n",
       "    </tr>\n",
       "  </tbody>\n",
       "</table><p>"
      ],
      "text/plain": [
       "<IPython.core.display.HTML object>"
      ]
     },
     "metadata": {},
     "output_type": "display_data"
    },
    {
     "name": "stderr",
     "output_type": "stream",
     "text": [
      "Saving model checkpoint to /aiffel/aiffel/transformers/checkpoint-500\n",
      "Configuration saved in /aiffel/aiffel/transformers/checkpoint-500/config.json\n",
      "Model weights saved in /aiffel/aiffel/transformers/checkpoint-500/pytorch_model.bin\n",
      "The following columns in the evaluation set  don't have a corresponding argument in `BertForSequenceClassification.forward` and have been ignored: id, document.\n",
      "***** Running Evaluation *****\n",
      "  Num examples = 15000\n",
      "  Batch size = 256\n",
      "Saving model checkpoint to /aiffel/aiffel/transformers/checkpoint-1000\n",
      "Configuration saved in /aiffel/aiffel/transformers/checkpoint-1000/config.json\n",
      "Model weights saved in /aiffel/aiffel/transformers/checkpoint-1000/pytorch_model.bin\n",
      "The following columns in the evaluation set  don't have a corresponding argument in `BertForSequenceClassification.forward` and have been ignored: id, document.\n",
      "***** Running Evaluation *****\n",
      "  Num examples = 15000\n",
      "  Batch size = 256\n",
      "Saving model checkpoint to /aiffel/aiffel/transformers/checkpoint-1500\n",
      "Configuration saved in /aiffel/aiffel/transformers/checkpoint-1500/config.json\n",
      "Model weights saved in /aiffel/aiffel/transformers/checkpoint-1500/pytorch_model.bin\n",
      "The following columns in the evaluation set  don't have a corresponding argument in `BertForSequenceClassification.forward` and have been ignored: id, document.\n",
      "***** Running Evaluation *****\n",
      "  Num examples = 15000\n",
      "  Batch size = 256\n",
      "\n",
      "\n",
      "Training completed. Do not forget to share your model on huggingface.co/models =)\n",
      "\n",
      "\n"
     ]
    },
    {
     "data": {
      "text/plain": [
       "TrainOutput(global_step=1584, training_loss=0.23263747041875665, metrics={'train_runtime': 4014.8919, 'train_samples_per_second': 100.874, 'train_steps_per_second': 0.395, 'total_flos': 1.2487497354e+16, 'train_loss': 0.23263747041875665, 'epoch': 3.0})"
      ]
     },
     "execution_count": 12,
     "metadata": {},
     "output_type": "execute_result"
    }
   ],
   "source": [
    "trainer = Trainer(\n",
    "    model=model,           # 학습시킬 model\n",
    "    args=training_arguments,           # TrainingArguments을 통해 설정한 arguments\n",
    "    train_dataset=hf_train_dataset,    # training dataset\n",
    "    eval_dataset=hf_val_dataset,       # evaluation dataset\n",
    "    compute_metrics=compute_metrics,\n",
    ")\n",
    "trainer.train()\n"
   ]
  },
  {
   "cell_type": "markdown",
   "id": "416276bb",
   "metadata": {},
   "source": [
    "### 훈련,평가 로스 시각화 함수"
   ]
  },
  {
   "cell_type": "code",
   "execution_count": 16,
   "id": "bd9dd7da",
   "metadata": {},
   "outputs": [],
   "source": [
    "import matplotlib.pyplot as plt\n",
    "from typing import List, Dict, Union\n",
    "\n",
    "def plot_loss_history(log_history: List[Dict[str, Union[float, int]]]):\n",
    "    \"\"\"\n",
    "    Hugging Face Trainer의 log_history를 바탕으로 훈련 손실과 평가 손실 그래프를 그립니다.\n",
    "\n",
    "    Args:\n",
    "        log_history (List[Dict[str, Union[float, int]]]):\n",
    "            trainer.state.log_history에서 얻은 로그 엔트리 리스트입니다.\n",
    "            각 딕셔너리에는 'loss' (훈련 손실) 및/또는 'eval_loss' (평가 손실)와\n",
    "            'epoch' 또는 'step' 정보가 포함될 수 있습니다.\n",
    "    \"\"\"\n",
    "    train_losses = []\n",
    "    eval_losses = []\n",
    "    train_epochs_or_steps = []\n",
    "    eval_epochs_or_steps = []\n",
    "\n",
    "    for log_entry in log_history:\n",
    "        if \"loss\" in log_entry:\n",
    "            train_losses.append(log_entry[\"loss\"])\n",
    "            if \"epoch\" in log_entry:\n",
    "                train_epochs_or_steps.append(log_entry[\"epoch\"])\n",
    "            elif \"step\" in log_entry:\n",
    "                train_epochs_or_steps.append(log_entry[\"step\"])\n",
    "            else:\n",
    "                train_epochs_or_steps.append(len(train_epochs_or_steps) + 1)\n",
    "\n",
    "        if \"eval_loss\" in log_entry:\n",
    "            eval_losses.append(log_entry[\"eval_loss\"])\n",
    "            if \"epoch\" in log_entry:\n",
    "                eval_epochs_or_steps.append(log_entry[\"epoch\"])\n",
    "            elif \"step\" in log_entry:\n",
    "                eval_epochs_or_steps.append(log_entry[\"step\"])\n",
    "            else:\n",
    "                eval_epochs_or_steps.append(len(eval_epochs_or_steps) + 1)\n",
    "\n",
    "    # 그래프 그리기\n",
    "    plt.figure(figsize=(10, 6))\n",
    "\n",
    "    if train_losses:\n",
    "        plt.plot(train_epochs_or_steps, train_losses, label='Train Loss', marker='o', markersize=4, linestyle='-')\n",
    "    if eval_losses:\n",
    "        plt.plot(eval_epochs_or_steps, eval_losses, label='Eval Loss', marker='x', markersize=4, linestyle='--')\n",
    "\n",
    "    plt.title('Training and Evaluation Loss over Epochs/Steps')\n",
    "    plt.xlabel('Epoch or Step')\n",
    "    plt.ylabel('Loss')\n",
    "    plt.grid(True)\n",
    "    plt.legend()\n",
    "    plt.tight_layout()\n",
    "    plt.show()"
   ]
  },
  {
   "cell_type": "code",
   "execution_count": 22,
   "id": "6a633d27",
   "metadata": {},
   "outputs": [
    {
     "data": {
      "image/png": "[encoded data removed]",
      "text/plain": [
       "<Figure size 720x432 with 1 Axes>"
      ]
     },
     "metadata": {
      "needs_background": "light"
     },
     "output_type": "display_data"
    }
   ],
   "source": [
    "plot_loss_history(trainer.state.log_history)"
   ]
  },
  {
   "cell_type": "markdown",
   "id": "57890ce7",
   "metadata": {},
   "source": [
    "배치사이즈를 크게 잡아 빠르게 과적합이 발생할 경향성을 보임\n",
    "\n",
    "3에폭부터 평가로스가 소폭 상승함 \n",
    "\n",
    "하지만 에폭수가 작아서 확실히 과적합이 발생한건가라는 생각도 듦\n"
   ]
  },
  {
   "cell_type": "code",
   "execution_count": 14,
   "id": "ee72ada1",
   "metadata": {},
   "outputs": [
    {
     "name": "stderr",
     "output_type": "stream",
     "text": [
      "The following columns in the evaluation set  don't have a corresponding argument in `BertForSequenceClassification.forward` and have been ignored: id, document.\n",
      "***** Running Evaluation *****\n",
      "  Num examples = 50000\n",
      "  Batch size = 256\n"
     ]
    },
    {
     "data": {
      "text/plain": [
       "{'eval_loss': 0.25120973587036133,\n",
       " 'eval_accuracy': 0.90086,\n",
       " 'eval_runtime': 180.2799,\n",
       " 'eval_samples_per_second': 277.346,\n",
       " 'eval_steps_per_second': 1.087,\n",
       " 'epoch': 3.0}"
      ]
     },
     "execution_count": 14,
     "metadata": {},
     "output_type": "execute_result"
    }
   ],
   "source": [
    "trainer.evaluate(hf_test_dataset)"
   ]
  },
  {
   "cell_type": "markdown",
   "id": "54cec49b",
   "metadata": {},
   "source": [
    "| 항목                  | 값                                  |\n",
    "| :-------------------- | :---------------------------------- |\n",
    "| **최종 학습 손실 (Training Loss)** | 0.2326                              |\n",
    "| **총 학습 시간 (Train Runtime)** | 4014.89 초 (1시간 6분)             |\n",
    "| **학습 샘플/초 (Train Samples/sec)** | 100.874                             |\n",
    "| **학습 스텝/초 (Train Steps/sec)** | 0.395                               |\n",
    "| **총 FLOPs (Total FLOPs)** | 1.2487e+16                          |\n",
    "| **총 에폭 (Total Epochs)** | 3.0                                 |\n",
    "|                       |                                     |\n",
    "| **에폭별 학습 성능** | **Training Loss** | **Validation Loss** | **Accuracy** |\n",
    "| 에폭 1                | 0.2968            | 0.245483            | 0.897467     |\n",
    "| 에폭 2                | 0.2227            | 0.239114            | 0.902267     |\n",
    "| 에폭 3                | 0.1870            | 0.245629            | 0.904267     |\n",
    "|                       |                                     |\n",
    "| **최종 평가 성능** |                                     |\n",
    "| **평가 손실 (Eval Loss)** | 0.2512                              |\n",
    "| **평가 정확도 (Eval Accuracy)** | 0.90086                             |\n",
    "| **평가 시간 (Eval Runtime)** | 180.28 초 (~3분)               |\n",
    "| **평가 샘플/초 (Eval Samples/sec)** | 277.346                             |\n",
    "| **평가 스텝/초 (Eval Steps/sec)** | 1.087                               |"
   ]
  },
  {
   "cell_type": "markdown",
   "id": "bbf803f4",
   "metadata": {},
   "source": [
    "최종정확도 90% 이상을 기록"
   ]
  },
  {
   "cell_type": "markdown",
   "id": "52b19dc1",
   "metadata": {},
   "source": [
    "## STEP 4. Fine-tuning을 통하여 모델 성능(accuarcy) 향상시키기\n",
    "accuarcy 90%을 넘었으므로 통과"
   ]
  },
  {
   "cell_type": "markdown",
   "id": "a4593e0b",
   "metadata": {},
   "source": [
    "## STEP 5. Bucketing을 적용하여 학습시키고, STEP 4의 결과와의 비교"
   ]
  },
  {
   "cell_type": "code",
   "execution_count": 12,
   "id": "e2642990",
   "metadata": {},
   "outputs": [],
   "source": [
    "import numpy as np"
   ]
  },
  {
   "cell_type": "code",
   "execution_count": 13,
   "id": "aefe7302",
   "metadata": {},
   "outputs": [],
   "source": [
    "from transformers import DataCollatorWithPadding\n",
    "data_collator = DataCollatorWithPadding(tokenizer=tokenizer)"
   ]
  },
  {
   "cell_type": "code",
   "execution_count": 14,
   "id": "b0a76fbe",
   "metadata": {},
   "outputs": [
    {
     "name": "stderr",
     "output_type": "stream",
     "text": [
      "The following columns in the training set  don't have a corresponding argument in `BertForSequenceClassification.forward` and have been ignored: id, document.\n",
      "***** Running training *****\n",
      "  Num examples = 135000\n",
      "  Num Epochs = 3\n",
      "  Instantaneous batch size per device = 256\n",
      "  Total train batch size (w. parallel, distributed & accumulation) = 256\n",
      "  Gradient Accumulation steps = 1\n",
      "  Total optimization steps = 1584\n"
     ]
    },
    {
     "data": {
      "text/html": [
       "\n",
       "    <div>\n",
       "      \n",
       "      <progress value='1584' max='1584' style='width:300px; height:20px; vertical-align: middle;'></progress>\n",
       "      [1584/1584 1:06:53, Epoch 3/3]\n",
       "    </div>\n",
       "    <table border=\"1\" class=\"dataframe\">\n",
       "  <thead>\n",
       "    <tr style=\"text-align: left;\">\n",
       "      <th>Epoch</th>\n",
       "      <th>Training Loss</th>\n",
       "      <th>Validation Loss</th>\n",
       "      <th>Accuracy</th>\n",
       "    </tr>\n",
       "  </thead>\n",
       "  <tbody>\n",
       "    <tr>\n",
       "      <td>1</td>\n",
       "      <td>0.298900</td>\n",
       "      <td>0.247489</td>\n",
       "      <td>0.896667</td>\n",
       "    </tr>\n",
       "    <tr>\n",
       "      <td>2</td>\n",
       "      <td>0.223100</td>\n",
       "      <td>0.240610</td>\n",
       "      <td>0.901133</td>\n",
       "    </tr>\n",
       "    <tr>\n",
       "      <td>3</td>\n",
       "      <td>0.187600</td>\n",
       "      <td>0.247210</td>\n",
       "      <td>0.903067</td>\n",
       "    </tr>\n",
       "  </tbody>\n",
       "</table><p>"
      ],
      "text/plain": [
       "<IPython.core.display.HTML object>"
      ]
     },
     "metadata": {},
     "output_type": "display_data"
    },
    {
     "name": "stderr",
     "output_type": "stream",
     "text": [
      "Saving model checkpoint to /aiffel/aiffel/transformers/checkpoint-500\n",
      "Configuration saved in /aiffel/aiffel/transformers/checkpoint-500/config.json\n",
      "Model weights saved in /aiffel/aiffel/transformers/checkpoint-500/pytorch_model.bin\n",
      "The following columns in the evaluation set  don't have a corresponding argument in `BertForSequenceClassification.forward` and have been ignored: id, document.\n",
      "***** Running Evaluation *****\n",
      "  Num examples = 15000\n",
      "  Batch size = 256\n",
      "Saving model checkpoint to /aiffel/aiffel/transformers/checkpoint-1000\n",
      "Configuration saved in /aiffel/aiffel/transformers/checkpoint-1000/config.json\n",
      "Model weights saved in /aiffel/aiffel/transformers/checkpoint-1000/pytorch_model.bin\n",
      "The following columns in the evaluation set  don't have a corresponding argument in `BertForSequenceClassification.forward` and have been ignored: id, document.\n",
      "***** Running Evaluation *****\n",
      "  Num examples = 15000\n",
      "  Batch size = 256\n",
      "Saving model checkpoint to /aiffel/aiffel/transformers/checkpoint-1500\n",
      "Configuration saved in /aiffel/aiffel/transformers/checkpoint-1500/config.json\n",
      "Model weights saved in /aiffel/aiffel/transformers/checkpoint-1500/pytorch_model.bin\n",
      "The following columns in the evaluation set  don't have a corresponding argument in `BertForSequenceClassification.forward` and have been ignored: id, document.\n",
      "***** Running Evaluation *****\n",
      "  Num examples = 15000\n",
      "  Batch size = 256\n",
      "\n",
      "\n",
      "Training completed. Do not forget to share your model on huggingface.co/models =)\n",
      "\n",
      "\n"
     ]
    },
    {
     "data": {
      "text/plain": [
       "TrainOutput(global_step=1584, training_loss=0.23367260080395322, metrics={'train_runtime': 4016.0774, 'train_samples_per_second': 100.845, 'train_steps_per_second': 0.394, 'total_flos': 1.2487497354e+16, 'train_loss': 0.23367260080395322, 'epoch': 3.0})"
      ]
     },
     "execution_count": 14,
     "metadata": {},
     "output_type": "execute_result"
    }
   ],
   "source": [
    "from transformers import Trainer, TrainingArguments\n",
    "import os\n",
    "output_dir = os.getenv('HOME')+'/aiffel/transformers'\n",
    "\n",
    "training_arguments_with_bucketing = TrainingArguments(\n",
    "    output_dir,                                         # output이 저장될 경로\n",
    "    evaluation_strategy=\"epoch\",           #evaluation하는 빈도\n",
    "    learning_rate = 2e-5,                         #learning_rate\n",
    "    per_device_train_batch_size = 256,   # 각 device 당 batch size\n",
    "    per_device_eval_batch_size = 256,    # evaluation 시에 batch size\n",
    "    num_train_epochs = 3,                     # train 시킬 총 epochs\n",
    "    weight_decay = 0.01,                        # weight decay\n",
    "    group_by_length=True # 버케팅 활성화\n",
    ")\n",
    "\n",
    "trainer_with_bucketing = Trainer(\n",
    "    model=model,           # 학습시킬 model\n",
    "    args=training_arguments_with_bucketing,        \n",
    "    train_dataset=hf_train_dataset,    # training dataset\n",
    "    eval_dataset=hf_val_dataset,       # evaluation dataset\n",
    "    compute_metrics=compute_metrics,\n",
    "    data_collator = data_collator, # 버케팅 추가\n",
    ")\n",
    "\n",
    "trainer_with_bucketing.train()\n"
   ]
  },
  {
   "cell_type": "code",
   "execution_count": 17,
   "id": "a6e99429",
   "metadata": {},
   "outputs": [
    {
     "data": {
      "image/png": "[encoded data removed]",
      "text/plain": [
       "<Figure size 720x432 with 1 Axes>"
      ]
     },
     "metadata": {
      "needs_background": "light"
     },
     "output_type": "display_data"
    }
   ],
   "source": [
    "plot_loss_history(trainer_with_bucketing.state.log_history)"
   ]
  },
  {
   "cell_type": "code",
   "execution_count": 18,
   "id": "dd980a54",
   "metadata": {},
   "outputs": [
    {
     "name": "stderr",
     "output_type": "stream",
     "text": [
      "The following columns in the evaluation set  don't have a corresponding argument in `BertForSequenceClassification.forward` and have been ignored: id, document.\n",
      "***** Running Evaluation *****\n",
      "  Num examples = 50000\n",
      "  Batch size = 256\n"
     ]
    },
    {
     "data": {
      "text/html": [
       "\n",
       "    <div>\n",
       "      \n",
       "      <progress value='196' max='196' style='width:300px; height:20px; vertical-align: middle;'></progress>\n",
       "      [196/196 02:58]\n",
       "    </div>\n",
       "    "
      ],
      "text/plain": [
       "<IPython.core.display.HTML object>"
      ]
     },
     "metadata": {},
     "output_type": "display_data"
    },
    {
     "data": {
      "text/plain": [
       "{'eval_loss': 0.2528436481952667,\n",
       " 'eval_accuracy': 0.90062,\n",
       " 'eval_runtime': 180.0556,\n",
       " 'eval_samples_per_second': 277.692,\n",
       " 'eval_steps_per_second': 1.089,\n",
       " 'epoch': 3.0}"
      ]
     },
     "execution_count": 18,
     "metadata": {},
     "output_type": "execute_result"
    }
   ],
   "source": [
    "trainer_with_bucketing.evaluate(hf_test_dataset)"
   ]
  },
  {
   "cell_type": "markdown",
   "id": "48c9b828",
   "metadata": {},
   "source": [
    "### 학습 성능 비교 (기존 vs. 동적 패딩)\n",
    "\n",
    "| 항목                      | 값 (기존)                     | 값 (동적 패딩)                   |\n",
    "| :------------------------ | :---------------------------- | :-------------------------------- |\n",
    "| **최종 학습 손실 (Training Loss)** | 0.2326                        | 0.1876 (에폭 3)                 |\n",
    "| **총 학습 시간 (Train Runtime)** | 4014.89 초 (1시간 6분 55초)        | **4016.0774 초 (1시간 6분 56초)** |\n",
    "| **학습 샘플/초 (Train Samples/sec)** | 100.874                       | 100.845                         |\n",
    "| **학습 스텝/초 (Train Steps/sec)** | 0.395                         | 0.394                           |\n",
    "| **총 FLOPs (Total FLOPs)** | 1.2487e+16                    | 1.2487497354e+16                |\n",
    "| **총 에폭 (Total Epochs)** | 3.0                           | 3.0                             |\n",
    "| **에폭별 학습 성능** |                               |                                 |\n",
    "| **에폭 1 - Training Loss** | 0.2968                        | 0.298900                        |\n",
    "| **에폭 1 - Validation Loss** | 0.245483                      | 0.247489                        |\n",
    "| **에폭 1 - Accuracy** | 0.897467                      | 0.896667                        |\n",
    "| **에폭 2 - Training Loss** | 0.2227                        | 0.223100                        |\n",
    "| **에폭 2 - Validation Loss** | 0.239114                      | 0.240610                        |\n",
    "| **에폭 2 - Accuracy** | 0.902267                      | 0.901133                        |\n",
    "| **에폭 3 - Training Loss** | 0.1870                        | 0.187600                        |\n",
    "| **에폭 3 - Validation Loss** | 0.245629                      | 0.247210                        |\n",
    "| **에폭 3 - Accuracy** | 0.904267                      | 0.903067                        |\n",
    "| **최종 평가 성능** |                               |                                 |\n",
    "| **평가 손실 (Eval Loss)** | 0.2512                        | 0.2528436481952667              |\n",
    "| **평가 정확도 (Eval Accuracy)** | 0.90086                       | 0.90062                         |\n",
    "| **평가 시간 (Eval Runtime)** | 180.28 초 (~3분)              | 180.0556                        |\n",
    "| **평가 샘플/초 (Eval Samples/sec)** | 277.346                       | 277.692                         |\n",
    "| **평가 스텝/초 (Eval Steps/sec)** | 1.087                         | 1.089                           |"
   ]
  },
  {
   "cell_type": "markdown",
   "id": "e2656296",
   "metadata": {},
   "source": [
    "전반적으로 정확도는 줄었고 학습시간은 1초 차이이지만 같다고 볼 수 있다.\n",
    "\n",
    "기존의 동적패딩없이 학습을 진행했을 때 배치사이즈와 최대길이를 보수적으로 설정했기 때문에 \n",
    "\n",
    "위와 같이 동적패딩의 효과를 크게 체감할 수 없었던 것 같다."
   ]
  },
  {
   "cell_type": "code",
   "execution_count": 3,
   "id": "442710be",
   "metadata": {},
   "outputs": [
    {
     "data": {
      "image/png": "[encoded data removed]",
      "text/plain": [
       "<Figure size 720x432 with 1 Axes>"
      ]
     },
     "metadata": {
      "needs_background": "light"
     },
     "output_type": "display_data"
    }
   ],
   "source": [
    "import matplotlib.pyplot as plt\n",
    "import pandas as pd\n",
    "\n",
    "# Data for 'Original' model\n",
    "original_data = {\n",
    "    'Epoch': [1, 2, 3],\n",
    "    'Validation Loss': [0.245483, 0.239114, 0.245629],\n",
    "    'Accuracy': [0.897467, 0.902267, 0.904267]\n",
    "}\n",
    "df_original = pd.DataFrame(original_data)\n",
    "\n",
    "# Data for 'Dynamic Padding' model\n",
    "dynamic_padding_data = {\n",
    "    'Epoch': [1, 2, 3],\n",
    "    'Validation Loss': [0.247489, 0.240610, 0.247210],\n",
    "    'Accuracy': [0.896667, 0.901133, 0.903067]\n",
    "}\n",
    "df_dynamic_padding = pd.DataFrame(dynamic_padding_data)\n",
    "\n",
    "# Create the plot\n",
    "plt.figure(figsize=(10, 6))\n",
    "\n",
    "# Plot for Original Model\n",
    "plt.plot(df_original['Validation Loss'], df_original['Accuracy'],\n",
    "         marker='o', linestyle='-', color='blue', label='Original')\n",
    "for i, epoch in enumerate(df_original['Epoch']):\n",
    "    plt.text(df_original['Validation Loss'][i], df_original['Accuracy'][i], f'E{epoch}', fontsize=9, ha='right')\n",
    "\n",
    "\n",
    "# Plot for Dynamic Padding Model\n",
    "plt.plot(df_dynamic_padding['Validation Loss'], df_dynamic_padding['Accuracy'],\n",
    "         marker='x', linestyle='--', color='red', label='Dynamic Padding')\n",
    "for i, epoch in enumerate(df_dynamic_padding['Epoch']):\n",
    "    plt.text(df_dynamic_padding['Validation Loss'][i], df_dynamic_padding['Accuracy'][i], f'E{epoch}', fontsize=9, ha='left')\n",
    "\n",
    "# Add final evaluation points\n",
    "eval_loss_original = 0.2512\n",
    "eval_accuracy_original = 0.90086\n",
    "plt.scatter(eval_loss_original, eval_accuracy_original, color='blue', marker='s', s=100, zorder=5, label='Original Final Eval')\n",
    "plt.text(eval_loss_original, eval_accuracy_original, 'Eval (Orig)', fontsize=9, ha='right')\n",
    "\n",
    "eval_loss_dynamic = 0.2528436481952667\n",
    "eval_accuracy_dynamic = 0.90062\n",
    "plt.scatter(eval_loss_dynamic, eval_accuracy_dynamic, color='red', marker='D', s=100, zorder=5, label='Dynamic Padding Final Eval')\n",
    "plt.text(eval_loss_dynamic, eval_accuracy_dynamic, 'Eval (Dynamic)', fontsize=9, ha='left')\n",
    "\n",
    "\n",
    "# Add labels and title\n",
    "plt.title('Validation Loss vs. Accuracy Trade-off Curve')\n",
    "plt.xlabel('Validation Loss')\n",
    "plt.ylabel('Accuracy')\n",
    "plt.grid(True)\n",
    "plt.legend()\n",
    "plt.tight_layout()\n",
    "plt.show()"
   ]
  },
  {
   "cell_type": "markdown",
   "id": "2b4f428b",
   "metadata": {},
   "source": [
    "전체적으로 겹쳐지있는 경향성을 보인다.\n",
    "\n",
    "배치사이즈 크게, 최대길이 짧게 설정했을 때는 트레이드-오프 관계에서 유의미한 변화가 없음을 알 수 있었다."
   ]
  },
  {
   "cell_type": "markdown",
   "id": "ff37ffcd",
   "metadata": {},
   "source": [
    "# 회고\n",
    "\n",
    "배치사이즈와 동적패딩의 의미에 대해 팀원들과 이야기하면서 트레이드-오프 관계가 왜 발생하는지를 정확하게 이해할 수 있게 되어\n",
    "만족스러웠다.\n",
    "\n",
    "또한 기존에 레이어층을 직접 쌓다가 허깅페이스를 통해 딸깍하는 경험은 정말 신세계였습니다.\n",
    "\n",
    "이런 편한툴이 있고 고통은 잠시이니 쫌 더 바닥부터 모델설계에 대한 동기부여가 된 것 같습니다."
   ]
  },
  {
   "cell_type": "code",
   "execution_count": null,
   "id": "2c50d2cd",
   "metadata": {},
   "outputs": [],
   "source": []
  }
 ],
 "metadata": {
  "kernelspec": {
   "display_name": "Python 3 (ipykernel)",
   "language": "python",
   "name": "python3"
  },
  "language_info": {
   "codemirror_mode": {
    "name": "ipython",
    "version": 3
   },
   "file_extension": ".py",
   "mimetype": "text/x-python",
   "name": "python",
   "nbconvert_exporter": "python",
   "pygments_lexer": "ipython3",
   "version": "3.9.7"
  }
 },
 "nbformat": 4,
 "nbformat_minor": 5
}
