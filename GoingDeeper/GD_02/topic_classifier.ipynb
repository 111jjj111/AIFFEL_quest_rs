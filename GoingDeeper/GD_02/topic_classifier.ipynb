{
 "cells": [
  {
   "cell_type": "code",
   "execution_count": 117,
   "id": "c89e66a7",
   "metadata": {},
   "outputs": [
    {
     "name": "stdout",
     "output_type": "stream",
     "text": [
      "2.6.0\n",
      "3.4.3\n",
      "0.11.2\n",
      "1.21.4\n",
      "1.3.3\n",
      "1.0\n"
     ]
    }
   ],
   "source": [
    "import tensorflow as tf\n",
    "import matplotlib\n",
    "import seaborn \n",
    "import numpy as np\n",
    "import pandas as pd\n",
    "import sklearn\n",
    "import matplotlib.pyplot as plt\n",
    "import seaborn as sns\n",
    "from tensorflow.keras.datasets import reuters\n",
    "from sklearn.feature_extraction.text import CountVectorizer\n",
    "from sklearn.feature_extraction.text import TfidfTransformer\n",
    "\n",
    "print(tensorflow.__version__)\n",
    "print(matplotlib.__version__)\n",
    "print(seaborn.__version__)\n",
    "print(numpy.__version__)\n",
    "print(pandas.__version__)\n",
    "print(sklearn.__version__)"
   ]
  },
  {
   "cell_type": "markdown",
   "id": "b543a9e8",
   "metadata": {},
   "source": [
    "## 데이터 분포확인"
   ]
  },
  {
   "cell_type": "code",
   "execution_count": 88,
   "id": "6560fc35",
   "metadata": {},
   "outputs": [],
   "source": [
    "(x_train, y_train), (x_test, y_test) = reuters.load_data(num_words=5000, test_split=0.2)"
   ]
  },
  {
   "cell_type": "code",
   "execution_count": 89,
   "id": "f8a122c4",
   "metadata": {},
   "outputs": [
    {
     "name": "stdout",
     "output_type": "stream",
     "text": [
      "훈련 샘플의 수: 8982\n",
      "테스트 샘플의 수: 2246\n"
     ]
    }
   ],
   "source": [
    "print(f'훈련 샘플의 수: {len(x_train)}')\n",
    "print('테스트 샘플의 수: {}'.format(len(x_test)))"
   ]
  },
  {
   "cell_type": "markdown",
   "id": "a0cec471",
   "metadata": {},
   "source": [
    "샘플수는 동일하지만 num_words=5000이기 때문에 5000 이후 인덱스는 unk로 채워짐 "
   ]
  },
  {
   "cell_type": "code",
   "execution_count": 23,
   "id": "cfdc206f",
   "metadata": {},
   "outputs": [
    {
     "name": "stdout",
     "output_type": "stream",
     "text": [
      "클래스의 수 : 46\n"
     ]
    }
   ],
   "source": [
    "num_classes = max(y_train) + 1\n",
    "print('클래스의 수 : {}'.format(num_classes))"
   ]
  },
  {
   "cell_type": "markdown",
   "id": "29946946",
   "metadata": {},
   "source": [
    "### 단어길이 분포확인"
   ]
  },
  {
   "cell_type": "code",
   "execution_count": 24,
   "id": "63aa0cdd",
   "metadata": {},
   "outputs": [
    {
     "name": "stdout",
     "output_type": "stream",
     "text": [
      "훈련용 뉴스의 최대 길이 :2376\n",
      "훈련용 뉴스의 평균 길이 :145.5398574927633\n"
     ]
    },
    {
     "data": {
      "image/png": "[encoded data removed]",
      "text/plain": [
       "<Figure size 432x288 with 1 Axes>"
      ]
     },
     "metadata": {
      "needs_background": "light"
     },
     "output_type": "display_data"
    }
   ],
   "source": [
    "print('훈련용 뉴스의 최대 길이 :{}'.format(max(len(l) for l in x_train)))\n",
    "print('훈련용 뉴스의 평균 길이 :{}'.format(sum(map(len, x_train))/len(x_train)))\n",
    "\n",
    "plt.hist([len(s) for s in x_train], bins=50)\n",
    "plt.xlabel('length of samples')\n",
    "plt.ylabel('number of samples')\n",
    "plt.show()"
   ]
  },
  {
   "cell_type": "markdown",
   "id": "07163976",
   "metadata": {},
   "source": [
    "### class 분포 확인"
   ]
  },
  {
   "cell_type": "code",
   "execution_count": 26,
   "id": "3aba5dcb",
   "metadata": {},
   "outputs": [
    {
     "data": {
      "image/png": "[encoded data removed]",
      "text/plain": [
       "<Figure size 792x360 with 1 Axes>"
      ]
     },
     "metadata": {
      "needs_background": "light"
     },
     "output_type": "display_data"
    }
   ],
   "source": [
    "fig, axe = plt.subplots(ncols=1)\n",
    "fig.set_size_inches(11,5)\n",
    "sns.countplot(x=y_train)\n",
    "plt.show()"
   ]
  },
  {
   "cell_type": "markdown",
   "id": "b8329ffd",
   "metadata": {},
   "source": [
    "### 정수 시퀀스를 텍스트로 복원한 후, TF-IDF 벡터화하는 전처리 함수"
   ]
  },
  {
   "cell_type": "code",
   "execution_count": 76,
   "id": "4af44f4e",
   "metadata": {},
   "outputs": [],
   "source": [
    "def preprocess_text(x_train,x_test):\n",
    "    word_index = reuters.get_word_index(path=\"reuters_word_index.json\")\n",
    "    index_to_word = {index+3 : word for word, index in word_index.items()}\n",
    "    for index, token in enumerate((\"<pad>\", \"<sos>\", \"<unk>\")):\n",
    "      index_to_word[index]=token\n",
    "    \n",
    "    train_decoded = []\n",
    "    for i in range(len(x_train)):\n",
    "        t = ' '.join([index_to_word[index] for index in x_train[i]])\n",
    "        train_decoded.append(t)\n",
    "\n",
    "    x_train = train_decoded\n",
    "    \n",
    "    test_decoded = []\n",
    "    for i in range(len(x_test)):\n",
    "        t = ' '.join([index_to_word[index] for index in x_test[i]])\n",
    "        test_decoded.append(t)\n",
    "\n",
    "    x_test = test_decoded\n",
    "    \n",
    "    \n",
    "    dtmvector = CountVectorizer()\n",
    "    x_train_dtm = dtmvector.fit_transform(x_train)\n",
    "    x_test_dtm = dtmvector.transform(x_test)\n",
    "    \n",
    "    tfidf_transformer = TfidfTransformer()\n",
    "    tfidfv = tfidf_transformer.fit_transform(x_train_dtm)\n",
    "    tfidfv_test = tfidf_transformer.transform(x_test_dtm) \n",
    "\n",
    "    return tfidfv, tfidfv_test"
   ]
  },
  {
   "cell_type": "code",
   "execution_count": 90,
   "id": "acaf03a3",
   "metadata": {},
   "outputs": [],
   "source": [
    "tfidfv, tfidfv_test = preprocess_text(x_train,x_test)"
   ]
  },
  {
   "cell_type": "markdown",
   "id": "1f5674cc",
   "metadata": {},
   "source": [
    "### F1-Scoer"
   ]
  },
  {
   "cell_type": "code",
   "execution_count": 47,
   "id": "55fa25ee",
   "metadata": {},
   "outputs": [],
   "source": [
    "from sklearn.metrics import classification_report\n",
    "from sklearn.metrics import confusion_matrix"
   ]
  },
  {
   "cell_type": "markdown",
   "id": "5fce7bd8",
   "metadata": {},
   "source": [
    "### Model 학습 및 테스트"
   ]
  },
  {
   "cell_type": "code",
   "execution_count": null,
   "id": "8d3b46dc",
   "metadata": {},
   "outputs": [],
   "source": [
    "from sklearn.naive_bayes import MultinomialNB #다항분포 나이브 베이즈 모델\n",
    "from sklearn.linear_model import LogisticRegression, SGDClassifier\n",
    "from sklearn.naive_bayes import ComplementNB\n",
    "from sklearn.tree import DecisionTreeClassifier\n",
    "from sklearn.ensemble import RandomForestClassifier\n",
    "from sklearn.ensemble import GradientBoostingClassifier\n",
    "from sklearn.ensemble import VotingClassifier\n",
    "from sklearn.svm import LinearSVC\n",
    "from sklearn.metrics import accuracy_score #정확도 계산"
   ]
  },
  {
   "cell_type": "code",
   "execution_count": 97,
   "id": "df80203e",
   "metadata": {},
   "outputs": [],
   "source": [
    "def logistic_regression_fit_test(tfidfv,y_train,tfidfv_test,y_test):\n",
    "    # 모델 학습\n",
    "    lr = LogisticRegression(C=10000, penalty='l2', max_iter=3000)\n",
    "    lr.fit(tfidfv,y_train)\n",
    "    # 모델 테스트\n",
    "    predicted = lr.predict(tfidfv_test) #테스트 데이터에 대한 예측\n",
    "    # 보고서 리턴\n",
    "    return classification_report(y_test,predicted,zero_division=0)"
   ]
  },
  {
   "cell_type": "code",
   "execution_count": 98,
   "id": "83a746fc",
   "metadata": {},
   "outputs": [],
   "source": [
    "def random_forest_fit_test(tfidfv,y_train,tfidfv_test,y_test):\n",
    "    # 모델 학습\n",
    "    forest = RandomForestClassifier(n_estimators=5, random_state=0)\n",
    "    forest.fit(tfidfv, y_train)\n",
    "    # 모델 테스트\n",
    "    predicted = forest.predict(tfidfv_test)\n",
    "    # 보고서 리턴\n",
    "    return classification_report(y_test,predicted,zero_division=0)"
   ]
  },
  {
   "cell_type": "markdown",
   "id": "1415dbb4",
   "metadata": {},
   "source": [
    "## 단어 수 5000 | 1번째 실험 (Logistic Regrassion, Random Tree)"
   ]
  },
  {
   "cell_type": "code",
   "execution_count": 91,
   "id": "88ab51fb",
   "metadata": {},
   "outputs": [
    {
     "name": "stdout",
     "output_type": "stream",
     "text": [
      "              precision    recall  f1-score   support\n",
      "\n",
      "           0       0.89      0.67      0.76        12\n",
      "           1       0.73      0.77      0.75       105\n",
      "           2       0.76      0.80      0.78        20\n",
      "           3       0.90      0.93      0.91       813\n",
      "           4       0.80      0.86      0.83       474\n",
      "           5       0.00      0.00      0.00         5\n",
      "           6       0.93      0.93      0.93        14\n",
      "           7       1.00      0.33      0.50         3\n",
      "           8       0.66      0.71      0.68        38\n",
      "           9       0.81      0.88      0.85        25\n",
      "          10       0.89      0.83      0.86        30\n",
      "          11       0.64      0.73      0.69        83\n",
      "          12       0.57      0.31      0.40        13\n",
      "          13       0.63      0.65      0.64        37\n",
      "          14       0.50      0.50      0.50         2\n",
      "          15       0.75      0.33      0.46         9\n",
      "          16       0.70      0.75      0.73        99\n",
      "          17       0.80      0.67      0.73        12\n",
      "          18       0.87      0.65      0.74        20\n",
      "          19       0.69      0.68      0.68       133\n",
      "          20       0.57      0.50      0.53        70\n",
      "          21       0.72      0.85      0.78        27\n",
      "          22       1.00      0.29      0.44         7\n",
      "          23       0.64      0.75      0.69        12\n",
      "          24       0.67      0.53      0.59        19\n",
      "          25       0.87      0.65      0.74        31\n",
      "          26       1.00      0.88      0.93         8\n",
      "          27       1.00      0.25      0.40         4\n",
      "          28       0.40      0.40      0.40        10\n",
      "          29       0.57      1.00      0.73         4\n",
      "          30       1.00      0.58      0.74        12\n",
      "          31       0.80      0.62      0.70        13\n",
      "          32       1.00      0.80      0.89        10\n",
      "          33       0.80      0.80      0.80         5\n",
      "          34       0.80      0.57      0.67         7\n",
      "          35       1.00      0.33      0.50         6\n",
      "          36       0.43      0.27      0.33        11\n",
      "          37       0.50      0.50      0.50         2\n",
      "          38       1.00      0.33      0.50         3\n",
      "          39       0.25      0.20      0.22         5\n",
      "          40       0.60      0.30      0.40        10\n",
      "          41       0.75      0.38      0.50         8\n",
      "          42       1.00      0.67      0.80         3\n",
      "          43       0.86      1.00      0.92         6\n",
      "          44       1.00      0.80      0.89         5\n",
      "          45       1.00      1.00      1.00         1\n",
      "\n",
      "    accuracy                           0.80      2246\n",
      "   macro avg       0.76      0.61      0.65      2246\n",
      "weighted avg       0.80      0.80      0.80      2246\n",
      "\n"
     ]
    }
   ],
   "source": [
    "print(logistic_regression_fit_test(tfidfv,y_train,tfidfv_test,y_test))"
   ]
  },
  {
   "cell_type": "code",
   "execution_count": 69,
   "id": "bbdbef0e",
   "metadata": {},
   "outputs": [
    {
     "name": "stdout",
     "output_type": "stream",
     "text": [
      "              precision    recall  f1-score   support\n",
      "\n",
      "           0       0.28      0.42      0.33        12\n",
      "           1       0.42      0.78      0.55       105\n",
      "           2       0.44      0.35      0.39        20\n",
      "           3       0.84      0.90      0.87       813\n",
      "           4       0.68      0.84      0.75       474\n",
      "           5       0.00      0.00      0.00         5\n",
      "           6       0.86      0.43      0.57        14\n",
      "           7       1.00      0.33      0.50         3\n",
      "           8       0.59      0.53      0.56        38\n",
      "           9       0.71      0.40      0.51        25\n",
      "          10       0.89      0.53      0.67        30\n",
      "          11       0.57      0.69      0.62        83\n",
      "          12       0.33      0.15      0.21        13\n",
      "          13       0.46      0.32      0.38        37\n",
      "          14       0.00      0.00      0.00         2\n",
      "          15       1.00      0.11      0.20         9\n",
      "          16       0.70      0.67      0.68        99\n",
      "          17       0.00      0.00      0.00        12\n",
      "          18       0.60      0.45      0.51        20\n",
      "          19       0.62      0.64      0.63       133\n",
      "          20       0.46      0.33      0.38        70\n",
      "          21       0.65      0.41      0.50        27\n",
      "          22       0.00      0.00      0.00         7\n",
      "          23       0.75      0.25      0.38        12\n",
      "          24       0.33      0.05      0.09        19\n",
      "          25       0.87      0.42      0.57        31\n",
      "          26       1.00      0.12      0.22         8\n",
      "          27       1.00      0.25      0.40         4\n",
      "          28       0.00      0.00      0.00        10\n",
      "          29       0.33      0.25      0.29         4\n",
      "          30       0.00      0.00      0.00        12\n",
      "          31       0.00      0.00      0.00        13\n",
      "          32       1.00      0.30      0.46        10\n",
      "          33       1.00      0.20      0.33         5\n",
      "          34       0.00      0.00      0.00         7\n",
      "          35       1.00      0.17      0.29         6\n",
      "          36       0.33      0.09      0.14        11\n",
      "          37       1.00      0.50      0.67         2\n",
      "          38       0.00      0.00      0.00         3\n",
      "          39       0.00      0.00      0.00         5\n",
      "          40       1.00      0.20      0.33        10\n",
      "          41       0.25      0.12      0.17         8\n",
      "          42       0.00      0.00      0.00         3\n",
      "          43       1.00      0.33      0.50         6\n",
      "          44       1.00      0.80      0.89         5\n",
      "          45       1.00      1.00      1.00         1\n",
      "\n",
      "    accuracy                           0.70      2246\n",
      "   macro avg       0.54      0.31      0.36      2246\n",
      "weighted avg       0.69      0.70      0.68      2246\n",
      "\n"
     ]
    }
   ],
   "source": [
    "print(random_forest_fit_test(tfidfv,y_train,tfidfv_test,y_test))"
   ]
  },
  {
   "cell_type": "markdown",
   "id": "d30a6672",
   "metadata": {},
   "source": [
    "| 모델 이름            | 단어 수 (`num_words`) | Accuracy | F1-Score (weighted avg) |\n",
    "|---------------------|------------------------|----------|--------------------------|\n",
    "| Logistic Regression | 5,000                  | 0.80     | 0.80                     |\n",
    "| Random Forest       | 5,000                  | 0.70     | 0.68                     |\n"
   ]
  },
  {
   "cell_type": "markdown",
   "id": "e9ddb3c8",
   "metadata": {},
   "source": [
    "## 인사이트\n",
    "+ Random Forest보다 Logistic Regression이 정확도, F1-Score 두 가지 측면 모두에서 우수함을 보임"
   ]
  },
  {
   "cell_type": "markdown",
   "id": "8bb9b025",
   "metadata": {},
   "source": [
    "## 단어 수 10000 | 2번째 실험 (Logistic Regrassion, Random Tree)"
   ]
  },
  {
   "cell_type": "code",
   "execution_count": 113,
   "id": "8a670883",
   "metadata": {},
   "outputs": [
    {
     "name": "stdout",
     "output_type": "stream",
     "text": [
      "로이터 뉴스 전체 단어 수: 30979\n"
     ]
    }
   ],
   "source": [
    "# 단어 인덱스 로드\n",
    "word_index = reuters.get_word_index(path=\"reuters_word_index.json\")\n",
    "\n",
    "# 전체 단어 수 출력\n",
    "print(\"로이터 뉴스 전체 단어 수:\", len(word_index))"
   ]
  },
  {
   "cell_type": "code",
   "execution_count": 74,
   "id": "0baa8f0a",
   "metadata": {},
   "outputs": [],
   "source": [
    "(x_train, y_train), (x_test, y_test) = reuters.load_data(num_words=10000, test_split=0.2)"
   ]
  },
  {
   "cell_type": "code",
   "execution_count": 77,
   "id": "630e1bfb",
   "metadata": {},
   "outputs": [],
   "source": [
    "tfidfv, tfidfv_test = preprocess_text(x_train,x_test)"
   ]
  },
  {
   "cell_type": "code",
   "execution_count": 83,
   "id": "0002d0cb",
   "metadata": {},
   "outputs": [
    {
     "name": "stdout",
     "output_type": "stream",
     "text": [
      "              precision    recall  f1-score   support\n",
      "\n",
      "           0       0.89      0.67      0.76        12\n",
      "           1       0.74      0.78      0.76       105\n",
      "           2       0.70      0.70      0.70        20\n",
      "           3       0.91      0.93      0.92       813\n",
      "           4       0.80      0.87      0.84       474\n",
      "           5       1.00      0.20      0.33         5\n",
      "           6       0.93      0.93      0.93        14\n",
      "           7       1.00      0.33      0.50         3\n",
      "           8       0.68      0.71      0.69        38\n",
      "           9       0.81      0.88      0.85        25\n",
      "          10       0.93      0.87      0.90        30\n",
      "          11       0.67      0.72      0.70        83\n",
      "          12       0.62      0.38      0.48        13\n",
      "          13       0.65      0.59      0.62        37\n",
      "          14       0.67      1.00      0.80         2\n",
      "          15       0.80      0.44      0.57         9\n",
      "          16       0.71      0.77      0.74        99\n",
      "          17       0.80      0.67      0.73        12\n",
      "          18       0.81      0.65      0.72        20\n",
      "          19       0.69      0.71      0.70       133\n",
      "          20       0.60      0.49      0.54        70\n",
      "          21       0.71      0.81      0.76        27\n",
      "          22       1.00      0.14      0.25         7\n",
      "          23       0.64      0.75      0.69        12\n",
      "          24       0.62      0.53      0.57        19\n",
      "          25       0.88      0.68      0.76        31\n",
      "          26       1.00      0.88      0.93         8\n",
      "          27       1.00      0.25      0.40         4\n",
      "          28       0.57      0.40      0.47        10\n",
      "          29       0.50      0.75      0.60         4\n",
      "          30       1.00      0.58      0.74        12\n",
      "          31       0.78      0.54      0.64        13\n",
      "          32       1.00      0.80      0.89        10\n",
      "          33       0.80      0.80      0.80         5\n",
      "          34       0.80      0.57      0.67         7\n",
      "          35       1.00      0.33      0.50         6\n",
      "          36       0.45      0.45      0.45        11\n",
      "          37       0.50      0.50      0.50         2\n",
      "          38       0.50      0.33      0.40         3\n",
      "          39       0.50      0.40      0.44         5\n",
      "          40       0.75      0.30      0.43        10\n",
      "          41       0.75      0.38      0.50         8\n",
      "          42       1.00      0.67      0.80         3\n",
      "          43       0.86      1.00      0.92         6\n",
      "          44       1.00      0.80      0.89         5\n",
      "          45       1.00      1.00      1.00         1\n",
      "\n",
      "    accuracy                           0.81      2246\n",
      "   macro avg       0.78      0.63      0.67      2246\n",
      "weighted avg       0.81      0.81      0.81      2246\n",
      "\n"
     ]
    }
   ],
   "source": [
    "print(logistic_regression_fit_test(tfidfv,y_train,tfidfv_test,y_test))"
   ]
  },
  {
   "cell_type": "code",
   "execution_count": 80,
   "id": "12fb2ad1",
   "metadata": {},
   "outputs": [
    {
     "name": "stdout",
     "output_type": "stream",
     "text": [
      "              precision    recall  f1-score   support\n",
      "\n",
      "           0       0.22      0.33      0.27        12\n",
      "           1       0.45      0.77      0.57       105\n",
      "           2       0.30      0.30      0.30        20\n",
      "           3       0.82      0.90      0.86       813\n",
      "           4       0.61      0.83      0.70       474\n",
      "           5       0.00      0.00      0.00         5\n",
      "           6       0.67      0.43      0.52        14\n",
      "           7       0.50      0.33      0.40         3\n",
      "           8       0.67      0.53      0.59        38\n",
      "           9       0.70      0.28      0.40        25\n",
      "          10       0.75      0.30      0.43        30\n",
      "          11       0.55      0.59      0.57        83\n",
      "          12       0.40      0.15      0.22        13\n",
      "          13       0.37      0.19      0.25        37\n",
      "          14       0.00      0.00      0.00         2\n",
      "          15       0.00      0.00      0.00         9\n",
      "          16       0.59      0.59      0.59        99\n",
      "          17       0.00      0.00      0.00        12\n",
      "          18       0.50      0.25      0.33        20\n",
      "          19       0.69      0.54      0.61       133\n",
      "          20       0.57      0.29      0.38        70\n",
      "          21       0.67      0.30      0.41        27\n",
      "          22       0.00      0.00      0.00         7\n",
      "          23       0.00      0.00      0.00        12\n",
      "          24       0.67      0.11      0.18        19\n",
      "          25       1.00      0.32      0.49        31\n",
      "          26       1.00      0.25      0.40         8\n",
      "          27       0.00      0.00      0.00         4\n",
      "          28       0.00      0.00      0.00        10\n",
      "          29       0.00      0.00      0.00         4\n",
      "          30       0.50      0.08      0.14        12\n",
      "          31       0.67      0.15      0.25        13\n",
      "          32       0.67      0.20      0.31        10\n",
      "          33       1.00      0.60      0.75         5\n",
      "          34       0.50      0.14      0.22         7\n",
      "          35       1.00      0.17      0.29         6\n",
      "          36       0.33      0.09      0.14        11\n",
      "          37       0.00      0.00      0.00         2\n",
      "          38       0.00      0.00      0.00         3\n",
      "          39       0.00      0.00      0.00         5\n",
      "          40       1.00      0.20      0.33        10\n",
      "          41       0.00      0.00      0.00         8\n",
      "          42       0.00      0.00      0.00         3\n",
      "          43       0.67      0.33      0.44         6\n",
      "          44       1.00      0.80      0.89         5\n",
      "          45       1.00      1.00      1.00         1\n",
      "\n",
      "    accuracy                           0.67      2246\n",
      "   macro avg       0.46      0.27      0.31      2246\n",
      "weighted avg       0.66      0.67      0.64      2246\n",
      "\n"
     ]
    }
   ],
   "source": [
    "print(random_forest_fit_test(tfidfv,y_train,tfidfv_test,y_test))"
   ]
  },
  {
   "cell_type": "markdown",
   "id": "37e70d99",
   "metadata": {},
   "source": [
    "| 모델 이름            | 단어 수 (`num_words`) | Accuracy | F1-Score (weighted avg) |\n",
    "|---------------------|------------------------|----------|--------------------------|\n",
    "| Logistic Regression | 10,000                 | 0.81     | 0.81                     |\n",
    "| Random Forest       | 10,000                 | 0.67     | 0.64                     |\n"
   ]
  },
  {
   "cell_type": "markdown",
   "id": "6eb59df8",
   "metadata": {},
   "source": [
    "## 인사이트\n",
    "+ 단어 수 10,000으로 늘렸을 때 Logistic Regression의 성능은 소폭 상승하였으나 Random Forest는 성능이 감소함"
   ]
  },
  {
   "cell_type": "markdown",
   "id": "41d982d9",
   "metadata": {},
   "source": [
    "## 단어 수 15000 | 3번째 실험 (Logistic Regrassion, Random Tree)"
   ]
  },
  {
   "cell_type": "code",
   "execution_count": 94,
   "id": "819ed74c",
   "metadata": {},
   "outputs": [],
   "source": [
    "(x_train, y_train), (x_test, y_test) = reuters.load_data(num_words=15000, test_split=0.2)"
   ]
  },
  {
   "cell_type": "code",
   "execution_count": 95,
   "id": "74802256",
   "metadata": {},
   "outputs": [],
   "source": [
    "tfidfv, tfidfv_test = preprocess_text(x_train,x_test)"
   ]
  },
  {
   "cell_type": "code",
   "execution_count": 99,
   "id": "f121b5dd",
   "metadata": {},
   "outputs": [
    {
     "name": "stdout",
     "output_type": "stream",
     "text": [
      "              precision    recall  f1-score   support\n",
      "\n",
      "           0       0.89      0.67      0.76        12\n",
      "           1       0.73      0.79      0.76       105\n",
      "           2       0.78      0.70      0.74        20\n",
      "           3       0.92      0.93      0.92       813\n",
      "           4       0.81      0.87      0.84       474\n",
      "           5       1.00      0.20      0.33         5\n",
      "           6       0.93      0.93      0.93        14\n",
      "           7       1.00      0.33      0.50         3\n",
      "           8       0.71      0.71      0.71        38\n",
      "           9       0.85      0.88      0.86        25\n",
      "          10       0.93      0.87      0.90        30\n",
      "          11       0.68      0.72      0.70        83\n",
      "          12       0.62      0.38      0.48        13\n",
      "          13       0.64      0.62      0.63        37\n",
      "          14       0.67      1.00      0.80         2\n",
      "          15       0.80      0.44      0.57         9\n",
      "          16       0.70      0.77      0.73        99\n",
      "          17       0.82      0.75      0.78        12\n",
      "          18       0.76      0.65      0.70        20\n",
      "          19       0.70      0.73      0.72       133\n",
      "          20       0.63      0.53      0.57        70\n",
      "          21       0.69      0.81      0.75        27\n",
      "          22       1.00      0.14      0.25         7\n",
      "          23       0.64      0.75      0.69        12\n",
      "          24       0.62      0.53      0.57        19\n",
      "          25       0.88      0.74      0.81        31\n",
      "          26       1.00      0.88      0.93         8\n",
      "          27       1.00      0.25      0.40         4\n",
      "          28       0.50      0.30      0.37        10\n",
      "          29       0.50      0.75      0.60         4\n",
      "          30       1.00      0.58      0.74        12\n",
      "          31       0.78      0.54      0.64        13\n",
      "          32       1.00      0.80      0.89        10\n",
      "          33       0.80      0.80      0.80         5\n",
      "          34       0.80      0.57      0.67         7\n",
      "          35       1.00      0.33      0.50         6\n",
      "          36       0.50      0.45      0.48        11\n",
      "          37       0.50      0.50      0.50         2\n",
      "          38       0.50      0.33      0.40         3\n",
      "          39       0.50      0.40      0.44         5\n",
      "          40       1.00      0.30      0.46        10\n",
      "          41       0.75      0.38      0.50         8\n",
      "          42       1.00      0.67      0.80         3\n",
      "          43       0.86      1.00      0.92         6\n",
      "          44       0.67      0.80      0.73         5\n",
      "          45       1.00      1.00      1.00         1\n",
      "\n",
      "    accuracy                           0.81      2246\n",
      "   macro avg       0.78      0.63      0.67      2246\n",
      "weighted avg       0.82      0.81      0.81      2246\n",
      "\n"
     ]
    }
   ],
   "source": [
    "print(logistic_regression_fit_test(tfidfv,y_train,tfidfv_test,y_test))"
   ]
  },
  {
   "cell_type": "code",
   "execution_count": 101,
   "id": "adabd98b",
   "metadata": {},
   "outputs": [
    {
     "name": "stdout",
     "output_type": "stream",
     "text": [
      "              precision    recall  f1-score   support\n",
      "\n",
      "           0       0.25      0.50      0.33        12\n",
      "           1       0.42      0.69      0.52       105\n",
      "           2       0.13      0.10      0.11        20\n",
      "           3       0.81      0.90      0.85       813\n",
      "           4       0.65      0.85      0.74       474\n",
      "           5       0.00      0.00      0.00         5\n",
      "           6       0.83      0.36      0.50        14\n",
      "           7       0.50      0.67      0.57         3\n",
      "           8       0.62      0.53      0.57        38\n",
      "           9       0.71      0.40      0.51        25\n",
      "          10       0.60      0.20      0.30        30\n",
      "          11       0.45      0.51      0.47        83\n",
      "          12       0.60      0.23      0.33        13\n",
      "          13       0.40      0.22      0.28        37\n",
      "          14       0.00      0.00      0.00         2\n",
      "          15       0.00      0.00      0.00         9\n",
      "          16       0.55      0.46      0.50        99\n",
      "          17       0.00      0.00      0.00        12\n",
      "          18       0.55      0.30      0.39        20\n",
      "          19       0.65      0.56      0.60       133\n",
      "          20       0.60      0.37      0.46        70\n",
      "          21       0.56      0.33      0.42        27\n",
      "          22       0.00      0.00      0.00         7\n",
      "          23       0.50      0.17      0.25        12\n",
      "          24       0.33      0.05      0.09        19\n",
      "          25       1.00      0.35      0.52        31\n",
      "          26       0.00      0.00      0.00         8\n",
      "          27       0.00      0.00      0.00         4\n",
      "          28       1.00      0.10      0.18        10\n",
      "          29       0.00      0.00      0.00         4\n",
      "          30       0.00      0.00      0.00        12\n",
      "          31       0.00      0.00      0.00        13\n",
      "          32       1.00      0.20      0.33        10\n",
      "          33       1.00      0.60      0.75         5\n",
      "          34       0.00      0.00      0.00         7\n",
      "          35       1.00      0.33      0.50         6\n",
      "          36       0.40      0.18      0.25        11\n",
      "          37       1.00      0.50      0.67         2\n",
      "          38       0.00      0.00      0.00         3\n",
      "          39       0.00      0.00      0.00         5\n",
      "          40       1.00      0.20      0.33        10\n",
      "          41       0.50      0.12      0.20         8\n",
      "          42       0.00      0.00      0.00         3\n",
      "          43       0.33      0.17      0.22         6\n",
      "          44       1.00      0.80      0.89         5\n",
      "          45       0.00      0.00      0.00         1\n",
      "\n",
      "    accuracy                           0.67      2246\n",
      "   macro avg       0.43      0.26      0.30      2246\n",
      "weighted avg       0.65      0.67      0.64      2246\n",
      "\n"
     ]
    }
   ],
   "source": [
    "print(random_forest_fit_test(tfidfv,y_train,tfidfv_test,y_test))"
   ]
  },
  {
   "cell_type": "markdown",
   "id": "50603a93",
   "metadata": {},
   "source": [
    "| 모델 이름            | 단어 수 (`num_words`) | Accuracy | F1-Score (weighted avg) |\n",
    "|---------------------|------------------------|----------|--------------------------|\n",
    "| Logistic Regression | 15,000                 | 0.81     | 0.81                     |\n",
    "| Random Forest       | 15,000                 | 0.67     | 0.64                     |\n"
   ]
  },
  {
   "cell_type": "markdown",
   "id": "12c3b490",
   "metadata": {},
   "source": [
    "### 인사이트\n",
    "+ 10000개의 단어를 사용했을 때와 성능차이가 없음\n",
    "+ 가중치를 두지않는 macro avg는 약간의 감소가 나타남"
   ]
  },
  {
   "cell_type": "markdown",
   "id": "71acb283",
   "metadata": {},
   "source": [
    "## 단어 수 None(제한 없음) | 4번째 실험 (Logistic Regrassion, Random Tree)"
   ]
  },
  {
   "cell_type": "code",
   "execution_count": 105,
   "id": "b37aec16",
   "metadata": {},
   "outputs": [],
   "source": [
    "(x_train, y_train), (x_test, y_test) = reuters.load_data(num_words=None, test_split=0.2)"
   ]
  },
  {
   "cell_type": "code",
   "execution_count": 106,
   "id": "513d7ff3",
   "metadata": {},
   "outputs": [],
   "source": [
    "tfidfv, tfidfv_test = preprocess_text(x_train,x_test)"
   ]
  },
  {
   "cell_type": "code",
   "execution_count": 107,
   "id": "03347a35",
   "metadata": {},
   "outputs": [
    {
     "name": "stdout",
     "output_type": "stream",
     "text": [
      "              precision    recall  f1-score   support\n",
      "\n",
      "           0       0.89      0.67      0.76        12\n",
      "           1       0.75      0.79      0.77       105\n",
      "           2       0.78      0.70      0.74        20\n",
      "           3       0.92      0.93      0.93       813\n",
      "           4       0.81      0.88      0.84       474\n",
      "           5       1.00      0.20      0.33         5\n",
      "           6       0.93      0.93      0.93        14\n",
      "           7       1.00      0.33      0.50         3\n",
      "           8       0.69      0.71      0.70        38\n",
      "           9       0.85      0.88      0.86        25\n",
      "          10       0.93      0.90      0.92        30\n",
      "          11       0.67      0.72      0.69        83\n",
      "          12       0.57      0.31      0.40        13\n",
      "          13       0.64      0.62      0.63        37\n",
      "          14       0.67      1.00      0.80         2\n",
      "          15       0.80      0.44      0.57         9\n",
      "          16       0.71      0.77      0.74        99\n",
      "          17       0.82      0.75      0.78        12\n",
      "          18       0.81      0.65      0.72        20\n",
      "          19       0.70      0.73      0.71       133\n",
      "          20       0.64      0.53      0.58        70\n",
      "          21       0.69      0.81      0.75        27\n",
      "          22       1.00      0.14      0.25         7\n",
      "          23       0.64      0.75      0.69        12\n",
      "          24       0.62      0.53      0.57        19\n",
      "          25       0.89      0.77      0.83        31\n",
      "          26       1.00      0.88      0.93         8\n",
      "          27       1.00      0.25      0.40         4\n",
      "          28       0.50      0.30      0.37        10\n",
      "          29       0.57      1.00      0.73         4\n",
      "          30       1.00      0.67      0.80        12\n",
      "          31       0.78      0.54      0.64        13\n",
      "          32       1.00      0.80      0.89        10\n",
      "          33       0.80      0.80      0.80         5\n",
      "          34       0.80      0.57      0.67         7\n",
      "          35       1.00      0.33      0.50         6\n",
      "          36       0.44      0.36      0.40        11\n",
      "          37       0.50      0.50      0.50         2\n",
      "          38       0.50      0.33      0.40         3\n",
      "          39       0.50      0.40      0.44         5\n",
      "          40       1.00      0.30      0.46        10\n",
      "          41       0.75      0.38      0.50         8\n",
      "          42       1.00      0.67      0.80         3\n",
      "          43       0.86      1.00      0.92         6\n",
      "          44       0.67      0.80      0.73         5\n",
      "          45       1.00      1.00      1.00         1\n",
      "\n",
      "    accuracy                           0.82      2246\n",
      "   macro avg       0.78      0.64      0.67      2246\n",
      "weighted avg       0.82      0.82      0.81      2246\n",
      "\n"
     ]
    }
   ],
   "source": [
    "print(logistic_regression_fit_test(tfidfv,y_train,tfidfv_test,y_test))"
   ]
  },
  {
   "cell_type": "code",
   "execution_count": 108,
   "id": "a0f4a233",
   "metadata": {},
   "outputs": [
    {
     "name": "stdout",
     "output_type": "stream",
     "text": [
      "              precision    recall  f1-score   support\n",
      "\n",
      "           0       0.25      0.58      0.35        12\n",
      "           1       0.35      0.60      0.44       105\n",
      "           2       0.32      0.40      0.36        20\n",
      "           3       0.82      0.89      0.85       813\n",
      "           4       0.62      0.84      0.71       474\n",
      "           5       0.00      0.00      0.00         5\n",
      "           6       0.67      0.43      0.52        14\n",
      "           7       0.50      0.33      0.40         3\n",
      "           8       0.51      0.47      0.49        38\n",
      "           9       1.00      0.28      0.44        25\n",
      "          10       0.46      0.20      0.28        30\n",
      "          11       0.56      0.64      0.60        83\n",
      "          12       0.40      0.15      0.22        13\n",
      "          13       0.33      0.16      0.22        37\n",
      "          14       0.00      0.00      0.00         2\n",
      "          15       0.00      0.00      0.00         9\n",
      "          16       0.59      0.46      0.52        99\n",
      "          17       0.00      0.00      0.00        12\n",
      "          18       0.44      0.20      0.28        20\n",
      "          19       0.61      0.50      0.55       133\n",
      "          20       0.51      0.33      0.40        70\n",
      "          21       0.55      0.22      0.32        27\n",
      "          22       0.00      0.00      0.00         7\n",
      "          23       0.33      0.08      0.13        12\n",
      "          24       0.33      0.05      0.09        19\n",
      "          25       1.00      0.23      0.37        31\n",
      "          26       0.00      0.00      0.00         8\n",
      "          27       0.00      0.00      0.00         4\n",
      "          28       0.00      0.00      0.00        10\n",
      "          29       0.00      0.00      0.00         4\n",
      "          30       0.00      0.00      0.00        12\n",
      "          31       0.00      0.00      0.00        13\n",
      "          32       1.00      0.10      0.18        10\n",
      "          33       1.00      0.40      0.57         5\n",
      "          34       0.00      0.00      0.00         7\n",
      "          35       1.00      0.17      0.29         6\n",
      "          36       0.43      0.27      0.33        11\n",
      "          37       0.00      0.00      0.00         2\n",
      "          38       0.00      0.00      0.00         3\n",
      "          39       0.00      0.00      0.00         5\n",
      "          40       1.00      0.30      0.46        10\n",
      "          41       0.00      0.00      0.00         8\n",
      "          42       0.00      0.00      0.00         3\n",
      "          43       0.75      0.50      0.60         6\n",
      "          44       1.00      0.80      0.89         5\n",
      "          45       1.00      1.00      1.00         1\n",
      "\n",
      "    accuracy                           0.65      2246\n",
      "   macro avg       0.40      0.25      0.28      2246\n",
      "weighted avg       0.63      0.65      0.62      2246\n",
      "\n"
     ]
    }
   ],
   "source": [
    "print(random_forest_fit_test(tfidfv,y_train,tfidfv_test,y_test))"
   ]
  },
  {
   "cell_type": "markdown",
   "id": "d0057b4b",
   "metadata": {},
   "source": [
    "| 모델 이름            | 단어 수 (`num_words`) | Accuracy | F1-Score (weighted avg) |\n",
    "|---------------------|------------------------|----------|--------------------------|\n",
    "| Logistic Regression | None(30,979)                 | 0.82     | 0.81                     |\n",
    "| Random Forest       | None(30,979)                 | 0.65     | 0.62                     |\n"
   ]
  },
  {
   "cell_type": "markdown",
   "id": "e70d4552",
   "metadata": {},
   "source": [
    "### 인사이트\n",
    "+ Logistic Regression은 단어 수를 최대로 했을 때 가장 좋은 성능을 보인다.\n",
    "+ Random Forest는 성능이 떨어짐"
   ]
  },
  {
   "cell_type": "markdown",
   "id": "73063fe9",
   "metadata": {},
   "source": [
    "### 경향성 시각화 그래프"
   ]
  },
  {
   "cell_type": "code",
   "execution_count": 116,
   "id": "899008b1",
   "metadata": {
    "scrolled": true
   },
   "outputs": [
    {
     "data": {
      "image/png": "[encoded data removed]",
      "text/plain": [
       "<Figure size 720x432 with 1 Axes>"
      ]
     },
     "metadata": {
      "needs_background": "light"
     },
     "output_type": "display_data"
    }
   ],
   "source": [
    "import matplotlib.pyplot as plt\n",
    "\n",
    "# 데이터 정의\n",
    "word_counts = [5000, 5000, 10000, 10000, 15000, 15000, 30979, 30979]\n",
    "accuracy =     [0.80, 0.70, 0.81, 0.67, 0.67, 0.81, 0.82, 0.65]\n",
    "f1_score =     [0.80, 0.68, 0.81, 0.64, 0.64, 0.81, 0.81, 0.62]\n",
    "\n",
    "# 모델 분리 (짝수 인덱스: LogReg, 홀수 인덱스: RF)\n",
    "x_logreg = word_counts[::2]\n",
    "x_rf = word_counts[1::2]\n",
    "acc_logreg = accuracy[::2]\n",
    "acc_rf = accuracy[1::2]\n",
    "f1_logreg = f1_score[::2]\n",
    "f1_rf = f1_score[1::2]\n",
    "\n",
    "# 그래프 생성\n",
    "plt.figure(figsize=(10, 6))\n",
    "plt.plot(x_logreg, acc_logreg, marker='o', label='Accuracy - LogReg (L2)', color='blue')\n",
    "plt.plot(x_rf, acc_rf, marker='o', label='Accuracy - Random Forest', color='green')\n",
    "plt.plot(x_logreg, f1_logreg, marker='s', linestyle='--', label='F1 - LogReg (L2)', color='blue')\n",
    "plt.plot(x_rf, f1_rf, marker='s', linestyle='--', label='F1 - Random Forest', color='green')\n",
    "\n",
    "# x축: 명시적 눈금과 라벨\n",
    "xticks = [5000, 10000, 15000, 30979]\n",
    "xtick_labels = ['5,000', '10,000', '15,000', '30,979']\n",
    "plt.xticks(xticks, labels=xtick_labels)\n",
    "\n",
    "# 그래프 설정\n",
    "plt.title('Performance by num_words')\n",
    "plt.xlabel('Vocabulary Size (num_words)')\n",
    "plt.ylabel('Score')\n",
    "plt.ylim(0.6, 0.85)\n",
    "plt.grid(True)\n",
    "plt.legend()\n",
    "plt.tight_layout()\n",
    "plt.show()\n"
   ]
  },
  {
   "cell_type": "markdown",
   "id": "d838396d",
   "metadata": {},
   "source": [
    "| 단어 수 (`num_words`) | 모델                 | Accuracy | F1-Score (weighted avg) |\n",
    "|------------------------|----------------------|----------|--------------------------|\n",
    "| 5,000                 | Logistic Regression  | 0.80     | 0.80                     |\n",
    "| 5,000                 | Random Forest         | 0.70     | 0.68                     |\n",
    "| 10,000                | Logistic Regression  | 0.81     | 0.81                     |\n",
    "| 10,000                | Random Forest         | 0.67     | 0.64                     |\n",
    "| 15,000                | Logistic Regression  | 0.81     | 0.81                     |\n",
    "| 15,000                | Random Forest         | 0.67     | 0.64                     |\n",
    "| 30,979 (전체 단어 수) | Logistic Regression  | 0.82     | 0.81                     |\n",
    "| 30,979 (전체 단어 수) | Random Forest         | 0.65     | 0.62                     |\n"
   ]
  },
  {
   "cell_type": "markdown",
   "id": "76a9f133",
   "metadata": {},
   "source": [
    "### 전체 인사이트\n",
    "\n",
    "| 모델                  | penalty/규제      | 벡터화                        | 단어 수 실험값                     |\n",
    "| ------------------- | --------------- | -------------------------- | ---------------------------- |\n",
    "| Logistic Regression | L2, `C=default` | `CountVectorizer + TF‑IDF` | 5 k, 10 k, 15 k, all(30 979) |\n",
    "| Random Forest       | 기본 하이퍼파라미터      | 동일                         | 5 k, 10 k, 15 k, all         |\n",
    "\n",
    "+ 단어 수에 따른 성능이 두 모델이 반대되는 경향성을 보임\n",
    "+ Logistic Regression이 Random Forest에 비해 성능의 변동이 적음 L2 규제로 인해 그렇다고 생각됨\n",
    "\n",
    "| 단어 수 (`num_words`) | 모델                 | Accuracy | F1-Score (weighted avg) |\n",
    "|------------------------|----------------------|----------|--------------------------|\n",
    "| 5,000                 | Logistic Regression  | 0.80     | 0.80                     |\n",
    "| 5,000                 | Random Forest         | 0.70     | 0.68                     |\n",
    "| 30,979 (전체 단어 수) | Logistic Regression  | 0.82     | 0.81                     |\n",
    "| 30,979 (전체 단어 수) | Random Forest         | 0.65     | 0.62                     |\n",
    "\n",
    "+ 극단적인 두 단어 수를 비교해보면 규제의 효과가 있음을 알 수 있음\n",
    "\n",
    "| 항목             | **Logistic Regression**               | **Random Forest**                                     |\n",
    "| -------------- | ------------------------------------- | ----------------------------------------------------- |\n",
    "| **모델 구조**      | 선형 모델 (가중치의 선형 결합)                    | 트리 기반 비선형 모델 (앙상블)                                    |\n",
    "| **특성 선택 방식**   | 전체 feature를 동시에 사용해 선형 결합             | 각 트리에서 feature를 무작위로 선택해 분할                           |\n",
    "\n",
    "+ 모델의 특성 상 모든 feature를 동시에 고려하고, 중요하지 않은 단어는 가중치가 거의 0이 됨\n",
    "고차원에서 중요한 feature 몇 개만 있어도 분류가 가능하여 성능이 높게나옴\n",
    "+ 트리 기반 모델은 각 노드에서 하나의 feature만 보고 분기함\n",
    "고차원 희소행렬 환경에서 노이즈 특성에 쉽게 과적화되어 성능이 낮음\n",
    "\n",
    "\n",
    "#### 두 모델 모두에서 준수한 성능을 보이면서 단어 수도 적은편이라 학습시간이 짧은 단어 수 10,000이 최적으로 판단\n",
    "#### 차원 수가 많고 희소행렬이 많을 경우 전체 feature를 고려하는 모델이 높은 성능이 기대됨"
   ]
  },
  {
   "cell_type": "markdown",
   "id": "409f1fd6",
   "metadata": {},
   "source": [
    "## 딥러닝 모델 (LSTM)"
   ]
  },
  {
   "cell_type": "code",
   "execution_count": 144,
   "id": "ccd13e9d",
   "metadata": {},
   "outputs": [
    {
     "name": "stdout",
     "output_type": "stream",
     "text": [
      "Epoch 1/20\n",
      "57/57 [==============================] - 4s 38ms/step - loss: 2.6280 - accuracy: 0.3280 - val_loss: 2.3962 - val_accuracy: 0.3450\n",
      "Epoch 2/20\n",
      "57/57 [==============================] - 2s 31ms/step - loss: 2.2108 - accuracy: 0.4205 - val_loss: 1.9403 - val_accuracy: 0.4808\n",
      "Epoch 3/20\n",
      "57/57 [==============================] - 2s 31ms/step - loss: 1.7782 - accuracy: 0.5258 - val_loss: 1.7708 - val_accuracy: 0.5331\n",
      "Epoch 4/20\n",
      "57/57 [==============================] - 2s 31ms/step - loss: 1.6042 - accuracy: 0.5761 - val_loss: 1.8458 - val_accuracy: 0.5125\n",
      "Epoch 5/20\n",
      "57/57 [==============================] - 2s 31ms/step - loss: 1.6232 - accuracy: 0.5630 - val_loss: 1.6130 - val_accuracy: 0.5765\n",
      "Epoch 6/20\n",
      "57/57 [==============================] - 2s 31ms/step - loss: 1.3502 - accuracy: 0.6412 - val_loss: 1.5409 - val_accuracy: 0.6088\n",
      "Epoch 7/20\n",
      "57/57 [==============================] - 2s 31ms/step - loss: 1.2639 - accuracy: 0.6675 - val_loss: 1.4908 - val_accuracy: 0.6333\n",
      "Epoch 8/20\n",
      "57/57 [==============================] - 2s 31ms/step - loss: 1.0368 - accuracy: 0.7250 - val_loss: 1.4443 - val_accuracy: 0.6533\n",
      "Epoch 9/20\n",
      "57/57 [==============================] - 2s 32ms/step - loss: 0.9122 - accuracy: 0.7560 - val_loss: 1.4392 - val_accuracy: 0.6683\n",
      "Epoch 10/20\n",
      "57/57 [==============================] - 2s 31ms/step - loss: 0.7727 - accuracy: 0.7947 - val_loss: 1.4979 - val_accuracy: 0.6583\n",
      "Epoch 11/20\n",
      "57/57 [==============================] - 2s 31ms/step - loss: 0.7243 - accuracy: 0.8022 - val_loss: 1.4835 - val_accuracy: 0.6633\n",
      "Restoring model weights from the end of the best epoch.\n",
      "Epoch 00011: early stopping\n"
     ]
    }
   ],
   "source": [
    "# 1. 필수 라이브러리 import\n",
    "from tensorflow.keras.datasets import reuters\n",
    "from tensorflow.keras.preprocessing.sequence import pad_sequences\n",
    "from tensorflow.keras.utils import to_categorical\n",
    "from tensorflow.keras.models import Sequential\n",
    "from tensorflow.keras.layers import Embedding, LSTM, Dense, Dropout\n",
    "from tensorflow.keras.callbacks import EarlyStopping\n",
    "from sklearn.metrics import classification_report\n",
    "import numpy as np\n",
    "\n",
    "# 2. 하이퍼파라미터 설정\n",
    "num_words = 10000       # 사용할 최대 단어 수\n",
    "max_len = 200           # 시퀀스 최대 길이\n",
    "embedding_dim = 128     # 임베딩 차원\n",
    "batch_size = 128\n",
    "epochs = 20\n",
    "\n",
    "# 3. 데이터 로딩\n",
    "(x_train, y_train), (x_test, y_test) = reuters.load_data(num_words=num_words)\n",
    "\n",
    "# 4. 시퀀스 패딩\n",
    "x_train = pad_sequences(x_train, maxlen=max_len)\n",
    "x_test = pad_sequences(x_test, maxlen=max_len)\n",
    "\n",
    "# 5. 클래스 수 자동 계산 후 one-hot 인코딩\n",
    "num_classes = np.max(y_train) + 1\n",
    "y_train = to_categorical(y_train, num_classes)\n",
    "y_test = to_categorical(y_test, num_classes)\n",
    "\n",
    "# 6. LSTM 모델 정의\n",
    "model = Sequential([\n",
    "    Embedding(input_dim=num_words, output_dim=embedding_dim, input_length=max_len),\n",
    "    LSTM(units=256),\n",
    "    Dropout(0.3),\n",
    "    Dense(units=num_classes, activation='softmax')\n",
    "])\n",
    "\n",
    "model.compile(\n",
    "    optimizer='adam',\n",
    "    loss='categorical_crossentropy',\n",
    "    metrics=['accuracy']\n",
    ")\n",
    "\n",
    "# 7. 콜백 설정 (조기 종료)\n",
    "early_stop = EarlyStopping(monitor='val_accuracy', patience=2, restore_best_weights=True, verbose=1)\n",
    "\n",
    "# 8. 모델 학습\n",
    "history = model.fit(\n",
    "    x_train, y_train,\n",
    "    validation_split=0.2,\n",
    "    epochs=epochs,\n",
    "    batch_size=batch_size,\n",
    "    callbacks=[early_stop],\n",
    "    verbose=1\n",
    ")\n"
   ]
  },
  {
   "cell_type": "code",
   "execution_count": 146,
   "id": "2002d274",
   "metadata": {},
   "outputs": [
    {
     "name": "stdout",
     "output_type": "stream",
     "text": [
      "\n",
      "📊 Classification Report:\n",
      "              precision    recall  f1-score   support\n",
      "\n",
      "           0       0.00      0.00      0.00        12\n",
      "           1       0.32      0.77      0.45       105\n",
      "           2       0.00      0.00      0.00        20\n",
      "           3       0.89      0.92      0.90       813\n",
      "           4       0.81      0.81      0.81       474\n",
      "           5       0.00      0.00      0.00         5\n",
      "           6       0.33      0.07      0.12        14\n",
      "           7       0.00      0.00      0.00         3\n",
      "           8       0.31      0.53      0.39        38\n",
      "           9       0.18      0.32      0.23        25\n",
      "          10       0.10      0.10      0.10        30\n",
      "          11       0.39      0.54      0.45        83\n",
      "          12       0.00      0.00      0.00        13\n",
      "          13       0.16      0.14      0.15        37\n",
      "          14       0.00      0.00      0.00         2\n",
      "          15       0.00      0.00      0.00         9\n",
      "          16       0.41      0.49      0.45        99\n",
      "          17       0.00      0.00      0.00        12\n",
      "          18       0.16      0.50      0.24        20\n",
      "          19       0.57      0.47      0.51       133\n",
      "          20       0.38      0.29      0.33        70\n",
      "          21       0.29      0.26      0.27        27\n",
      "          22       0.00      0.00      0.00         7\n",
      "          23       0.00      0.00      0.00        12\n",
      "          24       1.00      0.05      0.10        19\n",
      "          25       0.31      0.13      0.18        31\n",
      "          26       0.00      0.00      0.00         8\n",
      "          27       0.00      0.00      0.00         4\n",
      "          28       0.00      0.00      0.00        10\n",
      "          29       0.00      0.00      0.00         4\n",
      "          30       0.00      0.00      0.00        12\n",
      "          31       0.00      0.00      0.00        13\n",
      "          32       0.00      0.00      0.00        10\n",
      "          33       0.00      0.00      0.00         5\n",
      "          34       0.00      0.00      0.00         7\n",
      "          35       0.00      0.00      0.00         6\n",
      "          36       0.00      0.00      0.00        11\n",
      "          37       0.00      0.00      0.00         2\n",
      "          38       0.00      0.00      0.00         3\n",
      "          39       0.00      0.00      0.00         5\n",
      "          40       0.00      0.00      0.00        10\n",
      "          41       0.00      0.00      0.00         8\n",
      "          42       0.00      0.00      0.00         3\n",
      "          43       0.00      0.00      0.00         6\n",
      "          44       0.00      0.00      0.00         5\n",
      "          45       0.50      1.00      0.67         1\n",
      "\n",
      "    accuracy                           0.64      2246\n",
      "   macro avg       0.15      0.16      0.14      2246\n",
      "weighted avg       0.62      0.64      0.62      2246\n",
      "\n"
     ]
    },
    {
     "name": "stderr",
     "output_type": "stream",
     "text": [
      "/opt/conda/lib/python3.9/site-packages/sklearn/metrics/_classification.py:1308: UndefinedMetricWarning: Precision and F-score are ill-defined and being set to 0.0 in labels with no predicted samples. Use `zero_division` parameter to control this behavior.\n",
      "  _warn_prf(average, modifier, msg_start, len(result))\n",
      "/opt/conda/lib/python3.9/site-packages/sklearn/metrics/_classification.py:1308: UndefinedMetricWarning: Precision and F-score are ill-defined and being set to 0.0 in labels with no predicted samples. Use `zero_division` parameter to control this behavior.\n",
      "  _warn_prf(average, modifier, msg_start, len(result))\n",
      "/opt/conda/lib/python3.9/site-packages/sklearn/metrics/_classification.py:1308: UndefinedMetricWarning: Precision and F-score are ill-defined and being set to 0.0 in labels with no predicted samples. Use `zero_division` parameter to control this behavior.\n",
      "  _warn_prf(average, modifier, msg_start, len(result))\n"
     ]
    }
   ],
   "source": [
    "# 9. 평가 및 분류 리포트 출력\n",
    "y_pred_probs = model.predict(x_test)\n",
    "y_pred = np.argmax(y_pred_probs, axis=1)\n",
    "y_true = np.argmax(y_test, axis=1)\n",
    "\n",
    "print(\"\\n📊 Classification Report:\")\n",
    "print(classification_report(y_true, y_pred))"
   ]
  },
  {
   "cell_type": "code",
   "execution_count": 151,
   "id": "9fb93ef0",
   "metadata": {},
   "outputs": [
    {
     "data": {
      "image/png": "[encoded data removed]",
      "text/plain": [
       "<Figure size 576x360 with 1 Axes>"
      ]
     },
     "metadata": {
      "needs_background": "light"
     },
     "output_type": "display_data"
    }
   ],
   "source": [
    "import matplotlib.pyplot as plt\n",
    "import numpy as np\n",
    "\n",
    "# 모델 이름\n",
    "models = ['Logistic Regression', 'LSTM']\n",
    "\n",
    "# 성능 지표\n",
    "accuracy = [0.81, 0.64]\n",
    "f1_score = [0.81, 0.62]\n",
    "\n",
    "x = np.arange(len(models))  # [0, 1]\n",
    "width = 0.35  # 막대 너비\n",
    "\n",
    "# 시각화\n",
    "plt.figure(figsize=(8, 5))\n",
    "plt.bar(x - width/2, accuracy, width, label='Accuracy', color='skyblue')\n",
    "plt.bar(x + width/2, f1_score, width, label='F1-score', color='salmon')\n",
    "\n",
    "# 라벨 & 눈금\n",
    "plt.xticks(x, models)\n",
    "plt.ylim(0.5, 0.90)\n",
    "plt.ylabel('Score')\n",
    "plt.title('Model Performance Comparison (num_words=10,000)')\n",
    "plt.legend()\n",
    "plt.grid(axis='y', linestyle='--', alpha=0.5)\n",
    "\n",
    "# 수치 표시\n",
    "for i in range(len(models)):\n",
    "    plt.text(x[i] - width/2, accuracy[i] + 0.01, f\"{accuracy[i]:.2f}\", ha='center')\n",
    "    plt.text(x[i] + width/2, f1_score[i] + 0.01, f\"{f1_score[i]:.2f}\", ha='center')\n",
    "\n",
    "plt.tight_layout()\n",
    "plt.show()\n"
   ]
  },
  {
   "cell_type": "markdown",
   "id": "a4b0688f",
   "metadata": {},
   "source": [
    "+ 머신러닝 모델보다 딥러닝 모델에서 훨씬 낮은 성능을 보임\n",
    "+ 데이터수가 많은 편이 아니라 그런 것으로 추측됨\n",
    "+ 딥러닝 모델의 층을 수정하면 더 높은 성능을 보일 여지가 존재함"
   ]
  },
  {
   "attachments": {
    "image.png": {
     "image/png": "[encoded data removed]"
    }
   },
   "cell_type": "markdown",
   "id": "38e03d71",
   "metadata": {},
   "source": [
    "## 전체 모델 정리\n",
    "![image.png](attachment:image.png)"
   ]
  },
  {
   "cell_type": "markdown",
   "id": "3fd7303c",
   "metadata": {},
   "source": [
    "## 회고\n",
    "\n",
    "데이터의 수를 고려하여 딥러닝보다 머신러닝이 유용할 때도 있다는 생각이 들었다.\n",
    "저번 DLthon의 경험을 살려서 생각했을 때 데이터 증강을하여 데이터의 수를 늘리고 모델을 변경한다면\n",
    "고점은 딥러닝이 높은 것이라고 생각된다. (틀릴 수도 있음)\n",
    "각 모델의 구조적 특성을 파악해두는 것이 (데이터 특징 (차원 수)과 같은 것들을 확인하는 것과 같은)\n",
    "높은 성능과 효율적인(저비용)의 모델을 만드는 것으로 이어지는 것 같다."
   ]
  },
  {
   "cell_type": "code",
   "execution_count": null,
   "id": "adbf1869",
   "metadata": {},
   "outputs": [],
   "source": []
  }
 ],
 "metadata": {
  "kernelspec": {
   "display_name": "Python 3 (ipykernel)",
   "language": "python",
   "name": "python3"
  },
  "language_info": {
   "codemirror_mode": {
    "name": "ipython",
    "version": 3
   },
   "file_extension": ".py",
   "mimetype": "text/x-python",
   "name": "python",
   "nbconvert_exporter": "python",
   "pygments_lexer": "ipython3",
   "version": "3.9.7"
  }
 },
 "nbformat": 4,
 "nbformat_minor": 5
}
